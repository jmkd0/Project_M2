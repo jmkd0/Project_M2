{
 "cells": [
  {
   "cell_type": "code",
   "execution_count": 1,
   "id": "9f69e40d",
   "metadata": {},
   "outputs": [],
   "source": [
    "import pandas as pd\n"
   ]
  },
  {
   "cell_type": "code",
   "execution_count": 5,
   "id": "7262239c",
   "metadata": {},
   "outputs": [],
   "source": [
    "data = pd.read_excel('/Users/komlan/Downloads/Global Superstore Orders 2016_fr-FR.xlsx')\n",
    "data.to_csv('/Users/komlan/Downloads/Global Superstore Orders 2016_fr-FR.csv')"
   ]
  }
 ],
 "metadata": {
  "kernelspec": {
   "display_name": "pyenv-3.10",
   "language": "python",
   "name": "pyenv-3.10"
  },
  "language_info": {
   "codemirror_mode": {
    "name": "ipython",
    "version": 3
   },
   "file_extension": ".py",
   "mimetype": "text/x-python",
   "name": "python",
   "nbconvert_exporter": "python",
   "pygments_lexer": "ipython3",
   "version": "3.10.6"
  }
 },
 "nbformat": 4,
 "nbformat_minor": 5
}
