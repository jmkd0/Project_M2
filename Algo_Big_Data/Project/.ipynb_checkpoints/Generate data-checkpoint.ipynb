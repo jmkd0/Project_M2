{
 "cells": [
  {
   "cell_type": "code",
   "execution_count": null,
   "id": "6d602270",
   "metadata": {},
   "outputs": [],
   "source": [
    "import csv\n",
    "import random\n",
    "import time\n",
    "\n",
    "ligne=1000\n",
    "fieldnames=['Landing Page URL ID','Referrer URL','Impression ID','Asset ID','Active View: Eligible Impressions',\n",
    "            'Active View: Measurable Impressions','Active View: Viewable Impressions','Activity ID','Event Time',\n",
    "            'Event Type','Event Sub-Type','User ID','Advertiser ID']\n",
    "writer = csv.DictWriter(open(\"DoubleClick.csv\", \"w\"), fieldnames=fieldnames)\n",
    "\n",
    "Event_Type=['VIEW', 'CLICK', 'CONVERSION', 'NULL']\n",
    "Event_Sub_Type=['VIEW', 'CLICK', 'POSTVIEW','POSTCLICK', 'NULL']\n",
    "URL=['https://www.amazon.fr/', 'https://www.cdiscount.com/', 'https://fr.aliexpress.com/', 'https://shopping.google.fr/']\n",
    "\n",
    "writer.writerow(dict(zip(fieldnames, fieldnames)))\n",
    "for i in range(0, ligne):\n",
    "  writer.writerow(dict([\n",
    "    ('Landing Page URL ID', \"ID\" + str(i)),\n",
    "    ('Referrer URL', random.choice(URL)),\n",
    "    ('Impression ID', 'impr' + random.choice(str(random.sample(range(10000000), 1000)))),\n",
    "    ('Asset ID', random.choice(random.sample(range(10000000), 10000))),\n",
    "    ('Active View: Eligible Impressions', random.choice(random.sample(range(10000000), 10000))),\n",
    "    ('Active View: Measurable Impressions', random.choice(random.sample(range(10000000), 10000))),\n",
    "    ('Active View: Viewable Impressions', random.choice(random.sample(range(10000000), 10000))),\n",
    "    ('Activity ID', random.choice(random.sample(range(10000000), 10000))),\n",
    "    ('Event Time', round(time.time() * 1000)),\n",
    "    ('Event Type', random.choice(Event_Type)),\n",
    "    ('Event Sub-Type', random.choice(random.sample(range(10000000), 10000))),\n",
    "    ('User ID', \"USER_ID\" + str(random.choice(str(random.sample(range(10000000), 1000))))),\n",
    "    ('Advertiser ID', random.choice(random.sample(range(10000000), 10000))),\n",
    "  ]))"
   ]
  },
  {
   "cell_type": "code",
   "execution_count": null,
   "id": "ad50e8fc",
   "metadata": {},
   "outputs": [],
   "source": []
  }
 ],
 "metadata": {
  "kernelspec": {
   "display_name": "Python 3 (ipykernel)",
   "language": "python",
   "name": "python3"
  },
  "language_info": {
   "codemirror_mode": {
    "name": "ipython",
    "version": 3
   },
   "file_extension": ".py",
   "mimetype": "text/x-python",
   "name": "python",
   "nbconvert_exporter": "python",
   "pygments_lexer": "ipython3",
   "version": "3.9.7"
  }
 },
 "nbformat": 4,
 "nbformat_minor": 5
}
