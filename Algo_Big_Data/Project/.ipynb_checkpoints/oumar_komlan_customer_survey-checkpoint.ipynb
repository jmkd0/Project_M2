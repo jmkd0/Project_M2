{
 "cells": [
  {
   "cell_type": "markdown",
   "id": "921a6275",
   "metadata": {},
   "source": [
    "# Project Customer Survey"
   ]
  },
  {
   "cell_type": "code",
   "execution_count": 115,
   "id": "1eadf8c2",
   "metadata": {},
   "outputs": [],
   "source": [
    "#from pyspark.sql import SparkSession\n",
    "from pyspark import SparkContext \n",
    "import pandas as pd\n",
    "from pyspark.sql import SparkSession\n",
    "\n",
    "spark = SparkSession.builder.appName('project_abd').master(\"local[*]\").getOrCreate()\n"
   ]
  },
  {
   "cell_type": "code",
   "execution_count": 116,
   "id": "ea120c30",
   "metadata": {},
   "outputs": [
    {
     "name": "stdout",
     "output_type": "stream",
     "text": [
      "root\n",
      " |-- age: integer (nullable = true)\n",
      " |-- job: string (nullable = true)\n",
      " |-- marital: string (nullable = true)\n",
      " |-- education: string (nullable = true)\n",
      " |-- default: string (nullable = true)\n",
      " |-- balance: integer (nullable = true)\n",
      " |-- housing: string (nullable = true)\n",
      " |-- loan: string (nullable = true)\n",
      " |-- contact: string (nullable = true)\n",
      " |-- day: integer (nullable = true)\n",
      " |-- month: string (nullable = true)\n",
      " |-- duration: integer (nullable = true)\n",
      " |-- campaign: integer (nullable = true)\n",
      " |-- pdays: integer (nullable = true)\n",
      " |-- previous: integer (nullable = true)\n",
      " |-- poutcome: string (nullable = true)\n",
      " |-- y: integer (nullable = true)\n",
      "\n"
     ]
    }
   ],
   "source": [
    "df = spark.read.csv(\"bank_customer_survey.csv\", header = True, inferSchema = True)\n",
    "df.printSchema()"
   ]
  },
  {
   "cell_type": "code",
   "execution_count": 117,
   "id": "77216fcd",
   "metadata": {},
   "outputs": [
    {
     "data": {
      "text/plain": [
       "<seaborn.axisgrid.FacetGrid at 0x7faa677f7b20>"
      ]
     },
     "execution_count": 117,
     "metadata": {},
     "output_type": "execute_result"
    },
    {
     "data": {
      "image/png": "[encoded data removed]",
      "text/plain": [
       "<Figure size 360x360 with 1 Axes>"
      ]
     },
     "metadata": {
      "needs_background": "light"
     },
     "output_type": "display_data"
    }
   ],
   "source": [
    "class_distribution = df.groupby('y').count().toPandas()\n",
    "sns.catplot(x=\"y\", y=\"count\", kind=\"bar\", data=class_distribution)"
   ]
  },
  {
   "cell_type": "code",
   "execution_count": 118,
   "id": "e095ab76",
   "metadata": {},
   "outputs": [
    {
     "data": {
      "text/plain": [
       "[('age', 'int'),\n",
       " ('job', 'string'),\n",
       " ('marital', 'string'),\n",
       " ('education', 'string'),\n",
       " ('default', 'string'),\n",
       " ('balance', 'int'),\n",
       " ('housing', 'string'),\n",
       " ('loan', 'string'),\n",
       " ('contact', 'string'),\n",
       " ('day', 'int'),\n",
       " ('month', 'string'),\n",
       " ('duration', 'int'),\n",
       " ('campaign', 'int'),\n",
       " ('pdays', 'int'),\n",
       " ('previous', 'int'),\n",
       " ('poutcome', 'string'),\n",
       " ('y', 'int')]"
      ]
     },
     "execution_count": 118,
     "metadata": {},
     "output_type": "execute_result"
    }
   ],
   "source": [
    "df.dtypes"
   ]
  },
  {
   "cell_type": "code",
   "execution_count": 119,
   "id": "b944f8de",
   "metadata": {},
   "outputs": [
    {
     "data": {
      "text/html": [
       "<div>\n",
       "<style scoped>\n",
       "    .dataframe tbody tr th:only-of-type {\n",
       "        vertical-align: middle;\n",
       "    }\n",
       "\n",
       "    .dataframe tbody tr th {\n",
       "        vertical-align: top;\n",
       "    }\n",
       "\n",
       "    .dataframe thead th {\n",
       "        text-align: right;\n",
       "    }\n",
       "</style>\n",
       "<table border=\"1\" class=\"dataframe\">\n",
       "  <thead>\n",
       "    <tr style=\"text-align: right;\">\n",
       "      <th></th>\n",
       "      <th>summary</th>\n",
       "      <th>age</th>\n",
       "      <th>balance</th>\n",
       "      <th>day</th>\n",
       "      <th>duration</th>\n",
       "      <th>campaign</th>\n",
       "      <th>pdays</th>\n",
       "      <th>previous</th>\n",
       "      <th>y</th>\n",
       "    </tr>\n",
       "  </thead>\n",
       "  <tbody>\n",
       "    <tr>\n",
       "      <th>0</th>\n",
       "      <td>count</td>\n",
       "      <td>45211</td>\n",
       "      <td>45211</td>\n",
       "      <td>45211</td>\n",
       "      <td>45211</td>\n",
       "      <td>45211</td>\n",
       "      <td>45211</td>\n",
       "      <td>45211</td>\n",
       "      <td>45211</td>\n",
       "    </tr>\n",
       "    <tr>\n",
       "      <th>1</th>\n",
       "      <td>mean</td>\n",
       "      <td>40.93621021432837</td>\n",
       "      <td>1362.2720576850766</td>\n",
       "      <td>15.80641879188693</td>\n",
       "      <td>258.1630797814691</td>\n",
       "      <td>2.763840658246887</td>\n",
       "      <td>40.19782796222158</td>\n",
       "      <td>0.5803233726305546</td>\n",
       "      <td>0.11698480458295547</td>\n",
       "    </tr>\n",
       "    <tr>\n",
       "      <th>2</th>\n",
       "      <td>stddev</td>\n",
       "      <td>10.618762040975405</td>\n",
       "      <td>3044.7658291685257</td>\n",
       "      <td>8.322476153044594</td>\n",
       "      <td>257.5278122651706</td>\n",
       "      <td>3.098020883279192</td>\n",
       "      <td>100.12874599059828</td>\n",
       "      <td>2.303441044931218</td>\n",
       "      <td>0.32140573261566385</td>\n",
       "    </tr>\n",
       "    <tr>\n",
       "      <th>3</th>\n",
       "      <td>min</td>\n",
       "      <td>18</td>\n",
       "      <td>-8019</td>\n",
       "      <td>1</td>\n",
       "      <td>0</td>\n",
       "      <td>1</td>\n",
       "      <td>-1</td>\n",
       "      <td>0</td>\n",
       "      <td>0</td>\n",
       "    </tr>\n",
       "    <tr>\n",
       "      <th>4</th>\n",
       "      <td>max</td>\n",
       "      <td>95</td>\n",
       "      <td>102127</td>\n",
       "      <td>31</td>\n",
       "      <td>4918</td>\n",
       "      <td>63</td>\n",
       "      <td>871</td>\n",
       "      <td>275</td>\n",
       "      <td>1</td>\n",
       "    </tr>\n",
       "  </tbody>\n",
       "</table>\n",
       "</div>"
      ],
      "text/plain": [
       "  summary                 age             balance                day  \\\n",
       "0   count               45211               45211              45211   \n",
       "1    mean   40.93621021432837  1362.2720576850766  15.80641879188693   \n",
       "2  stddev  10.618762040975405  3044.7658291685257  8.322476153044594   \n",
       "3     min                  18               -8019                  1   \n",
       "4     max                  95              102127                 31   \n",
       "\n",
       "            duration           campaign               pdays  \\\n",
       "0              45211              45211               45211   \n",
       "1  258.1630797814691  2.763840658246887   40.19782796222158   \n",
       "2  257.5278122651706  3.098020883279192  100.12874599059828   \n",
       "3                  0                  1                  -1   \n",
       "4               4918                 63                 871   \n",
       "\n",
       "             previous                    y  \n",
       "0               45211                45211  \n",
       "1  0.5803233726305546  0.11698480458295547  \n",
       "2   2.303441044931218  0.32140573261566385  \n",
       "3                   0                    0  \n",
       "4                 275                    1  "
      ]
     },
     "execution_count": 119,
     "metadata": {},
     "output_type": "execute_result"
    }
   ],
   "source": [
    "numeric_features = [t[0] for t in df.dtypes if t[1] == 'int']\n",
    "df.select(numeric_features).describe().toPandas()"
   ]
  },
  {
   "cell_type": "code",
   "execution_count": 120,
   "id": "301631a2",
   "metadata": {},
   "outputs": [],
   "source": [
    "from pandas.plotting import scatter_matrix\n",
    "\n"
   ]
  },
  {
   "cell_type": "code",
   "execution_count": 121,
   "id": "5a17b711",
   "metadata": {},
   "outputs": [
    {
     "data": {
      "text/html": [
       "<div>\n",
       "<style scoped>\n",
       "    .dataframe tbody tr th:only-of-type {\n",
       "        vertical-align: middle;\n",
       "    }\n",
       "\n",
       "    .dataframe tbody tr th {\n",
       "        vertical-align: top;\n",
       "    }\n",
       "\n",
       "    .dataframe thead th {\n",
       "        text-align: right;\n",
       "    }\n",
       "</style>\n",
       "<table border=\"1\" class=\"dataframe\">\n",
       "  <thead>\n",
       "    <tr style=\"text-align: right;\">\n",
       "      <th></th>\n",
       "      <th>age</th>\n",
       "      <th>balance</th>\n",
       "      <th>day</th>\n",
       "      <th>duration</th>\n",
       "      <th>campaign</th>\n",
       "      <th>pdays</th>\n",
       "      <th>previous</th>\n",
       "      <th>y</th>\n",
       "    </tr>\n",
       "  </thead>\n",
       "  <tbody>\n",
       "    <tr>\n",
       "      <th>0</th>\n",
       "      <td>58</td>\n",
       "      <td>2143</td>\n",
       "      <td>5</td>\n",
       "      <td>261</td>\n",
       "      <td>1</td>\n",
       "      <td>-1</td>\n",
       "      <td>0</td>\n",
       "      <td>0</td>\n",
       "    </tr>\n",
       "    <tr>\n",
       "      <th>1</th>\n",
       "      <td>44</td>\n",
       "      <td>29</td>\n",
       "      <td>5</td>\n",
       "      <td>151</td>\n",
       "      <td>1</td>\n",
       "      <td>-1</td>\n",
       "      <td>0</td>\n",
       "      <td>0</td>\n",
       "    </tr>\n",
       "    <tr>\n",
       "      <th>2</th>\n",
       "      <td>33</td>\n",
       "      <td>2</td>\n",
       "      <td>5</td>\n",
       "      <td>76</td>\n",
       "      <td>1</td>\n",
       "      <td>-1</td>\n",
       "      <td>0</td>\n",
       "      <td>0</td>\n",
       "    </tr>\n",
       "    <tr>\n",
       "      <th>3</th>\n",
       "      <td>47</td>\n",
       "      <td>1506</td>\n",
       "      <td>5</td>\n",
       "      <td>92</td>\n",
       "      <td>1</td>\n",
       "      <td>-1</td>\n",
       "      <td>0</td>\n",
       "      <td>0</td>\n",
       "    </tr>\n",
       "    <tr>\n",
       "      <th>4</th>\n",
       "      <td>33</td>\n",
       "      <td>1</td>\n",
       "      <td>5</td>\n",
       "      <td>198</td>\n",
       "      <td>1</td>\n",
       "      <td>-1</td>\n",
       "      <td>0</td>\n",
       "      <td>0</td>\n",
       "    </tr>\n",
       "    <tr>\n",
       "      <th>...</th>\n",
       "      <td>...</td>\n",
       "      <td>...</td>\n",
       "      <td>...</td>\n",
       "      <td>...</td>\n",
       "      <td>...</td>\n",
       "      <td>...</td>\n",
       "      <td>...</td>\n",
       "      <td>...</td>\n",
       "    </tr>\n",
       "    <tr>\n",
       "      <th>45206</th>\n",
       "      <td>51</td>\n",
       "      <td>825</td>\n",
       "      <td>17</td>\n",
       "      <td>977</td>\n",
       "      <td>3</td>\n",
       "      <td>-1</td>\n",
       "      <td>0</td>\n",
       "      <td>1</td>\n",
       "    </tr>\n",
       "    <tr>\n",
       "      <th>45207</th>\n",
       "      <td>71</td>\n",
       "      <td>1729</td>\n",
       "      <td>17</td>\n",
       "      <td>456</td>\n",
       "      <td>2</td>\n",
       "      <td>-1</td>\n",
       "      <td>0</td>\n",
       "      <td>1</td>\n",
       "    </tr>\n",
       "    <tr>\n",
       "      <th>45208</th>\n",
       "      <td>72</td>\n",
       "      <td>5715</td>\n",
       "      <td>17</td>\n",
       "      <td>1127</td>\n",
       "      <td>5</td>\n",
       "      <td>184</td>\n",
       "      <td>3</td>\n",
       "      <td>1</td>\n",
       "    </tr>\n",
       "    <tr>\n",
       "      <th>45209</th>\n",
       "      <td>57</td>\n",
       "      <td>668</td>\n",
       "      <td>17</td>\n",
       "      <td>508</td>\n",
       "      <td>4</td>\n",
       "      <td>-1</td>\n",
       "      <td>0</td>\n",
       "      <td>0</td>\n",
       "    </tr>\n",
       "    <tr>\n",
       "      <th>45210</th>\n",
       "      <td>37</td>\n",
       "      <td>2971</td>\n",
       "      <td>17</td>\n",
       "      <td>361</td>\n",
       "      <td>2</td>\n",
       "      <td>188</td>\n",
       "      <td>11</td>\n",
       "      <td>0</td>\n",
       "    </tr>\n",
       "  </tbody>\n",
       "</table>\n",
       "<p>45211 rows × 8 columns</p>\n",
       "</div>"
      ],
      "text/plain": [
       "       age  balance  day  duration  campaign  pdays  previous  y\n",
       "0       58     2143    5       261         1     -1         0  0\n",
       "1       44       29    5       151         1     -1         0  0\n",
       "2       33        2    5        76         1     -1         0  0\n",
       "3       47     1506    5        92         1     -1         0  0\n",
       "4       33        1    5       198         1     -1         0  0\n",
       "...    ...      ...  ...       ...       ...    ...       ... ..\n",
       "45206   51      825   17       977         3     -1         0  1\n",
       "45207   71     1729   17       456         2     -1         0  1\n",
       "45208   72     5715   17      1127         5    184         3  1\n",
       "45209   57      668   17       508         4     -1         0  0\n",
       "45210   37     2971   17       361         2    188        11  0\n",
       "\n",
       "[45211 rows x 8 columns]"
      ]
     },
     "execution_count": 121,
     "metadata": {},
     "output_type": "execute_result"
    }
   ],
   "source": [
    "numeric_data"
   ]
  },
  {
   "cell_type": "code",
   "execution_count": 122,
   "id": "40e740b5",
   "metadata": {},
   "outputs": [
    {
     "name": "stdout",
     "output_type": "stream",
     "text": [
      "root\n",
      " |-- age: integer (nullable = true)\n",
      " |-- job: string (nullable = true)\n",
      " |-- marital: string (nullable = true)\n",
      " |-- education: string (nullable = true)\n",
      " |-- default: string (nullable = true)\n",
      " |-- balance: integer (nullable = true)\n",
      " |-- housing: string (nullable = true)\n",
      " |-- loan: string (nullable = true)\n",
      " |-- contact: string (nullable = true)\n",
      " |-- duration: integer (nullable = true)\n",
      " |-- campaign: integer (nullable = true)\n",
      " |-- pdays: integer (nullable = true)\n",
      " |-- previous: integer (nullable = true)\n",
      " |-- poutcome: string (nullable = true)\n",
      " |-- y: integer (nullable = true)\n",
      "\n"
     ]
    }
   ],
   "source": [
    "df = df.select('age', 'job', 'marital', 'education', 'default', 'balance', 'housing', 'loan', 'contact', 'duration', 'campaign', 'pdays', 'previous', 'poutcome', 'y')\n",
    "cols = df.columns\n",
    "df.printSchema()"
   ]
  },
  {
   "cell_type": "code",
   "execution_count": 123,
   "id": "99043bf0",
   "metadata": {},
   "outputs": [],
   "source": [
    "from pyspark.ml.feature import OneHotEncoder, StringIndexer, VectorAssembler\n",
    "\n",
    "categoricalColumns = ['job', 'marital', 'education', 'default', 'housing', 'loan', 'contact', 'poutcome']\n",
    "\n",
    "stages = []\n",
    "\n",
    "for categoricalCol in categoricalColumns:\n",
    "    \n",
    "    stringIndexer = StringIndexer(inputCol = categoricalCol, outputCol = categoricalCol + 'Index')\n",
    "    \n",
    "    encoder = OneHotEncoder(inputCols=[stringIndexer.getOutputCol()], outputCols=[categoricalCol + \"classVec\"])\n",
    "    \n",
    "    stages += [stringIndexer, encoder]"
   ]
  },
  {
   "cell_type": "code",
   "execution_count": 124,
   "id": "6cd98be7",
   "metadata": {},
   "outputs": [],
   "source": [
    "label_stringIdx = StringIndexer(inputCol = 'y', outputCol = 'label')\n",
    "\n",
    "stages += [label_stringIdx]\n",
    "\n",
    "numericCols = ['age', 'balance', 'duration', 'campaign', 'pdays', 'previous']\n",
    "\n",
    "assemblerInputs = [c + \"classVec\" for c in categoricalColumns] + numericCols\n",
    "\n",
    "assembler = VectorAssembler(inputCols=assemblerInputs, outputCol=\"features\")\n",
    "\n",
    "stages += [assembler]"
   ]
  },
  {
   "cell_type": "code",
   "execution_count": 125,
   "id": "cc1537ff",
   "metadata": {},
   "outputs": [
    {
     "name": "stdout",
     "output_type": "stream",
     "text": [
      "root\n",
      " |-- label: double (nullable = false)\n",
      " |-- features: vector (nullable = true)\n",
      " |-- age: integer (nullable = true)\n",
      " |-- job: string (nullable = true)\n",
      " |-- marital: string (nullable = true)\n",
      " |-- education: string (nullable = true)\n",
      " |-- default: string (nullable = true)\n",
      " |-- balance: integer (nullable = true)\n",
      " |-- housing: string (nullable = true)\n",
      " |-- loan: string (nullable = true)\n",
      " |-- contact: string (nullable = true)\n",
      " |-- duration: integer (nullable = true)\n",
      " |-- campaign: integer (nullable = true)\n",
      " |-- pdays: integer (nullable = true)\n",
      " |-- previous: integer (nullable = true)\n",
      " |-- poutcome: string (nullable = true)\n",
      " |-- y: integer (nullable = true)\n",
      "\n"
     ]
    }
   ],
   "source": [
    "from pyspark.ml import Pipeline\n",
    "pipeline = Pipeline(stages = stages)\n",
    "pipelineModel = pipeline.fit(df)\n",
    "df = pipelineModel.transform(df)\n",
    "selectedCols = ['label', 'features'] + cols\n",
    "df = df.select(selectedCols)\n",
    "df.printSchema()\n"
   ]
  },
  {
   "cell_type": "code",
   "execution_count": 126,
   "id": "fee537ff",
   "metadata": {},
   "outputs": [
    {
     "name": "stderr",
     "output_type": "stream",
     "text": [
      "                                                                                \r"
     ]
    },
    {
     "name": "stdout",
     "output_type": "stream",
     "text": [
      "Training Dataset Count: 31716\n"
     ]
    },
    {
     "name": "stderr",
     "output_type": "stream",
     "text": [
      "\r",
      "[Stage 640:>                                                        (0 + 1) / 1]\r"
     ]
    },
    {
     "name": "stdout",
     "output_type": "stream",
     "text": [
      "Test Dataset Count: 13495\n"
     ]
    },
    {
     "name": "stderr",
     "output_type": "stream",
     "text": [
      "\r",
      "                                                                                \r"
     ]
    }
   ],
   "source": [
    "train, test = df.randomSplit([0.7, 0.3], seed = 2018)\n",
    "print(\"Training Dataset Count: \" + str(train.count()))\n",
    "print(\"Test Dataset Count: \" + str(test.count()))"
   ]
  },
  {
   "cell_type": "markdown",
   "id": "e038ed13",
   "metadata": {},
   "source": [
    "# Creating Logistic Regression Model\n",
    "\n"
   ]
  },
  {
   "cell_type": "code",
   "execution_count": 127,
   "id": "328a5956",
   "metadata": {},
   "outputs": [
    {
     "name": "stderr",
     "output_type": "stream",
     "text": [
      "                                                                                \r"
     ]
    }
   ],
   "source": [
    "from pyspark.ml.classification import LogisticRegression\n",
    "lr = LogisticRegression(featuresCol = 'features', labelCol = 'label', maxIter=10)\n",
    "lrModel = lr.fit(train)\n"
   ]
  },
  {
   "cell_type": "code",
   "execution_count": 128,
   "id": "514cb2bd",
   "metadata": {},
   "outputs": [
    {
     "data": {
      "image/png": "[encoded data removed]",
      "text/plain": [
       "<Figure size 432x288 with 1 Axes>"
      ]
     },
     "metadata": {
      "needs_background": "light"
     },
     "output_type": "display_data"
    }
   ],
   "source": [
    "import seaborn as sns\n",
    "import matplotlib.pyplot as plt\n",
    "import numpy as np\n",
    "beta = np.sort(lrModel.coefficients)\n",
    "plt.plot(beta)\n",
    "plt.ylabel('Beta Coefficients')\n",
    "plt.show()"
   ]
  },
  {
   "cell_type": "code",
   "execution_count": 136,
   "id": "01a5af2e",
   "metadata": {},
   "outputs": [
    {
     "name": "stderr",
     "output_type": "stream",
     "text": [
      "/Users/komlan/pythonEnv/lib/python3.9/site-packages/pyspark/sql/context.py:125: FutureWarning: Deprecated in 3.0.0. Use SparkSession.builder.getOrCreate() instead.\n",
      "  warnings.warn(\n"
     ]
    },
    {
     "name": "stdout",
     "output_type": "stream",
     "text": [
      "Training set areaUnderROC: 0.8893819685424522\n"
     ]
    },
    {
     "data": {
      "image/png": "[encoded data removed]",
      "text/plain": [
       "<Figure size 432x288 with 1 Axes>"
      ]
     },
     "metadata": {
      "needs_background": "light"
     },
     "output_type": "display_data"
    }
   ],
   "source": [
    "trainingSummary = lrModel.summary\n",
    "roc = trainingSummary.roc.toPandas()\n",
    "plt.plot(roc['FPR'],roc['TPR'])\n",
    "plt.ylabel('False Positive Rate')\n",
    "plt.xlabel('True Positive Rate')\n",
    "plt.title('ROC Curve')\n",
    "plt.savefig(\"precision_recall.png\")\n",
    "print('Training set areaUnderROC: ' + str(trainingSummary.areaUnderROC))"
   ]
  },
  {
   "cell_type": "raw",
   "id": "9669a726",
   "metadata": {},
   "source": [
    "Precision and Recall\n",
    "\n"
   ]
  },
  {
   "cell_type": "code",
   "execution_count": 131,
   "id": "ab4f60fe",
   "metadata": {},
   "outputs": [
    {
     "name": "stderr",
     "output_type": "stream",
     "text": [
      "/Users/komlan/pythonEnv/lib/python3.9/site-packages/pyspark/sql/context.py:125: FutureWarning: Deprecated in 3.0.0. Use SparkSession.builder.getOrCreate() instead.\n",
      "  warnings.warn(\n",
      "                                                                                \r"
     ]
    },
    {
     "data": {
      "image/png": "[encoded data removed]",
      "text/plain": [
       "<Figure size 432x288 with 1 Axes>"
      ]
     },
     "metadata": {
      "needs_background": "light"
     },
     "output_type": "display_data"
    }
   ],
   "source": [
    "pr = trainingSummary.pr.toPandas()\n",
    "plt.plot(pr['recall'],pr['precision'])\n",
    "plt.ylabel('Precision')\n",
    "plt.xlabel('Recall')\n",
    "plt.show()"
   ]
  },
  {
   "cell_type": "code",
   "execution_count": 73,
   "id": "d88cd411",
   "metadata": {},
   "outputs": [
    {
     "name": "stderr",
     "output_type": "stream",
     "text": [
      "\r",
      "[Stage 396:>                                                        (0 + 1) / 1]\r"
     ]
    },
    {
     "name": "stdout",
     "output_type": "stream",
     "text": [
      "+---+----+-----+--------------------+----------+--------------------+\n",
      "|age| job|label|       rawPrediction|prediction|         probability|\n",
      "+---+----+-----+--------------------+----------+--------------------+\n",
      "| 24|blue|  0.0|[3.70038618690010...|       0.0|[0.97588206964663...|\n",
      "| 26|blue|  0.0|[3.35922810707749...|       0.0|[0.96640572569520...|\n",
      "| 26|blue|  0.0|[3.13807248724923...|       0.0|[0.95843616356727...|\n",
      "| 26|blue|  0.0|[0.98479177264445...|       0.0|[0.72805797338141...|\n",
      "| 27|blue|  0.0|[4.62265241584983...|       0.0|[0.99026892732556...|\n",
      "| 28|blue|  0.0|[3.06394670619343...|       0.0|[0.95538084098277...|\n",
      "| 28|blue|  0.0|[3.15379880374952...|       0.0|[0.95905814457810...|\n",
      "| 28|blue|  0.0|[3.06317159677342...|       0.0|[0.95534778772874...|\n",
      "| 28|blue|  0.0|[2.47175165699889...|       0.0|[0.92213762657030...|\n",
      "| 28|blue|  0.0|[2.61145448494409...|       0.0|[0.93159514245437...|\n",
      "+---+----+-----+--------------------+----------+--------------------+\n",
      "only showing top 10 rows\n",
      "\n"
     ]
    },
    {
     "name": "stderr",
     "output_type": "stream",
     "text": [
      "\r",
      "                                                                                \r"
     ]
    }
   ],
   "source": [
    "predictions = lrModel.transform(test)\n",
    "\n",
    "predictions.select('age', 'job', 'label', 'rawPrediction', 'prediction', 'probability').show(10)"
   ]
  },
  {
   "cell_type": "code",
   "execution_count": 72,
   "id": "4b8b2828",
   "metadata": {},
   "outputs": [
    {
     "name": "stderr",
     "output_type": "stream",
     "text": [
      "\r",
      "[Stage 395:>                                                        (0 + 1) / 1]\r"
     ]
    },
    {
     "name": "stdout",
     "output_type": "stream",
     "text": [
      "Row(label=0.0)\n"
     ]
    },
    {
     "name": "stderr",
     "output_type": "stream",
     "text": [
      "\r",
      "                                                                                \r"
     ]
    }
   ],
   "source": [
    "print(predictions.select(\"label\").collect()[0])"
   ]
  },
  {
   "cell_type": "code",
   "execution_count": 130,
   "id": "094f3f55",
   "metadata": {},
   "outputs": [
    {
     "name": "stderr",
     "output_type": "stream",
     "text": [
      "                                                                                \r"
     ]
    },
    {
     "data": {
      "image/png": "[encoded data removed]",
      "text/plain": [
       "<Figure size 432x288 with 2 Axes>"
      ]
     },
     "metadata": {
      "needs_background": "light"
     },
     "output_type": "display_data"
    }
   ],
   "source": [
    "from sklearn.metrics import confusion_matrix\n",
    "def plot_confusion_matrix(cm, classes=None, title=None, model=None):\n",
    "    if classes is not None:\n",
    "        sns.heatmap(cm, xticklabels=classes, yticklabels=classes, vmin=0, vmax=1, annot=True, annot_kws={'size':40})\n",
    "    else:\n",
    "        sns.heatmap(cm, vmin=0, vmax=1)\n",
    "    plt.title(title+\" \"+model)\n",
    "    plt.xlabel(\"Predicted Label\")\n",
    "    plt.ylabel(\"True Label\")\n",
    "\n",
    "y_pred = predictions.select(\"prediction\").collect()\n",
    "y_label = predictions.select(\"label\").collect()\n",
    "\n",
    "cm = confusion_matrix(y_label, y_pred)\n",
    "\n",
    "cm_norm = cm/cm.sum(axis=1)[:, np.newaxis]\n",
    "classes = np.unique(y_label)\n",
    "plot_confusion_matrix(cm_norm, classes, title=\"Confusion Matrix for Build Model\", model=\"Logistic regression\")"
   ]
  },
  {
   "cell_type": "raw",
   "id": "1ee02f69",
   "metadata": {},
   "source": [
    "Evaluate Logistic Regression\n",
    "\n"
   ]
  },
  {
   "cell_type": "code",
   "execution_count": 129,
   "id": "cd28937b",
   "metadata": {},
   "outputs": [
    {
     "name": "stderr",
     "output_type": "stream",
     "text": [
      "\r",
      "[Stage 655:>                                                        (0 + 1) / 1]\r"
     ]
    },
    {
     "name": "stdout",
     "output_type": "stream",
     "text": [
      "Test Area Under ROC 0.8953123002168385\n"
     ]
    },
    {
     "name": "stderr",
     "output_type": "stream",
     "text": [
      "\r",
      "                                                                                \r"
     ]
    }
   ],
   "source": [
    "from pyspark.ml.evaluation import BinaryClassificationEvaluator\n",
    "evaluator = BinaryClassificationEvaluator()\n",
    "print('Test Area Under ROC', evaluator.evaluate(predictions))"
   ]
  },
  {
   "cell_type": "markdown",
   "id": "c3c64d9f",
   "metadata": {},
   "source": [
    "# Decision Tree Classifier\n",
    "\n"
   ]
  },
  {
   "cell_type": "code",
   "execution_count": 48,
   "id": "5a6eb9e3",
   "metadata": {},
   "outputs": [
    {
     "name": "stderr",
     "output_type": "stream",
     "text": [
      "[Stage 173:>                                                        (0 + 1) / 1]\r"
     ]
    },
    {
     "name": "stdout",
     "output_type": "stream",
     "text": [
      "+---+----+-----+----------------+----------+--------------------+\n",
      "|age| job|label|   rawPrediction|prediction|         probability|\n",
      "+---+----+-----+----------------+----------+--------------------+\n",
      "| 24|blue|  0.0|[25762.0,2132.0]|       0.0|[0.92356779235677...|\n",
      "| 26|blue|  0.0|[25762.0,2132.0]|       0.0|[0.92356779235677...|\n",
      "| 26|blue|  0.0|[25762.0,2132.0]|       0.0|[0.92356779235677...|\n",
      "| 26|blue|  0.0|   [598.0,788.0]|       1.0|[0.43145743145743...|\n",
      "| 27|blue|  0.0|[25762.0,2132.0]|       0.0|[0.92356779235677...|\n",
      "| 28|blue|  0.0|[25762.0,2132.0]|       0.0|[0.92356779235677...|\n",
      "| 28|blue|  0.0|[25762.0,2132.0]|       0.0|[0.92356779235677...|\n",
      "| 28|blue|  0.0|[25762.0,2132.0]|       0.0|[0.92356779235677...|\n",
      "| 28|blue|  0.0|[25762.0,2132.0]|       0.0|[0.92356779235677...|\n",
      "| 28|blue|  0.0|[25762.0,2132.0]|       0.0|[0.92356779235677...|\n",
      "+---+----+-----+----------------+----------+--------------------+\n",
      "only showing top 10 rows\n",
      "\n"
     ]
    },
    {
     "name": "stderr",
     "output_type": "stream",
     "text": [
      "\r",
      "                                                                                \r"
     ]
    }
   ],
   "source": [
    "from pyspark.ml.classification import DecisionTreeClassifier\n",
    "dt = DecisionTreeClassifier(featuresCol = 'features', labelCol = 'label', maxDepth = 3)\n",
    "dtModel = dt.fit(train)\n",
    "predictions_dt = dtModel.transform(test)\n",
    "predictions_dt.select('age', 'job', 'label', 'rawPrediction', 'prediction', 'probability').show(10)"
   ]
  },
  {
   "cell_type": "code",
   "execution_count": 49,
   "id": "47dd82aa",
   "metadata": {},
   "outputs": [
    {
     "name": "stderr",
     "output_type": "stream",
     "text": [
      "\r",
      "[Stage 174:>                                                        (0 + 1) / 1]\r"
     ]
    },
    {
     "name": "stdout",
     "output_type": "stream",
     "text": [
      "Test Area Under ROC: 0.32359953259741137\n"
     ]
    },
    {
     "name": "stderr",
     "output_type": "stream",
     "text": [
      "\r",
      "                                                                                \r"
     ]
    }
   ],
   "source": [
    "evaluator = BinaryClassificationEvaluator()\n",
    "print(\"Test Area Under ROC: \" + str(evaluator.evaluate(predictions_dt, {evaluator.metricName: \"areaUnderROC\"})))"
   ]
  },
  {
   "cell_type": "code",
   "execution_count": 50,
   "id": "8df1fd82",
   "metadata": {},
   "outputs": [
    {
     "name": "stderr",
     "output_type": "stream",
     "text": [
      "                                                                                \r"
     ]
    },
    {
     "data": {
      "image/png": "[encoded data removed]",
      "text/plain": [
       "<Figure size 432x288 with 2 Axes>"
      ]
     },
     "metadata": {
      "needs_background": "light"
     },
     "output_type": "display_data"
    }
   ],
   "source": [
    "y_pred = predictions_dt.select(\"prediction\").collect()\n",
    "y_label = predictions_dt.select(\"label\").collect()\n",
    "\n",
    "cm = confusion_matrix(y_label, y_pred)\n",
    "\n",
    "cm_norm = cm/cm.sum(axis=1)[:, np.newaxis]\n",
    "classes = np.unique(y_label)\n",
    "plot_confusion_matrix(cm_norm, classes, title=\"Confusion Matrix for Build Model\")"
   ]
  },
  {
   "cell_type": "markdown",
   "id": "83271c5b",
   "metadata": {},
   "source": [
    "# Random Forest Classifier\n",
    "\n"
   ]
  },
  {
   "cell_type": "code",
   "execution_count": 52,
   "id": "0c2757e6",
   "metadata": {},
   "outputs": [
    {
     "name": "stderr",
     "output_type": "stream",
     "text": [
      "[Stage 214:>                                                        (0 + 1) / 1]\r"
     ]
    },
    {
     "name": "stdout",
     "output_type": "stream",
     "text": [
      "+---+----+-----+--------------------+----------+--------------------+\n",
      "|age| job|label|       rawPrediction|prediction|         probability|\n",
      "+---+----+-----+--------------------+----------+--------------------+\n",
      "| 24|blue|  0.0|[18.6469398644854...|       0.0|[0.93234699322427...|\n",
      "| 26|blue|  0.0|[18.5656064095558...|       0.0|[0.92828032047779...|\n",
      "| 26|blue|  0.0|[18.5514852181227...|       0.0|[0.92757426090613...|\n",
      "| 26|blue|  0.0|[12.2148831304761...|       0.0|[0.61074415652380...|\n",
      "| 27|blue|  0.0|[18.6122067428145...|       0.0|[0.93061033714072...|\n",
      "| 28|blue|  0.0|[18.6604187992413...|       0.0|[0.93302093996206...|\n",
      "| 28|blue|  0.0|[18.5603148918463...|       0.0|[0.92801574459231...|\n",
      "| 28|blue|  0.0|[18.4875952109332...|       0.0|[0.92437976054666...|\n",
      "| 28|blue|  0.0|[18.5617956703809...|       0.0|[0.92808978351904...|\n",
      "| 28|blue|  0.0|[18.4875952109332...|       0.0|[0.92437976054666...|\n",
      "+---+----+-----+--------------------+----------+--------------------+\n",
      "only showing top 10 rows\n",
      "\n"
     ]
    },
    {
     "name": "stderr",
     "output_type": "stream",
     "text": [
      "\r",
      "                                                                                \r"
     ]
    }
   ],
   "source": [
    "from pyspark.ml.classification import RandomForestClassifier\n",
    "rf = RandomForestClassifier(featuresCol = 'features', labelCol = 'label')\n",
    "rfModel = rf.fit(train)\n",
    "predictions_rf = rfModel.transform(test)\n",
    "predictions_rf.select('age', 'job', 'label', 'rawPrediction', 'prediction', 'probability').show(10)"
   ]
  },
  {
   "cell_type": "code",
   "execution_count": 53,
   "id": "15ea16d3",
   "metadata": {},
   "outputs": [
    {
     "name": "stderr",
     "output_type": "stream",
     "text": [
      "                                                                                \r"
     ]
    },
    {
     "name": "stdout",
     "output_type": "stream",
     "text": [
      "Test Area Under ROC: 0.8953123002168385\n"
     ]
    }
   ],
   "source": [
    "evaluator = BinaryClassificationEvaluator()\n",
    "print(\"Test Area Under ROC: \" + str(evaluator.evaluate(predictions, {evaluator.metricName: \"areaUnderROC\"})))"
   ]
  },
  {
   "cell_type": "code",
   "execution_count": 54,
   "id": "d829dbc2",
   "metadata": {},
   "outputs": [
    {
     "name": "stderr",
     "output_type": "stream",
     "text": [
      "                                                                                \r"
     ]
    },
    {
     "data": {
      "image/png": "[encoded data removed]",
      "text/plain": [
       "<Figure size 432x288 with 2 Axes>"
      ]
     },
     "metadata": {
      "needs_background": "light"
     },
     "output_type": "display_data"
    }
   ],
   "source": [
    "y_pred = predictions_rf.select(\"prediction\").collect()\n",
    "y_label = predictions_rf.select(\"label\").collect()\n",
    "\n",
    "cm = confusion_matrix(y_label, y_pred)\n",
    "\n",
    "cm_norm = cm/cm.sum(axis=1)[:, np.newaxis]\n",
    "classes = np.unique(y_label)\n",
    "plot_confusion_matrix(cm_norm, classes, title=\"Confusion Matrix for Build Model\")"
   ]
  },
  {
   "cell_type": "markdown",
   "id": "648057d2",
   "metadata": {},
   "source": [
    "# Gradient-Boosted Tree Classifier\n",
    "\n"
   ]
  },
  {
   "cell_type": "code",
   "execution_count": 55,
   "id": "5e55cc54",
   "metadata": {},
   "outputs": [
    {
     "name": "stderr",
     "output_type": "stream",
     "text": [
      "[Stage 330:>                                                        (0 + 1) / 1]\r"
     ]
    },
    {
     "name": "stdout",
     "output_type": "stream",
     "text": [
      "+---+----+-----+--------------------+----------+--------------------+\n",
      "|age| job|label|       rawPrediction|prediction|         probability|\n",
      "+---+----+-----+--------------------+----------+--------------------+\n",
      "| 24|blue|  0.0|[1.17441313120433...|       0.0|[0.91284088741828...|\n",
      "| 26|blue|  0.0|[1.01066344014046...|       0.0|[0.88301814168673...|\n",
      "| 26|blue|  0.0|[1.01066344014046...|       0.0|[0.88301814168673...|\n",
      "| 26|blue|  0.0|[0.08492001100742...|       0.0|[0.54235823358291...|\n",
      "| 27|blue|  0.0|[1.31814327938233...|       0.0|[0.93316072267618...|\n",
      "| 28|blue|  0.0|[1.01066344014046...|       0.0|[0.88301814168673...|\n",
      "| 28|blue|  0.0|[0.99476125139214...|       0.0|[0.87969261148218...|\n",
      "| 28|blue|  0.0|[0.98654751460312...|       0.0|[0.87794316145541...|\n",
      "| 28|blue|  0.0|[0.98507910321183...|       0.0|[0.87762810508960...|\n",
      "| 28|blue|  0.0|[0.97104024755851...|       0.0|[0.87458052970339...|\n",
      "+---+----+-----+--------------------+----------+--------------------+\n",
      "only showing top 10 rows\n",
      "\n"
     ]
    },
    {
     "name": "stderr",
     "output_type": "stream",
     "text": [
      "22/02/27 22:47:09 WARN InstanceBuilder$NativeBLAS: Failed to load implementation from:dev.ludovic.netlib.blas.JNIBLAS\n",
      "22/02/27 22:47:09 WARN InstanceBuilder$NativeBLAS: Failed to load implementation from:dev.ludovic.netlib.blas.ForeignLinkerBLAS\n",
      "\r",
      "                                                                                \r"
     ]
    }
   ],
   "source": [
    "from pyspark.ml.classification import GBTClassifier\n",
    "gbt = GBTClassifier(maxIter=10)\n",
    "gbtModel = gbt.fit(train)\n",
    "predictions_gb = gbtModel.transform(test)\n",
    "predictions_gb.select('age', 'job', 'label', 'rawPrediction', 'prediction', 'probability').show(10)\n"
   ]
  },
  {
   "cell_type": "code",
   "execution_count": 114,
   "id": "b6fd2ee8",
   "metadata": {},
   "outputs": [
    {
     "name": "stdout",
     "output_type": "stream",
     "text": [
      "Test Area Under ROC: 0.8979577336929039\n"
     ]
    }
   ],
   "source": [
    "evaluator = BinaryClassificationEvaluator()\n",
    "print(\"Test Area Under ROC: \" + str(evaluator.evaluate(predictions, {evaluator.metricName: \"areaUnderROC\"})))"
   ]
  },
  {
   "cell_type": "code",
   "execution_count": 56,
   "id": "b5c6f058",
   "metadata": {},
   "outputs": [
    {
     "name": "stderr",
     "output_type": "stream",
     "text": [
      "                                                                                \r"
     ]
    },
    {
     "data": {
      "image/png": "[encoded data removed]",
      "text/plain": [
       "<Figure size 432x288 with 2 Axes>"
      ]
     },
     "metadata": {
      "needs_background": "light"
     },
     "output_type": "display_data"
    }
   ],
   "source": [
    "y_pred = predictions_gb.select(\"prediction\").collect()\n",
    "y_label = predictions_gb.select(\"label\").collect()\n",
    "\n",
    "cm = confusion_matrix(y_label, y_pred)\n",
    "\n",
    "cm_norm = cm/cm.sum(axis=1)[:, np.newaxis]\n",
    "classes = np.unique(y_label)\n",
    "plot_confusion_matrix(cm_norm, classes, title=\"Confusion Matrix for Build Model\")"
   ]
  },
  {
   "cell_type": "markdown",
   "id": "4b8c6700",
   "metadata": {},
   "source": [
    "# Linear Support Vector Machine\n"
   ]
  },
  {
   "cell_type": "code",
   "execution_count": 57,
   "id": "52012e1f",
   "metadata": {},
   "outputs": [
    {
     "name": "stderr",
     "output_type": "stream",
     "text": [
      "                                                                                \r"
     ]
    },
    {
     "name": "stdout",
     "output_type": "stream",
     "text": [
      "Coefficients: [-0.012602874801917192,0.0020956546410919982,0.005201289329219625,0.01971942247361287,0.01869444722545187,0.022118035826054233,-0.00017380305191347747,-0.015915744726216735,0.003216934942619754,-0.023033663424606575,0.05775986133171181,-0.005383102983763748,0.002859362972033549,-0.01772557394538835,0.008138858947710988,-0.01550108158315846,0.042387527759952824,-0.050173097908114424,0.04259226567114565,-0.0,-0.12978842608454233,-0.3170658222298964,-0.3602447994762481,-0.3517795715288839,0.0006346803279004707,9.829938476057113e-07,0.00033297561025221573,-0.00909429409389848,0.00027905713615209945,6.59452675236113e-05]\n",
      "Intercept: -0.8787616405017249\n"
     ]
    }
   ],
   "source": [
    "from pyspark.ml.classification import LinearSVC\n",
    "lsvc = LinearSVC(maxIter=10, regParam=0.1)\n",
    "\n",
    "# Fit the model\n",
    "lsvcModel = lsvc.fit(train)\n",
    "\n",
    "# Print the coefficients and intercept for linearsSVC\n",
    "print(\"Coefficients: \" + str(lsvcModel.coefficients))\n",
    "print(\"Intercept: \" + str(lsvcModel.intercept))"
   ]
  },
  {
   "cell_type": "code",
   "execution_count": 59,
   "id": "c9b752d8",
   "metadata": {},
   "outputs": [
    {
     "name": "stderr",
     "output_type": "stream",
     "text": [
      "\r",
      "[Stage 361:>                                                        (0 + 1) / 1]\r"
     ]
    },
    {
     "name": "stdout",
     "output_type": "stream",
     "text": [
      "+---+----+-----+--------------------+----------+\n",
      "|age| job|label|       rawPrediction|prediction|\n",
      "+---+----+-----+--------------------+----------+\n",
      "| 24|blue|  0.0|[1.16112179602391...|       0.0|\n",
      "| 26|blue|  0.0|[1.13281973112686...|       0.0|\n",
      "| 26|blue|  0.0|[1.11377029963265...|       0.0|\n",
      "| 26|blue|  0.0|[0.93387278993171...|       0.0|\n",
      "| 27|blue|  0.0|[1.23932578958779...|       0.0|\n",
      "| 28|blue|  0.0|[1.10632262937145...|       0.0|\n",
      "| 28|blue|  0.0|[1.11366649580269...|       0.0|\n",
      "| 28|blue|  0.0|[1.10645205645943...|       0.0|\n",
      "| 28|blue|  0.0|[1.05743237916663...|       0.0|\n",
      "| 28|blue|  0.0|[1.06890858906571...|       0.0|\n",
      "+---+----+-----+--------------------+----------+\n",
      "only showing top 10 rows\n",
      "\n"
     ]
    },
    {
     "name": "stderr",
     "output_type": "stream",
     "text": [
      "\r",
      "                                                                                \r"
     ]
    }
   ],
   "source": [
    "predictions_svm = lsvcModel.transform(test)\n",
    "predictions_svm.select('age', 'job', 'label', 'rawPrediction', 'prediction').show(10)\n"
   ]
  },
  {
   "cell_type": "code",
   "execution_count": 60,
   "id": "7bb6c403",
   "metadata": {},
   "outputs": [
    {
     "name": "stderr",
     "output_type": "stream",
     "text": [
      "                                                                                \r"
     ]
    },
    {
     "data": {
      "image/png": "[encoded data removed]",
      "text/plain": [
       "<Figure size 432x288 with 2 Axes>"
      ]
     },
     "metadata": {
      "needs_background": "light"
     },
     "output_type": "display_data"
    }
   ],
   "source": [
    "y_pred = predictions_svm.select(\"prediction\").collect()\n",
    "y_label = predictions_svm.select(\"label\").collect()\n",
    "\n",
    "cm = confusion_matrix(y_label, y_pred)\n",
    "\n",
    "cm_norm = cm/cm.sum(axis=1)[:, np.newaxis]\n",
    "classes = np.unique(y_label)\n",
    "plot_confusion_matrix(cm_norm, classes, title=\"Confusion Matrix for Build Model\")"
   ]
  },
  {
   "cell_type": "code",
   "execution_count": null,
   "id": "3df7eced",
   "metadata": {},
   "outputs": [],
   "source": []
  }
 ],
 "metadata": {
  "kernelspec": {
   "display_name": "pythonEnv",
   "language": "python",
   "name": "pythonenv"
  },
  "language_info": {
   "codemirror_mode": {
    "name": "ipython",
    "version": 3
   },
   "file_extension": ".py",
   "mimetype": "text/x-python",
   "name": "python",
   "nbconvert_exporter": "python",
   "pygments_lexer": "ipython3",
   "version": "3.9.7"
  }
 },
 "nbformat": 4,
 "nbformat_minor": 5
}
