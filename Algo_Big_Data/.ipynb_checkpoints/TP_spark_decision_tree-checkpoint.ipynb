{
 "cells": [
  {
   "cell_type": "code",
   "execution_count": 1,
   "id": "91402b08",
   "metadata": {},
   "outputs": [
    {
     "name": "stderr",
     "output_type": "stream",
     "text": [
      "Using Spark's default log4j profile: org/apache/spark/log4j-defaults.properties\n",
      "Setting default log level to \"WARN\".\n",
      "To adjust logging level use sc.setLogLevel(newLevel). For SparkR, use setLogLevel(newLevel).\n",
      "22/02/19 08:46:55 WARN NativeCodeLoader: Unable to load native-hadoop library for your platform... using builtin-java classes where applicable\n"
     ]
    }
   ],
   "source": [
    "from pyspark.context import SparkContext\n",
    "from pyspark.sql.session import SparkSession\n",
    "sc = SparkContext.getOrCreate()\n",
    "\n",
    "spark = SparkSession(sc)"
   ]
  },
  {
   "cell_type": "code",
   "execution_count": 2,
   "id": "5c3f9b22",
   "metadata": {},
   "outputs": [],
   "source": [
    "import numpy as np\n",
    "import seaborn as sns\n",
    "import matplotlib.pyplot as plt\n",
    "from sklearn.metrics import confusion_matrix\n",
    "from pyspark.sql.functions import when, lit\n",
    "from pyspark.ml.feature import VectorAssembler\n",
    "from pyspark.sql.types import DoubleType\n",
    "from pyspark.ml.classification import RandomForestClassifier\n",
    "from pyspark.ml.feature import IndexToString, StringIndexer, VectorIndexer\n",
    "from pyspark.ml import Pipeline\n",
    "from pyspark.ml.classification import DecisionTreeClassifier\n",
    "from pyspark.ml.feature import StringIndexer, VectorIndexer\n",
    "from pyspark.ml.evaluation import MulticlassClassificationEvaluator\n",
    "from pyspark.mllib.regression import LabeledPoint, LinearRegressionWithSGD, LinearRegressionModel\n",
    "from pyspark.mllib.evaluation import RegressionMetrics"
   ]
  },
  {
   "cell_type": "markdown",
   "id": "5947774e",
   "metadata": {},
   "source": [
    "# Libsvm: Decision Tree "
   ]
  },
  {
   "cell_type": "code",
   "execution_count": 3,
   "id": "788a1988",
   "metadata": {},
   "outputs": [
    {
     "name": "stderr",
     "output_type": "stream",
     "text": [
      "22/02/19 08:47:03 WARN LibSVMFileFormat: 'numFeatures' option not specified, determining the number of features by going though the input. If you know the number in advance, please specify it via 'numFeatures' option to avoid the extra scan.\n",
      "                                                                                \r"
     ]
    }
   ],
   "source": [
    "data_libsvm = spark.read.format(\"libsvm\").load(\"/Users/komlan/Project_M2/Algo_Big_Data/Data/sample_libsvm_data.txt\")\n",
    "\n",
    "labels = StringIndexer(inputCol=\"label\", outputCol=\"indexedLabel\").fit(data_libsvm)\n",
    "features = VectorIndexer(inputCol=\"features\", outputCol=\"indexedFeatures\", maxCategories=4).fit(data_libsvm)\n",
    "\n",
    "(train, test) = data_libsvm.randomSplit([0.8, 0.2])\n",
    "\n",
    "dt = DecisionTreeClassifier(maxDepth=5, impurity='gini', labelCol=\"indexedLabel\", featuresCol=\"indexedFeatures\")"
   ]
  },
  {
   "cell_type": "code",
   "execution_count": 4,
   "id": "3c347802",
   "metadata": {},
   "outputs": [
    {
     "name": "stdout",
     "output_type": "stream",
     "text": [
      "+-----+--------------------+\n",
      "|label|            features|\n",
      "+-----+--------------------+\n",
      "|  0.0|(692,[95,96,97,12...|\n",
      "|  0.0|(692,[98,99,100,1...|\n",
      "|  0.0|(692,[100,101,102...|\n",
      "|  0.0|(692,[121,122,123...|\n",
      "|  0.0|(692,[122,123,124...|\n",
      "|  0.0|(692,[122,123,148...|\n",
      "|  0.0|(692,[123,124,125...|\n",
      "|  0.0|(692,[124,125,126...|\n",
      "|  0.0|(692,[124,125,126...|\n",
      "|  0.0|(692,[124,125,126...|\n",
      "|  0.0|(692,[124,125,126...|\n",
      "|  0.0|(692,[124,125,126...|\n",
      "|  0.0|(692,[126,127,128...|\n",
      "|  0.0|(692,[126,127,128...|\n",
      "|  0.0|(692,[126,127,128...|\n",
      "|  0.0|(692,[126,127,128...|\n",
      "|  0.0|(692,[126,127,128...|\n",
      "|  0.0|(692,[126,127,128...|\n",
      "|  0.0|(692,[126,127,128...|\n",
      "|  0.0|(692,[127,128,129...|\n",
      "+-----+--------------------+\n",
      "only showing top 20 rows\n",
      "\n"
     ]
    }
   ],
   "source": [
    "train.show(20)"
   ]
  },
  {
   "cell_type": "code",
   "execution_count": 5,
   "id": "4c623627",
   "metadata": {},
   "outputs": [
    {
     "name": "stderr",
     "output_type": "stream",
     "text": [
      "                                                                                \r"
     ]
    },
    {
     "name": "stdout",
     "output_type": "stream",
     "text": [
      "+----------+------------+--------------------+\n",
      "|prediction|indexedLabel|            features|\n",
      "+----------+------------+--------------------+\n",
      "|       1.0|         1.0|(692,[123,124,125...|\n",
      "|       1.0|         1.0|(692,[123,124,125...|\n",
      "|       1.0|         1.0|(692,[124,125,126...|\n",
      "|       1.0|         1.0|(692,[125,126,127...|\n",
      "|       1.0|         1.0|(692,[126,127,128...|\n",
      "|       1.0|         1.0|(692,[151,152,153...|\n",
      "|       1.0|         1.0|(692,[154,155,156...|\n",
      "|       0.0|         0.0|(692,[100,101,102...|\n",
      "|       0.0|         0.0|(692,[123,124,125...|\n",
      "|       0.0|         0.0|(692,[123,124,125...|\n",
      "+----------+------------+--------------------+\n",
      "only showing top 10 rows\n",
      "\n",
      "Accuracy:  1.0\n"
     ]
    }
   ],
   "source": [
    "pipeline = Pipeline(stages=[labels, features, dt])\n",
    "model = pipeline.fit(train)\n",
    "\n",
    "predictions = model.transform(test)\n",
    "predictions.select(\"prediction\", \"indexedLabel\", \"features\").show(10)\n",
    "\n",
    "evaluator = MulticlassClassificationEvaluator(labelCol=\"indexedLabel\", predictionCol=\"prediction\", metricName=\"accuracy\")\n",
    "accuracy = evaluator.evaluate(predictions)\n",
    "print(\"Accuracy: \",accuracy)\n"
   ]
  },
  {
   "cell_type": "markdown",
   "id": "8a77ff6e",
   "metadata": {},
   "source": [
    "# Breast-Cancer: Decision Tree"
   ]
  },
  {
   "cell_type": "code",
   "execution_count": 6,
   "id": "bf34e354",
   "metadata": {},
   "outputs": [
    {
     "name": "stderr",
     "output_type": "stream",
     "text": [
      "22/02/19 08:47:19 WARN LibSVMFileFormat: 'numFeatures' option not specified, determining the number of features by going though the input. If you know the number in advance, please specify it via 'numFeatures' option to avoid the extra scan.\n"
     ]
    }
   ],
   "source": [
    "#https://www.csie.ntu.edu.tw/~cjlin/libsvmtools/datasets/binary/breast-cancer\n",
    "data_breast = spark.read.format(\"libsvm\").load(\"/Users/komlan/Project_M2/Algo_Big_Data/Data/breast-cancer\")\n",
    "\n",
    "labels = StringIndexer(inputCol=\"label\", outputCol=\"indexedLabel\").fit(data_breast)\n",
    "features = VectorIndexer(inputCol=\"features\", outputCol=\"indexedFeatures\", maxCategories=4).fit(data_breast)\n",
    "\n",
    "(train, test) = data_breast.randomSplit([0.8, 0.2])\n",
    "\n",
    "dt = DecisionTreeClassifier(maxDepth=7, impurity='gini', labelCol=\"indexedLabel\", featuresCol=\"indexedFeatures\")"
   ]
  },
  {
   "cell_type": "code",
   "execution_count": 7,
   "id": "9b2f90bd",
   "metadata": {},
   "outputs": [
    {
     "name": "stdout",
     "output_type": "stream",
     "text": [
      "+----------+------------+--------------------+\n",
      "|prediction|indexedLabel|            features|\n",
      "+----------+------------+--------------------+\n",
      "|       0.0|         0.0|(10,[0,1,2,3,4,5,...|\n",
      "|       1.0|         0.0|(10,[0,1,2,3,4,5,...|\n",
      "|       0.0|         0.0|(10,[0,1,2,3,4,5,...|\n",
      "|       0.0|         0.0|(10,[0,1,2,3,4,5,...|\n",
      "|       0.0|         0.0|(10,[0,1,2,3,4,5,...|\n",
      "|       0.0|         0.0|(10,[0,1,2,3,4,5,...|\n",
      "|       0.0|         0.0|(10,[0,1,2,3,4,5,...|\n",
      "|       0.0|         0.0|(10,[0,1,2,3,4,5,...|\n",
      "|       0.0|         0.0|(10,[0,1,2,3,4,5,...|\n",
      "|       1.0|         0.0|(10,[0,1,2,3,4,5,...|\n",
      "+----------+------------+--------------------+\n",
      "only showing top 10 rows\n",
      "\n",
      "Accuracy:  0.9302325581395349\n"
     ]
    }
   ],
   "source": [
    "pipeline = Pipeline(stages=[labels, features, dt])\n",
    "model = pipeline.fit(train)\n",
    "\n",
    "predictions = model.transform(test)\n",
    "predictions.select(\"prediction\", \"indexedLabel\", \"features\").show(10)\n",
    "\n",
    "evaluator = MulticlassClassificationEvaluator(labelCol=\"indexedLabel\", predictionCol=\"prediction\", metricName=\"accuracy\")\n",
    "accuracy = evaluator.evaluate(predictions)\n",
    "print(\"Accuracy: \",accuracy)\n"
   ]
  },
  {
   "cell_type": "markdown",
   "id": "d6e55af7",
   "metadata": {},
   "source": [
    "#  Libsvm: Random forest"
   ]
  },
  {
   "cell_type": "code",
   "execution_count": 9,
   "id": "db2a4bac",
   "metadata": {},
   "outputs": [
    {
     "name": "stdout",
     "output_type": "stream",
     "text": [
      "+----------+------------+--------------------+\n",
      "|prediction|indexedLabel|            features|\n",
      "+----------+------------+--------------------+\n",
      "|       1.0|         1.0|(692,[121,122,123...|\n",
      "|       1.0|         1.0|(692,[123,124,125...|\n",
      "|       1.0|         1.0|(692,[124,125,126...|\n",
      "|       1.0|         1.0|(692,[125,126,127...|\n",
      "|       1.0|         1.0|(692,[127,128,129...|\n",
      "|       1.0|         1.0|(692,[152,153,154...|\n",
      "|       1.0|         1.0|(692,[152,153,154...|\n",
      "|       1.0|         1.0|(692,[155,156,180...|\n",
      "|       0.0|         0.0|(692,[124,125,126...|\n",
      "|       0.0|         0.0|(692,[125,126,153...|\n",
      "+----------+------------+--------------------+\n",
      "only showing top 10 rows\n",
      "\n",
      "Accuracy:  1.0\n"
     ]
    }
   ],
   "source": [
    "labelsInd = StringIndexer(inputCol=\"label\", outputCol=\"indexedLabel\").fit(data_libsvm)\n",
    "featuresInd = VectorIndexer(inputCol=\"features\", outputCol=\"indexedFeatures\", maxCategories=4).fit(data_libsvm)\n",
    "\n",
    "(train, test) = data_libsvm.randomSplit([0.8, 0.2])\n",
    "rf = RandomForestClassifier(impurity='gini', numTrees=3, labelCol=\"indexedLabel\", featuresCol=\"indexedFeatures\")\n",
    "\n",
    "labelConverter = IndexToString(inputCol=\"prediction\", outputCol=\"predictedLabel\",labels=labelsInd.labels)\n",
    "\n",
    "pipeline = Pipeline(stages=[labelsInd, featuresInd, rf, labelConverter])\n",
    "model = pipeline.fit(train)\n",
    "predictions = model.transform(test)\n",
    "\n",
    "predictions.select(\"prediction\", \"indexedLabel\", \"features\").show(10)\n",
    "\n",
    "evaluator = MulticlassClassificationEvaluator(labelCol=\"indexedLabel\", predictionCol=\"prediction\", metricName=\"accuracy\")\n",
    "accuracy = evaluator.evaluate(predictions)\n",
    "print(\"Accuracy: \",accuracy)"
   ]
  },
  {
   "cell_type": "markdown",
   "id": "abf900b6",
   "metadata": {},
   "source": [
    "# Covtype: Random Forest"
   ]
  },
  {
   "cell_type": "code",
   "execution_count": 10,
   "id": "23b0c851",
   "metadata": {},
   "outputs": [
    {
     "name": "stderr",
     "output_type": "stream",
     "text": [
      "22/02/19 08:48:21 WARN LibSVMFileFormat: 'numFeatures' option not specified, determining the number of features by going though the input. If you know the number in advance, please specify it via 'numFeatures' option to avoid the extra scan.\n",
      "                                                                                \r"
     ]
    },
    {
     "name": "stdout",
     "output_type": "stream",
     "text": [
      "+----------+------------+--------------------+\n",
      "|prediction|indexedLabel|            features|\n",
      "+----------+------------+--------------------+\n",
      "|       1.0|         0.0|(54,[0,1,2,3,4,5,...|\n",
      "|       1.0|         0.0|(54,[0,1,2,3,4,5,...|\n",
      "|       1.0|         0.0|(54,[0,1,2,3,4,5,...|\n",
      "|       1.0|         0.0|(54,[0,1,2,3,4,5,...|\n",
      "|       1.0|         0.0|(54,[0,1,2,3,4,5,...|\n",
      "|       1.0|         0.0|(54,[0,1,2,3,4,5,...|\n",
      "|       1.0|         0.0|(54,[0,1,2,3,4,5,...|\n",
      "|       1.0|         0.0|(54,[0,1,2,3,4,5,...|\n",
      "|       1.0|         0.0|(54,[0,1,2,3,4,5,...|\n",
      "|       1.0|         0.0|(54,[0,1,2,3,4,5,...|\n",
      "+----------+------------+--------------------+\n",
      "only showing top 10 rows\n",
      "\n"
     ]
    },
    {
     "name": "stderr",
     "output_type": "stream",
     "text": [
      "[Stage 80:==============>                                           (1 + 3) / 4]\r"
     ]
    },
    {
     "name": "stdout",
     "output_type": "stream",
     "text": [
      "Accuracy:  0.7341955500702801\n"
     ]
    },
    {
     "name": "stderr",
     "output_type": "stream",
     "text": [
      "\r",
      "                                                                                \r"
     ]
    }
   ],
   "source": [
    "data_covtype = spark.read.format(\"libsvm\").load(\"/Users/komlan/Project_M2/Algo_Big_Data/Data/covtype.libsvm.binary\")\n",
    "\n",
    "labelsInd = StringIndexer(inputCol=\"label\", outputCol=\"indexedLabel\").fit(data_covtype)\n",
    "featuresInd = VectorIndexer(inputCol=\"features\", outputCol=\"indexedFeatures\", maxCategories=4).fit(data_covtype)\n",
    "\n",
    "(train, test) = data_covtype.randomSplit([0.8, 0.2])\n",
    "rf = RandomForestClassifier(impurity='gini', numTrees=5, labelCol=\"indexedLabel\", featuresCol=\"indexedFeatures\")\n",
    "\n",
    "labelConverter = IndexToString(inputCol=\"prediction\", outputCol=\"predictedLabel\",labels=labelsInd.labels)\n",
    "\n",
    "pipeline = Pipeline(stages=[labelsInd, featuresInd, rf, labelConverter])\n",
    "model = pipeline.fit(train)\n",
    "predictions = model.transform(test)\n",
    "\n",
    "predictions.select(\"prediction\", \"indexedLabel\", \"features\").show(10)\n",
    "\n",
    "evaluator = MulticlassClassificationEvaluator(labelCol=\"indexedLabel\", predictionCol=\"prediction\", metricName=\"accuracy\")\n",
    "accuracy = evaluator.evaluate(predictions)\n",
    "print(\"Accuracy: \",accuracy)"
   ]
  },
  {
   "cell_type": "markdown",
   "id": "27fb9f26",
   "metadata": {},
   "source": [
    "# RED Wine: Random Forest"
   ]
  },
  {
   "cell_type": "code",
   "execution_count": 11,
   "id": "8116052f",
   "metadata": {},
   "outputs": [
    {
     "name": "stdout",
     "output_type": "stream",
     "text": [
      "+--------------------+-----+\n",
      "|            features|label|\n",
      "+--------------------+-----+\n",
      "|[7.4,0.7,0.0,1.9,...|    1|\n",
      "|[7.8,0.88,0.0,2.6...|    1|\n",
      "|[7.8,0.76,0.04,2....|    1|\n",
      "|[11.2,0.28,0.56,1...|    1|\n",
      "|[7.4,0.7,0.0,1.9,...|    1|\n",
      "|[7.4,0.66,0.0,1.8...|    1|\n",
      "|[7.9,0.6,0.06,1.6...|    1|\n",
      "|[7.3,0.65,0.0,1.2...|    1|\n",
      "|[7.8,0.58,0.02,2....|    1|\n",
      "|[7.5,0.5,0.36,6.1...|    1|\n",
      "+--------------------+-----+\n",
      "only showing top 10 rows\n",
      "\n"
     ]
    }
   ],
   "source": [
    "win_data = spark.read.csv(\"/Users/komlan/Project_M2/Algo_Big_Data/Data/winequality-red.csv\", header=True, sep=\";\")\n",
    "\n",
    "win_data = win_data.withColumn(\"label\", when((win_data.quality < 5), lit(0)).otherwise(lit(1)))\n",
    "features_columns = ['fixed acidity', 'volatile acidity', 'citric acid', 'residual sugar', 'chlorides',\n",
    "                    'free sulfur dioxide', 'total sulfur dioxide', 'density', 'pH', 'sulphates', 'alcohol']\n",
    "for column in features_columns:\n",
    "    win_data = win_data.withColumn(column, win_data[column].cast(DoubleType()))\n",
    "    \n",
    "va = VectorAssembler(inputCols = features_columns, outputCol='features')\n",
    "\n",
    "va_df = va.transform(win_data)\n",
    "va_df = va_df.select(['features', 'label'])\n",
    "va_df.show(10)"
   ]
  },
  {
   "cell_type": "code",
   "execution_count": 12,
   "id": "8bb2c114",
   "metadata": {},
   "outputs": [
    {
     "name": "stdout",
     "output_type": "stream",
     "text": [
      "+----------+------------+--------------------+\n",
      "|prediction|indexedLabel|            features|\n",
      "+----------+------------+--------------------+\n",
      "|       0.0|         0.0|[4.9,0.42,0.0,2.1...|\n",
      "|       1.0|         0.0|[5.0,1.04,0.24,1....|\n",
      "|       0.0|         0.0|[5.2,0.48,0.04,1....|\n",
      "|       0.0|         0.0|[5.3,0.47,0.11,2....|\n",
      "|       0.0|         0.0|[5.4,0.74,0.0,1.2...|\n",
      "|       0.0|         0.0|[5.4,0.835,0.08,1...|\n",
      "|       0.0|         0.0|[5.6,0.5,0.09,2.3...|\n",
      "|       0.0|         0.0|[5.6,0.54,0.04,1....|\n",
      "|       0.0|         1.0|[5.6,0.62,0.03,1....|\n",
      "|       0.0|         0.0|[5.6,0.915,0.0,2....|\n",
      "+----------+------------+--------------------+\n",
      "only showing top 10 rows\n",
      "\n",
      "Accuracy:  0.9446254071661238\n"
     ]
    }
   ],
   "source": [
    "labelsInd = StringIndexer(inputCol=\"label\", outputCol=\"indexedLabel\").fit(va_df)\n",
    "featuresInd = VectorIndexer(inputCol=\"features\", outputCol=\"indexedFeatures\", maxCategories=4).fit(va_df)\n",
    "\n",
    "(train, test) = va_df.randomSplit([0.8, 0.2])\n",
    "rf = RandomForestClassifier(impurity='gini', numTrees=5, labelCol=\"indexedLabel\", featuresCol=\"indexedFeatures\")\n",
    "\n",
    "labelConverter = IndexToString(inputCol=\"prediction\", outputCol=\"predictedLabel\",labels=labelsInd.labels)\n",
    "\n",
    "pipeline = Pipeline(stages=[labelsInd, featuresInd, rf, labelConverter])\n",
    "model = pipeline.fit(train)\n",
    "predictions = model.transform(test)\n",
    "\n",
    "predictions.select(\"prediction\", \"indexedLabel\", \"features\").show(10)\n",
    "\n",
    "evaluator = MulticlassClassificationEvaluator(labelCol=\"indexedLabel\", predictionCol=\"prediction\", metricName=\"accuracy\")\n",
    "accuracy = evaluator.evaluate(predictions)\n",
    "print(\"Accuracy: \",accuracy)"
   ]
  },
  {
   "cell_type": "code",
   "execution_count": 13,
   "id": "3659328a",
   "metadata": {},
   "outputs": [
    {
     "data": {
      "image/png": "[encoded data removed]",
      "text/plain": [
       "<Figure size 432x288 with 2 Axes>"
      ]
     },
     "metadata": {
      "needs_background": "light"
     },
     "output_type": "display_data"
    }
   ],
   "source": [
    "def plot_confusion_matrix(cm, classes=None, title=None):\n",
    "    if classes is not None:\n",
    "        sns.heatmap(cm, xticklabels=classes, yticklabels=classes, vmin=0, vmax=1, annot=True, annot_kws={'size':40})\n",
    "    else:\n",
    "        sns.heatmap(cm, vmin=0, vmax=1)\n",
    "    plt.title(title)\n",
    "    plt.xlabel(\"Predicted Label\")\n",
    "    plt.ylabel(\"True Label\")\n",
    "    \n",
    "y_pred = predictions.select(\"prediction\").collect()\n",
    "y_orig = predictions.select(\"indexedLabel\").collect()\n",
    "\n",
    "cm = confusion_matrix(y_orig, y_pred)\n",
    "\n",
    "cm_norm = cm/cm.sum(axis=1)[:, np.newaxis]\n",
    "classes = np.unique(y_orig)\n",
    "plot_confusion_matrix(cm_norm, classes, title=\"Confusion Matrix for Build Model\")"
   ]
  },
  {
   "cell_type": "markdown",
   "id": "30aa8211",
   "metadata": {},
   "source": [
    "# Lpsa Data: Regression Linéaire"
   ]
  },
  {
   "cell_type": "code",
   "execution_count": 17,
   "id": "9f2072fd",
   "metadata": {},
   "outputs": [
    {
     "data": {
      "text/plain": [
       "[LabeledPoint(-0.4307829, [-1.63735562648104,-2.00621178480549,-1.86242597251066,-1.02470580167082,-0.522940888712441,-0.863171185425945,-1.04215728919298,-0.864466507337306]),\n",
       " LabeledPoint(-0.1625189, [-1.98898046126935,-0.722008756122123,-0.787896192088153,-1.02470580167082,-0.522940888712441,-0.863171185425945,-1.04215728919298,-0.864466507337306]),\n",
       " LabeledPoint(-0.1625189, [-1.57881887548545,-2.1887840293994,1.36116336875686,-1.02470580167082,-0.522940888712441,-0.863171185425945,0.342627053981254,-0.155348103855541]),\n",
       " LabeledPoint(-0.1625189, [-2.16691708463163,-0.807993896938655,-0.787896192088153,-1.02470580167082,-0.522940888712441,-0.863171185425945,-1.04215728919298,-0.864466507337306]),\n",
       " LabeledPoint(0.3715636, [-0.507874475300631,-0.458834049396776,-0.250631301876899,-1.02470580167082,-0.522940888712441,-0.863171185425945,-1.04215728919298,-0.864466507337306])]"
      ]
     },
     "execution_count": 17,
     "metadata": {},
     "output_type": "execute_result"
    }
   ],
   "source": [
    "data_lpsa = sc.textFile(\"/Users/komlan/Project_M2/Algo_Big_Data/Data/lpsa.data\")\n",
    "# Load and parse the data\n",
    "def parsePoint(line):\n",
    "    values = [float(x) for x in line.replace(',', ' ').split(' ')]\n",
    "    return LabeledPoint(values[0], values[1:])\n",
    "\n",
    "parsedData = data_lpsa.map(parsePoint)\n",
    "parsedData.collect()[:5]"
   ]
  },
  {
   "cell_type": "code",
   "execution_count": 19,
   "id": "030c03f9",
   "metadata": {},
   "outputs": [
    {
     "name": "stdout",
     "output_type": "stream",
     "text": [
      "MSE = 7.451032810102602\n",
      "RMSE = 2.729658002406639\n",
      "R-squared = -4.184999022218233\n",
      "MAE = 2.4797581969820053\n",
      "Explained variance = 6.013996410502294\n"
     ]
    },
    {
     "name": "stderr",
     "output_type": "stream",
     "text": [
      "\r",
      "[Stage 137:>                                                        (0 + 2) / 2]\r",
      "\r",
      "                                                                                \r"
     ]
    }
   ],
   "source": [
    "model = LinearRegressionWithSGD.train(parsedData, iterations=100, step=0.00000001)\n",
    "valuesAndPreds = parsedData.map(lambda p: (float(model.predict(p.features)), p.label))\n",
    "\n",
    "#Metrics\n",
    "metrics = RegressionMetrics(valuesAndPreds)\n",
    "# Errors\n",
    "print(\"MSE = %s\" % metrics.meanSquaredError)\n",
    "print(\"RMSE = %s\" % metrics.rootMeanSquaredError)\n",
    "print(\"R-squared = %s\" % metrics.r2)\n",
    "print(\"MAE = %s\" % metrics.meanAbsoluteError)\n",
    "print(\"Explained variance = %s\" % metrics.explainedVariance)"
   ]
  },
  {
   "cell_type": "markdown",
   "id": "e6accec3",
   "metadata": {},
   "source": [
    "# Fertility Data: Regression Linéaire"
   ]
  },
  {
   "cell_type": "code",
   "execution_count": 45,
   "id": "c69169c2",
   "metadata": {},
   "outputs": [
    {
     "name": "stdout",
     "output_type": "stream",
     "text": [
      "+--------------------+-----+\n",
      "|            features|label|\n",
      "+--------------------+-----+\n",
      "|[-0.33,0.69,0.0,1...|    0|\n",
      "|[-0.33,0.94,1.0,0...|    1|\n",
      "|[-0.33,0.5,1.0,0....|    0|\n",
      "|[-0.33,0.75,0.0,1...|    0|\n",
      "|[-0.33,0.67,1.0,1...|    1|\n",
      "|[-0.33,0.67,1.0,0...|    0|\n",
      "|[-0.33,0.67,0.0,0...|    0|\n",
      "|[-0.33,1.0,1.0,1....|    0|\n",
      "|[1.0,0.64,0.0,0.0...|    0|\n",
      "|[1.0,0.61,1.0,0.0...|    0|\n",
      "+--------------------+-----+\n",
      "only showing top 10 rows\n",
      "\n"
     ]
    }
   ],
   "source": [
    "from pyspark.ml.classification import LogisticRegression\n",
    "#https://archive.ics.uci.edu/ml/datasets/Fertility#\n",
    "data_fertility = spark.read.csv(\"/Users/komlan/Project_M2/Algo_Big_Data/Data/fertility_Diagnosis.txt\")\n",
    "num_columns = data_fertility.columns[:-1]\n",
    "for column in num_columns:\n",
    "    data_fertility = data_fertility.withColumn(column, data_fertility[column].cast(DoubleType()))\n",
    "data_fertility = data_fertility.withColumn(\"label\",when((data_fertility._c9 == \"N\"), lit(0)).otherwise(lit(1)))\n",
    "\n",
    "rows_fertility = VectorAssembler(inputCols = num_columns, outputCol = 'features')\n",
    "rows_fertility = assembler_raw.transform(data_fertility).select(['features','label'])\n",
    "rows_fertility.show(10)\n",
    "labels = StringIndexer(inputCol=\"label\", outputCol=\"indexedLabel\").fit(rows_fertility)\n",
    "features = VectorIndexer(inputCol=\"features\", outputCol=\"indexedFeatures\").fit(rows_fertility)"
   ]
  },
  {
   "cell_type": "code",
   "execution_count": 46,
   "id": "16f8d8db",
   "metadata": {},
   "outputs": [
    {
     "name": "stderr",
     "output_type": "stream",
     "text": [
      "22/02/20 01:01:16 WARN InstanceBuilder$NativeBLAS: Failed to load implementation from:dev.ludovic.netlib.blas.JNIBLAS\n",
      "22/02/20 01:01:17 WARN InstanceBuilder$NativeBLAS: Failed to load implementation from:dev.ludovic.netlib.blas.ForeignLinkerBLAS\n"
     ]
    },
    {
     "name": "stdout",
     "output_type": "stream",
     "text": [
      "Coefficients: \n",
      "1 X 9 CSRMatrix\n",
      "\n",
      "Intercept: [-1.9328380674879604]\n"
     ]
    },
    {
     "data": {
      "text/plain": [
       "<pyspark.ml.classification.BinaryLogisticRegressionTrainingSummary at 0x7fcedad97bb0>"
      ]
     },
     "execution_count": 46,
     "metadata": {},
     "output_type": "execute_result"
    }
   ],
   "source": [
    "(train, test) = rows_fertility.randomSplit([0.8, 0.2])\n",
    "lr = LogisticRegression(maxIter=100, regParam=0.3, elasticNetParam=0.8)\n",
    "\n",
    "# Fit the model\n",
    "lrModel = lr.fit(train)\n",
    "\n",
    "# Print the coefficients and intercept for multinomial logistic regression\n",
    "print(\"Coefficients: \\n\" + str(lrModel.coefficientMatrix))\n",
    "print(\"Intercept: \" + str(lrModel.interceptVector))\n",
    "\n",
    "trainingSummary = lrModel.summary\n",
    "trainingSummary"
   ]
  },
  {
   "cell_type": "code",
   "execution_count": null,
   "id": "d7898f39",
   "metadata": {},
   "outputs": [],
   "source": []
  }
 ],
 "metadata": {
  "kernelspec": {
   "display_name": "pythonEnv",
   "language": "python",
   "name": "pythonenv"
  },
  "language_info": {
   "codemirror_mode": {
    "name": "ipython",
    "version": 3
   },
   "file_extension": ".py",
   "mimetype": "text/x-python",
   "name": "python",
   "nbconvert_exporter": "python",
   "pygments_lexer": "ipython3",
   "version": "3.9.7"
  }
 },
 "nbformat": 4,
 "nbformat_minor": 5
}
