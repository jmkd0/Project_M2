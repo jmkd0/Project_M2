{
 "cells": [
  {
   "cell_type": "markdown",
   "id": "velvet-worth",
   "metadata": {},
   "source": [
    "# Python"
   ]
  },
  {
   "cell_type": "markdown",
   "id": "mexican-classification",
   "metadata": {},
   "source": [
    "1. Ecrire une fonction qui prend deux nombres entiers en paramètres. Cette fonction renvoie la somme de ces deux nombres si la somme est strictement inférieure à 100, sinon elle renvoie le produit de ces deux nombres."
   ]
  },
  {
   "cell_type": "code",
   "execution_count": 4,
   "id": "spiritual-married",
   "metadata": {},
   "outputs": [
    {
     "name": "stdout",
     "output_type": "stream",
     "text": [
      "400\n",
      "110\n"
     ]
    }
   ],
   "source": [
    "def prod_sum(a, b):\n",
    "    summ = a+b\n",
    "    if summ > 100.0:\n",
    "        return summ\n",
    "    else:\n",
    "        return a*b\n",
    "    \n",
    "print(prod_sum(10, 40))\n",
    "print(prod_sum(70, 40))"
   ]
  },
  {
   "cell_type": "markdown",
   "id": "sustainable-praise",
   "metadata": {},
   "source": [
    "2. Recopier la fonction écrite au-dessus et afficher un message si le type des arguments passés à la fonction n'est pas le bon."
   ]
  },
  {
   "cell_type": "code",
   "execution_count": 5,
   "id": "political-pressing",
   "metadata": {},
   "outputs": [
    {
     "name": "stdout",
     "output_type": "stream",
     "text": [
      "Nombre:  40.0  n'ets pas un int\n",
      "None\n",
      "110\n"
     ]
    }
   ],
   "source": [
    "def prod_sum(a, b):\n",
    "    if not isinstance(a, int):\n",
    "        print(\"Nombre: \", a,\" n'ets pas un int\")\n",
    "        return None\n",
    "    if not isinstance(b, int):\n",
    "        print(\"Nombre: \", b,\" n'ets pas un int\")\n",
    "        return None\n",
    "    summ = a+b\n",
    "    if summ > 100.0:\n",
    "        return summ\n",
    "    else:\n",
    "        return a*b\n",
    "    \n",
    "print(prod_sum(10, 40.0))\n",
    "print(prod_sum(70, 40))"
   ]
  },
  {
   "cell_type": "markdown",
   "id": "described-craps",
   "metadata": {},
   "source": [
    "3. Ecrire le code qui, basé sur ```range(10)```, affiche le contenu suivant:\n",
    "\n",
    "Nombre actuel 0, nombre précédent 0, somme des deux 0  \n",
    "Nombre actuel 1, nombre précédent 0, somme des deux 1  \n",
    "Nombre actuel 2, nombre précédent 1, somme des deux 3  \n",
    "...  \n",
    "Nombre actuel 9, nombre précédent 8, somme des deux 17"
   ]
  },
  {
   "cell_type": "code",
   "execution_count": 6,
   "id": "advance-congress",
   "metadata": {},
   "outputs": [
    {
     "name": "stdout",
     "output_type": "stream",
     "text": [
      "Nombre actuel  0 nombre précédent 0 somme des deux 0\n",
      "Nombre actuel  1 nombre précédent 0 somme des deux 1\n",
      "Nombre actuel  2 nombre précédent 1 somme des deux 3\n",
      "Nombre actuel  3 nombre précédent 2 somme des deux 5\n",
      "Nombre actuel  4 nombre précédent 3 somme des deux 7\n",
      "Nombre actuel  5 nombre précédent 4 somme des deux 9\n",
      "Nombre actuel  6 nombre précédent 5 somme des deux 11\n",
      "Nombre actuel  7 nombre précédent 6 somme des deux 13\n",
      "Nombre actuel  8 nombre précédent 7 somme des deux 15\n",
      "Nombre actuel  9 nombre précédent 8 somme des deux 17\n"
     ]
    }
   ],
   "source": [
    "for i in range(10):\n",
    "    prec = i-1 if i != 0 else 0\n",
    "    print(\"Nombre actuel \", i, \"nombre précédent\", prec, \"somme des deux\", i+prec)"
   ]
  },
  {
   "cell_type": "markdown",
   "id": "secondary-quest",
   "metadata": {},
   "source": [
    "4. Ecrire une fonction qui prend une chaîne de caractères en paramètre, et qui renvoie une lettre sur deux, uniquement les lettres aux index pairs.\n",
    "Par exemple, si la chaîne de caractères est \"bienvenue\", la fonction doit renvoyer: ```['b', 'e', 'v', 'n', 'e']```. Si possible, écrire cette fonction en utilisant une list-comprehension."
   ]
  },
  {
   "cell_type": "code",
   "execution_count": 8,
   "id": "regional-conclusion",
   "metadata": {},
   "outputs": [
    {
     "name": "stdout",
     "output_type": "stream",
     "text": [
      "['b', 'e', 'v', 'n', 'e']\n",
      "['c', 'm', 'r', 'h', 'n', 'i', 'n']\n"
     ]
    }
   ],
   "source": [
    "def odd_character(chain):\n",
    "    st = []\n",
    "    for i, el in enumerate(chain):\n",
    "        if i%2 == 0:\n",
    "            st.append(el)\n",
    "    return st\n",
    "print(odd_character(\"bienvenue\"))\n",
    "print(odd_character(\"comprehension\"))"
   ]
  },
  {
   "cell_type": "markdown",
   "id": "exact-indicator",
   "metadata": {},
   "source": [
    "5. Ecrire une fonction qui prend une liste de nombres entiers en paramètre, et qui renvoie une liste avec uniquement les nombres de la liste initiale qui sont divisibles par 5."
   ]
  },
  {
   "cell_type": "code",
   "execution_count": 10,
   "id": "musical-programming",
   "metadata": {},
   "outputs": [
    {
     "name": "stdout",
     "output_type": "stream",
     "text": [
      "[15, 50]\n"
     ]
    }
   ],
   "source": [
    "def divisible_par_5(liste):\n",
    "    li = []\n",
    "    for el in liste:\n",
    "        if el % 5 == 0:\n",
    "            li.append(el)\n",
    "    return li\n",
    "print(divisible_par_5([23,15,50,14]))"
   ]
  },
  {
   "cell_type": "markdown",
   "id": "tired-sender",
   "metadata": {},
   "source": [
    "6. Ecrire le code qui, basé sur ```range(5)```, affiche le contenu suivant : \n",
    "\n",
    "```\n",
    "1  \n",
    "2 2   \n",
    "3 3 3   \n",
    "4 4 4 4   \n",
    "5 5 5 5 5\n",
    "```"
   ]
  },
  {
   "cell_type": "code",
   "execution_count": 13,
   "id": "necessary-salmon",
   "metadata": {},
   "outputs": [
    {
     "name": "stdout",
     "output_type": "stream",
     "text": [
      "1 \n",
      "2 2 \n",
      "3 3 3 \n",
      "4 4 4 4 \n",
      "5 5 5 5 5 \n"
     ]
    }
   ],
   "source": [
    "for i in range(1, 5+1):\n",
    "    line = \"\"\n",
    "    for j in range(i):\n",
    "        line += str(i)+\" \"\n",
    "    print(line)"
   ]
  },
  {
   "cell_type": "markdown",
   "id": "nuclear-pregnancy",
   "metadata": {},
   "source": [
    "7. Ecrire une fonction qui prend un nombre entier en paramètre, et qui renvoie True si le nombre est un palindrome et False sinon.  \n",
    "Un palindrome est un nombre qui est identique lorsque on le change de sens (le dernier chiffre devient le premier, l'avant dernier le second ..., le premier le dernier). Par exemple 1221 ou 13431."
   ]
  },
  {
   "cell_type": "code",
   "execution_count": 20,
   "id": "developing-coaching",
   "metadata": {},
   "outputs": [
    {
     "name": "stdout",
     "output_type": "stream",
     "text": [
      "True\n",
      "True\n",
      "False\n"
     ]
    }
   ],
   "source": [
    "def palindrome(string):\n",
    "    length = len(string)\n",
    "    for i in range(length//2):\n",
    "        while string[i] != string[length-i-1]:\n",
    "            return False\n",
    "        return True\n",
    "print(palindrome(\"13431\"))\n",
    "print(palindrome(\"22022022\"))\n",
    "print(palindrome(\"bienvenue\"))"
   ]
  },
  {
   "cell_type": "markdown",
   "id": "correct-effect",
   "metadata": {},
   "source": [
    "8. Ecrire une fonction qui prend deux listes de nombres entiers en paramètres et qui renvoie une seule liste comprenant les nombres impairs de la première liste et les nombres pairs de la seconde."
   ]
  },
  {
   "cell_type": "code",
   "execution_count": 21,
   "id": "polyphonic-concentrate",
   "metadata": {},
   "outputs": [
    {
     "data": {
      "text/plain": [
       "[11, 43, 2, 78, 56]"
      ]
     },
     "execution_count": 21,
     "metadata": {},
     "output_type": "execute_result"
    }
   ],
   "source": [
    "def list_pair_impair(list1, list2):\n",
    "    new_list = []\n",
    "    for el in list1:\n",
    "        if el % 2 != 0:\n",
    "            new_list.append(el)\n",
    "    for el in list2:\n",
    "        if el % 2 == 0:\n",
    "            new_list.append(el)\n",
    "    return new_list\n",
    "list_pair_impair([10, 11, 43, 98], [2, 78, 56, 9])"
   ]
  },
  {
   "cell_type": "markdown",
   "id": "bound-russell",
   "metadata": {},
   "source": [
    "9. Ecrire le code qui, basé sur ```range(10)``` affiche le contenu suivant:\n",
    "\n",
    "```\n",
    "000\n",
    "001\n",
    "002\n",
    "003\n",
    "...\n",
    "010\n",
    "```"
   ]
  },
  {
   "cell_type": "code",
   "execution_count": 24,
   "id": "historical-miracle",
   "metadata": {},
   "outputs": [
    {
     "name": "stdout",
     "output_type": "stream",
     "text": [
      "000\n",
      "001\n",
      "002\n",
      "003\n",
      "004\n",
      "005\n",
      "006\n",
      "007\n",
      "008\n",
      "009\n",
      "010\n"
     ]
    }
   ],
   "source": [
    "for i in range(10+1):\n",
    "    print(str('%0*d' % (3, i)))"
   ]
  },
  {
   "cell_type": "markdown",
   "id": "blind-suite",
   "metadata": {},
   "source": [
    "10. Ecrire une fonction qui prend en paramètre une liste de valeurs décimaleset qui renvoie une liste avec ces mêmes valeurs avec avec uniquement deux décimales. Si possible, passer par une liste-comprehension.\n",
    "\n",
    "Pour générer la liste de valeurs vous utiliserez\n",
    "\n",
    "```python\n",
    "import random\n",
    "mes_valeurs = [random.random() * 100 for _ in range(10)]\n",
    "```"
   ]
  },
  {
   "cell_type": "code",
   "execution_count": 31,
   "id": "figured-syndrome",
   "metadata": {},
   "outputs": [
    {
     "name": "stdout",
     "output_type": "stream",
     "text": [
      "[27.627868690496683, 64.62160617597567, 52.83077368444603, 14.05450415086662, 60.791966191775714, 1.439125433614874, 22.829686132489925, 1.0084339609481408, 6.663677119833855, 13.783052814735541]\n",
      "\n",
      "\n",
      "['27.63', '64.62', '52.83', '14.05', '60.79', '1.44', '22.83', '1.01', '6.66', '13.78']\n"
     ]
    }
   ],
   "source": [
    "import random\n",
    "mes_valeurs = [random.random() * 100 for _ in range(10)]\n",
    "print(mes_valeurs)\n",
    "print(\"\\n\")\n",
    "mes_valeurs = [format(el, \".2f\") for el in mes_valeurs]\n",
    "print(mes_valeurs)"
   ]
  },
  {
   "cell_type": "code",
   "execution_count": null,
   "id": "2a8354c4",
   "metadata": {},
   "outputs": [],
   "source": []
  }
 ],
 "metadata": {
  "kernelspec": {
   "display_name": "Python 3 (ipykernel)",
   "language": "python",
   "name": "python3"
  },
  "language_info": {
   "codemirror_mode": {
    "name": "ipython",
    "version": 3
   },
   "file_extension": ".py",
   "mimetype": "text/x-python",
   "name": "python",
   "nbconvert_exporter": "python",
   "pygments_lexer": "ipython3",
   "version": "3.9.7"
  }
 },
 "nbformat": 4,
 "nbformat_minor": 5
}
