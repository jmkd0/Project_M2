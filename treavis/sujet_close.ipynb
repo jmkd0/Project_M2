{
 "cells": [
  {
   "cell_type": "markdown",
   "metadata": {},
   "source": [
    "# Python - Science des données"
   ]
  },
  {
   "cell_type": "code",
   "execution_count": 1,
   "metadata": {},
   "outputs": [],
   "source": [
    "import pandas as pd\n",
    "import matplotlib.pyplot as plt\n",
    "import seaborn as sns\n",
    "import numpy as np"
   ]
  },
  {
   "cell_type": "code",
   "execution_count": 2,
   "metadata": {},
   "outputs": [],
   "source": [
    "sns.set(style=\"darkgrid\")"
   ]
  },
  {
   "cell_type": "markdown",
   "metadata": {},
   "source": [
    "<hr style=\"background-color:black; height: 2px;\">"
   ]
  },
  {
   "cell_type": "markdown",
   "metadata": {},
   "source": [
    "## 1. Chargement et découverte du jeu de données"
   ]
  },
  {
   "cell_type": "markdown",
   "metadata": {},
   "source": [
    "1. Chargement du dataset"
   ]
  },
  {
   "cell_type": "code",
   "execution_count": 3,
   "metadata": {},
   "outputs": [
    {
     "data": {
      "text/html": [
       "<div>\n",
       "<style scoped>\n",
       "    .dataframe tbody tr th:only-of-type {\n",
       "        vertical-align: middle;\n",
       "    }\n",
       "\n",
       "    .dataframe tbody tr th {\n",
       "        vertical-align: top;\n",
       "    }\n",
       "\n",
       "    .dataframe thead th {\n",
       "        text-align: right;\n",
       "    }\n",
       "</style>\n",
       "<table border=\"1\" class=\"dataframe\">\n",
       "  <thead>\n",
       "    <tr style=\"text-align: right;\">\n",
       "      <th></th>\n",
       "      <th>participant</th>\n",
       "      <th>annee_naissance</th>\n",
       "      <th>genre</th>\n",
       "      <th>traitement</th>\n",
       "      <th>periode</th>\n",
       "      <th>revenu</th>\n",
       "      <th>declaration</th>\n",
       "      <th>declaration_pourcentage</th>\n",
       "      <th>taxe</th>\n",
       "      <th>fraude</th>\n",
       "      <th>audit_tirage</th>\n",
       "      <th>audit</th>\n",
       "      <th>penalite</th>\n",
       "      <th>gain</th>\n",
       "    </tr>\n",
       "  </thead>\n",
       "  <tbody>\n",
       "    <tr>\n",
       "      <th>0</th>\n",
       "      <td>ph5uo6jj</td>\n",
       "      <td>1997.0</td>\n",
       "      <td>Femme</td>\n",
       "      <td>Sanction</td>\n",
       "      <td>1</td>\n",
       "      <td>59</td>\n",
       "      <td>50.0</td>\n",
       "      <td>84.75</td>\n",
       "      <td>20.0</td>\n",
       "      <td>9.0</td>\n",
       "      <td>35.0</td>\n",
       "      <td>1.0</td>\n",
       "      <td>4.5</td>\n",
       "      <td>34.5</td>\n",
       "    </tr>\n",
       "    <tr>\n",
       "      <th>1</th>\n",
       "      <td>ph5uo6jj</td>\n",
       "      <td>1997.0</td>\n",
       "      <td>Femme</td>\n",
       "      <td>Sanction</td>\n",
       "      <td>2</td>\n",
       "      <td>97</td>\n",
       "      <td>90.0</td>\n",
       "      <td>92.78</td>\n",
       "      <td>36.0</td>\n",
       "      <td>7.0</td>\n",
       "      <td>7.0</td>\n",
       "      <td>1.0</td>\n",
       "      <td>3.5</td>\n",
       "      <td>57.5</td>\n",
       "    </tr>\n",
       "    <tr>\n",
       "      <th>2</th>\n",
       "      <td>ph5uo6jj</td>\n",
       "      <td>1997.0</td>\n",
       "      <td>Femme</td>\n",
       "      <td>Sanction</td>\n",
       "      <td>3</td>\n",
       "      <td>87</td>\n",
       "      <td>87.0</td>\n",
       "      <td>100.00</td>\n",
       "      <td>34.8</td>\n",
       "      <td>0.0</td>\n",
       "      <td>99.0</td>\n",
       "      <td>0.0</td>\n",
       "      <td>0.0</td>\n",
       "      <td>52.2</td>\n",
       "    </tr>\n",
       "    <tr>\n",
       "      <th>3</th>\n",
       "      <td>ph5uo6jj</td>\n",
       "      <td>1997.0</td>\n",
       "      <td>Femme</td>\n",
       "      <td>Sanction</td>\n",
       "      <td>4</td>\n",
       "      <td>60</td>\n",
       "      <td>55.0</td>\n",
       "      <td>91.67</td>\n",
       "      <td>22.0</td>\n",
       "      <td>5.0</td>\n",
       "      <td>16.0</td>\n",
       "      <td>1.0</td>\n",
       "      <td>2.5</td>\n",
       "      <td>35.5</td>\n",
       "    </tr>\n",
       "    <tr>\n",
       "      <th>4</th>\n",
       "      <td>ph5uo6jj</td>\n",
       "      <td>1997.0</td>\n",
       "      <td>Femme</td>\n",
       "      <td>Sanction</td>\n",
       "      <td>5</td>\n",
       "      <td>20</td>\n",
       "      <td>20.0</td>\n",
       "      <td>100.00</td>\n",
       "      <td>8.0</td>\n",
       "      <td>0.0</td>\n",
       "      <td>87.0</td>\n",
       "      <td>0.0</td>\n",
       "      <td>0.0</td>\n",
       "      <td>12.0</td>\n",
       "    </tr>\n",
       "    <tr>\n",
       "      <th>...</th>\n",
       "      <td>...</td>\n",
       "      <td>...</td>\n",
       "      <td>...</td>\n",
       "      <td>...</td>\n",
       "      <td>...</td>\n",
       "      <td>...</td>\n",
       "      <td>...</td>\n",
       "      <td>...</td>\n",
       "      <td>...</td>\n",
       "      <td>...</td>\n",
       "      <td>...</td>\n",
       "      <td>...</td>\n",
       "      <td>...</td>\n",
       "      <td>...</td>\n",
       "    </tr>\n",
       "    <tr>\n",
       "      <th>1750</th>\n",
       "      <td>d57gjmot</td>\n",
       "      <td>1979.0</td>\n",
       "      <td>Femme</td>\n",
       "      <td>Baseline</td>\n",
       "      <td>11</td>\n",
       "      <td>47</td>\n",
       "      <td>25.0</td>\n",
       "      <td>53.19</td>\n",
       "      <td>10.0</td>\n",
       "      <td>22.0</td>\n",
       "      <td>53.0</td>\n",
       "      <td>0.0</td>\n",
       "      <td>0.0</td>\n",
       "      <td>37.0</td>\n",
       "    </tr>\n",
       "    <tr>\n",
       "      <th>1751</th>\n",
       "      <td>d57gjmot</td>\n",
       "      <td>1979.0</td>\n",
       "      <td>Femme</td>\n",
       "      <td>Baseline</td>\n",
       "      <td>12</td>\n",
       "      <td>68</td>\n",
       "      <td>35.0</td>\n",
       "      <td>51.47</td>\n",
       "      <td>14.0</td>\n",
       "      <td>33.0</td>\n",
       "      <td>49.0</td>\n",
       "      <td>0.0</td>\n",
       "      <td>0.0</td>\n",
       "      <td>54.0</td>\n",
       "    </tr>\n",
       "    <tr>\n",
       "      <th>1752</th>\n",
       "      <td>d57gjmot</td>\n",
       "      <td>1979.0</td>\n",
       "      <td>Femme</td>\n",
       "      <td>Baseline</td>\n",
       "      <td>13</td>\n",
       "      <td>84</td>\n",
       "      <td>55.0</td>\n",
       "      <td>65.48</td>\n",
       "      <td>22.0</td>\n",
       "      <td>29.0</td>\n",
       "      <td>99.0</td>\n",
       "      <td>0.0</td>\n",
       "      <td>0.0</td>\n",
       "      <td>62.0</td>\n",
       "    </tr>\n",
       "    <tr>\n",
       "      <th>1753</th>\n",
       "      <td>d57gjmot</td>\n",
       "      <td>1979.0</td>\n",
       "      <td>Femme</td>\n",
       "      <td>Baseline</td>\n",
       "      <td>14</td>\n",
       "      <td>39</td>\n",
       "      <td>25.0</td>\n",
       "      <td>64.10</td>\n",
       "      <td>10.0</td>\n",
       "      <td>14.0</td>\n",
       "      <td>84.0</td>\n",
       "      <td>0.0</td>\n",
       "      <td>0.0</td>\n",
       "      <td>29.0</td>\n",
       "    </tr>\n",
       "    <tr>\n",
       "      <th>1754</th>\n",
       "      <td>d57gjmot</td>\n",
       "      <td>1979.0</td>\n",
       "      <td>Femme</td>\n",
       "      <td>Baseline</td>\n",
       "      <td>15</td>\n",
       "      <td>88</td>\n",
       "      <td>50.0</td>\n",
       "      <td>56.82</td>\n",
       "      <td>20.0</td>\n",
       "      <td>38.0</td>\n",
       "      <td>79.0</td>\n",
       "      <td>0.0</td>\n",
       "      <td>0.0</td>\n",
       "      <td>68.0</td>\n",
       "    </tr>\n",
       "  </tbody>\n",
       "</table>\n",
       "<p>1755 rows × 14 columns</p>\n",
       "</div>"
      ],
      "text/plain": [
       "     participant  annee_naissance  genre traitement  periode  revenu  \\\n",
       "0       ph5uo6jj           1997.0  Femme   Sanction        1      59   \n",
       "1       ph5uo6jj           1997.0  Femme   Sanction        2      97   \n",
       "2       ph5uo6jj           1997.0  Femme   Sanction        3      87   \n",
       "3       ph5uo6jj           1997.0  Femme   Sanction        4      60   \n",
       "4       ph5uo6jj           1997.0  Femme   Sanction        5      20   \n",
       "...          ...              ...    ...        ...      ...     ...   \n",
       "1750    d57gjmot           1979.0  Femme   Baseline       11      47   \n",
       "1751    d57gjmot           1979.0  Femme   Baseline       12      68   \n",
       "1752    d57gjmot           1979.0  Femme   Baseline       13      84   \n",
       "1753    d57gjmot           1979.0  Femme   Baseline       14      39   \n",
       "1754    d57gjmot           1979.0  Femme   Baseline       15      88   \n",
       "\n",
       "      declaration  declaration_pourcentage  taxe  fraude  audit_tirage  audit  \\\n",
       "0            50.0                    84.75  20.0     9.0          35.0    1.0   \n",
       "1            90.0                    92.78  36.0     7.0           7.0    1.0   \n",
       "2            87.0                   100.00  34.8     0.0          99.0    0.0   \n",
       "3            55.0                    91.67  22.0     5.0          16.0    1.0   \n",
       "4            20.0                   100.00   8.0     0.0          87.0    0.0   \n",
       "...           ...                      ...   ...     ...           ...    ...   \n",
       "1750         25.0                    53.19  10.0    22.0          53.0    0.0   \n",
       "1751         35.0                    51.47  14.0    33.0          49.0    0.0   \n",
       "1752         55.0                    65.48  22.0    29.0          99.0    0.0   \n",
       "1753         25.0                    64.10  10.0    14.0          84.0    0.0   \n",
       "1754         50.0                    56.82  20.0    38.0          79.0    0.0   \n",
       "\n",
       "      penalite  gain  \n",
       "0          4.5  34.5  \n",
       "1          3.5  57.5  \n",
       "2          0.0  52.2  \n",
       "3          2.5  35.5  \n",
       "4          0.0  12.0  \n",
       "...        ...   ...  \n",
       "1750       0.0  37.0  \n",
       "1751       0.0  54.0  \n",
       "1752       0.0  62.0  \n",
       "1753       0.0  29.0  \n",
       "1754       0.0  68.0  \n",
       "\n",
       "[1755 rows x 14 columns]"
      ]
     },
     "execution_count": 3,
     "metadata": {},
     "output_type": "execute_result"
    }
   ],
   "source": [
    "data = pd.read_csv(\"data.csv\")\n",
    "data"
   ]
  },
  {
   "cell_type": "markdown",
   "metadata": {},
   "source": [
    "2. Affichage du nombre de lignes et du nombre de colonnes"
   ]
  },
  {
   "cell_type": "code",
   "execution_count": 4,
   "metadata": {},
   "outputs": [
    {
     "data": {
      "text/plain": [
       "(1755, 14)"
      ]
     },
     "execution_count": 4,
     "metadata": {},
     "output_type": "execute_result"
    }
   ],
   "source": [
    "data.shape"
   ]
  },
  {
   "cell_type": "markdown",
   "metadata": {},
   "source": [
    "3. Affichage des noms des colonnes"
   ]
  },
  {
   "cell_type": "code",
   "execution_count": 5,
   "metadata": {},
   "outputs": [
    {
     "data": {
      "text/plain": [
       "Index(['participant', 'annee_naissance', 'genre', 'traitement', 'periode',\n",
       "       'revenu', 'declaration', 'declaration_pourcentage', 'taxe', 'fraude',\n",
       "       'audit_tirage', 'audit', 'penalite', 'gain'],\n",
       "      dtype='object')"
      ]
     },
     "execution_count": 5,
     "metadata": {},
     "output_type": "execute_result"
    }
   ],
   "source": [
    "data.columns"
   ]
  },
  {
   "cell_type": "markdown",
   "metadata": {},
   "source": [
    "4. Affichage des types des séries"
   ]
  },
  {
   "cell_type": "code",
   "execution_count": 6,
   "metadata": {},
   "outputs": [
    {
     "name": "stdout",
     "output_type": "stream",
     "text": [
      "<class 'pandas.core.frame.DataFrame'>\n",
      "RangeIndex: 1755 entries, 0 to 1754\n",
      "Data columns (total 14 columns):\n",
      " #   Column                   Non-Null Count  Dtype  \n",
      "---  ------                   --------------  -----  \n",
      " 0   participant              1755 non-null   object \n",
      " 1   annee_naissance          1755 non-null   float64\n",
      " 2   genre                    1755 non-null   object \n",
      " 3   traitement               1755 non-null   object \n",
      " 4   periode                  1755 non-null   int64  \n",
      " 5   revenu                   1755 non-null   int64  \n",
      " 6   declaration              1755 non-null   float64\n",
      " 7   declaration_pourcentage  1755 non-null   float64\n",
      " 8   taxe                     1755 non-null   float64\n",
      " 9   fraude                   1755 non-null   float64\n",
      " 10  audit_tirage             1755 non-null   float64\n",
      " 11  audit                    1755 non-null   float64\n",
      " 12  penalite                 1755 non-null   float64\n",
      " 13  gain                     1755 non-null   float64\n",
      "dtypes: float64(9), int64(2), object(3)\n",
      "memory usage: 192.1+ KB\n"
     ]
    }
   ],
   "source": [
    "data.info()"
   ]
  },
  {
   "cell_type": "markdown",
   "metadata": {},
   "source": [
    "5. Afficher la description statistique des séries"
   ]
  },
  {
   "cell_type": "code",
   "execution_count": 7,
   "metadata": {},
   "outputs": [
    {
     "data": {
      "text/html": [
       "<div>\n",
       "<style scoped>\n",
       "    .dataframe tbody tr th:only-of-type {\n",
       "        vertical-align: middle;\n",
       "    }\n",
       "\n",
       "    .dataframe tbody tr th {\n",
       "        vertical-align: top;\n",
       "    }\n",
       "\n",
       "    .dataframe thead th {\n",
       "        text-align: right;\n",
       "    }\n",
       "</style>\n",
       "<table border=\"1\" class=\"dataframe\">\n",
       "  <thead>\n",
       "    <tr style=\"text-align: right;\">\n",
       "      <th></th>\n",
       "      <th>annee_naissance</th>\n",
       "      <th>periode</th>\n",
       "      <th>revenu</th>\n",
       "      <th>declaration</th>\n",
       "      <th>declaration_pourcentage</th>\n",
       "      <th>taxe</th>\n",
       "      <th>fraude</th>\n",
       "      <th>audit_tirage</th>\n",
       "      <th>audit</th>\n",
       "      <th>penalite</th>\n",
       "      <th>gain</th>\n",
       "    </tr>\n",
       "  </thead>\n",
       "  <tbody>\n",
       "    <tr>\n",
       "      <th>count</th>\n",
       "      <td>1755.000000</td>\n",
       "      <td>1755.000000</td>\n",
       "      <td>1755.000000</td>\n",
       "      <td>1755.000000</td>\n",
       "      <td>1755.000000</td>\n",
       "      <td>1755.000000</td>\n",
       "      <td>1755.000000</td>\n",
       "      <td>1755.000000</td>\n",
       "      <td>1755.000000</td>\n",
       "      <td>1755.000000</td>\n",
       "      <td>1755.000000</td>\n",
       "    </tr>\n",
       "    <tr>\n",
       "      <th>mean</th>\n",
       "      <td>1994.316239</td>\n",
       "      <td>8.000000</td>\n",
       "      <td>59.735613</td>\n",
       "      <td>26.208547</td>\n",
       "      <td>45.109510</td>\n",
       "      <td>10.483419</td>\n",
       "      <td>33.527066</td>\n",
       "      <td>51.145869</td>\n",
       "      <td>0.249573</td>\n",
       "      <td>4.397892</td>\n",
       "      <td>44.854302</td>\n",
       "    </tr>\n",
       "    <tr>\n",
       "      <th>std</th>\n",
       "      <td>7.062980</td>\n",
       "      <td>4.321725</td>\n",
       "      <td>23.671706</td>\n",
       "      <td>29.040585</td>\n",
       "      <td>43.296503</td>\n",
       "      <td>11.616234</td>\n",
       "      <td>31.191170</td>\n",
       "      <td>28.450047</td>\n",
       "      <td>0.432889</td>\n",
       "      <td>11.693261</td>\n",
       "      <td>22.546383</td>\n",
       "    </tr>\n",
       "    <tr>\n",
       "      <th>min</th>\n",
       "      <td>1954.000000</td>\n",
       "      <td>1.000000</td>\n",
       "      <td>20.000000</td>\n",
       "      <td>0.000000</td>\n",
       "      <td>0.000000</td>\n",
       "      <td>0.000000</td>\n",
       "      <td>0.000000</td>\n",
       "      <td>1.000000</td>\n",
       "      <td>0.000000</td>\n",
       "      <td>0.000000</td>\n",
       "      <td>4.400000</td>\n",
       "    </tr>\n",
       "    <tr>\n",
       "      <th>25%</th>\n",
       "      <td>1994.000000</td>\n",
       "      <td>4.000000</td>\n",
       "      <td>39.000000</td>\n",
       "      <td>0.000000</td>\n",
       "      <td>0.000000</td>\n",
       "      <td>0.000000</td>\n",
       "      <td>0.000000</td>\n",
       "      <td>28.000000</td>\n",
       "      <td>0.000000</td>\n",
       "      <td>0.000000</td>\n",
       "      <td>27.000000</td>\n",
       "    </tr>\n",
       "    <tr>\n",
       "      <th>50%</th>\n",
       "      <td>1996.000000</td>\n",
       "      <td>8.000000</td>\n",
       "      <td>60.000000</td>\n",
       "      <td>20.000000</td>\n",
       "      <td>36.360000</td>\n",
       "      <td>8.000000</td>\n",
       "      <td>28.000000</td>\n",
       "      <td>51.000000</td>\n",
       "      <td>0.000000</td>\n",
       "      <td>0.000000</td>\n",
       "      <td>41.500000</td>\n",
       "    </tr>\n",
       "    <tr>\n",
       "      <th>75%</th>\n",
       "      <td>1998.000000</td>\n",
       "      <td>12.000000</td>\n",
       "      <td>80.000000</td>\n",
       "      <td>45.000000</td>\n",
       "      <td>100.000000</td>\n",
       "      <td>18.000000</td>\n",
       "      <td>57.000000</td>\n",
       "      <td>76.000000</td>\n",
       "      <td>0.000000</td>\n",
       "      <td>0.000000</td>\n",
       "      <td>58.000000</td>\n",
       "    </tr>\n",
       "    <tr>\n",
       "      <th>max</th>\n",
       "      <td>2003.000000</td>\n",
       "      <td>15.000000</td>\n",
       "      <td>100.000000</td>\n",
       "      <td>100.000000</td>\n",
       "      <td>100.000000</td>\n",
       "      <td>40.000000</td>\n",
       "      <td>100.000000</td>\n",
       "      <td>100.000000</td>\n",
       "      <td>1.000000</td>\n",
       "      <td>78.400000</td>\n",
       "      <td>100.000000</td>\n",
       "    </tr>\n",
       "  </tbody>\n",
       "</table>\n",
       "</div>"
      ],
      "text/plain": [
       "       annee_naissance      periode       revenu  declaration  \\\n",
       "count      1755.000000  1755.000000  1755.000000  1755.000000   \n",
       "mean       1994.316239     8.000000    59.735613    26.208547   \n",
       "std           7.062980     4.321725    23.671706    29.040585   \n",
       "min        1954.000000     1.000000    20.000000     0.000000   \n",
       "25%        1994.000000     4.000000    39.000000     0.000000   \n",
       "50%        1996.000000     8.000000    60.000000    20.000000   \n",
       "75%        1998.000000    12.000000    80.000000    45.000000   \n",
       "max        2003.000000    15.000000   100.000000   100.000000   \n",
       "\n",
       "       declaration_pourcentage         taxe       fraude  audit_tirage  \\\n",
       "count              1755.000000  1755.000000  1755.000000   1755.000000   \n",
       "mean                 45.109510    10.483419    33.527066     51.145869   \n",
       "std                  43.296503    11.616234    31.191170     28.450047   \n",
       "min                   0.000000     0.000000     0.000000      1.000000   \n",
       "25%                   0.000000     0.000000     0.000000     28.000000   \n",
       "50%                  36.360000     8.000000    28.000000     51.000000   \n",
       "75%                 100.000000    18.000000    57.000000     76.000000   \n",
       "max                 100.000000    40.000000   100.000000    100.000000   \n",
       "\n",
       "             audit     penalite         gain  \n",
       "count  1755.000000  1755.000000  1755.000000  \n",
       "mean      0.249573     4.397892    44.854302  \n",
       "std       0.432889    11.693261    22.546383  \n",
       "min       0.000000     0.000000     4.400000  \n",
       "25%       0.000000     0.000000    27.000000  \n",
       "50%       0.000000     0.000000    41.500000  \n",
       "75%       0.000000     0.000000    58.000000  \n",
       "max       1.000000    78.400000   100.000000  "
      ]
     },
     "execution_count": 7,
     "metadata": {},
     "output_type": "execute_result"
    }
   ],
   "source": [
    "data.describe()"
   ]
  },
  {
   "cell_type": "markdown",
   "metadata": {},
   "source": [
    "<hr style=\"background-color:black; height: 2px;\">"
   ]
  },
  {
   "cell_type": "markdown",
   "metadata": {},
   "source": [
    "## 2. Description des séries du jeu de données"
   ]
  },
  {
   "cell_type": "markdown",
   "metadata": {},
   "source": [
    "1. Afficher le nombre de participants"
   ]
  },
  {
   "cell_type": "code",
   "execution_count": 8,
   "metadata": {},
   "outputs": [
    {
     "name": "stdout",
     "output_type": "stream",
     "text": [
      "Nombre de participants:  117\n"
     ]
    }
   ],
   "source": [
    "participants = set(data[\"participant\"].values)\n",
    "print(\"Nombre de participants: \", len(participants))"
   ]
  },
  {
   "cell_type": "markdown",
   "metadata": {},
   "source": [
    "2. Afficher le nombre de traitements"
   ]
  },
  {
   "cell_type": "code",
   "execution_count": 9,
   "metadata": {},
   "outputs": [
    {
     "name": "stdout",
     "output_type": "stream",
     "text": [
      "Nombre de traitements:  3\n"
     ]
    },
    {
     "data": {
      "text/plain": [
       "{'Baseline', 'Detection', 'Sanction'}"
      ]
     },
     "execution_count": 9,
     "metadata": {},
     "output_type": "execute_result"
    }
   ],
   "source": [
    "traitements = set(data[\"traitement\"].values)\n",
    "print(\"Nombre de traitements: \", len(traitements))\n",
    "traitements"
   ]
  },
  {
   "cell_type": "markdown",
   "metadata": {},
   "source": [
    "3. Afficher le nombre de périodes"
   ]
  },
  {
   "cell_type": "code",
   "execution_count": 10,
   "metadata": {},
   "outputs": [
    {
     "name": "stdout",
     "output_type": "stream",
     "text": [
      "Nombre de périodes:  15\n"
     ]
    },
    {
     "data": {
      "text/plain": [
       "{1, 2, 3, 4, 5, 6, 7, 8, 9, 10, 11, 12, 13, 14, 15}"
      ]
     },
     "execution_count": 10,
     "metadata": {},
     "output_type": "execute_result"
    }
   ],
   "source": [
    "periodes = set(data[\"periode\"].values)\n",
    "print(\"Nombre de périodes: \", len(periodes))\n",
    "periodes"
   ]
  },
  {
   "cell_type": "markdown",
   "metadata": {},
   "source": [
    "4. Afficher le nombre de participants par traitement"
   ]
  },
  {
   "cell_type": "code",
   "execution_count": 11,
   "metadata": {},
   "outputs": [
    {
     "data": {
      "text/html": [
       "<div>\n",
       "<style scoped>\n",
       "    .dataframe tbody tr th:only-of-type {\n",
       "        vertical-align: middle;\n",
       "    }\n",
       "\n",
       "    .dataframe tbody tr th {\n",
       "        vertical-align: top;\n",
       "    }\n",
       "\n",
       "    .dataframe thead th {\n",
       "        text-align: right;\n",
       "    }\n",
       "</style>\n",
       "<table border=\"1\" class=\"dataframe\">\n",
       "  <thead>\n",
       "    <tr style=\"text-align: right;\">\n",
       "      <th></th>\n",
       "      <th>traitement</th>\n",
       "      <th>participant</th>\n",
       "    </tr>\n",
       "  </thead>\n",
       "  <tbody>\n",
       "    <tr>\n",
       "      <th>0</th>\n",
       "      <td>Baseline</td>\n",
       "      <td>480</td>\n",
       "    </tr>\n",
       "    <tr>\n",
       "      <th>1</th>\n",
       "      <td>Detection</td>\n",
       "      <td>495</td>\n",
       "    </tr>\n",
       "    <tr>\n",
       "      <th>2</th>\n",
       "      <td>Sanction</td>\n",
       "      <td>780</td>\n",
       "    </tr>\n",
       "  </tbody>\n",
       "</table>\n",
       "</div>"
      ],
      "text/plain": [
       "  traitement  participant\n",
       "0   Baseline          480\n",
       "1  Detection          495\n",
       "2   Sanction          780"
      ]
     },
     "execution_count": 11,
     "metadata": {},
     "output_type": "execute_result"
    }
   ],
   "source": [
    "data.groupby([\"traitement\"], as_index=False).agg({\"participant\":\"count\"})"
   ]
  },
  {
   "cell_type": "markdown",
   "metadata": {},
   "source": [
    "5. Afficher le pourcentage d'hommes et de femmes"
   ]
  },
  {
   "cell_type": "code",
   "execution_count": 12,
   "metadata": {},
   "outputs": [
    {
     "data": {
      "text/html": [
       "<div>\n",
       "<style scoped>\n",
       "    .dataframe tbody tr th:only-of-type {\n",
       "        vertical-align: middle;\n",
       "    }\n",
       "\n",
       "    .dataframe tbody tr th {\n",
       "        vertical-align: top;\n",
       "    }\n",
       "\n",
       "    .dataframe thead th {\n",
       "        text-align: right;\n",
       "    }\n",
       "</style>\n",
       "<table border=\"1\" class=\"dataframe\">\n",
       "  <thead>\n",
       "    <tr style=\"text-align: right;\">\n",
       "      <th></th>\n",
       "      <th>genre</th>\n",
       "      <th>participant</th>\n",
       "      <th>rate</th>\n",
       "    </tr>\n",
       "  </thead>\n",
       "  <tbody>\n",
       "    <tr>\n",
       "      <th>0</th>\n",
       "      <td>Femme</td>\n",
       "      <td>795</td>\n",
       "      <td>45.3</td>\n",
       "    </tr>\n",
       "    <tr>\n",
       "      <th>1</th>\n",
       "      <td>Homme</td>\n",
       "      <td>960</td>\n",
       "      <td>54.7</td>\n",
       "    </tr>\n",
       "  </tbody>\n",
       "</table>\n",
       "</div>"
      ],
      "text/plain": [
       "   genre  participant  rate\n",
       "0  Femme          795  45.3\n",
       "1  Homme          960  54.7"
      ]
     },
     "execution_count": 12,
     "metadata": {},
     "output_type": "execute_result"
    }
   ],
   "source": [
    "gender = data.groupby([\"genre\"], as_index=False).agg({\"participant\":\"count\"})\n",
    "gender[\"rate\"] = gender[\"participant\"].apply(lambda x: round(x*100.0/1755, 2))\n",
    "gender"
   ]
  },
  {
   "cell_type": "markdown",
   "metadata": {},
   "source": [
    "6. Représenter ce pourcentage dans un graphique de type camembert"
   ]
  },
  {
   "cell_type": "code",
   "execution_count": 13,
   "metadata": {},
   "outputs": [
    {
     "data": {
      "image/png": "[encoded data removed]",
      "text/plain": [
       "<Figure size 432x288 with 1 Axes>"
      ]
     },
     "metadata": {},
     "output_type": "display_data"
    }
   ],
   "source": [
    "labels = gender[\"genre\"].values.tolist()\n",
    "sizes = gender[\"rate\"].values.tolist()\n",
    "colors = ['pink','blue']\n",
    "\n",
    "plt.pie(sizes, labels=labels, colors=colors, \n",
    "        autopct='%1.1f%%', shadow=True, startangle=90)\n",
    "\n",
    "plt.axis('equal')\n",
    "plt.show()"
   ]
  },
  {
   "cell_type": "markdown",
   "metadata": {},
   "source": [
    "7. Créer la variable age (égale à 2022 - annee_naissance)"
   ]
  },
  {
   "cell_type": "code",
   "execution_count": 14,
   "metadata": {},
   "outputs": [
    {
     "data": {
      "text/html": [
       "<div>\n",
       "<style scoped>\n",
       "    .dataframe tbody tr th:only-of-type {\n",
       "        vertical-align: middle;\n",
       "    }\n",
       "\n",
       "    .dataframe tbody tr th {\n",
       "        vertical-align: top;\n",
       "    }\n",
       "\n",
       "    .dataframe thead th {\n",
       "        text-align: right;\n",
       "    }\n",
       "</style>\n",
       "<table border=\"1\" class=\"dataframe\">\n",
       "  <thead>\n",
       "    <tr style=\"text-align: right;\">\n",
       "      <th></th>\n",
       "      <th>participant</th>\n",
       "      <th>annee_naissance</th>\n",
       "      <th>genre</th>\n",
       "      <th>traitement</th>\n",
       "      <th>periode</th>\n",
       "      <th>revenu</th>\n",
       "      <th>declaration</th>\n",
       "      <th>declaration_pourcentage</th>\n",
       "      <th>taxe</th>\n",
       "      <th>fraude</th>\n",
       "      <th>audit_tirage</th>\n",
       "      <th>audit</th>\n",
       "      <th>penalite</th>\n",
       "      <th>gain</th>\n",
       "      <th>age</th>\n",
       "    </tr>\n",
       "  </thead>\n",
       "  <tbody>\n",
       "    <tr>\n",
       "      <th>0</th>\n",
       "      <td>ph5uo6jj</td>\n",
       "      <td>1997.0</td>\n",
       "      <td>Femme</td>\n",
       "      <td>Sanction</td>\n",
       "      <td>1</td>\n",
       "      <td>59</td>\n",
       "      <td>50.0</td>\n",
       "      <td>84.75</td>\n",
       "      <td>20.0</td>\n",
       "      <td>9.0</td>\n",
       "      <td>35.0</td>\n",
       "      <td>1.0</td>\n",
       "      <td>4.5</td>\n",
       "      <td>34.5</td>\n",
       "      <td>25.0</td>\n",
       "    </tr>\n",
       "    <tr>\n",
       "      <th>1</th>\n",
       "      <td>ph5uo6jj</td>\n",
       "      <td>1997.0</td>\n",
       "      <td>Femme</td>\n",
       "      <td>Sanction</td>\n",
       "      <td>2</td>\n",
       "      <td>97</td>\n",
       "      <td>90.0</td>\n",
       "      <td>92.78</td>\n",
       "      <td>36.0</td>\n",
       "      <td>7.0</td>\n",
       "      <td>7.0</td>\n",
       "      <td>1.0</td>\n",
       "      <td>3.5</td>\n",
       "      <td>57.5</td>\n",
       "      <td>25.0</td>\n",
       "    </tr>\n",
       "    <tr>\n",
       "      <th>2</th>\n",
       "      <td>ph5uo6jj</td>\n",
       "      <td>1997.0</td>\n",
       "      <td>Femme</td>\n",
       "      <td>Sanction</td>\n",
       "      <td>3</td>\n",
       "      <td>87</td>\n",
       "      <td>87.0</td>\n",
       "      <td>100.00</td>\n",
       "      <td>34.8</td>\n",
       "      <td>0.0</td>\n",
       "      <td>99.0</td>\n",
       "      <td>0.0</td>\n",
       "      <td>0.0</td>\n",
       "      <td>52.2</td>\n",
       "      <td>25.0</td>\n",
       "    </tr>\n",
       "    <tr>\n",
       "      <th>3</th>\n",
       "      <td>ph5uo6jj</td>\n",
       "      <td>1997.0</td>\n",
       "      <td>Femme</td>\n",
       "      <td>Sanction</td>\n",
       "      <td>4</td>\n",
       "      <td>60</td>\n",
       "      <td>55.0</td>\n",
       "      <td>91.67</td>\n",
       "      <td>22.0</td>\n",
       "      <td>5.0</td>\n",
       "      <td>16.0</td>\n",
       "      <td>1.0</td>\n",
       "      <td>2.5</td>\n",
       "      <td>35.5</td>\n",
       "      <td>25.0</td>\n",
       "    </tr>\n",
       "    <tr>\n",
       "      <th>4</th>\n",
       "      <td>ph5uo6jj</td>\n",
       "      <td>1997.0</td>\n",
       "      <td>Femme</td>\n",
       "      <td>Sanction</td>\n",
       "      <td>5</td>\n",
       "      <td>20</td>\n",
       "      <td>20.0</td>\n",
       "      <td>100.00</td>\n",
       "      <td>8.0</td>\n",
       "      <td>0.0</td>\n",
       "      <td>87.0</td>\n",
       "      <td>0.0</td>\n",
       "      <td>0.0</td>\n",
       "      <td>12.0</td>\n",
       "      <td>25.0</td>\n",
       "    </tr>\n",
       "    <tr>\n",
       "      <th>...</th>\n",
       "      <td>...</td>\n",
       "      <td>...</td>\n",
       "      <td>...</td>\n",
       "      <td>...</td>\n",
       "      <td>...</td>\n",
       "      <td>...</td>\n",
       "      <td>...</td>\n",
       "      <td>...</td>\n",
       "      <td>...</td>\n",
       "      <td>...</td>\n",
       "      <td>...</td>\n",
       "      <td>...</td>\n",
       "      <td>...</td>\n",
       "      <td>...</td>\n",
       "      <td>...</td>\n",
       "    </tr>\n",
       "    <tr>\n",
       "      <th>1750</th>\n",
       "      <td>d57gjmot</td>\n",
       "      <td>1979.0</td>\n",
       "      <td>Femme</td>\n",
       "      <td>Baseline</td>\n",
       "      <td>11</td>\n",
       "      <td>47</td>\n",
       "      <td>25.0</td>\n",
       "      <td>53.19</td>\n",
       "      <td>10.0</td>\n",
       "      <td>22.0</td>\n",
       "      <td>53.0</td>\n",
       "      <td>0.0</td>\n",
       "      <td>0.0</td>\n",
       "      <td>37.0</td>\n",
       "      <td>43.0</td>\n",
       "    </tr>\n",
       "    <tr>\n",
       "      <th>1751</th>\n",
       "      <td>d57gjmot</td>\n",
       "      <td>1979.0</td>\n",
       "      <td>Femme</td>\n",
       "      <td>Baseline</td>\n",
       "      <td>12</td>\n",
       "      <td>68</td>\n",
       "      <td>35.0</td>\n",
       "      <td>51.47</td>\n",
       "      <td>14.0</td>\n",
       "      <td>33.0</td>\n",
       "      <td>49.0</td>\n",
       "      <td>0.0</td>\n",
       "      <td>0.0</td>\n",
       "      <td>54.0</td>\n",
       "      <td>43.0</td>\n",
       "    </tr>\n",
       "    <tr>\n",
       "      <th>1752</th>\n",
       "      <td>d57gjmot</td>\n",
       "      <td>1979.0</td>\n",
       "      <td>Femme</td>\n",
       "      <td>Baseline</td>\n",
       "      <td>13</td>\n",
       "      <td>84</td>\n",
       "      <td>55.0</td>\n",
       "      <td>65.48</td>\n",
       "      <td>22.0</td>\n",
       "      <td>29.0</td>\n",
       "      <td>99.0</td>\n",
       "      <td>0.0</td>\n",
       "      <td>0.0</td>\n",
       "      <td>62.0</td>\n",
       "      <td>43.0</td>\n",
       "    </tr>\n",
       "    <tr>\n",
       "      <th>1753</th>\n",
       "      <td>d57gjmot</td>\n",
       "      <td>1979.0</td>\n",
       "      <td>Femme</td>\n",
       "      <td>Baseline</td>\n",
       "      <td>14</td>\n",
       "      <td>39</td>\n",
       "      <td>25.0</td>\n",
       "      <td>64.10</td>\n",
       "      <td>10.0</td>\n",
       "      <td>14.0</td>\n",
       "      <td>84.0</td>\n",
       "      <td>0.0</td>\n",
       "      <td>0.0</td>\n",
       "      <td>29.0</td>\n",
       "      <td>43.0</td>\n",
       "    </tr>\n",
       "    <tr>\n",
       "      <th>1754</th>\n",
       "      <td>d57gjmot</td>\n",
       "      <td>1979.0</td>\n",
       "      <td>Femme</td>\n",
       "      <td>Baseline</td>\n",
       "      <td>15</td>\n",
       "      <td>88</td>\n",
       "      <td>50.0</td>\n",
       "      <td>56.82</td>\n",
       "      <td>20.0</td>\n",
       "      <td>38.0</td>\n",
       "      <td>79.0</td>\n",
       "      <td>0.0</td>\n",
       "      <td>0.0</td>\n",
       "      <td>68.0</td>\n",
       "      <td>43.0</td>\n",
       "    </tr>\n",
       "  </tbody>\n",
       "</table>\n",
       "<p>1755 rows × 15 columns</p>\n",
       "</div>"
      ],
      "text/plain": [
       "     participant  annee_naissance  genre traitement  periode  revenu  \\\n",
       "0       ph5uo6jj           1997.0  Femme   Sanction        1      59   \n",
       "1       ph5uo6jj           1997.0  Femme   Sanction        2      97   \n",
       "2       ph5uo6jj           1997.0  Femme   Sanction        3      87   \n",
       "3       ph5uo6jj           1997.0  Femme   Sanction        4      60   \n",
       "4       ph5uo6jj           1997.0  Femme   Sanction        5      20   \n",
       "...          ...              ...    ...        ...      ...     ...   \n",
       "1750    d57gjmot           1979.0  Femme   Baseline       11      47   \n",
       "1751    d57gjmot           1979.0  Femme   Baseline       12      68   \n",
       "1752    d57gjmot           1979.0  Femme   Baseline       13      84   \n",
       "1753    d57gjmot           1979.0  Femme   Baseline       14      39   \n",
       "1754    d57gjmot           1979.0  Femme   Baseline       15      88   \n",
       "\n",
       "      declaration  declaration_pourcentage  taxe  fraude  audit_tirage  audit  \\\n",
       "0            50.0                    84.75  20.0     9.0          35.0    1.0   \n",
       "1            90.0                    92.78  36.0     7.0           7.0    1.0   \n",
       "2            87.0                   100.00  34.8     0.0          99.0    0.0   \n",
       "3            55.0                    91.67  22.0     5.0          16.0    1.0   \n",
       "4            20.0                   100.00   8.0     0.0          87.0    0.0   \n",
       "...           ...                      ...   ...     ...           ...    ...   \n",
       "1750         25.0                    53.19  10.0    22.0          53.0    0.0   \n",
       "1751         35.0                    51.47  14.0    33.0          49.0    0.0   \n",
       "1752         55.0                    65.48  22.0    29.0          99.0    0.0   \n",
       "1753         25.0                    64.10  10.0    14.0          84.0    0.0   \n",
       "1754         50.0                    56.82  20.0    38.0          79.0    0.0   \n",
       "\n",
       "      penalite  gain   age  \n",
       "0          4.5  34.5  25.0  \n",
       "1          3.5  57.5  25.0  \n",
       "2          0.0  52.2  25.0  \n",
       "3          2.5  35.5  25.0  \n",
       "4          0.0  12.0  25.0  \n",
       "...        ...   ...   ...  \n",
       "1750       0.0  37.0  43.0  \n",
       "1751       0.0  54.0  43.0  \n",
       "1752       0.0  62.0  43.0  \n",
       "1753       0.0  29.0  43.0  \n",
       "1754       0.0  68.0  43.0  \n",
       "\n",
       "[1755 rows x 15 columns]"
      ]
     },
     "execution_count": 14,
     "metadata": {},
     "output_type": "execute_result"
    }
   ],
   "source": [
    "data[\"age\"] = data[\"annee_naissance\"].apply(lambda x: 2022-x)\n",
    "data"
   ]
  },
  {
   "cell_type": "markdown",
   "metadata": {},
   "source": [
    "8. Créer la variable age_cat qui regroupe la variable age dans les intervalles suivants : [18-30], [31, 50], [50-100]"
   ]
  },
  {
   "cell_type": "code",
   "execution_count": 15,
   "metadata": {},
   "outputs": [
    {
     "data": {
      "text/html": [
       "<div>\n",
       "<style scoped>\n",
       "    .dataframe tbody tr th:only-of-type {\n",
       "        vertical-align: middle;\n",
       "    }\n",
       "\n",
       "    .dataframe tbody tr th {\n",
       "        vertical-align: top;\n",
       "    }\n",
       "\n",
       "    .dataframe thead th {\n",
       "        text-align: right;\n",
       "    }\n",
       "</style>\n",
       "<table border=\"1\" class=\"dataframe\">\n",
       "  <thead>\n",
       "    <tr style=\"text-align: right;\">\n",
       "      <th></th>\n",
       "      <th>participant</th>\n",
       "      <th>annee_naissance</th>\n",
       "      <th>genre</th>\n",
       "      <th>traitement</th>\n",
       "      <th>periode</th>\n",
       "      <th>revenu</th>\n",
       "      <th>declaration</th>\n",
       "      <th>declaration_pourcentage</th>\n",
       "      <th>taxe</th>\n",
       "      <th>fraude</th>\n",
       "      <th>audit_tirage</th>\n",
       "      <th>audit</th>\n",
       "      <th>penalite</th>\n",
       "      <th>gain</th>\n",
       "      <th>age</th>\n",
       "      <th>age_cat</th>\n",
       "    </tr>\n",
       "  </thead>\n",
       "  <tbody>\n",
       "    <tr>\n",
       "      <th>0</th>\n",
       "      <td>ph5uo6jj</td>\n",
       "      <td>1997.0</td>\n",
       "      <td>Femme</td>\n",
       "      <td>Sanction</td>\n",
       "      <td>1</td>\n",
       "      <td>59</td>\n",
       "      <td>50.0</td>\n",
       "      <td>84.75</td>\n",
       "      <td>20.0</td>\n",
       "      <td>9.0</td>\n",
       "      <td>35.0</td>\n",
       "      <td>1.0</td>\n",
       "      <td>4.5</td>\n",
       "      <td>34.5</td>\n",
       "      <td>25.0</td>\n",
       "      <td>[18-30]</td>\n",
       "    </tr>\n",
       "    <tr>\n",
       "      <th>1</th>\n",
       "      <td>ph5uo6jj</td>\n",
       "      <td>1997.0</td>\n",
       "      <td>Femme</td>\n",
       "      <td>Sanction</td>\n",
       "      <td>2</td>\n",
       "      <td>97</td>\n",
       "      <td>90.0</td>\n",
       "      <td>92.78</td>\n",
       "      <td>36.0</td>\n",
       "      <td>7.0</td>\n",
       "      <td>7.0</td>\n",
       "      <td>1.0</td>\n",
       "      <td>3.5</td>\n",
       "      <td>57.5</td>\n",
       "      <td>25.0</td>\n",
       "      <td>[18-30]</td>\n",
       "    </tr>\n",
       "    <tr>\n",
       "      <th>2</th>\n",
       "      <td>ph5uo6jj</td>\n",
       "      <td>1997.0</td>\n",
       "      <td>Femme</td>\n",
       "      <td>Sanction</td>\n",
       "      <td>3</td>\n",
       "      <td>87</td>\n",
       "      <td>87.0</td>\n",
       "      <td>100.00</td>\n",
       "      <td>34.8</td>\n",
       "      <td>0.0</td>\n",
       "      <td>99.0</td>\n",
       "      <td>0.0</td>\n",
       "      <td>0.0</td>\n",
       "      <td>52.2</td>\n",
       "      <td>25.0</td>\n",
       "      <td>[18-30]</td>\n",
       "    </tr>\n",
       "    <tr>\n",
       "      <th>3</th>\n",
       "      <td>ph5uo6jj</td>\n",
       "      <td>1997.0</td>\n",
       "      <td>Femme</td>\n",
       "      <td>Sanction</td>\n",
       "      <td>4</td>\n",
       "      <td>60</td>\n",
       "      <td>55.0</td>\n",
       "      <td>91.67</td>\n",
       "      <td>22.0</td>\n",
       "      <td>5.0</td>\n",
       "      <td>16.0</td>\n",
       "      <td>1.0</td>\n",
       "      <td>2.5</td>\n",
       "      <td>35.5</td>\n",
       "      <td>25.0</td>\n",
       "      <td>[18-30]</td>\n",
       "    </tr>\n",
       "    <tr>\n",
       "      <th>4</th>\n",
       "      <td>ph5uo6jj</td>\n",
       "      <td>1997.0</td>\n",
       "      <td>Femme</td>\n",
       "      <td>Sanction</td>\n",
       "      <td>5</td>\n",
       "      <td>20</td>\n",
       "      <td>20.0</td>\n",
       "      <td>100.00</td>\n",
       "      <td>8.0</td>\n",
       "      <td>0.0</td>\n",
       "      <td>87.0</td>\n",
       "      <td>0.0</td>\n",
       "      <td>0.0</td>\n",
       "      <td>12.0</td>\n",
       "      <td>25.0</td>\n",
       "      <td>[18-30]</td>\n",
       "    </tr>\n",
       "    <tr>\n",
       "      <th>...</th>\n",
       "      <td>...</td>\n",
       "      <td>...</td>\n",
       "      <td>...</td>\n",
       "      <td>...</td>\n",
       "      <td>...</td>\n",
       "      <td>...</td>\n",
       "      <td>...</td>\n",
       "      <td>...</td>\n",
       "      <td>...</td>\n",
       "      <td>...</td>\n",
       "      <td>...</td>\n",
       "      <td>...</td>\n",
       "      <td>...</td>\n",
       "      <td>...</td>\n",
       "      <td>...</td>\n",
       "      <td>...</td>\n",
       "    </tr>\n",
       "    <tr>\n",
       "      <th>1750</th>\n",
       "      <td>d57gjmot</td>\n",
       "      <td>1979.0</td>\n",
       "      <td>Femme</td>\n",
       "      <td>Baseline</td>\n",
       "      <td>11</td>\n",
       "      <td>47</td>\n",
       "      <td>25.0</td>\n",
       "      <td>53.19</td>\n",
       "      <td>10.0</td>\n",
       "      <td>22.0</td>\n",
       "      <td>53.0</td>\n",
       "      <td>0.0</td>\n",
       "      <td>0.0</td>\n",
       "      <td>37.0</td>\n",
       "      <td>43.0</td>\n",
       "      <td>[31, 50]</td>\n",
       "    </tr>\n",
       "    <tr>\n",
       "      <th>1751</th>\n",
       "      <td>d57gjmot</td>\n",
       "      <td>1979.0</td>\n",
       "      <td>Femme</td>\n",
       "      <td>Baseline</td>\n",
       "      <td>12</td>\n",
       "      <td>68</td>\n",
       "      <td>35.0</td>\n",
       "      <td>51.47</td>\n",
       "      <td>14.0</td>\n",
       "      <td>33.0</td>\n",
       "      <td>49.0</td>\n",
       "      <td>0.0</td>\n",
       "      <td>0.0</td>\n",
       "      <td>54.0</td>\n",
       "      <td>43.0</td>\n",
       "      <td>[31, 50]</td>\n",
       "    </tr>\n",
       "    <tr>\n",
       "      <th>1752</th>\n",
       "      <td>d57gjmot</td>\n",
       "      <td>1979.0</td>\n",
       "      <td>Femme</td>\n",
       "      <td>Baseline</td>\n",
       "      <td>13</td>\n",
       "      <td>84</td>\n",
       "      <td>55.0</td>\n",
       "      <td>65.48</td>\n",
       "      <td>22.0</td>\n",
       "      <td>29.0</td>\n",
       "      <td>99.0</td>\n",
       "      <td>0.0</td>\n",
       "      <td>0.0</td>\n",
       "      <td>62.0</td>\n",
       "      <td>43.0</td>\n",
       "      <td>[31, 50]</td>\n",
       "    </tr>\n",
       "    <tr>\n",
       "      <th>1753</th>\n",
       "      <td>d57gjmot</td>\n",
       "      <td>1979.0</td>\n",
       "      <td>Femme</td>\n",
       "      <td>Baseline</td>\n",
       "      <td>14</td>\n",
       "      <td>39</td>\n",
       "      <td>25.0</td>\n",
       "      <td>64.10</td>\n",
       "      <td>10.0</td>\n",
       "      <td>14.0</td>\n",
       "      <td>84.0</td>\n",
       "      <td>0.0</td>\n",
       "      <td>0.0</td>\n",
       "      <td>29.0</td>\n",
       "      <td>43.0</td>\n",
       "      <td>[31, 50]</td>\n",
       "    </tr>\n",
       "    <tr>\n",
       "      <th>1754</th>\n",
       "      <td>d57gjmot</td>\n",
       "      <td>1979.0</td>\n",
       "      <td>Femme</td>\n",
       "      <td>Baseline</td>\n",
       "      <td>15</td>\n",
       "      <td>88</td>\n",
       "      <td>50.0</td>\n",
       "      <td>56.82</td>\n",
       "      <td>20.0</td>\n",
       "      <td>38.0</td>\n",
       "      <td>79.0</td>\n",
       "      <td>0.0</td>\n",
       "      <td>0.0</td>\n",
       "      <td>68.0</td>\n",
       "      <td>43.0</td>\n",
       "      <td>[31, 50]</td>\n",
       "    </tr>\n",
       "  </tbody>\n",
       "</table>\n",
       "<p>1755 rows × 16 columns</p>\n",
       "</div>"
      ],
      "text/plain": [
       "     participant  annee_naissance  genre traitement  periode  revenu  \\\n",
       "0       ph5uo6jj           1997.0  Femme   Sanction        1      59   \n",
       "1       ph5uo6jj           1997.0  Femme   Sanction        2      97   \n",
       "2       ph5uo6jj           1997.0  Femme   Sanction        3      87   \n",
       "3       ph5uo6jj           1997.0  Femme   Sanction        4      60   \n",
       "4       ph5uo6jj           1997.0  Femme   Sanction        5      20   \n",
       "...          ...              ...    ...        ...      ...     ...   \n",
       "1750    d57gjmot           1979.0  Femme   Baseline       11      47   \n",
       "1751    d57gjmot           1979.0  Femme   Baseline       12      68   \n",
       "1752    d57gjmot           1979.0  Femme   Baseline       13      84   \n",
       "1753    d57gjmot           1979.0  Femme   Baseline       14      39   \n",
       "1754    d57gjmot           1979.0  Femme   Baseline       15      88   \n",
       "\n",
       "      declaration  declaration_pourcentage  taxe  fraude  audit_tirage  audit  \\\n",
       "0            50.0                    84.75  20.0     9.0          35.0    1.0   \n",
       "1            90.0                    92.78  36.0     7.0           7.0    1.0   \n",
       "2            87.0                   100.00  34.8     0.0          99.0    0.0   \n",
       "3            55.0                    91.67  22.0     5.0          16.0    1.0   \n",
       "4            20.0                   100.00   8.0     0.0          87.0    0.0   \n",
       "...           ...                      ...   ...     ...           ...    ...   \n",
       "1750         25.0                    53.19  10.0    22.0          53.0    0.0   \n",
       "1751         35.0                    51.47  14.0    33.0          49.0    0.0   \n",
       "1752         55.0                    65.48  22.0    29.0          99.0    0.0   \n",
       "1753         25.0                    64.10  10.0    14.0          84.0    0.0   \n",
       "1754         50.0                    56.82  20.0    38.0          79.0    0.0   \n",
       "\n",
       "      penalite  gain   age   age_cat  \n",
       "0          4.5  34.5  25.0   [18-30]  \n",
       "1          3.5  57.5  25.0   [18-30]  \n",
       "2          0.0  52.2  25.0   [18-30]  \n",
       "3          2.5  35.5  25.0   [18-30]  \n",
       "4          0.0  12.0  25.0   [18-30]  \n",
       "...        ...   ...   ...       ...  \n",
       "1750       0.0  37.0  43.0  [31, 50]  \n",
       "1751       0.0  54.0  43.0  [31, 50]  \n",
       "1752       0.0  62.0  43.0  [31, 50]  \n",
       "1753       0.0  29.0  43.0  [31, 50]  \n",
       "1754       0.0  68.0  43.0  [31, 50]  \n",
       "\n",
       "[1755 rows x 16 columns]"
      ]
     },
     "execution_count": 15,
     "metadata": {},
     "output_type": "execute_result"
    }
   ],
   "source": [
    "cats = {\"[18-30]\": [18, 30],\n",
    "       \"[31, 50]\": [31, 50],\n",
    "       \"[50-100]\": [50, 100]}\n",
    "def compute_interval(x):\n",
    "    for key in cats.keys():\n",
    "        interval = cats[key]\n",
    "        if x in range(interval[0], interval[1]+1):\n",
    "            return key\n",
    "    \n",
    "data[\"age_cat\"] = data[\"age\"].apply(lambda x: compute_interval(x))\n",
    "data"
   ]
  },
  {
   "cell_type": "markdown",
   "metadata": {},
   "source": [
    "9. Afficher le nombre de participants par classe d'âge, et ensuite le tableau de contingence genre / année de naissance\n",
    "\n",
    "*Rmq: ce sont les mêmes participants qui prennent des décisions à plusieurs périodes consécutives, donc pour ce type d'information, il suffit de considérer les données de la période 1*"
   ]
  },
  {
   "cell_type": "code",
   "execution_count": 16,
   "metadata": {},
   "outputs": [
    {
     "data": {
      "text/html": [
       "<div>\n",
       "<style scoped>\n",
       "    .dataframe tbody tr th:only-of-type {\n",
       "        vertical-align: middle;\n",
       "    }\n",
       "\n",
       "    .dataframe tbody tr th {\n",
       "        vertical-align: top;\n",
       "    }\n",
       "\n",
       "    .dataframe thead th {\n",
       "        text-align: right;\n",
       "    }\n",
       "</style>\n",
       "<table border=\"1\" class=\"dataframe\">\n",
       "  <thead>\n",
       "    <tr style=\"text-align: right;\">\n",
       "      <th></th>\n",
       "      <th>age_cat</th>\n",
       "      <th>participant</th>\n",
       "    </tr>\n",
       "  </thead>\n",
       "  <tbody>\n",
       "    <tr>\n",
       "      <th>0</th>\n",
       "      <td>[18-30]</td>\n",
       "      <td>1440</td>\n",
       "    </tr>\n",
       "    <tr>\n",
       "      <th>1</th>\n",
       "      <td>[31, 50]</td>\n",
       "      <td>285</td>\n",
       "    </tr>\n",
       "    <tr>\n",
       "      <th>2</th>\n",
       "      <td>[50-100]</td>\n",
       "      <td>30</td>\n",
       "    </tr>\n",
       "  </tbody>\n",
       "</table>\n",
       "</div>"
      ],
      "text/plain": [
       "    age_cat  participant\n",
       "0   [18-30]         1440\n",
       "1  [31, 50]          285\n",
       "2  [50-100]           30"
      ]
     },
     "execution_count": 16,
     "metadata": {},
     "output_type": "execute_result"
    }
   ],
   "source": [
    "part = data[[\"age_cat\",\"participant\"]].groupby([\"age_cat\"], as_index=False).agg({\"participant\":\"count\"})\n",
    "part"
   ]
  },
  {
   "cell_type": "markdown",
   "metadata": {},
   "source": [
    "10. Représenter la distribution de la variable classes d'âge à l'aide d'un graphique de type histogramme"
   ]
  },
  {
   "cell_type": "code",
   "execution_count": 17,
   "metadata": {},
   "outputs": [
    {
     "name": "stdout",
     "output_type": "stream",
     "text": [
      "\n"
     ]
    },
    {
     "data": {
      "image/png": "[encoded data removed]",
      "text/plain": [
       "<Figure size 432x288 with 1 Axes>"
      ]
     },
     "metadata": {},
     "output_type": "display_data"
    }
   ],
   "source": [
    "x = np.arange(3)\n",
    "y = np.array(part[\"participant\"].values.tolist())\n",
    "plt.bar(x, height=y)\n",
    "plt.xticks(x, part[\"age_cat\"].values.tolist())\n",
    "print()"
   ]
  },
  {
   "cell_type": "markdown",
   "metadata": {},
   "source": [
    "11. Représenter la distribution de la variable classes d'âge (age_cat) à l'aide d'un graphique de type histogramme, mais en séparant par genre (i.e. faire un graphique par genre)"
   ]
  },
  {
   "cell_type": "code",
   "execution_count": 18,
   "metadata": {},
   "outputs": [
    {
     "data": {
      "text/plain": [
       "<AxesSubplot:xlabel='age_cat', ylabel='count'>"
      ]
     },
     "execution_count": 18,
     "metadata": {},
     "output_type": "execute_result"
    },
    {
     "data": {
      "image/png": "[encoded data removed]",
      "text/plain": [
       "<Figure size 432x288 with 1 Axes>"
      ]
     },
     "metadata": {},
     "output_type": "display_data"
    }
   ],
   "source": [
    "sns.countplot(x=\"age_cat\", hue=\"genre\", data=data)"
   ]
  },
  {
   "cell_type": "markdown",
   "metadata": {},
   "source": [
    "<hr style=\"background-color:black; height: 2px;\">"
   ]
  },
  {
   "cell_type": "markdown",
   "metadata": {},
   "source": [
    "## 3. Calculs et représentations graphiques"
   ]
  },
  {
   "cell_type": "markdown",
   "metadata": {},
   "source": [
    "1. Calculer la déclaration (en pourcentage, variable declaration_pourcentage) moyenne par traitement"
   ]
  },
  {
   "cell_type": "code",
   "execution_count": 77,
   "metadata": {},
   "outputs": [
    {
     "data": {
      "text/html": [
       "<div>\n",
       "<style scoped>\n",
       "    .dataframe tbody tr th:only-of-type {\n",
       "        vertical-align: middle;\n",
       "    }\n",
       "\n",
       "    .dataframe tbody tr th {\n",
       "        vertical-align: top;\n",
       "    }\n",
       "\n",
       "    .dataframe thead th {\n",
       "        text-align: right;\n",
       "    }\n",
       "</style>\n",
       "<table border=\"1\" class=\"dataframe\">\n",
       "  <thead>\n",
       "    <tr style=\"text-align: right;\">\n",
       "      <th></th>\n",
       "      <th>traitement</th>\n",
       "      <th>declaration_pourcentage</th>\n",
       "    </tr>\n",
       "  </thead>\n",
       "  <tbody>\n",
       "    <tr>\n",
       "      <th>0</th>\n",
       "      <td>Baseline</td>\n",
       "      <td>42.002833</td>\n",
       "    </tr>\n",
       "    <tr>\n",
       "      <th>1</th>\n",
       "      <td>Detection</td>\n",
       "      <td>37.845737</td>\n",
       "    </tr>\n",
       "    <tr>\n",
       "      <th>2</th>\n",
       "      <td>Sanction</td>\n",
       "      <td>51.631013</td>\n",
       "    </tr>\n",
       "  </tbody>\n",
       "</table>\n",
       "</div>"
      ],
      "text/plain": [
       "  traitement  declaration_pourcentage\n",
       "0   Baseline                42.002833\n",
       "1  Detection                37.845737\n",
       "2   Sanction                51.631013"
      ]
     },
     "execution_count": 77,
     "metadata": {},
     "output_type": "execute_result"
    }
   ],
   "source": [
    "proba = data.groupby([\"traitement\"], as_index=False).agg({\"declaration_pourcentage\":\"mean\"})\n",
    "proba"
   ]
  },
  {
   "cell_type": "markdown",
   "metadata": {},
   "source": [
    "2. Représenter graphiquement ces moyennes avec un graphique de type barplot"
   ]
  },
  {
   "cell_type": "code",
   "execution_count": 79,
   "metadata": {},
   "outputs": [
    {
     "name": "stdout",
     "output_type": "stream",
     "text": [
      "\n"
     ]
    },
    {
     "data": {
      "image/png": "[encoded data removed]",
      "text/plain": [
       "<Figure size 432x288 with 1 Axes>"
      ]
     },
     "metadata": {},
     "output_type": "display_data"
    }
   ],
   "source": [
    "x = np.arange(3)\n",
    "y = np.array(proba[\"declaration_pourcentage\"].values.tolist())\n",
    "plt.bar(x, height=y)\n",
    "plt.xticks(x, proba[\"traitement\"].values.tolist())\n",
    "print()"
   ]
  },
  {
   "cell_type": "markdown",
   "metadata": {},
   "source": [
    "3. Calculer la pénalité moyenne par traitement"
   ]
  },
  {
   "cell_type": "code",
   "execution_count": 80,
   "metadata": {},
   "outputs": [
    {
     "data": {
      "text/html": [
       "<div>\n",
       "<style scoped>\n",
       "    .dataframe tbody tr th:only-of-type {\n",
       "        vertical-align: middle;\n",
       "    }\n",
       "\n",
       "    .dataframe tbody tr th {\n",
       "        vertical-align: top;\n",
       "    }\n",
       "\n",
       "    .dataframe thead th {\n",
       "        text-align: right;\n",
       "    }\n",
       "</style>\n",
       "<table border=\"1\" class=\"dataframe\">\n",
       "  <thead>\n",
       "    <tr style=\"text-align: right;\">\n",
       "      <th></th>\n",
       "      <th>traitement</th>\n",
       "      <th>penalite</th>\n",
       "    </tr>\n",
       "  </thead>\n",
       "  <tbody>\n",
       "    <tr>\n",
       "      <th>0</th>\n",
       "      <td>Baseline</td>\n",
       "      <td>4.352500</td>\n",
       "    </tr>\n",
       "    <tr>\n",
       "      <th>1</th>\n",
       "      <td>Detection</td>\n",
       "      <td>2.734545</td>\n",
       "    </tr>\n",
       "    <tr>\n",
       "      <th>2</th>\n",
       "      <td>Sanction</td>\n",
       "      <td>5.481410</td>\n",
       "    </tr>\n",
       "  </tbody>\n",
       "</table>\n",
       "</div>"
      ],
      "text/plain": [
       "  traitement  penalite\n",
       "0   Baseline  4.352500\n",
       "1  Detection  2.734545\n",
       "2   Sanction  5.481410"
      ]
     },
     "execution_count": 80,
     "metadata": {},
     "output_type": "execute_result"
    }
   ],
   "source": [
    "penality = data.groupby([\"traitement\"], as_index=False).agg({\"penalite\":\"mean\"})\n",
    "penality"
   ]
  },
  {
   "cell_type": "markdown",
   "metadata": {},
   "source": [
    "4. Représenter dans une même figure, le graphique de la question 2 (barplot des déclarations moyennes) et le graphique de type barplot des pénalités moyennes par traitement"
   ]
  },
  {
   "cell_type": "code",
   "execution_count": 89,
   "metadata": {},
   "outputs": [
    {
     "name": "stdout",
     "output_type": "stream",
     "text": [
      "\n"
     ]
    },
    {
     "data": {
      "image/png": "[encoded data removed]",
      "text/plain": [
       "<Figure size 432x288 with 2 Axes>"
      ]
     },
     "metadata": {},
     "output_type": "display_data"
    }
   ],
   "source": [
    "fig, (ax1, ax2) = plt.subplots(1, 2)\n",
    "fig.suptitle('Graph')\n",
    "#graph 1\n",
    "x = np.arange(3)\n",
    "y = np.array(proba[\"declaration_pourcentage\"].values.tolist())\n",
    "ax1.bar(x, height=y)\n",
    "#graph 2\n",
    "y = np.array(penality[\"penalite\"].values.tolist())\n",
    "ax2.bar(x, height=y)\n",
    "plt.xticks(x, proba[\"traitement\"].values.tolist())\n",
    "print()"
   ]
  },
  {
   "cell_type": "markdown",
   "metadata": {},
   "source": [
    "5. Calculer l'évolution de la déclaration (en pourcentage) moyenne au cours du temps pour chaque traitement. Le temps est représenté par les périodes, donc il s'agit de calculer pour chaque période de chaque traitement la déclaration (en pourcentage) moyenne"
   ]
  },
  {
   "cell_type": "code",
   "execution_count": 93,
   "metadata": {},
   "outputs": [
    {
     "data": {
      "text/html": [
       "<div>\n",
       "<style scoped>\n",
       "    .dataframe tbody tr th:only-of-type {\n",
       "        vertical-align: middle;\n",
       "    }\n",
       "\n",
       "    .dataframe tbody tr th {\n",
       "        vertical-align: top;\n",
       "    }\n",
       "\n",
       "    .dataframe thead th {\n",
       "        text-align: right;\n",
       "    }\n",
       "</style>\n",
       "<table border=\"1\" class=\"dataframe\">\n",
       "  <thead>\n",
       "    <tr style=\"text-align: right;\">\n",
       "      <th></th>\n",
       "      <th>Id</th>\n",
       "      <th>Design</th>\n",
       "      <th>Price</th>\n",
       "      <th>Codeclt</th>\n",
       "      <th>nb_decli</th>\n",
       "    </tr>\n",
       "  </thead>\n",
       "  <tbody>\n",
       "    <tr>\n",
       "      <th>0</th>\n",
       "      <td>1A</td>\n",
       "      <td>Iphone</td>\n",
       "      <td>30</td>\n",
       "      <td>A</td>\n",
       "      <td>2</td>\n",
       "    </tr>\n",
       "    <tr>\n",
       "      <th>1</th>\n",
       "      <td>1A</td>\n",
       "      <td>Faible</td>\n",
       "      <td>20</td>\n",
       "      <td>A</td>\n",
       "      <td>2</td>\n",
       "    </tr>\n",
       "    <tr>\n",
       "      <th>2</th>\n",
       "      <td>2B</td>\n",
       "      <td>Dell</td>\n",
       "      <td>15</td>\n",
       "      <td>C</td>\n",
       "      <td>2</td>\n",
       "    </tr>\n",
       "    <tr>\n",
       "      <th>3</th>\n",
       "      <td>2B</td>\n",
       "      <td>HP</td>\n",
       "      <td>34</td>\n",
       "      <td>D</td>\n",
       "      <td>2</td>\n",
       "    </tr>\n",
       "  </tbody>\n",
       "</table>\n",
       "</div>"
      ],
      "text/plain": [
       "   Id  Design  Price Codeclt  nb_decli\n",
       "0  1A  Iphone     30       A         2\n",
       "1  1A  Faible     20       A         2\n",
       "2  2B    Dell     15       C         2\n",
       "3  2B      HP     34       D         2"
      ]
     },
     "execution_count": 93,
     "metadata": {},
     "output_type": "execute_result"
    }
   ],
   "source": [
    "matrix = [[\"1A\",\"Iphone\",30,\"A\"],\n",
    "         [\"1A\",\"Faible\",20,\"A\"],\n",
    "         [\"2B\",\"Dell\",15,\"C\"],\n",
    "         [\"2B\",\"HP\",34,\"D\"]]\n",
    "data = pd.DataFrame(matrix, columns=[\"Id\",\"Design\",\"Price\",\"Codeclt\"])\n",
    "data[\"nb_decli\"] = data.groupby([\"Id\"])[\"Id\"].transform(lambda rows: len(rows))\n",
    "data"
   ]
  },
  {
   "cell_type": "markdown",
   "metadata": {},
   "source": [
    "6. Représenter graphiquement ces moyennes avec 3 courbes (une par traitement): en abscisses les périodes, et en ordonnées la déclaration moyenne"
   ]
  },
  {
   "cell_type": "code",
   "execution_count": 96,
   "metadata": {},
   "outputs": [
    {
     "name": "stdout",
     "output_type": "stream",
     "text": [
      "['jbin', ' ref_jbin', ' jbin_col_mod', ' ean13', ' product_name', ' active', ' brand', ' margin', ' price_ht', 'price_ttc', ' price_impact', ' price_wholesale', ' is_20_80', ' price_provider', ' provider', ' ref_provider', ' taxe_id_rule', ' product_type', ' summary', 'description', ' created_date', ' updated_date', ' complementary', ' owner', ' id_size', ' id_age', ' id_country', 'id_product_dimension']\n"
     ]
    }
   ],
   "source": [
    "li = \"\"\"jbin, ref_jbin, jbin_col_mod, ean13, product_name, active, brand, margin, price_ht,price_ttc, price_impact, price_wholesale, is_20_80, price_provider, provider, ref_provider, taxe_id_rule, product_type, summary,description, created_date, updated_date, complementary, owner, id_size, id_age, id_country,id_product_dimension\"\"\"\n",
    "vals = li.split(',')\n",
    "print(vals)"
   ]
  },
  {
   "cell_type": "code",
   "execution_count": 105,
   "metadata": {},
   "outputs": [
    {
     "name": "stdout",
     "output_type": "stream",
     "text": [
      "[' product_name', ' active', ' brand', ' margin', ' price_ht', 'price_ttc', ' price_impact', ' price_wholesale', ' is_20_80', ' price_provider', ' provider', ' ref_provider', ' taxe_id_rule', ' product_type', ' summary', 'description', ' updated_date', ' complementary', ' owner', ' id_size', ' id_age', ' id_country', 'id_product_dimension']\n"
     ]
    }
   ],
   "source": [
    "res = vals[4:20]+vals[21:]\n",
    "print(res)"
   ]
  },
  {
   "cell_type": "code",
   "execution_count": null,
   "metadata": {},
   "outputs": [],
   "source": []
  }
 ],
 "metadata": {
  "kernelspec": {
   "display_name": "Python 3 (ipykernel)",
   "language": "python",
   "name": "python3"
  },
  "language_info": {
   "codemirror_mode": {
    "name": "ipython",
    "version": 3
   },
   "file_extension": ".py",
   "mimetype": "text/x-python",
   "name": "python",
   "nbconvert_exporter": "python",
   "pygments_lexer": "ipython3",
   "version": "3.9.7"
  }
 },
 "nbformat": 4,
 "nbformat_minor": 4
}
