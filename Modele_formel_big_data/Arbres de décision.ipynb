{
 "cells": [
  {
   "cell_type": "code",
   "execution_count": 28,
   "id": "7fac8bbd",
   "metadata": {},
   "outputs": [
    {
     "ename": "ERROR",
     "evalue": "Error in library(rpart.plot): there is no package called ‘rpart.plot’\n",
     "output_type": "error",
     "traceback": [
      "Error in library(rpart.plot): there is no package called ‘rpart.plot’\nTraceback:\n",
      "1. library(rpart.plot)"
     ]
    }
   ],
   "source": [
    "library(rpart)\n",
    "library(rpart.plot)"
   ]
  },
  {
   "cell_type": "code",
   "execution_count": 52,
   "id": "4da6b498",
   "metadata": {},
   "outputs": [],
   "source": [
    "meteo = c('soleil','soleil','soleil','soleil','nuages','nuages','nuages','nuages','soleil')\n",
    "amis = c('présents','absents', 'présents', 'absents', 'absents', 'présents', 'absents', 'présents','absents')\n",
    "vent = c('faible','fort','fort','faible','faible','fort','fort','faible','faible')\n",
    "jour = c('week-end', 'semaine', 'semaine', 'semaine', 'week-end', 'week-end', 'semaine', 'week-end', 'week-end')\n",
    "decision = c('oui', 'non', 'non', 'oui', 'non', 'non','non', 'oui', 'non')"
   ]
  },
  {
   "cell_type": "code",
   "execution_count": 24,
   "id": "b0c699e8",
   "metadata": {},
   "outputs": [],
   "source": [
    "meteo2 = c('soleil', 'nuages', 'soleil', 'soleil', 'nuages')\n",
    "amis2 = c('présents', 'absents', 'absents', 'absents', 'présents')\n",
    "vent2 = c('fort', 'faible', 'faible', 'faible', 'faible')\n",
    "jour2 = c('week-end', 'semaine', 'week-end', 'semaine', 'semaine')\n",
    "decision2= c('non', 'non', 'oui', 'non', 'oui')"
   ]
  },
  {
   "cell_type": "code",
   "execution_count": 7,
   "id": "bfc77f93",
   "metadata": {},
   "outputs": [
    {
     "data": {
      "text/html": [
       "0.899985052234431"
      ],
      "text/latex": [
       "0.899985052234431"
      ],
      "text/markdown": [
       "0.899985052234431"
      ],
      "text/plain": [
       "[1] 0.8999851"
      ]
     },
     "metadata": {},
     "output_type": "display_data"
    }
   ],
   "source": [
    "meteo_h =(-2/5*log2(2/5)-3/5*log2(3/5))*5/9 + (-3/4*log2(3/4)-1/4*log2(1/4))*4/9\n",
    "meteo_h"
   ]
  },
  {
   "cell_type": "code",
   "execution_count": 8,
   "id": "185f496d",
   "metadata": {},
   "outputs": [
    {
     "data": {
      "text/html": [
       "0.983861441363705"
      ],
      "text/latex": [
       "0.983861441363705"
      ],
      "text/markdown": [
       "0.983861441363705"
      ],
      "text/plain": [
       "[1] 0.9838614"
      ]
     },
     "metadata": {},
     "output_type": "display_data"
    }
   ],
   "source": [
    "amis_h = (-2/4*log2(2/4)-2/4*log2(2/4))*4/9 + (-3/5*log2(3/5)-2/5*log2(2/5))*5/9\n",
    "amis_h"
   ]
  },
  {
   "cell_type": "code",
   "execution_count": 10,
   "id": "99d58adf",
   "metadata": {},
   "outputs": [
    {
     "data": {
      "text/html": [
       "0.53941699691926"
      ],
      "text/latex": [
       "0.53941699691926"
      ],
      "text/markdown": [
       "0.53941699691926"
      ],
      "text/plain": [
       "[1] 0.539417"
      ]
     },
     "metadata": {},
     "output_type": "display_data"
    }
   ],
   "source": [
    "vent_h = (-3/5*log2(3/5) - 2/5*log2(2/5))*5/9 + (-1*log2(1))*4/9\n",
    "vent_h"
   ]
  },
  {
   "cell_type": "code",
   "execution_count": 12,
   "id": "3e775857",
   "metadata": {},
   "outputs": [
    {
     "data": {
      "text/html": [
       "0.899985052234431"
      ],
      "text/latex": [
       "0.899985052234431"
      ],
      "text/markdown": [
       "0.899985052234431"
      ],
      "text/plain": [
       "[1] 0.8999851"
      ]
     },
     "metadata": {},
     "output_type": "display_data"
    }
   ],
   "source": [
    "jour_h = (-2/5*log2(2/5) - 3/5*log2(3/5))*5/9 + (-3/4*log2(3/4) - 1/4*log2(1/4))*4/9\n",
    "jour_h"
   ]
  },
  {
   "cell_type": "code",
   "execution_count": 15,
   "id": "24275d7c",
   "metadata": {},
   "outputs": [
    {
     "data": {
      "text/html": [
       "0.950977500432694"
      ],
      "text/latex": [
       "0.950977500432694"
      ],
      "text/markdown": [
       "0.950977500432694"
      ],
      "text/plain": [
       "[1] 0.9509775"
      ]
     },
     "metadata": {},
     "output_type": "display_data"
    }
   ],
   "source": [
    "meteo_vent_faible_h = (-1/3*log2(1/3)-2/3*log2(2/3))*3/5 + (-1/2*log2(1/2)-1/2*log2(1/2))*2/5\n",
    "meteo_vent_faible_h"
   ]
  },
  {
   "cell_type": "code",
   "execution_count": 14,
   "id": "0cc5aa7e",
   "metadata": {},
   "outputs": [
    {
     "data": {
      "text/html": [
       "0.550977500432694"
      ],
      "text/latex": [
       "0.550977500432694"
      ],
      "text/markdown": [
       "0.550977500432694"
      ],
      "text/plain": [
       "[1] 0.5509775"
      ]
     },
     "metadata": {},
     "output_type": "display_data"
    }
   ],
   "source": [
    "amis_vent_faible_h = (-1*log2(1))*2/5 + (-1/3*log2(1/3)-2/3*log2(2/3))*3/5\n",
    "amis_vent_faible_h"
   ]
  },
  {
   "cell_type": "code",
   "execution_count": 16,
   "id": "831a16ee",
   "metadata": {},
   "outputs": [
    {
     "data": {
      "text/html": [
       "0.8"
      ],
      "text/latex": [
       "0.8"
      ],
      "text/markdown": [
       "0.8"
      ],
      "text/plain": [
       "[1] 0.8"
      ]
     },
     "metadata": {},
     "output_type": "display_data"
    }
   ],
   "source": [
    "jour_vent_faible_h = (-2/4*log2(2/4)-2/4*log2(2/4))*4/5 + (-1*log2(1))*1/5\n",
    "jour_vent_faible_h"
   ]
  },
  {
   "cell_type": "code",
   "execution_count": 19,
   "id": "ce181cce",
   "metadata": {},
   "outputs": [
    {
     "data": {
      "text/html": [
       "0.612197222702993"
      ],
      "text/latex": [
       "0.612197222702993"
      ],
      "text/markdown": [
       "0.612197222702993"
      ],
      "text/plain": [
       "[1] 0.6121972"
      ]
     },
     "metadata": {},
     "output_type": "display_data"
    }
   ],
   "source": [
    " meteo_vent_faible_amis_absents_h = (-1/3*log2(1/3)-2/3*log2(2/3))*2/3\n",
    "meteo_vent_faible_amis_absents_h"
   ]
  },
  {
   "cell_type": "code",
   "execution_count": 20,
   "id": "ca0de210",
   "metadata": {},
   "outputs": [
    {
     "data": {
      "text/html": [
       "0"
      ],
      "text/latex": [
       "0"
      ],
      "text/markdown": [
       "0"
      ],
      "text/plain": [
       "[1] 0"
      ]
     },
     "metadata": {},
     "output_type": "display_data"
    }
   ],
   "source": [
    "jour_vent_faible_amis_absents_h = (-1*log2(1))*1/3 +(-1*log2(1))*2/3\n",
    "jour_vent_faible_amis_absents_h"
   ]
  },
  {
   "cell_type": "code",
   "execution_count": 53,
   "id": "390a406c",
   "metadata": {},
   "outputs": [
    {
     "data": {
      "text/html": [
       "<table class=\"dataframe\">\n",
       "<caption>A data.frame: 9 × 5</caption>\n",
       "<thead>\n",
       "\t<tr><th scope=col>meteo</th><th scope=col>amis</th><th scope=col>vent</th><th scope=col>jour</th><th scope=col>decision</th></tr>\n",
       "\t<tr><th scope=col>&lt;fct&gt;</th><th scope=col>&lt;fct&gt;</th><th scope=col>&lt;fct&gt;</th><th scope=col>&lt;fct&gt;</th><th scope=col>&lt;fct&gt;</th></tr>\n",
       "</thead>\n",
       "<tbody>\n",
       "\t<tr><td>soleil</td><td>présents</td><td>faible</td><td>week-end</td><td>oui</td></tr>\n",
       "\t<tr><td>soleil</td><td>absents </td><td>fort  </td><td>semaine </td><td>non</td></tr>\n",
       "\t<tr><td>soleil</td><td>présents</td><td>fort  </td><td>semaine </td><td>non</td></tr>\n",
       "\t<tr><td>soleil</td><td>absents </td><td>faible</td><td>semaine </td><td>oui</td></tr>\n",
       "\t<tr><td>nuages</td><td>absents </td><td>faible</td><td>week-end</td><td>non</td></tr>\n",
       "\t<tr><td>nuages</td><td>présents</td><td>fort  </td><td>week-end</td><td>non</td></tr>\n",
       "\t<tr><td>nuages</td><td>absents </td><td>fort  </td><td>semaine </td><td>non</td></tr>\n",
       "\t<tr><td>nuages</td><td>présents</td><td>faible</td><td>week-end</td><td>oui</td></tr>\n",
       "\t<tr><td>soleil</td><td>absents </td><td>faible</td><td>week-end</td><td>non</td></tr>\n",
       "</tbody>\n",
       "</table>\n"
      ],
      "text/latex": [
       "A data.frame: 9 × 5\n",
       "\\begin{tabular}{lllll}\n",
       " meteo & amis & vent & jour & decision\\\\\n",
       " <fct> & <fct> & <fct> & <fct> & <fct>\\\\\n",
       "\\hline\n",
       "\t soleil & présents & faible & week-end & oui\\\\\n",
       "\t soleil & absents  & fort   & semaine  & non\\\\\n",
       "\t soleil & présents & fort   & semaine  & non\\\\\n",
       "\t soleil & absents  & faible & semaine  & oui\\\\\n",
       "\t nuages & absents  & faible & week-end & non\\\\\n",
       "\t nuages & présents & fort   & week-end & non\\\\\n",
       "\t nuages & absents  & fort   & semaine  & non\\\\\n",
       "\t nuages & présents & faible & week-end & oui\\\\\n",
       "\t soleil & absents  & faible & week-end & non\\\\\n",
       "\\end{tabular}\n"
      ],
      "text/markdown": [
       "\n",
       "A data.frame: 9 × 5\n",
       "\n",
       "| meteo &lt;fct&gt; | amis &lt;fct&gt; | vent &lt;fct&gt; | jour &lt;fct&gt; | decision &lt;fct&gt; |\n",
       "|---|---|---|---|---|\n",
       "| soleil | présents | faible | week-end | oui |\n",
       "| soleil | absents  | fort   | semaine  | non |\n",
       "| soleil | présents | fort   | semaine  | non |\n",
       "| soleil | absents  | faible | semaine  | oui |\n",
       "| nuages | absents  | faible | week-end | non |\n",
       "| nuages | présents | fort   | week-end | non |\n",
       "| nuages | absents  | fort   | semaine  | non |\n",
       "| nuages | présents | faible | week-end | oui |\n",
       "| soleil | absents  | faible | week-end | non |\n",
       "\n"
      ],
      "text/plain": [
       "  meteo  amis     vent   jour     decision\n",
       "1 soleil présents faible week-end oui     \n",
       "2 soleil absents  fort   semaine  non     \n",
       "3 soleil présents fort   semaine  non     \n",
       "4 soleil absents  faible semaine  oui     \n",
       "5 nuages absents  faible week-end non     \n",
       "6 nuages présents fort   week-end non     \n",
       "7 nuages absents  fort   semaine  non     \n",
       "8 nuages présents faible week-end oui     \n",
       "9 soleil absents  faible week-end non     "
      ]
     },
     "metadata": {},
     "output_type": "display_data"
    }
   ],
   "source": [
    "table = data.frame(meteo,amis,vent,jour,decision)\n",
    "table"
   ]
  },
  {
   "cell_type": "code",
   "execution_count": 35,
   "id": "054619d9",
   "metadata": {},
   "outputs": [
    {
     "name": "stderr",
     "output_type": "stream",
     "text": [
      "Updating HTML index of packages in '.Library'\n",
      "\n",
      "Making 'packages.html' ...\n",
      " done\n",
      "\n"
     ]
    }
   ],
   "source": [
    "install.packages('rpart.plot')\n",
    "library(rpart.plot)"
   ]
  },
  {
   "cell_type": "code",
   "execution_count": 56,
   "id": "266adc5b",
   "metadata": {},
   "outputs": [
    {
     "data": {
      "text/plain": [
       "n= 9 \n",
       "\n",
       "node), split, n, loss, yval, (yprob)\n",
       "      * denotes terminal node\n",
       "\n",
       " 1) root 9 3 non (0.6666667 0.3333333)  \n",
       "   2) vent=fort 4 0 non (1.0000000 0.0000000) *\n",
       "   3) vent=faible 5 2 oui (0.4000000 0.6000000)  \n",
       "     6) amis=absents 3 1 non (0.6666667 0.3333333)  \n",
       "      12) jour=week-end 2 0 non (1.0000000 0.0000000) *\n",
       "      13) jour=semaine 1 0 oui (0.0000000 1.0000000) *\n",
       "     7) amis=présents 2 0 oui (0.0000000 1.0000000) *"
      ]
     },
     "metadata": {},
     "output_type": "display_data"
    }
   ],
   "source": [
    "tree = rpart(decision~., data = table, method='class', control=rpart.control(minsplit=2,cp=0))\n",
    "tree"
   ]
  },
  {
   "cell_type": "code",
   "execution_count": 58,
   "id": "5acc339d",
   "metadata": {},
   "outputs": [
    {
     "data": {
      "image/png": "[encoded data removed]",
      "text/plain": [
       "plot without title"
      ]
     },
     "metadata": {
      "image/png": {
       "height": 420,
       "width": 420
      }
     },
     "output_type": "display_data"
    }
   ],
   "source": [
    "rpart.plot(tree)"
   ]
  },
  {
   "cell_type": "code",
   "execution_count": null,
   "id": "ca51c1f0",
   "metadata": {},
   "outputs": [],
   "source": []
  }
 ],
 "metadata": {
  "kernelspec": {
   "display_name": "R",
   "language": "R",
   "name": "ir"
  },
  "language_info": {
   "codemirror_mode": "r",
   "file_extension": ".r",
   "mimetype": "text/x-r-source",
   "name": "R",
   "pygments_lexer": "r",
   "version": "4.1.2"
  }
 },
 "nbformat": 4,
 "nbformat_minor": 5
}
