{
 "cells": [
  {
   "cell_type": "code",
   "execution_count": 5,
   "metadata": {
    "id": "VPUkWZX6E5Y2"
   },
   "outputs": [],
   "source": [
    "df <- read.csv(\n",
    "  # Spécifier le nom du fichier\n",
    "  file = paste0(\"sample_data/data.csv.txt\"), \n",
    "  # Déclarer la première ligne comme nom de colonne/variable\n",
    "  header = TRUE, \n",
    "  # Déclarer la virgule comme séparateur\n",
    "  sep = \" \"\n",
    ")\n",
    "df\n"
   ]
  },
  {
   "cell_type": "code",
   "execution_count": 6,
   "metadata": {
    "colab": {
     "base_uri": "https://localhost:8080/",
     "height": 380
    },
    "id": "veKMtPpYE6Gc",
    "outputId": "4fa868be-3a00-405a-d995-c11da23435c4"
   },
   "outputs": [
    {
     "data": {
      "text/html": [
       "<table class=\"dataframe\">\n",
       "<caption>A data.frame: 9 × 5</caption>\n",
       "<thead>\n",
       "\t<tr><th scope=col>Meteo</th><th scope=col>Amis</th><th scope=col>Vent</th><th scope=col>Jour</th><th scope=col>Decision</th></tr>\n",
       "\t<tr><th scope=col>&lt;chr&gt;</th><th scope=col>&lt;chr&gt;</th><th scope=col>&lt;chr&gt;</th><th scope=col>&lt;chr&gt;</th><th scope=col>&lt;chr&gt;</th></tr>\n",
       "</thead>\n",
       "<tbody>\n",
       "\t<tr><td>soleil</td><td>presents</td><td>faible</td><td>week-end</td><td>oui</td></tr>\n",
       "\t<tr><td>soleil</td><td>absents </td><td>fort  </td><td>semaine </td><td>non</td></tr>\n",
       "\t<tr><td>soleil</td><td>presents</td><td>fort  </td><td>semaine </td><td>non</td></tr>\n",
       "\t<tr><td>soleil</td><td>absents </td><td>faible</td><td>semaine </td><td>oui</td></tr>\n",
       "\t<tr><td>nuages</td><td>absents </td><td>faible</td><td>week-end</td><td>non</td></tr>\n",
       "\t<tr><td>nuages</td><td>presents</td><td>fort  </td><td>week-end</td><td>non</td></tr>\n",
       "\t<tr><td>nuages</td><td>absents </td><td>fort  </td><td>semaine </td><td>non</td></tr>\n",
       "\t<tr><td>nuages</td><td>presents</td><td>faible</td><td>week-end</td><td>oui</td></tr>\n",
       "\t<tr><td>soleil</td><td>absents </td><td>faible</td><td>week-end</td><td>non</td></tr>\n",
       "</tbody>\n",
       "</table>\n"
      ],
      "text/latex": [
       "A data.frame: 9 × 5\n",
       "\\begin{tabular}{lllll}\n",
       " Meteo & Amis & Vent & Jour & Decision\\\\\n",
       " <chr> & <chr> & <chr> & <chr> & <chr>\\\\\n",
       "\\hline\n",
       "\t soleil & presents & faible & week-end & oui\\\\\n",
       "\t soleil & absents  & fort   & semaine  & non\\\\\n",
       "\t soleil & presents & fort   & semaine  & non\\\\\n",
       "\t soleil & absents  & faible & semaine  & oui\\\\\n",
       "\t nuages & absents  & faible & week-end & non\\\\\n",
       "\t nuages & presents & fort   & week-end & non\\\\\n",
       "\t nuages & absents  & fort   & semaine  & non\\\\\n",
       "\t nuages & presents & faible & week-end & oui\\\\\n",
       "\t soleil & absents  & faible & week-end & non\\\\\n",
       "\\end{tabular}\n"
      ],
      "text/markdown": [
       "\n",
       "A data.frame: 9 × 5\n",
       "\n",
       "| Meteo &lt;chr&gt; | Amis &lt;chr&gt; | Vent &lt;chr&gt; | Jour &lt;chr&gt; | Decision &lt;chr&gt; |\n",
       "|---|---|---|---|---|\n",
       "| soleil | presents | faible | week-end | oui |\n",
       "| soleil | absents  | fort   | semaine  | non |\n",
       "| soleil | presents | fort   | semaine  | non |\n",
       "| soleil | absents  | faible | semaine  | oui |\n",
       "| nuages | absents  | faible | week-end | non |\n",
       "| nuages | presents | fort   | week-end | non |\n",
       "| nuages | absents  | fort   | semaine  | non |\n",
       "| nuages | presents | faible | week-end | oui |\n",
       "| soleil | absents  | faible | week-end | non |\n",
       "\n"
      ],
      "text/plain": [
       "  Meteo  Amis     Vent   Jour     Decision\n",
       "1 soleil presents faible week-end oui     \n",
       "2 soleil absents  fort   semaine  non     \n",
       "3 soleil presents fort   semaine  non     \n",
       "4 soleil absents  faible semaine  oui     \n",
       "5 nuages absents  faible week-end non     \n",
       "6 nuages presents fort   week-end non     \n",
       "7 nuages absents  fort   semaine  non     \n",
       "8 nuages presents faible week-end oui     \n",
       "9 soleil absents  faible week-end non     "
      ]
     },
     "metadata": {},
     "output_type": "display_data"
    }
   ],
   "source": [
    "df"
   ]
  },
  {
   "cell_type": "code",
   "execution_count": null,
   "metadata": {
    "id": "fmUQA0zWE6I5"
   },
   "outputs": [],
   "source": []
  },
  {
   "cell_type": "code",
   "execution_count": null,
   "metadata": {
    "id": "WiUhmW_QE6Qm"
   },
   "outputs": [],
   "source": []
  },
  {
   "cell_type": "code",
   "execution_count": null,
   "metadata": {
    "id": "dXG2PHdxE6Tg"
   },
   "outputs": [],
   "source": []
  }
 ],
 "metadata": {
  "colab": {
   "name": "Untitled8.ipynb",
   "provenance": []
  },
  "kernelspec": {
   "display_name": "R",
   "language": "R",
   "name": "ir"
  },
  "language_info": {
   "codemirror_mode": "r",
   "file_extension": ".r",
   "mimetype": "text/x-r-source",
   "name": "R",
   "pygments_lexer": "r",
   "version": "4.1.2"
  }
 },
 "nbformat": 4,
 "nbformat_minor": 1
}
