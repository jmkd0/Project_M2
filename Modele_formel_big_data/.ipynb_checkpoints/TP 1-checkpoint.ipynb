{
 "cells": [
  {
   "cell_type": "markdown",
   "id": "f429120e",
   "metadata": {},
   "source": [
    "# TP 1"
   ]
  },
  {
   "cell_type": "code",
   "execution_count": 1,
   "id": "61f4a9f8",
   "metadata": {},
   "outputs": [
    {
     "data": {
      "text/html": [
       "<style>\n",
       ".list-inline {list-style: none; margin:0; padding: 0}\n",
       ".list-inline>li {display: inline-block}\n",
       ".list-inline>li:not(:last-child)::after {content: \"\\00b7\"; padding: 0 .5ex}\n",
       "</style>\n",
       "<ol class=list-inline><li>43</li><li>29</li><li>57</li><li>45</li><li>50</li><li>29</li><li>37</li><li>59</li><li>46</li><li>31</li><li>46</li><li>24</li><li>33</li><li>38</li><li>49</li><li>31</li><li>62</li><li>60</li><li>52</li><li>38</li><li>38</li><li>26</li><li>41</li><li>52</li><li>60</li><li>49</li><li>52</li><li>41</li><li>38</li><li>26</li><li>37</li><li>59</li><li>57</li><li>41</li><li>29</li><li>33</li><li>33</li><li>43</li><li>46</li><li>57</li><li>46</li><li>33</li><li>46</li><li>49</li><li>57</li><li>57</li><li>46</li><li>43</li></ol>\n"
      ],
      "text/latex": [
       "\\begin{enumerate*}\n",
       "\\item 43\n",
       "\\item 29\n",
       "\\item 57\n",
       "\\item 45\n",
       "\\item 50\n",
       "\\item 29\n",
       "\\item 37\n",
       "\\item 59\n",
       "\\item 46\n",
       "\\item 31\n",
       "\\item 46\n",
       "\\item 24\n",
       "\\item 33\n",
       "\\item 38\n",
       "\\item 49\n",
       "\\item 31\n",
       "\\item 62\n",
       "\\item 60\n",
       "\\item 52\n",
       "\\item 38\n",
       "\\item 38\n",
       "\\item 26\n",
       "\\item 41\n",
       "\\item 52\n",
       "\\item 60\n",
       "\\item 49\n",
       "\\item 52\n",
       "\\item 41\n",
       "\\item 38\n",
       "\\item 26\n",
       "\\item 37\n",
       "\\item 59\n",
       "\\item 57\n",
       "\\item 41\n",
       "\\item 29\n",
       "\\item 33\n",
       "\\item 33\n",
       "\\item 43\n",
       "\\item 46\n",
       "\\item 57\n",
       "\\item 46\n",
       "\\item 33\n",
       "\\item 46\n",
       "\\item 49\n",
       "\\item 57\n",
       "\\item 57\n",
       "\\item 46\n",
       "\\item 43\n",
       "\\end{enumerate*}\n"
      ],
      "text/markdown": [
       "1. 43\n",
       "2. 29\n",
       "3. 57\n",
       "4. 45\n",
       "5. 50\n",
       "6. 29\n",
       "7. 37\n",
       "8. 59\n",
       "9. 46\n",
       "10. 31\n",
       "11. 46\n",
       "12. 24\n",
       "13. 33\n",
       "14. 38\n",
       "15. 49\n",
       "16. 31\n",
       "17. 62\n",
       "18. 60\n",
       "19. 52\n",
       "20. 38\n",
       "21. 38\n",
       "22. 26\n",
       "23. 41\n",
       "24. 52\n",
       "25. 60\n",
       "26. 49\n",
       "27. 52\n",
       "28. 41\n",
       "29. 38\n",
       "30. 26\n",
       "31. 37\n",
       "32. 59\n",
       "33. 57\n",
       "34. 41\n",
       "35. 29\n",
       "36. 33\n",
       "37. 33\n",
       "38. 43\n",
       "39. 46\n",
       "40. 57\n",
       "41. 46\n",
       "42. 33\n",
       "43. 46\n",
       "44. 49\n",
       "45. 57\n",
       "46. 57\n",
       "47. 46\n",
       "48. 43\n",
       "\n",
       "\n"
      ],
      "text/plain": [
       " [1] 43 29 57 45 50 29 37 59 46 31 46 24 33 38 49 31 62 60 52 38 38 26 41 52 60\n",
       "[26] 49 52 41 38 26 37 59 57 41 29 33 33 43 46 57 46 33 46 49 57 57 46 43"
      ]
     },
     "metadata": {},
     "output_type": "display_data"
    }
   ],
   "source": [
    "Ages = c(43, 29, 57, 45, 50, 29, 37, 59, 46, 31, 46, 24, 33, 38, 49, 31,\n",
    "62, 60, 52, 38, 38, 26, 41, 52, 60, 49, 52, 41, 38, 26, 37, 59,\n",
    "57, 41, 29, 33, 33, 43, 46, 57, 46, 33, 46, 49, 57, 57, 46, 43)\n",
    "Ages"
   ]
  },
  {
   "cell_type": "markdown",
   "id": "3e8e1e45",
   "metadata": {},
   "source": [
    "### Effectifs, effectifs cumulés, fréquences et fréquences cumulées"
   ]
  },
  {
   "cell_type": "code",
   "execution_count": 2,
   "id": "925331b4",
   "metadata": {},
   "outputs": [
    {
     "data": {
      "text/html": [
       "<table class=\"dataframe\">\n",
       "<caption>A data.frame: 18 × 5</caption>\n",
       "<thead>\n",
       "\t<tr><th scope=col>Ages</th><th scope=col>Freq</th><th scope=col>EffCum</th><th scope=col>FreqPer</th><th scope=col>FreqCum</th></tr>\n",
       "\t<tr><th scope=col>&lt;int&gt;</th><th scope=col>&lt;int&gt;</th><th scope=col>&lt;int&gt;</th><th scope=col>&lt;dbl&gt;</th><th scope=col>&lt;dbl&gt;</th></tr>\n",
       "</thead>\n",
       "<tbody>\n",
       "\t<tr><td>24</td><td>1</td><td> 1</td><td> 2.083333</td><td>  2.083333</td></tr>\n",
       "\t<tr><td>26</td><td>2</td><td> 3</td><td> 4.166667</td><td>  6.250000</td></tr>\n",
       "\t<tr><td>29</td><td>3</td><td> 6</td><td> 6.250000</td><td> 12.500000</td></tr>\n",
       "\t<tr><td>31</td><td>2</td><td> 8</td><td> 4.166667</td><td> 16.666667</td></tr>\n",
       "\t<tr><td>33</td><td>4</td><td>12</td><td> 8.333333</td><td> 25.000000</td></tr>\n",
       "\t<tr><td>37</td><td>2</td><td>14</td><td> 4.166667</td><td> 29.166667</td></tr>\n",
       "\t<tr><td>38</td><td>4</td><td>18</td><td> 8.333333</td><td> 37.500000</td></tr>\n",
       "\t<tr><td>41</td><td>3</td><td>21</td><td> 6.250000</td><td> 43.750000</td></tr>\n",
       "\t<tr><td>43</td><td>3</td><td>24</td><td> 6.250000</td><td> 50.000000</td></tr>\n",
       "\t<tr><td>45</td><td>1</td><td>25</td><td> 2.083333</td><td> 52.083333</td></tr>\n",
       "\t<tr><td>46</td><td>6</td><td>31</td><td>12.500000</td><td> 64.583333</td></tr>\n",
       "\t<tr><td>49</td><td>3</td><td>34</td><td> 6.250000</td><td> 70.833333</td></tr>\n",
       "\t<tr><td>50</td><td>1</td><td>35</td><td> 2.083333</td><td> 72.916667</td></tr>\n",
       "\t<tr><td>52</td><td>3</td><td>38</td><td> 6.250000</td><td> 79.166667</td></tr>\n",
       "\t<tr><td>57</td><td>5</td><td>43</td><td>10.416667</td><td> 89.583333</td></tr>\n",
       "\t<tr><td>59</td><td>2</td><td>45</td><td> 4.166667</td><td> 93.750000</td></tr>\n",
       "\t<tr><td>60</td><td>2</td><td>47</td><td> 4.166667</td><td> 97.916667</td></tr>\n",
       "\t<tr><td>62</td><td>1</td><td>48</td><td> 2.083333</td><td>100.000000</td></tr>\n",
       "</tbody>\n",
       "</table>\n"
      ],
      "text/latex": [
       "A data.frame: 18 × 5\n",
       "\\begin{tabular}{lllll}\n",
       " Ages & Freq & EffCum & FreqPer & FreqCum\\\\\n",
       " <int> & <int> & <int> & <dbl> & <dbl>\\\\\n",
       "\\hline\n",
       "\t 24 & 1 &  1 &  2.083333 &   2.083333\\\\\n",
       "\t 26 & 2 &  3 &  4.166667 &   6.250000\\\\\n",
       "\t 29 & 3 &  6 &  6.250000 &  12.500000\\\\\n",
       "\t 31 & 2 &  8 &  4.166667 &  16.666667\\\\\n",
       "\t 33 & 4 & 12 &  8.333333 &  25.000000\\\\\n",
       "\t 37 & 2 & 14 &  4.166667 &  29.166667\\\\\n",
       "\t 38 & 4 & 18 &  8.333333 &  37.500000\\\\\n",
       "\t 41 & 3 & 21 &  6.250000 &  43.750000\\\\\n",
       "\t 43 & 3 & 24 &  6.250000 &  50.000000\\\\\n",
       "\t 45 & 1 & 25 &  2.083333 &  52.083333\\\\\n",
       "\t 46 & 6 & 31 & 12.500000 &  64.583333\\\\\n",
       "\t 49 & 3 & 34 &  6.250000 &  70.833333\\\\\n",
       "\t 50 & 1 & 35 &  2.083333 &  72.916667\\\\\n",
       "\t 52 & 3 & 38 &  6.250000 &  79.166667\\\\\n",
       "\t 57 & 5 & 43 & 10.416667 &  89.583333\\\\\n",
       "\t 59 & 2 & 45 &  4.166667 &  93.750000\\\\\n",
       "\t 60 & 2 & 47 &  4.166667 &  97.916667\\\\\n",
       "\t 62 & 1 & 48 &  2.083333 & 100.000000\\\\\n",
       "\\end{tabular}\n"
      ],
      "text/markdown": [
       "\n",
       "A data.frame: 18 × 5\n",
       "\n",
       "| Ages &lt;int&gt; | Freq &lt;int&gt; | EffCum &lt;int&gt; | FreqPer &lt;dbl&gt; | FreqCum &lt;dbl&gt; |\n",
       "|---|---|---|---|---|\n",
       "| 24 | 1 |  1 |  2.083333 |   2.083333 |\n",
       "| 26 | 2 |  3 |  4.166667 |   6.250000 |\n",
       "| 29 | 3 |  6 |  6.250000 |  12.500000 |\n",
       "| 31 | 2 |  8 |  4.166667 |  16.666667 |\n",
       "| 33 | 4 | 12 |  8.333333 |  25.000000 |\n",
       "| 37 | 2 | 14 |  4.166667 |  29.166667 |\n",
       "| 38 | 4 | 18 |  8.333333 |  37.500000 |\n",
       "| 41 | 3 | 21 |  6.250000 |  43.750000 |\n",
       "| 43 | 3 | 24 |  6.250000 |  50.000000 |\n",
       "| 45 | 1 | 25 |  2.083333 |  52.083333 |\n",
       "| 46 | 6 | 31 | 12.500000 |  64.583333 |\n",
       "| 49 | 3 | 34 |  6.250000 |  70.833333 |\n",
       "| 50 | 1 | 35 |  2.083333 |  72.916667 |\n",
       "| 52 | 3 | 38 |  6.250000 |  79.166667 |\n",
       "| 57 | 5 | 43 | 10.416667 |  89.583333 |\n",
       "| 59 | 2 | 45 |  4.166667 |  93.750000 |\n",
       "| 60 | 2 | 47 |  4.166667 |  97.916667 |\n",
       "| 62 | 1 | 48 |  2.083333 | 100.000000 |\n",
       "\n"
      ],
      "text/plain": [
       "   Ages Freq EffCum FreqPer   FreqCum   \n",
       "1  24   1     1      2.083333   2.083333\n",
       "2  26   2     3      4.166667   6.250000\n",
       "3  29   3     6      6.250000  12.500000\n",
       "4  31   2     8      4.166667  16.666667\n",
       "5  33   4    12      8.333333  25.000000\n",
       "6  37   2    14      4.166667  29.166667\n",
       "7  38   4    18      8.333333  37.500000\n",
       "8  41   3    21      6.250000  43.750000\n",
       "9  43   3    24      6.250000  50.000000\n",
       "10 45   1    25      2.083333  52.083333\n",
       "11 46   6    31     12.500000  64.583333\n",
       "12 49   3    34      6.250000  70.833333\n",
       "13 50   1    35      2.083333  72.916667\n",
       "14 52   3    38      6.250000  79.166667\n",
       "15 57   5    43     10.416667  89.583333\n",
       "16 59   2    45      4.166667  93.750000\n",
       "17 60   2    47      4.166667  97.916667\n",
       "18 62   1    48      2.083333 100.000000"
      ]
     },
     "metadata": {},
     "output_type": "display_data"
    }
   ],
   "source": [
    "data_info <- as.data.frame(table(Ages))\n",
    "data_info[,\"Ages\"] <- as.integer(levels(data_info$Ages))\n",
    "data_info[,\"EffCum\"] <- cumsum(data_info$Freq)\n",
    "data_info[,\"FreqPer\"] <- 100* data_info$Freq/length(Ages)\n",
    "data_info[,\"FreqCum\"] <- cumsum(data_info$FreqPer)\n",
    "data_info"
   ]
  },
  {
   "cell_type": "markdown",
   "id": "bf9ef019",
   "metadata": {},
   "source": [
    "## Le diagramme en bâtons"
   ]
  },
  {
   "cell_type": "code",
   "execution_count": 3,
   "id": "dd8c8200",
   "metadata": {},
   "outputs": [
    {
     "data": {
      "image/png": "[encoded data removed]",
      "text/plain": [
       "plot without title"
      ]
     },
     "metadata": {
      "image/png": {
       "height": 420,
       "width": 420
      }
     },
     "output_type": "display_data"
    }
   ],
   "source": [
    "plot(data_info$Ages, data_info$Freq, xlab=\"Ages\", ylab=\"Effectifs\")\n",
    "lines(data_info$Ages, data_info$Freq, type=\"h\")\n"
   ]
  },
  {
   "cell_type": "markdown",
   "id": "631c90ed",
   "metadata": {},
   "source": [
    "## Le diagramme cumulatif"
   ]
  },
  {
   "cell_type": "code",
   "execution_count": 4,
   "id": "8fa069bb",
   "metadata": {},
   "outputs": [
    {
     "data": {
      "image/png": "[encoded data removed]",
      "text/plain": [
       "plot without title"
      ]
     },
     "metadata": {
      "image/png": {
       "height": 420,
       "width": 420
      }
     },
     "output_type": "display_data"
    }
   ],
   "source": [
    "plot(data_info$Ages, data_info$EffCum, xlab=\"Ages\", ylab=\"Effectifs Cummulée\", type='s')"
   ]
  },
  {
   "cell_type": "markdown",
   "id": "2a5493a3",
   "metadata": {},
   "source": [
    "## La médiane (quantile d’ordre 1/2) et les quartiles (quantile d’ordre1/4, 3/4)"
   ]
  },
  {
   "cell_type": "code",
   "execution_count": 5,
   "id": "0ef96f91",
   "metadata": {
    "scrolled": false
   },
   "outputs": [
    {
     "data": {
      "image/png": "[encoded data removed]",
      "text/plain": [
       "Plot with title “Répartition des Ages”"
      ]
     },
     "metadata": {
      "image/png": {
       "height": 420,
       "width": 420
      }
     },
     "output_type": "display_data"
    }
   ],
   "source": [
    "boxplot(data_info$Ages, main=\"Répartition des Ages\")\n",
    "text(y=boxplot.stats(data_info$Ages)$stats, labels=boxplot.stats(data_info$Ages)$stats, x=1.25)"
   ]
  },
  {
   "cell_type": "markdown",
   "id": "da552966",
   "metadata": {},
   "source": [
    "## Moyenne"
   ]
  },
  {
   "cell_type": "code",
   "execution_count": 15,
   "id": "f58965c4",
   "metadata": {},
   "outputs": [
    {
     "data": {
      "text/html": [
       "43.625"
      ],
      "text/latex": [
       "43.625"
      ],
      "text/markdown": [
       "43.625"
      ],
      "text/plain": [
       "[1] 43.625"
      ]
     },
     "metadata": {},
     "output_type": "display_data"
    }
   ],
   "source": [
    "mean <- mean(Ages)\n",
    "mean"
   ]
  },
  {
   "cell_type": "markdown",
   "id": "7e261506",
   "metadata": {},
   "source": [
    "## Dispertion"
   ]
  },
  {
   "cell_type": "markdown",
   "id": "54ea1226",
   "metadata": {},
   "source": [
    "### 1. Etendu"
   ]
  },
  {
   "cell_type": "code",
   "execution_count": 12,
   "id": "50589a5c",
   "metadata": {},
   "outputs": [
    {
     "data": {
      "text/html": [
       "38"
      ],
      "text/latex": [
       "38"
      ],
      "text/markdown": [
       "38"
      ],
      "text/plain": [
       "[1] 38"
      ]
     },
     "metadata": {},
     "output_type": "display_data"
    }
   ],
   "source": [
    "max(Ages)-min(Ages)"
   ]
  },
  {
   "cell_type": "markdown",
   "id": "bc83d21f",
   "metadata": {},
   "source": [
    "### 2. Intervalle Inter-quartile"
   ]
  },
  {
   "cell_type": "code",
   "execution_count": 26,
   "id": "e4db0052",
   "metadata": {},
   "outputs": [
    {
     "data": {
      "text/html": [
       "<strong>75%:</strong> 16"
      ],
      "text/latex": [
       "\\textbf{75\\textbackslash{}\\%:} 16"
      ],
      "text/markdown": [
       "**75%:** 16"
      ],
      "text/plain": [
       "75% \n",
       " 16 "
      ]
     },
     "metadata": {},
     "output_type": "display_data"
    }
   ],
   "source": [
    "q1<-quantile(Ages,0.25)\n",
    "q2<-quantile(Ages,0.75)\n",
    "q2-q1"
   ]
  },
  {
   "cell_type": "markdown",
   "id": "16269230",
   "metadata": {},
   "source": [
    "### 3. Ecart moyen à la médiane"
   ]
  },
  {
   "cell_type": "code",
   "execution_count": 27,
   "id": "97ca19b4",
   "metadata": {},
   "outputs": [
    {
     "data": {
      "text/html": [
       "8.83333333333333"
      ],
      "text/latex": [
       "8.83333333333333"
      ],
      "text/markdown": [
       "8.83333333333333"
      ],
      "text/plain": [
       "[1] 8.833333"
      ]
     },
     "metadata": {},
     "output_type": "display_data"
    }
   ],
   "source": [
    "absDistMedia <- abs(Ages - quantile(Ages,0.5))\n",
    "sumAbsDistMedia <- sum(absDistMedia)\n",
    "mean(absDistMedia)"
   ]
  },
  {
   "cell_type": "markdown",
   "id": "247d5c42",
   "metadata": {},
   "source": [
    "### 4. Ecart moyen à la moyenne"
   ]
  },
  {
   "cell_type": "code",
   "execution_count": 28,
   "id": "3486a940",
   "metadata": {},
   "outputs": [
    {
     "data": {
      "text/html": [
       "8.83333333333333"
      ],
      "text/latex": [
       "8.83333333333333"
      ],
      "text/markdown": [
       "8.83333333333333"
      ],
      "text/plain": [
       "[1] 8.833333"
      ]
     },
     "metadata": {},
     "output_type": "display_data"
    }
   ],
   "source": [
    "absDistMean <- abs(Ages - mean(Ages))\n",
    "sumAbsDistMean <- sum(absDistMean)\n",
    "mean(absDistMean)"
   ]
  },
  {
   "cell_type": "markdown",
   "id": "01820c0d",
   "metadata": {},
   "source": [
    "## Variance"
   ]
  },
  {
   "cell_type": "code",
   "execution_count": 10,
   "id": "0d941c22",
   "metadata": {},
   "outputs": [
    {
     "data": {
      "text/html": [
       "109.776041666667"
      ],
      "text/latex": [
       "109.776041666667"
      ],
      "text/markdown": [
       "109.776041666667"
      ],
      "text/plain": [
       "[1] 109.776"
      ]
     },
     "metadata": {},
     "output_type": "display_data"
    }
   ],
   "source": [
    "mean(Ages^2)-mean(Ages)^2"
   ]
  },
  {
   "cell_type": "markdown",
   "id": "063ddd88",
   "metadata": {},
   "source": [
    "## Ecart-type"
   ]
  },
  {
   "cell_type": "code",
   "execution_count": 11,
   "id": "74ef82fb",
   "metadata": {},
   "outputs": [
    {
     "data": {
      "text/html": [
       "10.4774062470951"
      ],
      "text/latex": [
       "10.4774062470951"
      ],
      "text/markdown": [
       "10.4774062470951"
      ],
      "text/plain": [
       "[1] 10.47741"
      ]
     },
     "metadata": {},
     "output_type": "display_data"
    }
   ],
   "source": [
    "sqrt(mean(Ages^2)-mean(Ages)^2)"
   ]
  },
  {
   "cell_type": "code",
   "execution_count": null,
   "id": "c21f44ff",
   "metadata": {},
   "outputs": [],
   "source": []
  },
  {
   "cell_type": "code",
   "execution_count": null,
   "id": "5ef2c3a9",
   "metadata": {},
   "outputs": [],
   "source": []
  }
 ],
 "metadata": {
  "kernelspec": {
   "display_name": "R",
   "language": "R",
   "name": "ir"
  },
  "language_info": {
   "codemirror_mode": "r",
   "file_extension": ".r",
   "mimetype": "text/x-r-source",
   "name": "R",
   "pygments_lexer": "r",
   "version": "3.6.3"
  }
 },
 "nbformat": 4,
 "nbformat_minor": 5
}
