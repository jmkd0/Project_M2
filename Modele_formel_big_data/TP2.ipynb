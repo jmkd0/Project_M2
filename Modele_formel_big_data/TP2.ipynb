{
 "cells": [
  {
   "cell_type": "code",
   "execution_count": 1,
   "id": "6a435dcb",
   "metadata": {
    "colab": {
     "base_uri": "https://localhost:8080/",
     "height": 1000
    },
    "executionInfo": {
     "elapsed": 520,
     "status": "ok",
     "timestamp": 1635951350569,
     "user": {
      "displayName": "Komlan DANTODJI",
      "photoUrl": "https://lh3.googleusercontent.com/a-/AOh14Giudkox61JTwK1TfSB9NpVV5C_pQ1IMY_A_gRItEA=s64",
      "userId": "11989658833991652359"
     },
     "user_tz": -60
    },
    "id": "6a435dcb",
    "outputId": "f1ec3b82-a681-40d4-d9fc-7d417d0f5c30"
   },
   "outputs": [
    {
     "data": {
      "text/html": [
       "<table class=\"dataframe\">\n",
       "<caption>A data.frame: 50 × 2</caption>\n",
       "<thead>\n",
       "\t<tr><th scope=col>speed</th><th scope=col>dist</th></tr>\n",
       "\t<tr><th scope=col>&lt;dbl&gt;</th><th scope=col>&lt;dbl&gt;</th></tr>\n",
       "</thead>\n",
       "<tbody>\n",
       "\t<tr><td> 4</td><td>  2</td></tr>\n",
       "\t<tr><td> 4</td><td> 10</td></tr>\n",
       "\t<tr><td> 7</td><td>  4</td></tr>\n",
       "\t<tr><td> 7</td><td> 22</td></tr>\n",
       "\t<tr><td> 8</td><td> 16</td></tr>\n",
       "\t<tr><td> 9</td><td> 10</td></tr>\n",
       "\t<tr><td>10</td><td> 18</td></tr>\n",
       "\t<tr><td>10</td><td> 26</td></tr>\n",
       "\t<tr><td>10</td><td> 34</td></tr>\n",
       "\t<tr><td>11</td><td> 17</td></tr>\n",
       "\t<tr><td>11</td><td> 28</td></tr>\n",
       "\t<tr><td>12</td><td> 14</td></tr>\n",
       "\t<tr><td>12</td><td> 20</td></tr>\n",
       "\t<tr><td>12</td><td> 24</td></tr>\n",
       "\t<tr><td>12</td><td> 28</td></tr>\n",
       "\t<tr><td>13</td><td> 26</td></tr>\n",
       "\t<tr><td>13</td><td> 34</td></tr>\n",
       "\t<tr><td>13</td><td> 34</td></tr>\n",
       "\t<tr><td>13</td><td> 46</td></tr>\n",
       "\t<tr><td>14</td><td> 26</td></tr>\n",
       "\t<tr><td>14</td><td> 36</td></tr>\n",
       "\t<tr><td>14</td><td> 60</td></tr>\n",
       "\t<tr><td>14</td><td> 80</td></tr>\n",
       "\t<tr><td>15</td><td> 20</td></tr>\n",
       "\t<tr><td>15</td><td> 26</td></tr>\n",
       "\t<tr><td>15</td><td> 54</td></tr>\n",
       "\t<tr><td>16</td><td> 32</td></tr>\n",
       "\t<tr><td>16</td><td> 40</td></tr>\n",
       "\t<tr><td>17</td><td> 32</td></tr>\n",
       "\t<tr><td>17</td><td> 40</td></tr>\n",
       "\t<tr><td>17</td><td> 50</td></tr>\n",
       "\t<tr><td>18</td><td> 42</td></tr>\n",
       "\t<tr><td>18</td><td> 56</td></tr>\n",
       "\t<tr><td>18</td><td> 76</td></tr>\n",
       "\t<tr><td>18</td><td> 84</td></tr>\n",
       "\t<tr><td>19</td><td> 36</td></tr>\n",
       "\t<tr><td>19</td><td> 46</td></tr>\n",
       "\t<tr><td>19</td><td> 68</td></tr>\n",
       "\t<tr><td>20</td><td> 32</td></tr>\n",
       "\t<tr><td>20</td><td> 48</td></tr>\n",
       "\t<tr><td>20</td><td> 52</td></tr>\n",
       "\t<tr><td>20</td><td> 56</td></tr>\n",
       "\t<tr><td>20</td><td> 64</td></tr>\n",
       "\t<tr><td>22</td><td> 66</td></tr>\n",
       "\t<tr><td>23</td><td> 54</td></tr>\n",
       "\t<tr><td>24</td><td> 70</td></tr>\n",
       "\t<tr><td>24</td><td> 92</td></tr>\n",
       "\t<tr><td>24</td><td> 93</td></tr>\n",
       "\t<tr><td>24</td><td>120</td></tr>\n",
       "\t<tr><td>25</td><td> 85</td></tr>\n",
       "</tbody>\n",
       "</table>\n"
      ],
      "text/latex": [
       "A data.frame: 50 × 2\n",
       "\\begin{tabular}{ll}\n",
       " speed & dist\\\\\n",
       " <dbl> & <dbl>\\\\\n",
       "\\hline\n",
       "\t  4 &   2\\\\\n",
       "\t  4 &  10\\\\\n",
       "\t  7 &   4\\\\\n",
       "\t  7 &  22\\\\\n",
       "\t  8 &  16\\\\\n",
       "\t  9 &  10\\\\\n",
       "\t 10 &  18\\\\\n",
       "\t 10 &  26\\\\\n",
       "\t 10 &  34\\\\\n",
       "\t 11 &  17\\\\\n",
       "\t 11 &  28\\\\\n",
       "\t 12 &  14\\\\\n",
       "\t 12 &  20\\\\\n",
       "\t 12 &  24\\\\\n",
       "\t 12 &  28\\\\\n",
       "\t 13 &  26\\\\\n",
       "\t 13 &  34\\\\\n",
       "\t 13 &  34\\\\\n",
       "\t 13 &  46\\\\\n",
       "\t 14 &  26\\\\\n",
       "\t 14 &  36\\\\\n",
       "\t 14 &  60\\\\\n",
       "\t 14 &  80\\\\\n",
       "\t 15 &  20\\\\\n",
       "\t 15 &  26\\\\\n",
       "\t 15 &  54\\\\\n",
       "\t 16 &  32\\\\\n",
       "\t 16 &  40\\\\\n",
       "\t 17 &  32\\\\\n",
       "\t 17 &  40\\\\\n",
       "\t 17 &  50\\\\\n",
       "\t 18 &  42\\\\\n",
       "\t 18 &  56\\\\\n",
       "\t 18 &  76\\\\\n",
       "\t 18 &  84\\\\\n",
       "\t 19 &  36\\\\\n",
       "\t 19 &  46\\\\\n",
       "\t 19 &  68\\\\\n",
       "\t 20 &  32\\\\\n",
       "\t 20 &  48\\\\\n",
       "\t 20 &  52\\\\\n",
       "\t 20 &  56\\\\\n",
       "\t 20 &  64\\\\\n",
       "\t 22 &  66\\\\\n",
       "\t 23 &  54\\\\\n",
       "\t 24 &  70\\\\\n",
       "\t 24 &  92\\\\\n",
       "\t 24 &  93\\\\\n",
       "\t 24 & 120\\\\\n",
       "\t 25 &  85\\\\\n",
       "\\end{tabular}\n"
      ],
      "text/markdown": [
       "\n",
       "A data.frame: 50 × 2\n",
       "\n",
       "| speed &lt;dbl&gt; | dist &lt;dbl&gt; |\n",
       "|---|---|\n",
       "|  4 |   2 |\n",
       "|  4 |  10 |\n",
       "|  7 |   4 |\n",
       "|  7 |  22 |\n",
       "|  8 |  16 |\n",
       "|  9 |  10 |\n",
       "| 10 |  18 |\n",
       "| 10 |  26 |\n",
       "| 10 |  34 |\n",
       "| 11 |  17 |\n",
       "| 11 |  28 |\n",
       "| 12 |  14 |\n",
       "| 12 |  20 |\n",
       "| 12 |  24 |\n",
       "| 12 |  28 |\n",
       "| 13 |  26 |\n",
       "| 13 |  34 |\n",
       "| 13 |  34 |\n",
       "| 13 |  46 |\n",
       "| 14 |  26 |\n",
       "| 14 |  36 |\n",
       "| 14 |  60 |\n",
       "| 14 |  80 |\n",
       "| 15 |  20 |\n",
       "| 15 |  26 |\n",
       "| 15 |  54 |\n",
       "| 16 |  32 |\n",
       "| 16 |  40 |\n",
       "| 17 |  32 |\n",
       "| 17 |  40 |\n",
       "| 17 |  50 |\n",
       "| 18 |  42 |\n",
       "| 18 |  56 |\n",
       "| 18 |  76 |\n",
       "| 18 |  84 |\n",
       "| 19 |  36 |\n",
       "| 19 |  46 |\n",
       "| 19 |  68 |\n",
       "| 20 |  32 |\n",
       "| 20 |  48 |\n",
       "| 20 |  52 |\n",
       "| 20 |  56 |\n",
       "| 20 |  64 |\n",
       "| 22 |  66 |\n",
       "| 23 |  54 |\n",
       "| 24 |  70 |\n",
       "| 24 |  92 |\n",
       "| 24 |  93 |\n",
       "| 24 | 120 |\n",
       "| 25 |  85 |\n",
       "\n"
      ],
      "text/plain": [
       "   speed dist\n",
       "1   4      2 \n",
       "2   4     10 \n",
       "3   7      4 \n",
       "4   7     22 \n",
       "5   8     16 \n",
       "6   9     10 \n",
       "7  10     18 \n",
       "8  10     26 \n",
       "9  10     34 \n",
       "10 11     17 \n",
       "11 11     28 \n",
       "12 12     14 \n",
       "13 12     20 \n",
       "14 12     24 \n",
       "15 12     28 \n",
       "16 13     26 \n",
       "17 13     34 \n",
       "18 13     34 \n",
       "19 13     46 \n",
       "20 14     26 \n",
       "21 14     36 \n",
       "22 14     60 \n",
       "23 14     80 \n",
       "24 15     20 \n",
       "25 15     26 \n",
       "26 15     54 \n",
       "27 16     32 \n",
       "28 16     40 \n",
       "29 17     32 \n",
       "30 17     40 \n",
       "31 17     50 \n",
       "32 18     42 \n",
       "33 18     56 \n",
       "34 18     76 \n",
       "35 18     84 \n",
       "36 19     36 \n",
       "37 19     46 \n",
       "38 19     68 \n",
       "39 20     32 \n",
       "40 20     48 \n",
       "41 20     52 \n",
       "42 20     56 \n",
       "43 20     64 \n",
       "44 22     66 \n",
       "45 23     54 \n",
       "46 24     70 \n",
       "47 24     92 \n",
       "48 24     93 \n",
       "49 24    120 \n",
       "50 25     85 "
      ]
     },
     "metadata": {},
     "output_type": "display_data"
    }
   ],
   "source": [
    "data = datasets::cars\n",
    "data\n"
   ]
  },
  {
   "cell_type": "code",
   "execution_count": 2,
   "id": "db354b63",
   "metadata": {
    "colab": {
     "base_uri": "https://localhost:8080/",
     "height": 34
    },
    "executionInfo": {
     "elapsed": 485,
     "status": "ok",
     "timestamp": 1635951356507,
     "user": {
      "displayName": "Komlan DANTODJI",
      "photoUrl": "https://lh3.googleusercontent.com/a-/AOh14Giudkox61JTwK1TfSB9NpVV5C_pQ1IMY_A_gRItEA=s64",
      "userId": "11989658833991652359"
     },
     "user_tz": -60
    },
    "id": "db354b63",
    "outputId": "e0346239-7b6b-4156-db70-b671fac6ca3a"
   },
   "outputs": [
    {
     "data": {
      "text/html": [
       "42.98"
      ],
      "text/latex": [
       "42.98"
      ],
      "text/markdown": [
       "42.98"
      ],
      "text/plain": [
       "[1] 42.98"
      ]
     },
     "metadata": {},
     "output_type": "display_data"
    }
   ],
   "source": [
    "#Distance mean\n",
    "dist_mean <- mean(data$dist)\n",
    "dist_mean\n"
   ]
  },
  {
   "cell_type": "code",
   "execution_count": 3,
   "id": "95nHZ7CF3UzS",
   "metadata": {
    "colab": {
     "base_uri": "https://localhost:8080/",
     "height": 34
    },
    "executionInfo": {
     "elapsed": 1009,
     "status": "ok",
     "timestamp": 1635951360346,
     "user": {
      "displayName": "Komlan DANTODJI",
      "photoUrl": "https://lh3.googleusercontent.com/a-/AOh14Giudkox61JTwK1TfSB9NpVV5C_pQ1IMY_A_gRItEA=s64",
      "userId": "11989658833991652359"
     },
     "user_tz": -60
    },
    "id": "95nHZ7CF3UzS",
    "outputId": "1e838152-a37b-4d22-c956-9b11da50b77f"
   },
   "outputs": [
    {
     "data": {
      "text/html": [
       "15.4"
      ],
      "text/latex": [
       "15.4"
      ],
      "text/markdown": [
       "15.4"
      ],
      "text/plain": [
       "[1] 15.4"
      ]
     },
     "metadata": {},
     "output_type": "display_data"
    }
   ],
   "source": [
    "#Speed mean\n",
    "speed_mean <- mean(data$speed)\n",
    "speed_mean"
   ]
  },
  {
   "cell_type": "code",
   "execution_count": 4,
   "id": "EtSIO4wi34zA",
   "metadata": {
    "colab": {
     "base_uri": "https://localhost:8080/",
     "height": 34
    },
    "executionInfo": {
     "elapsed": 554,
     "status": "ok",
     "timestamp": 1635951364613,
     "user": {
      "displayName": "Komlan DANTODJI",
      "photoUrl": "https://lh3.googleusercontent.com/a-/AOh14Giudkox61JTwK1TfSB9NpVV5C_pQ1IMY_A_gRItEA=s64",
      "userId": "11989658833991652359"
     },
     "user_tz": -60
    },
    "id": "EtSIO4wi34zA",
    "outputId": "ae196843-f63f-4306-c0b3-4759655ba769"
   },
   "outputs": [
    {
     "data": {
      "text/html": [
       "664.060816326531"
      ],
      "text/latex": [
       "664.060816326531"
      ],
      "text/markdown": [
       "664.060816326531"
      ],
      "text/plain": [
       "[1] 664.0608"
      ]
     },
     "metadata": {},
     "output_type": "display_data"
    }
   ],
   "source": [
    "#Variance des distances\n",
    "var_dist <- var(data$dist)\n",
    "var_dist"
   ]
  },
  {
   "cell_type": "code",
   "execution_count": 5,
   "id": "G61k_bYy3gcF",
   "metadata": {
    "colab": {
     "base_uri": "https://localhost:8080/",
     "height": 34
    },
    "executionInfo": {
     "elapsed": 570,
     "status": "ok",
     "timestamp": 1635951367266,
     "user": {
      "displayName": "Komlan DANTODJI",
      "photoUrl": "https://lh3.googleusercontent.com/a-/AOh14Giudkox61JTwK1TfSB9NpVV5C_pQ1IMY_A_gRItEA=s64",
      "userId": "11989658833991652359"
     },
     "user_tz": -60
    },
    "id": "G61k_bYy3gcF",
    "outputId": "66ada85e-156a-4315-bc61-32f0572eee14"
   },
   "outputs": [
    {
     "data": {
      "text/html": [
       "27.9591836734694"
      ],
      "text/latex": [
       "27.9591836734694"
      ],
      "text/markdown": [
       "27.9591836734694"
      ],
      "text/plain": [
       "[1] 27.95918"
      ]
     },
     "metadata": {},
     "output_type": "display_data"
    }
   ],
   "source": [
    "#Variance des vitesses\n",
    "var_speed <- var(data$speed)\n",
    "var_speed"
   ]
  },
  {
   "cell_type": "code",
   "execution_count": 6,
   "id": "e1Q5o_Hn7Uxo",
   "metadata": {
    "colab": {
     "base_uri": "https://localhost:8080/",
     "height": 34
    },
    "executionInfo": {
     "elapsed": 457,
     "status": "ok",
     "timestamp": 1635951371409,
     "user": {
      "displayName": "Komlan DANTODJI",
      "photoUrl": "https://lh3.googleusercontent.com/a-/AOh14Giudkox61JTwK1TfSB9NpVV5C_pQ1IMY_A_gRItEA=s64",
      "userId": "11989658833991652359"
     },
     "user_tz": -60
    },
    "id": "e1Q5o_Hn7Uxo",
    "outputId": "6d34ade3-ea43-46f9-d5db-aca8c3e93204"
   },
   "outputs": [
    {
     "data": {
      "text/html": [
       "109.94693877551"
      ],
      "text/latex": [
       "109.94693877551"
      ],
      "text/markdown": [
       "109.94693877551"
      ],
      "text/plain": [
       "[1] 109.9469"
      ]
     },
     "metadata": {},
     "output_type": "display_data"
    }
   ],
   "source": [
    "#Covariance entre distance et vitesse\n",
    "cov_dist_speed = cov(data$speed, data$dist)\n",
    "cov_dist_speed"
   ]
  },
  {
   "cell_type": "code",
   "execution_count": 7,
   "id": "C2DzEOfO7U_U",
   "metadata": {
    "colab": {
     "base_uri": "https://localhost:8080/",
     "height": 34
    },
    "executionInfo": {
     "elapsed": 435,
     "status": "ok",
     "timestamp": 1635951374368,
     "user": {
      "displayName": "Komlan DANTODJI",
      "photoUrl": "https://lh3.googleusercontent.com/a-/AOh14Giudkox61JTwK1TfSB9NpVV5C_pQ1IMY_A_gRItEA=s64",
      "userId": "11989658833991652359"
     },
     "user_tz": -60
    },
    "id": "C2DzEOfO7U_U",
    "outputId": "b7c09138-6791-4c5a-a6ab-89fb7e3887b7"
   },
   "outputs": [
    {
     "data": {
      "text/html": [
       "3.93240875912409"
      ],
      "text/latex": [
       "3.93240875912409"
      ],
      "text/markdown": [
       "3.93240875912409"
      ],
      "text/plain": [
       "[1] 3.932409"
      ]
     },
     "metadata": {},
     "output_type": "display_data"
    }
   ],
   "source": [
    "#Calcule de a by speed\n",
    "a_by_speed = cov_dist_speed / var_speed\n",
    "a_by_speed"
   ]
  },
  {
   "cell_type": "code",
   "execution_count": 8,
   "id": "yMRQ6pbe8NWi",
   "metadata": {
    "colab": {
     "base_uri": "https://localhost:8080/",
     "height": 34
    },
    "executionInfo": {
     "elapsed": 561,
     "status": "ok",
     "timestamp": 1635951378697,
     "user": {
      "displayName": "Komlan DANTODJI",
      "photoUrl": "https://lh3.googleusercontent.com/a-/AOh14Giudkox61JTwK1TfSB9NpVV5C_pQ1IMY_A_gRItEA=s64",
      "userId": "11989658833991652359"
     },
     "user_tz": -60
    },
    "id": "yMRQ6pbe8NWi",
    "outputId": "64b957ed-da97-48c1-92c8-62f41821fd94"
   },
   "outputs": [
    {
     "data": {
      "text/html": [
       "0.165567574644319"
      ],
      "text/latex": [
       "0.165567574644319"
      ],
      "text/markdown": [
       "0.165567574644319"
      ],
      "text/plain": [
       "[1] 0.1655676"
      ]
     },
     "metadata": {},
     "output_type": "display_data"
    }
   ],
   "source": [
    "#Calcule de a by dist\n",
    "a_by_dist = cov_dist_speed / var_dist\n",
    "a_by_dist"
   ]
  },
  {
   "cell_type": "code",
   "execution_count": 9,
   "id": "HwwTSYYMAgna",
   "metadata": {
    "colab": {
     "base_uri": "https://localhost:8080/",
     "height": 34
    },
    "executionInfo": {
     "elapsed": 457,
     "status": "ok",
     "timestamp": 1635951387240,
     "user": {
      "displayName": "Komlan DANTODJI",
      "photoUrl": "https://lh3.googleusercontent.com/a-/AOh14Giudkox61JTwK1TfSB9NpVV5C_pQ1IMY_A_gRItEA=s64",
      "userId": "11989658833991652359"
     },
     "user_tz": -60
    },
    "id": "HwwTSYYMAgna",
    "outputId": "4d02a1f4-4762-4d0d-a3e9-feecc4296c41"
   },
   "outputs": [
    {
     "data": {
      "text/html": [
       "-17.579094890511"
      ],
      "text/latex": [
       "-17.579094890511"
      ],
      "text/markdown": [
       "-17.579094890511"
      ],
      "text/plain": [
       "[1] -17.57909"
      ]
     },
     "metadata": {},
     "output_type": "display_data"
    }
   ],
   "source": [
    "#Calcule de b by speed\n",
    "b_by_speed = dist_mean - a_by_speed * speed_mean\n",
    "b_by_speed"
   ]
  },
  {
   "cell_type": "code",
   "execution_count": 10,
   "id": "6-eExv4QAg3M",
   "metadata": {
    "colab": {
     "base_uri": "https://localhost:8080/",
     "height": 34
    },
    "executionInfo": {
     "elapsed": 478,
     "status": "ok",
     "timestamp": 1635951390993,
     "user": {
      "displayName": "Komlan DANTODJI",
      "photoUrl": "https://lh3.googleusercontent.com/a-/AOh14Giudkox61JTwK1TfSB9NpVV5C_pQ1IMY_A_gRItEA=s64",
      "userId": "11989658833991652359"
     },
     "user_tz": -60
    },
    "id": "6-eExv4QAg3M",
    "outputId": "dd5fe0d1-e698-4544-8a83-bbf84963a87b"
   },
   "outputs": [
    {
     "data": {
      "text/html": [
       "8.28390564178717"
      ],
      "text/latex": [
       "8.28390564178717"
      ],
      "text/markdown": [
       "8.28390564178717"
      ],
      "text/plain": [
       "[1] 8.283906"
      ]
     },
     "metadata": {},
     "output_type": "display_data"
    }
   ],
   "source": [
    "#Calcule de b by dist\n",
    "b_by_dist =  speed_mean - a_by_dist * dist_mean\n",
    "b_by_dist"
   ]
  },
  {
   "cell_type": "markdown",
   "id": "8Sn0Fmw3CtFe",
   "metadata": {
    "id": "8Sn0Fmw3CtFe"
   },
   "source": [
    "**Equation de la distance par rapport à la vitesse**\n",
    "\n",
    "dist = 3.93 * speed -17.57\n",
    "\n",
    "**Equation de la vitesse par rapport à la distance**\n",
    "\n",
    "speed = 0.165 * dist + 8.28"
   ]
  },
  {
   "cell_type": "code",
   "execution_count": null,
   "id": "juaKhV0SCqW5",
   "metadata": {
    "id": "juaKhV0SCqW5"
   },
   "outputs": [],
   "source": []
  },
  {
   "cell_type": "markdown",
   "id": "kJJw_4nxDXxR",
   "metadata": {
    "id": "kJJw_4nxDXxR"
   },
   "source": [
    "**Representation Graphique**"
   ]
  },
  {
   "cell_type": "code",
   "execution_count": 11,
   "id": "F2BBXVzZ9ljS",
   "metadata": {
    "colab": {
     "base_uri": "https://localhost:8080/",
     "height": 437
    },
    "executionInfo": {
     "elapsed": 716,
     "status": "ok",
     "timestamp": 1635951396834,
     "user": {
      "displayName": "Komlan DANTODJI",
      "photoUrl": "https://lh3.googleusercontent.com/a-/AOh14Giudkox61JTwK1TfSB9NpVV5C_pQ1IMY_A_gRItEA=s64",
      "userId": "11989658833991652359"
     },
     "user_tz": -60
    },
    "id": "F2BBXVzZ9ljS",
    "outputId": "97012e06-20e2-4503-8019-ae7f221ddecc"
   },
   "outputs": [
    {
     "data": {
      "image/png": "[encoded data removed]",
      "text/plain": [
       "plot without title"
      ]
     },
     "metadata": {
      "image/png": {
       "height": 420,
       "width": 420
      }
     },
     "output_type": "display_data"
    }
   ],
   "source": [
    "#Droite Distance en fonction de vitesse\n",
    "#dist = 3.93 * speed -17.57\n",
    "plot(data$dist, data$speed)\n",
    "abline(b_by_speed, a_by_speed, col='red', lwd=2)\n",
    "abline(b_by_dist, a_by_dist, col='green', lwd=2)"
   ]
  },
  {
   "cell_type": "code",
   "execution_count": 12,
   "id": "idPSUIdK4Yhg",
   "metadata": {
    "colab": {
     "base_uri": "https://localhost:8080/",
     "height": 34
    },
    "executionInfo": {
     "elapsed": 549,
     "status": "ok",
     "timestamp": 1635951401703,
     "user": {
      "displayName": "Komlan DANTODJI",
      "photoUrl": "https://lh3.googleusercontent.com/a-/AOh14Giudkox61JTwK1TfSB9NpVV5C_pQ1IMY_A_gRItEA=s64",
      "userId": "11989658833991652359"
     },
     "user_tz": -60
    },
    "id": "idPSUIdK4Yhg",
    "outputId": "f97ab162-ff7b-4010-a078-c287c982a55f"
   },
   "outputs": [
    {
     "data": {
      "text/html": [
       "48.0322975432062"
      ],
      "text/latex": [
       "48.0322975432062"
      ],
      "text/markdown": [
       "48.0322975432062"
      ],
      "text/plain": [
       "[1] 48.0323"
      ]
     },
     "metadata": {},
     "output_type": "display_data"
    }
   ],
   "source": [
    "angle <- atan(abs((a_by_speed - (1/ a_by_dist))) / (1+(a_by_speed / a_by_dist)))*180*pi\n",
    "angle "
   ]
  },
  {
   "cell_type": "code",
   "execution_count": null,
   "id": "7c0fb0a8",
   "metadata": {
    "id": "7c0fb0a8"
   },
   "outputs": [],
   "source": []
  },
  {
   "cell_type": "code",
   "execution_count": null,
   "id": "46dfed93",
   "metadata": {
    "id": "46dfed93"
   },
   "outputs": [],
   "source": []
  }
 ],
 "metadata": {
  "colab": {
   "name": "TP2.ipynb",
   "provenance": []
  },
  "kernelspec": {
   "display_name": "R",
   "language": "R",
   "name": "ir"
  },
  "language_info": {
   "codemirror_mode": "r",
   "file_extension": ".r",
   "mimetype": "text/x-r-source",
   "name": "R",
   "pygments_lexer": "r",
   "version": "4.1.2"
  }
 },
 "nbformat": 4,
 "nbformat_minor": 5
}
