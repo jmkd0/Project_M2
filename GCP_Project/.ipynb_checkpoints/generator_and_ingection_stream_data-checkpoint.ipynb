{
 "cells": [
  {
   "cell_type": "code",
   "execution_count": 43,
   "id": "ef941b04",
   "metadata": {},
   "outputs": [],
   "source": [
    "import pandas as pd\n",
    "import numpy as np\n",
    "import random\n",
    "import time\n",
    "import uuid\n",
    "from datetime import datetime\n",
    "from email.utils import parsedate_to_datetime\n",
    "\n",
    "size = 25000\n",
    "dates = range(int(time.mktime(( 2022, 1, 1, 0, 0, 0, 0, 0, 0))), int(time.mktime(( 2022, 1, 31, 0, 0, 0, 0, 0, 0)) ))\n",
    "users_ids = [uuid.uuid4() for i in range(1000)]\n",
    "users_advertiser_ids = [uuid.uuid4() for i in range((500))]\n",
    "countries = {\"FR\":\"France\",\"GE\":\"Geramny\",\"US\":\"United States\",\"CA\":\"Canada\",\"EN\":\"England\",\"SP\":\"Spain\",\"BR\":\"Brasil\"}\n",
    "browsers = {\"345978365835376\":\"Chrome\",\"8753685264337\":\"Mozilla Firefox\",\"65784523663644\":\"Opera\",\"2109367534582756\":\"Microsoft Edge\",\"4534637355634\":\"Brave\"}\n",
    "data = pd.DataFrame()\n",
    "data[\"Landing Page URL ID\"] = [uuid.uuid4() for i in range(size)]\n",
    "data[\"Referrer URL\"] = [random.choice(['https://junglebike.fr/casque.html','https://www.amazon.fr/pulles/', 'https://www.cdiscount.com/', 'https://fr.aliexpress.com/', 'https://shopping.google.fr/']) for i in range(size)]\n",
    "data[\"Impression ID\"] = [random.choice([\"AS\",\"BP\",\"AK\",\"BS\"])+str(random.choice(range(983456786862, 983456786862+200))) for i in range(size)]\n",
    "data[\"Asset ID\"] = [random.choice(range(1011566786, 1011566786+1000)) for i in range(size)]\n",
    "data[\"Active View: Eligible Impressions\"] = [random.choice(range(56863854982, 56863854982+2000)) for i in range(size)]\n",
    "data[\"Active View: Measurable Impressions\"] = [random.choice(range(7743646, 7743646+200)) for i in range(size)]\n",
    "data[\"Active View: Viewable Impressions\"] = [random.choice(range(4436462, 4436462+100)) for i in range(size)]\n",
    "data[\"Activity ID\"] = [random.choice(range(2398, 2398+50)) for i in range(size)]\n",
    "data[\"Event Time\"] = [parsedate_to_datetime(time.ctime(random.choice(dates))).replace(tzinfo=None).strftime(\"%Y-%m-%d %H:%M:%S\") for i in range(size)]\n",
    "data[\"Event Type\"] = [random.choice(['VIEW', 'CLICK', 'CONVERSION', None]) for i in range(size)]\n",
    "data[\"Event Sub-Type\"] = [random.choice(['VIEW', 'CLICK', 'POSTVIEW','POSTCLICK', None]) for i in range(size)]\n",
    "\n",
    "data[\"User ID\"] = [random.choice(users_ids) for i in range(size)]\n",
    "data[\"Advertiser ID\"] = [random.choice(range(5678, 5678+235)) for i in range(size)]\n",
    "data[\"Campaign ID\"] = [random.choice(range(6768675387, 6768675387+100)) for i in range(size)]\n",
    "data[\"Floodlight Configuration\"] = [random.choice(range(1209785242, 1209785242+100)) for i in range(size)]\n",
    "data[\"Ad ID\"] = [random.choice(users_advertiser_ids) for i in range(size)]\n",
    "data[\"Rendering ID\"] = [random.choice(range(565726383, 565726383+50))  for i in range(size)]\n",
    "data[\"Creative Version\"] = [random.choice(range(67725, 67725+600)) for i in range(size)]\n",
    "data[\"Site ID (DCM)\"] = [random.choice(range(67725, 67725+600)) for i in range(size)]\n",
    "data[\"Placement ID\"] = [random.choice(range(565726383, 565726383+50)) for i in range(size)]\n",
    "data[\"Country Code\"] = random.choices(list(countries.keys()), weights=[0.15117245, 0.174, 0.25081, 0.116, 0.1256, 0.09, 0.08], k=size)\n",
    "data[\"State/Region\"] = data[\"Country Code\"].apply(lambda x: countries[x])\n",
    "data[\"Browser/Platform ID\"] = random.choices(list(browsers.keys()), weights=[0.4817245, 0.24, 0.06081, 0.156, 0.056], k=size)\n",
    "#data[\"Browser/Platform Version\"] = data[\"Browser/Platform ID\"].apply(lambda x: browsers[x])\n",
    "data.to_csv(\"/Users/komlan/Project_M2/GCP_Project/doubleclick_dataset.csv\")"
   ]
  },
  {
   "cell_type": "code",
   "execution_count": 29,
   "id": "df231761",
   "metadata": {},
   "outputs": [
    {
     "name": "stdout",
     "output_type": "stream",
     "text": [
      "(25000, 23)\n",
      "{'Landing_Page_URL_ID': 'd98ee0a4-b54d-48b4-99f8-7c25610fe885', 'Referrer_URL': 'https://www.cdiscount.com/', 'Impression_ID': 'AS983456787060', 'Asset_ID': 1011567140, 'Active_View_Eligible_Impressions': 56863856630, 'Active_View_Measurable_Impressions': 7743840, 'Active_View_Viewable_Impressions': 4436560, 'Activity_ID': 2398, 'Event_Time': '2022-01-01 05:22:29', 'Event_Type': 'CLICK', 'Event_Sub_Type': 'CLICK', 'User_ID': '7496f23a-4dfa-4942-8073-7796e18e5198', 'Advertiser_ID': 5906, 'Campaign_ID': 6768675483, 'Floodlight_Configuration': 1209785314, 'Ad_ID': 'cfefe4e2-44a8-4156-b247-7ef66853a36a', 'Rendering_ID': 565726430, 'Creative_Version': 67915, 'Site_ID_DCM': 68139, 'Placement_ID': 565726415, 'Country_Code': 'US', 'State_Region': 'United States', 'Browser_Plateform_ID': 345978365835376}\n"
     ]
    }
   ],
   "source": [
    "import os\n",
    "import pandas as pd\n",
    "import json\n",
    "import time\n",
    "from google.cloud import pubsub_v1 #pip install --upgrade google-cloud-pubsub\n",
    "credentials_path = \"/Users/komlan/Project_M2/GCP_Project/noted-slice-364618-edb88fef1cbb.json\"\n",
    "os.environ['GOOGLE_APPLICATION_CREDENTIALS'] = credentials_path\n",
    "publisher = pubsub_v1.PublisherClient()\n",
    "topic_path = \"projects/noted-slice-364618/topics/topic-doubleclick\"\n",
    "#topic_path = \"projects/doubleclick-project-340112/topics/topic_browser\"\n",
    "keys = [\"Landing_Page_URL_ID\",\"Referrer_URL\",\"Impression_ID\",\"Asset_ID\",\"Active_View_Eligible_Impressions\",\n",
    "        \"Active_View_Measurable_Impressions\",\"Active_View_Viewable_Impressions\",\"Activity_ID\",\"Event_Time\",\n",
    "        \"Event_Type\",\"Event_Sub_Type\",\"User_ID\",\"Advertiser_ID\",\"Campaign_ID\",\"Floodlight_Configuration\",\n",
    "        \"Ad_ID\",\"Rendering_ID\",\"Creative_Version\",\"Site_ID_DCM\",\"Placement_ID\",\"Country_Code\",\"State_Region\",\n",
    "        \"Browser_Plateform_ID\"]\n",
    "data = pd.read_csv(\"/Users/komlan/Project_M2/GCP_Project/doubleclick_dataset.csv\").drop(['Unnamed: 0'], axis=1)\n",
    "\n",
    "cpt = 0\n",
    "stream_data = data\n",
    "print(data.shape)\n",
    "for i, line in stream_data.iterrows():\n",
    "    row = {}\n",
    "    for j, val in enumerate(line):\n",
    "        row[keys[j]] = val\n",
    "    \n",
    "    row[\"Landing_Page_URL_ID\"] = str(row[\"Landing_Page_URL_ID\"]).replace(\" : \",\"_\")\n",
    "    row[\"User_ID\"] = str(row[\"User_ID\"])\n",
    "    row[\"Ad_ID\"] = str(row[\"Ad_ID\"])\n",
    "    row[\"Impression_ID\"] = row[\"Impression_ID\"].replace(\" : \",\"_\")\n",
    "    row[\"Country_Code\"] = None if pd.isnull(row[\"Country_Code\"]) else row[\"Country_Code\"]\n",
    "    row[\"Event_Sub_Type\"] = None if pd.isnull(row[\"Event_Sub_Type\"]) else row[\"Event_Sub_Type\"]\n",
    "    print(row)\n",
    "    attributes = json.dumps(row).encode(\"utf-8\")\n",
    "    future = publisher.publish(topic_path, attributes)\n",
    "    #print(future.result())\n",
    "    cpt += 1\n",
    "    if cpt % 1 == 0:\n",
    "        break\n",
    "        time.sleep(10)"
   ]
  },
  {
   "cell_type": "code",
   "execution_count": null,
   "id": "d6e401d4",
   "metadata": {},
   "outputs": [],
   "source": []
  },
  {
   "cell_type": "code",
   "execution_count": 2,
   "id": "b874b2bc",
   "metadata": {},
   "outputs": [
    {
     "ename": "SyntaxError",
     "evalue": "invalid syntax (2274484936.py, line 1)",
     "output_type": "error",
     "traceback": [
      "\u001b[0;36m  File \u001b[0;32m\"/var/folders/f9/r8b1hbc521q0393y0lfxn0wr0000gn/T/ipykernel_28079/2274484936.py\"\u001b[0;36m, line \u001b[0;32m1\u001b[0m\n\u001b[0;31m    bq mk doubleclick_data.stream_data Landing_Page_URL_ID:STRING,Referrer_URL:STRING,Impression_ID:STRING,Asset_ID:INTEGER,Active_View_Eligible_Impressions:INTEGER,Active_View_Measurable_Impressions:INTEGER,Active_View_Viewable_Impressions:INTEGER,Activity_ID:INTEGER,Event_Time:TIMESTAMP,Event_Type:STRING,Event_Sub_Type:STRING,User_ID:STRING,Advertiser_ID:INTEGER,Campaign_ID:INTEGER,Floodlight_Configuration:INTEGER,Ad_ID:STRING,Rendering_ID:INTEGER,Creative_Version:INTEGER,Site_ID_DCM:INTEGER,Placement_ID:INTEGER,Country_Code:STRING,State_Region:STRING,Browser_Platform_ID:INTEGER\u001b[0m\n\u001b[0m       ^\u001b[0m\n\u001b[0;31mSyntaxError\u001b[0m\u001b[0;31m:\u001b[0m invalid syntax\n"
     ]
    }
   ],
   "source": [
    "bq mk doubleclick_data.stream_data Landing_Page_URL_ID:STRING,Referrer_URL:STRING,Impression_ID:STRING,Asset_ID:INTEGER,Active_View_Eligible_Impressions:INTEGER,Active_View_Measurable_Impressions:INTEGER,Active_View_Viewable_Impressions:INTEGER,Activity_ID:INTEGER,Event_Time:TIMESTAMP,Event_Type:STRING,Event_Sub_Type:STRING,User_ID:STRING,Advertiser_ID:INTEGER,Campaign_ID:INTEGER,Floodlight_Configuration:INTEGER,Ad_ID:STRING,Rendering_ID:INTEGER,Creative_Version:INTEGER,Site_ID_DCM:INTEGER,Placement_ID:INTEGER,Country_Code:STRING,State_Region:STRING,Browser_Platform_ID:INTEGER\n",
    "                                                                                            \n",
    "                                                                                            "
   ]
  },
  {
   "cell_type": "code",
   "execution_count": null,
   "id": "eac817b5",
   "metadata": {},
   "outputs": [],
   "source": [
    "{\"Landing_Page_URL_ID\": \"573054e2-f9a0-458d-8ae2-c0a9596c13da\", \"Referrer_URL\": \"https://shopping.google.fr/\", \"Impression_ID\": \"AS983456786941\", \"Asset_ID\": 1011567153, \"Active_View_Eligible_Impressions\": 56863856569, \"Active_View_Measurable_Impressions\": 7743725, \"Active_View_Viewable_Impressions\": 4436466, \"Activity_ID\": 2444, \"Event_Time\": \"2022-01-01 04:38:37\", \"Event_Type\": \"CLICK\", \"Event_Sub_Type\": NaN, \"User_ID\": \"ef8059fd-ee67-423b-8a29-3bb9df3ddb2e\", \"Advertiser_ID\": 5866, \"Campaign_ID\": 6768675418, \"Floodlight_Configuration\": 1209785269, \"Ad_ID\": \"34e6ed8e-e72e-4a1c-aa7d-f2068239a5c3\", \"Rendering_ID\": 565726392, \"Creative_Version\": 68215, \"Site_ID_DCM\": 68057, \"Placement_ID\": 565726431, \"Country_Code\": \"GE\", \"State_Region\": \"Geramny\", \"Browser_Platform_ID\": 345978365835376}\n",
    "\n",
    "\n"
   ]
  },
  {
   "cell_type": "code",
   "execution_count": 32,
   "id": "cc3c4410",
   "metadata": {},
   "outputs": [
    {
     "data": {
      "text/plain": [
       "1643954280.835435"
      ]
     },
     "execution_count": 32,
     "metadata": {},
     "output_type": "execute_result"
    }
   ],
   "source": [
    "{\"345978365835376\":\"Chrome\",\"8753685264337\":\"Mozilla Firefox\",\"65784523663644\":\"Opera\",\"2109367534582756\":\"Microsoft Edge\",\"4534637355634\":\"Brave\"}\n",
    "[0.58, 0.34, 0.0978, 0.256]"
   ]
  },
  {
   "cell_type": "code",
   "execution_count": 3,
   "id": "efd61c67",
   "metadata": {},
   "outputs": [],
   "source": [
    "browser = pd.DataFrame()\n",
    "browser[\"Browser_Plateform_ID\"] = [345978365835376,8753685264337,65784523663644,2109367534582756,4534637355634]\n",
    "browser[\"Browser_Plateform\"] = [\"Chrome\",\"Mozilla Firefox\",\"Opera\",\"Microsoft Edge\",\"Brave\"]\n",
    "browser.to_csv(\"/Users/komlan/Project_M2/GCP_Project/doubleclick_browser.csv\", index=False)"
   ]
  },
  {
   "cell_type": "code",
   "execution_count": 110,
   "id": "07e904c6",
   "metadata": {},
   "outputs": [
    {
     "data": {
      "text/plain": [
       "['345978365835376',\n",
       " '8753685264337',\n",
       " '65784523663644',\n",
       " '2109367534582756',\n",
       " '4534637355634']"
      ]
     },
     "execution_count": 110,
     "metadata": {},
     "output_type": "execute_result"
    }
   ],
   "source": [
    "{\"FR\":\"France\",\"GE\":\"Geramny\",\"US\":\"United States\",\"CA\":\"Canada\",\"EN\":\"England\",\"SP\":\"Spain\",\"BR\":\"Brasil\"}"
   ]
  },
  {
   "cell_type": "code",
   "execution_count": 118,
   "id": "ad9a17ab",
   "metadata": {},
   "outputs": [
    {
     "data": {
      "text/plain": [
       "0.9875824499999999"
      ]
     },
     "execution_count": 118,
     "metadata": {},
     "output_type": "execute_result"
    }
   ],
   "source": [
    "[0.15117245, 0.174, 0.25081, 0.116, 0.1256, 0.09, 0.08]"
   ]
  },
  {
   "cell_type": "code",
   "execution_count": null,
   "id": "9b557f90",
   "metadata": {},
   "outputs": [],
   "source": [
    "[0.4817245, 0.24, 0.06081, 0.156, 0.056]"
   ]
  },
  {
   "cell_type": "code",
   "execution_count": 17,
   "id": "f35364df",
   "metadata": {},
   "outputs": [
    {
     "data": {
      "text/html": [
       "<div>\n",
       "<style scoped>\n",
       "    .dataframe tbody tr th:only-of-type {\n",
       "        vertical-align: middle;\n",
       "    }\n",
       "\n",
       "    .dataframe tbody tr th {\n",
       "        vertical-align: top;\n",
       "    }\n",
       "\n",
       "    .dataframe thead th {\n",
       "        text-align: right;\n",
       "    }\n",
       "</style>\n",
       "<table border=\"1\" class=\"dataframe\">\n",
       "  <thead>\n",
       "    <tr style=\"text-align: right;\">\n",
       "      <th></th>\n",
       "      <th>Id</th>\n",
       "      <th>Design</th>\n",
       "      <th>Price</th>\n",
       "      <th>Codeclt</th>\n",
       "    </tr>\n",
       "  </thead>\n",
       "  <tbody>\n",
       "    <tr>\n",
       "      <th>0</th>\n",
       "      <td>1A</td>\n",
       "      <td>Iphone,Faible</td>\n",
       "      <td>30</td>\n",
       "      <td>A</td>\n",
       "    </tr>\n",
       "    <tr>\n",
       "      <th>2</th>\n",
       "      <td>2B</td>\n",
       "      <td>Dell,HP</td>\n",
       "      <td>34</td>\n",
       "      <td>C</td>\n",
       "    </tr>\n",
       "  </tbody>\n",
       "</table>\n",
       "</div>"
      ],
      "text/plain": [
       "   Id         Design  Price Codeclt\n",
       "0  1A  Iphone,Faible     30       A\n",
       "2  2B        Dell,HP     34       C"
      ]
     },
     "execution_count": 17,
     "metadata": {},
     "output_type": "execute_result"
    }
   ],
   "source": [
    "bq mk doubleclick_data.stream_data Landing_Page_URL_ID:STRING,Referrer_URL:STRING,Impression_ID:STRING,Asset_ID:INTEGER,Active_View_Eligible_Impressions:INTEGER,Active_View_Measurable_Impressions:INTEGER,Active_View_Viewable_Impressions:INTEGER,Activity_ID:INTEGER,Event_Time:TIMESTAMP,Event_Type:STRING,Event_Sub_Type:STRING,User_ID:STRING,Advertiser_ID:INTEGER,Campaign_ID:INTEGER,Floodlight_Configuration:INTEGER,Ad_ID:STRING,Rendering_ID:INTEGER,Creative_Version:INTEGER,Site_ID_DCM:INTEGER,Placement_ID:INTEGER,Country_Code:STRING,State_Region:STRING,Browser_Platform_ID:INTEGER"
   ]
  },
  {
   "cell_type": "code",
   "execution_count": 36,
   "id": "3d57f2cf",
   "metadata": {},
   "outputs": [
    {
     "data": {
      "text/plain": [
       "'3e6cca88-7acf-4fce-95e4-7c86c2260b71'"
      ]
     },
     "execution_count": 36,
     "metadata": {},
     "output_type": "execute_result"
    }
   ],
   "source": []
  },
  {
   "cell_type": "code",
   "execution_count": 2,
   "id": "f7b5ccc7",
   "metadata": {},
   "outputs": [],
   "source": [
    "bq mk doubleclick_data.doubleclick_stream Landing_Page_URL_ID:STRING,Referrer_URL:STRING,Impression_ID:STRING,Asset_ID:INTEGER,Active_View_Eligible_Impressions:INTEGER,Active_View_Measurable_Impressions:INTEGER,Active_View__Viewable_Impressions:INTEGER,Activity_ID:INTEGER,Event_Time:INTEGER,Event_Type:STRING,Event_Sub_Type:INTEGER,User_ID:STRING,Advertiser_ID:INTEGER,Campaign_ID:INTEGER,Floodlight_Configuration:INTEGER,Ad_ID:INTEGER,Rendering_ID:INTEGER,Creative_Version:INTEGER,Site_ID_DCM:INTEGER,Placement_ID:INTEGER,Country_Code:STRING,State_Region:STRING,Browser_Platform_ID:INTEGER,Browser_Platform_Version:STRING,Operating_System_ID:INTEGER,Designated_Market_Area_DMA_ID:INTEGER,City_ID:INTEGER,ZIP_Postal_Code:INTEGER,Other_Data:STRING,ORD_Value:STRING,Interaction_Time:INTEGER,Conversion_ID:INTEGER,Segment_Value_1:INTEGER,Rich_Media_Event_ID:INTEGER,Rich_Media_Event_Type_ID:INTEGER,Total_Conversions:STRING,Total_Revenue:INTEGER,Event_Timers:STRING,Event_Counters:STRING,Partner1_ID:STRING,Partner2_ID:STRING,Google_Click_ID:STRING"
   ]
  },
  {
   "cell_type": "code",
   "execution_count": null,
   "id": "8183c16e",
   "metadata": {},
   "outputs": [],
   "source": [
    "import os\n",
    "import json\n",
    "import time\n",
    "from google.cloud import pubsub_v1 #pip install --upgrade google-cloud-pubsub\n",
    "credentials_path = \"/Users/komlan/Project_M2/GCP_Project/doubleclick-project-340112-8ce2b1fd999a.json\"\n",
    "os.environ['GOOGLE_APPLICATION_CREDENTIALS'] = credentials_path\n",
    "publisher = pubsub_v1.PublisherClient()\n",
    "#topic_path = \"projects/doubleclick-project-340112/topics/topic_stream\"\n",
    "topic_path = \"projects/doubleclick-project-340112/topics/topic_data_stream\"\n",
    "#topic_path = \"projects/doubleclick-project-340112/topics/topic_browser\"\n",
    "\n",
    "keys = [\"Landing_Page_URL_ID\",\"Referrer_URL\",\"Impression_ID\",\"Asset_ID\",\"Active_View_Eligible_Impressions\",\n",
    "\"Active_View_Measurable_Impressions\",\"Active_View__Viewable_Impressions\",\"Activity_ID\",\"Event_Time\",\n",
    "\"Event_Type\",\"Event_Sub_Type\",\"User_ID\",\"Advertiser_ID\",\"Campaign_ID\",\"Floodlight_Configuration\",\n",
    "\"Ad_ID\",\"Rendering_ID\",\"Creative_Version\",\"Site_ID_DCM\",\"Placement_ID\",\"Country_Code\",\"State_Region\",\n",
    "\"Browser_Platform_ID\",\"Browser_Platform_Version\",\"Operating_System_ID\",\"Designated_Market_Area_DMA_ID\",\n",
    "\"City_ID\",\"ZIP_Postal_Code\",\"Other_Data\",\"ORD_Value\",\"Interaction_Time\",\"Conversion_ID\",\"Segment_Value_1\",\n",
    "\"Rich_Media_Event_ID\",\"Rich_Media_Event_Type_ID\",\"Total_Conversions\",\"Total_Revenue\",\"Event_Timers\",\n",
    "\"Event_Counters\",\"Partner1_ID\",\"Partner2_ID\",\"Google_Click_ID\"]\n",
    "\n",
    "stream_data = pd.read_csv(\"/Users/komlan/Project_M2/GCP_Project/DoubleClick_1.csv\")#.drop([\"Unnamed: 0\"], axis=1)\n",
    "stream_data = stream_data.where(pd.notnull(stream_data), None)\n",
    "stream_data = stream_data[2:]\n",
    "cpt = 0\n",
    "for i, line in stream_data.iterrows():\n",
    "    row = {}\n",
    "    for j, val in enumerate(line):\n",
    "        row[keys[j]] = val\n",
    "    row[\"Landing_Page_URL_ID\"] = row[\"Landing_Page_URL_ID\"].replace(\" : \",\"_\")\n",
    "    row[\"Impression_ID\"] = row[\"Impression_ID\"].replace(\" : \",\"_\")\n",
    "    row[\"Country_Code\"] = None if pd.isnull(row[\"Country_Code\"]) else row[\"Country_Code\"]\n",
    "    print(row)\n",
    "    attributes = json.dumps(row).encode(\"utf-8\")\n",
    "\n",
    "    #print(row)\n",
    "    future = publisher.publish(topic_path, attributes)\n",
    "    cpt += 1\n",
    "    if cpt % 10 == 0:\n",
    "        time.sleep(10)"
   ]
  },
  {
   "cell_type": "code",
   "execution_count": 85,
   "id": "0c9f299f",
   "metadata": {},
   "outputs": [
    {
     "data": {
      "text/html": [
       "<div>\n",
       "<style scoped>\n",
       "    .dataframe tbody tr th:only-of-type {\n",
       "        vertical-align: middle;\n",
       "    }\n",
       "\n",
       "    .dataframe tbody tr th {\n",
       "        vertical-align: top;\n",
       "    }\n",
       "\n",
       "    .dataframe thead th {\n",
       "        text-align: right;\n",
       "    }\n",
       "</style>\n",
       "<table border=\"1\" class=\"dataframe\">\n",
       "  <thead>\n",
       "    <tr style=\"text-align: right;\">\n",
       "      <th></th>\n",
       "      <th>Landing Page URL ID</th>\n",
       "      <th>Referrer URL</th>\n",
       "      <th>Impression ID</th>\n",
       "      <th>Asset ID</th>\n",
       "      <th>Active View: Eligible Impressions</th>\n",
       "      <th>Active View: Measurable Impressions</th>\n",
       "      <th>Active View: Viewable Impressions</th>\n",
       "      <th>Activity ID</th>\n",
       "      <th>Event Time</th>\n",
       "      <th>Event Type</th>\n",
       "      <th>...</th>\n",
       "      <th>Segment Value 1</th>\n",
       "      <th>Rich Media Event ID</th>\n",
       "      <th>Rich Media Event Type ID</th>\n",
       "      <th>Total Conversions</th>\n",
       "      <th>Total Revenue</th>\n",
       "      <th>Event Timers</th>\n",
       "      <th>Event Counters</th>\n",
       "      <th>Partner1 ID</th>\n",
       "      <th>Partner2 ID</th>\n",
       "      <th>Google Click ID</th>\n",
       "    </tr>\n",
       "  </thead>\n",
       "  <tbody>\n",
       "    <tr>\n",
       "      <th>1</th>\n",
       "      <td>ID : 1</td>\n",
       "      <td>https://www.rueducommerce.fr</td>\n",
       "      <td>impr : 3</td>\n",
       "      <td>166142</td>\n",
       "      <td>7125434</td>\n",
       "      <td>794278</td>\n",
       "      <td>1449473</td>\n",
       "      <td>5836454</td>\n",
       "      <td>1645215188833</td>\n",
       "      <td>None</td>\n",
       "      <td>...</td>\n",
       "      <td>2062568</td>\n",
       "      <td>5009463</td>\n",
       "      <td>9963164</td>\n",
       "      <td>qty=3</td>\n",
       "      <td>6032000</td>\n",
       "      <td>etm = 531894</td>\n",
       "      <td>ecn = 8951035</td>\n",
       "      <td>ykivxwbqwhucuxy240037</td>\n",
       "      <td>zpdjkkklkgupptj893180</td>\n",
       "      <td>&lt;img src=https://fnac.com?wiwzmqjfpmonacu&gt;</td>\n",
       "    </tr>\n",
       "  </tbody>\n",
       "</table>\n",
       "<p>1 rows × 42 columns</p>\n",
       "</div>"
      ],
      "text/plain": [
       "  Landing Page URL ID                  Referrer URL Impression ID  Asset ID  \\\n",
       "1              ID : 1  https://www.rueducommerce.fr      impr : 3    166142   \n",
       "\n",
       "   Active View: Eligible Impressions  Active View: Measurable Impressions  \\\n",
       "1                            7125434                               794278   \n",
       "\n",
       "   Active View: Viewable Impressions  Activity ID     Event Time Event Type  \\\n",
       "1                            1449473      5836454  1645215188833       None   \n",
       "\n",
       "   ...  Segment Value 1 Rich Media Event ID  Rich Media Event Type ID  \\\n",
       "1  ...          2062568             5009463                   9963164   \n",
       "\n",
       "   Total Conversions  Total Revenue  Event Timers  Event Counters  \\\n",
       "1              qty=3        6032000  etm = 531894   ecn = 8951035   \n",
       "\n",
       "             Partner1 ID            Partner2 ID  \\\n",
       "1  ykivxwbqwhucuxy240037  zpdjkkklkgupptj893180   \n",
       "\n",
       "                              Google Click ID  \n",
       "1  <img src=https://fnac.com?wiwzmqjfpmonacu>  \n",
       "\n",
       "[1 rows x 42 columns]"
      ]
     },
     "execution_count": 85,
     "metadata": {},
     "output_type": "execute_result"
    }
   ],
   "source": [
    "stream_data.where(pd.notnull(stream_data), None)"
   ]
  },
  {
   "cell_type": "code",
   "execution_count": null,
   "id": "912244fb",
   "metadata": {},
   "outputs": [],
   "source": []
  },
  {
   "cell_type": "code",
   "execution_count": null,
   "id": "1cbad87b",
   "metadata": {},
   "outputs": [],
   "source": []
  },
  {
   "cell_type": "code",
   "execution_count": null,
   "id": "d32e844e",
   "metadata": {},
   "outputs": [],
   "source": [
    "import os\n",
    "import json\n",
    "from google.cloud import pubsub_v1 #pip install --upgrade google-cloud-pubsub\n",
    "credentials_path = \"/Users/komlan/Project_M2/GCP_Project/doubleclick-project-340112-8ce2b1fd999a.json\"\n",
    "os.environ['GOOGLE_APPLICATION_CREDENTIALS'] = credentials_path\n",
    "publisher = pubsub_v1.PublisherClient()\n",
    "topic_path = \"projects/doubleclick-project-340112/topics/topic_browser\"\n",
    "\n",
    "attributes = {\n",
    "    \"int64_field_0\":11,\n",
    "    \"Browser_Plateform_ID\":95323452655634,\n",
    "    \"Browser_Plateform\": \"DANTODJI\"\n",
    "}\n",
    "attributes = json.dumps(attributes).encode(\"utf-8\")\n",
    "\n",
    "future = publisher.publish(topic_path, attributes)\n",
    "print(future.result())"
   ]
  },
  {
   "cell_type": "code",
   "execution_count": null,
   "id": "09eab81b",
   "metadata": {},
   "outputs": [],
   "source": [
    "import os\n",
    "import json\n",
    "from google.cloud import pubsub_v1 #pip install --upgrade google-cloud-pubsub\n",
    "credentials_path = \"/Users/komlan/Project_M2/GCP_Project/doubleclick-project-340112-8ce2b1fd999a.json\"\n",
    "os.environ['GOOGLE_APPLICATION_CREDENTIALS'] = credentials_path\n",
    "publisher = pubsub_v1.PublisherClient()\n",
    "topic_path = \"projects/doubleclick-project-340112/topics/topic_stream\"\n",
    "#topic_path = \"projects/doubleclick-project-340112/topics/topic_browser\"\n",
    "keys = [\"Landing_Page_URL_ID\",\"Referrer_URL\",\"Impression_ID\",\"Asset_ID\",\"Active_View_Eligible_Impressions\",\n",
    "        \"Active_View_Measurable_Impressions\",\"Active_View_Viewable_Impressions\",\"Activity_ID\",\"Event_Time\",\n",
    "        \"Event_Type\",\"Event_Sub_Type\",\"User_ID\",\"Advertiser_ID\",\"Campaign_ID\",\"Floodlight_Configuration\",\n",
    "        \"Ad_ID\",\"Rendering_ID\",\"Creative_Version\",\"Site_ID_DCM\",\"Placement_ID\",\"Country_Code\",\"State_Region\",\n",
    "        \"Browser_Platform_ID\"]\n",
    "\n",
    "stream_data = data[3:100]\n",
    "for i, line in stream_data.iterrows():\n",
    "    row = {}\n",
    "    for j, val in enumerate(line):\n",
    "        row[keys[j]] = val\n",
    "    \n",
    "    row[\"Landing_Page_URL_ID\"] = str(row[\"Landing_Page_URL_ID\"])\n",
    "    row[\"User_ID\"] = str(row[\"User_ID\"])\n",
    "    row[\"Ad_ID\"] = str(row[\"Ad_ID\"])\n",
    "    attributes = json.dumps(row).encode(\"utf-8\")\n",
    "    print(attributes)\n",
    "    break\n",
    "    #future = publisher.publish(topic_path, attributes)\n",
    "    #print(future.result())"
   ]
  },
  {
   "cell_type": "code",
   "execution_count": null,
   "id": "faf1e5b2",
   "metadata": {},
   "outputs": [],
   "source": [
    "import os\n",
    "import json\n",
    "import time\n",
    "from google.cloud import pubsub_v1 #pip install --upgrade google-cloud-pubsub\n",
    "credentials_path = \"/Users/komlan/Project_M2/GCP_Project/doubleclick-project-340112-8ce2b1fd999a.json\"\n",
    "os.environ['GOOGLE_APPLICATION_CREDENTIALS'] = credentials_path\n",
    "publisher = pubsub_v1.PublisherClient()\n",
    "#topic_path = \"projects/doubleclick-project-340112/topics/topic_stream\"\n",
    "topic_path = \"projects/doubleclick-project-340112/topics/topic_data_stream\"\n",
    "#topic_path = \"projects/doubleclick-project-340112/topics/topic_browser\"\n",
    "keys = [\"Landing_Page_URL_ID\",\"Referrer_URL\",\"Impression_ID\",\"Asset_ID\",\"Active_View_Eligible_Impressions\",\n",
    "\"Active_View_Measurable_Impressions\",\"Active_View__Viewable_Impressions\",\"Activity_ID\",\"Event_Time\",\n",
    "\"Event_Type\",\"Event_Sub_Type\",\"User_ID\",\"Advertiser_ID\",\"Campaign_ID\",\"Floodlight_Configuration\",\n",
    "\"Ad_ID\",\"Rendering_ID\",\"Creative_Version\",\"Site_ID_DCM\",\"Placement_ID\",\"Country_Code\",\"State_Region\",\n",
    "\"Browser_Platform_ID\",\"Browser_Platform_Version\",\"Operating_System_ID\",\"Designated_Market_Area_DMA_ID\",\n",
    "\"City_ID\",\"ZIP_Postal_Code\",\"Other_Data\",\"ORD_Value\",\"Interaction_Time\",\"Conversion_ID\",\"Segment_Value_1\",\n",
    "\"Rich_Media_Event_ID\",\"Rich_Media_Event_Type_ID\",\"Total_Conversions\",\"Total_Revenue\",\"Event_Timers\",\n",
    "\"Event_Counters\",\"Partner1_ID\",\"Partner2_ID\",\"Google_Click_ID\"]\n",
    "\n",
    "stream_data = pd.read_csv(\"/Users/komlan/Project_M2/GCP_Project/DoubleClick_1.csv\").drop([\"Unnamed: 0\"], axis=1)\n",
    "\n",
    "stream_data = stream_data[0:1]\n",
    "cpt = 0\n",
    "for i, line in stream_data.iterrows():\n",
    "    row = {}\n",
    "    for j, val in enumerate(line):\n",
    "        row[keys[j]] = val\n",
    "    \n",
    "    attributes = json.dumps(row).encode(\"utf-8\")\n",
    "    #print(i)\n",
    "    future = publisher.publish(topic_path, attributes)\n",
    "    print(future.result())\n",
    "    \"\"\"cpt += 1\n",
    "    if cpt % 2 == 0:\n",
    "        time.sleep(3)\"\"\""
   ]
  },
  {
   "cell_type": "code",
   "execution_count": null,
   "id": "60b2a0d5",
   "metadata": {},
   "outputs": [],
   "source": []
  },
  {
   "cell_type": "code",
   "execution_count": null,
   "id": "e0649815",
   "metadata": {},
   "outputs": [],
   "source": []
  },
  {
   "cell_type": "code",
   "execution_count": 26,
   "id": "d70aec9c",
   "metadata": {},
   "outputs": [],
   "source": [
    "import os\n",
    "import pandas as pd\n",
    "import json\n",
    "import time\n",
    "from google.cloud import pubsub_v1 #pip install --upgrade google-cloud-pubsub\n",
    "credentials_path = \"/Users/komlan/Project_M2/GCP_Project/doubleclick-364815-8e1a01a8d071.json\"\n",
    "os.environ['GOOGLE_APPLICATION_CREDENTIALS'] = credentials_path\n",
    "publisher = pubsub_v1.PublisherClient()"
   ]
  },
  {
   "cell_type": "code",
   "execution_count": 42,
   "id": "ed8909cc",
   "metadata": {},
   "outputs": [
    {
     "name": "stdout",
     "output_type": "stream",
     "text": [
      "(25000, 23)\n"
     ]
    },
    {
     "ename": "KeyboardInterrupt",
     "evalue": "",
     "output_type": "error",
     "traceback": [
      "\u001b[0;31m---------------------------------------------------------------------------\u001b[0m",
      "\u001b[0;31mKeyboardInterrupt\u001b[0m                         Traceback (most recent call last)",
      "Input \u001b[0;32mIn [42]\u001b[0m, in \u001b[0;36m<cell line: 20>\u001b[0;34m()\u001b[0m\n\u001b[1;32m     33\u001b[0m cpt \u001b[38;5;241m+\u001b[39m\u001b[38;5;241m=\u001b[39m \u001b[38;5;241m1\u001b[39m\n\u001b[1;32m     34\u001b[0m \u001b[38;5;28;01mif\u001b[39;00m cpt \u001b[38;5;241m%\u001b[39m \u001b[38;5;241m10\u001b[39m \u001b[38;5;241m==\u001b[39m \u001b[38;5;241m0\u001b[39m:\n\u001b[0;32m---> 35\u001b[0m     \u001b[43mtime\u001b[49m\u001b[38;5;241;43m.\u001b[39;49m\u001b[43msleep\u001b[49m\u001b[43m(\u001b[49m\u001b[38;5;241;43m30\u001b[39;49m\u001b[43m)\u001b[49m\n",
      "\u001b[0;31mKeyboardInterrupt\u001b[0m: "
     ]
    }
   ],
   "source": [
    "import os\n",
    "import pandas as pd\n",
    "import json\n",
    "import time\n",
    "from google.cloud import pubsub_v1 #pip install --upgrade google-cloud-pubsub\n",
    "credentials_path = \"/Users/komlan/Project_M2/GCP_Project/doubleclick-364815-8e1a01a8d071.json\"\n",
    "os.environ['GOOGLE_APPLICATION_CREDENTIALS'] = credentials_path\n",
    "publisher = pubsub_v1.PublisherClient()\n",
    "topic_path = \"projects/doubleclick-364815/topics/topic_doubleclick\"\n",
    "keys = [\"Landing_Page_URL_ID\",\"Referrer_URL\",\"Impression_ID\",\"Asset_ID\",\"Active_View_Eligible_Impressions\",\n",
    "        \"Active_View_Measurable_Impressions\",\"Active_View_Viewable_Impressions\",\"Activity_ID\",\"Event_Time\",\n",
    "        \"Event_Type\",\"Event_Sub_Type\",\"User_ID\",\"Advertiser_ID\",\"Campaign_ID\",\"Floodlight_Configuration\",\n",
    "        \"Ad_ID\",\"Rendering_ID\",\"Creative_Version\",\"Site_ID_DCM\",\"Placement_ID\",\"Country_Code\",\"State_Region\",\n",
    "        \"Browser_Plateform_ID\"]\n",
    "data = pd.read_csv(\"/Users/komlan/Project_M2/GCP_Project/doubleclick_dataset.csv\").drop(['Unnamed: 0'], axis=1)\n",
    "\n",
    "cpt = 0\n",
    "stream_data = data\n",
    "print(data.shape)\n",
    "for i, line in stream_data.iterrows():\n",
    "    row = {}\n",
    "    for j, val in enumerate(line):\n",
    "        row[keys[j]] = val\n",
    "    \n",
    "    row[\"Landing_Page_URL_ID\"] = str(row[\"Landing_Page_URL_ID\"]).replace(\" : \",\"_\")\n",
    "    row[\"User_ID\"] = str(row[\"User_ID\"])\n",
    "    row[\"Ad_ID\"] = str(row[\"Ad_ID\"])\n",
    "    row[\"Impression_ID\"] = row[\"Impression_ID\"].replace(\" : \",\"_\")\n",
    "    row[\"Country_Code\"] = None if pd.isnull(row[\"Country_Code\"]) else row[\"Country_Code\"]\n",
    "    row[\"Event_Sub_Type\"] = None if pd.isnull(row[\"Event_Sub_Type\"]) else row[\"Event_Sub_Type\"]\n",
    "    attributes = json.dumps(row).encode(\"utf-8\")\n",
    "    future = publisher.publish(topic_path, attributes)\n",
    "    cpt += 1\n",
    "    if cpt % 10 == 0:\n",
    "        time.sleep(30)"
   ]
  },
  {
   "cell_type": "code",
   "execution_count": 57,
   "id": "07747c3a",
   "metadata": {},
   "outputs": [],
   "source": [
    "import hashlib\n",
    "import pandas as pd\n",
    "import itertools\n",
    "from itertools import combinations, product\n",
    "\n",
    "name_pass = 5\n",
    "ani_pass = 0\n",
    "min_pass =0\n",
    "max_pass = 7\n",
    "#open dictionary\n",
    "with open('/Users/komlan/Downloads/projetJTR/dico_animaux.txt', 'r', encoding='utf-8') as f:\n",
    "    dictionary = f.readlines()\n",
    "dictionary = [el.replace(\"\\n\",'')  for el in dictionary]\n",
    "\n",
    "#open xlsx\n",
    "users = pd.read_csv('/Users/komlan/Downloads/projetJTR/Liste_Atrouver.csv', sep=\";\")\n",
    "users = users[[\"Prénom\",\"Nom\",\"Mot de passe cryptés\",\"Mot de passe en clair\"]]\n",
    "users\n",
    "for i, user in users.iterrows():\n",
    "    for animal in dictionary:\n",
    "        combi = (user['Nom'][:name_pass]+animal[:ani_pass]+'123')\n",
    "        darray = []\n",
    "        for k in range(min_pass, max_pass):\n",
    "            darray.extend(list(itertools.permutations(combi, k)))\n",
    "        darray = [''.join(el) for el in darray]\n",
    "        #print(darray)\n",
    "        for da in darray:\n",
    "            result = hashlib.md5(da.encode()).hexdigest()\n",
    "            #print(da,': ', '=>',chiff,': ',user['Mot de passe cryptés'])\n",
    "            if result in user['Mot de passe cryptés']:\n",
    "                print('trouvé mot de pass:', da)\n"
   ]
  },
  {
   "cell_type": "code",
   "execution_count": 41,
   "id": "d641491e",
   "metadata": {},
   "outputs": [
    {
     "name": "stdout",
     "output_type": "stream",
     "text": [
      "trouve pass:  fvghs\n"
     ]
    }
   ],
   "source": [
    "lis = [['ud','3dfe3d7a171097592cb00d6a57b6f845'],\n",
    "       ['gvhj','02000c8c8ee02c8f409c5a4cb9d5219c'],\n",
    "       ['fvghs','e395ee799c3ec879c24c2bebf9a03a60'],\n",
    "       ['hvdfb','ec316ce1fabf0005553fbe9666bf9496'],\n",
    "       ['hjd','d928472364a98d5e1b13839145d3836b']]\n",
    "\n",
    "pas = 'fvghs'\n",
    "for el in lis:\n",
    "    if el[1] == hashlib.md5(pas.encode()).hexdigest():\n",
    "        print('trouve pass: ', el[0])"
   ]
  },
  {
   "cell_type": "code",
   "execution_count": 62,
   "id": "2c4a01ee",
   "metadata": {},
   "outputs": [
    {
     "name": "stdout",
     "output_type": "stream",
     "text": [
      "\u001b[31mERROR: Could not find a version that satisfies the requirement aspose-words (from versions: none)\u001b[0m\u001b[31m\r\n",
      "\u001b[0m\u001b[31mERROR: No matching distribution found for aspose-words\u001b[0m\u001b[31m\r\n",
      "\u001b[0m"
     ]
    }
   ],
   "source": [
    "!pip install aspose-words\n",
    "#from docx2pdf import convert\n",
    "\n",
    "#convert(\"/Users/komlan/Downloads/test_doc.docx\", \"/Users/komlan/Downloads/test_doc.pdf\")\n"
   ]
  },
  {
   "cell_type": "code",
   "execution_count": 7,
   "id": "a4e4ee99",
   "metadata": {},
   "outputs": [
    {
     "name": "stdout",
     "output_type": "stream",
     "text": [
      "bad format\n",
      "bad format\n",
      "bad format\n",
      "bad format\n"
     ]
    }
   ],
   "source": [
    "import img2pdf\n",
    "from PIL import Image\n",
    "\n",
    "files = [\"/Users/komlan/Enovsky/logo_enovsky.png\",\"filedata.docx\",\n",
    "         \"filejh.sjg.pdf\",\"icdh\"]\n",
    "for file_path in files:\n",
    "    filename = file_path.split('/')[-1]\n",
    "    extention = filename.split('.')[-1]\n",
    "    if extention in [\"png\", \"jpeg\",\"jpg\"]:\n",
    "        image = Image.open(file_path)\n",
    "        pdf_bytes = img2pdf.convert(image.filename)\n",
    "        file = open(\"/Users/komlan/Downloads/\"+filename.replace(extention, \"pdf\"), \"wb\")\n",
    "        file.write(pdf_bytes)\n",
    "        image.close()\n",
    "        file.close()\n",
    "    elif extention in [\"docx\"]:\n",
    "        print(file,\"=>docx\")\n",
    "    elif extention in [\"pdf\"]:\n",
    "        print(file,\"=>pdf\")\n",
    "    else:\n",
    "        print(\"bad format\")"
   ]
  },
  {
   "cell_type": "code",
   "execution_count": 55,
   "id": "fe452e1c",
   "metadata": {},
   "outputs": [
    {
     "name": "stdout",
     "output_type": "stream",
     "text": [
      "{\"origin\": \"extern\", \"file_url\": \"https://api.edu.enovsky.com/public/tmp/51369dd07caf4400b352c9dc9b9b8760/input.docx\", \"id\": 0}\n"
     ]
    },
    {
     "data": {
      "text/plain": [
       "120838"
      ]
     },
     "execution_count": 55,
     "metadata": {},
     "output_type": "execute_result"
    }
   ],
   "source": [
    "import requests\n",
    "import json\n",
    "docx_url = \"https://api.edu.enovsky.com/public/tmp/51369dd07caf4400b352c9dc9b9b8760/input.docx\"\n",
    "url = 'https://edu.enovsky.com/convert_to_pdf';\n",
    "params = {\n",
    "        'origin': 'extern',\n",
    "        'file_url':  docx_url,\n",
    "        'id': 0\n",
    "        }\n",
    "print(json.dumps(params))\n",
    "resp = requests.post('https://edu.enovsky.com/convert_to_pdf', data=params)\n",
    "\n",
    "open('/Users/komlan/Downloads/facebook.pdf', 'wb').write(resp.content)\n"
   ]
  },
  {
   "cell_type": "code",
   "execution_count": null,
   "id": "97481366",
   "metadata": {},
   "outputs": [],
   "source": []
  },
  {
   "cell_type": "code",
   "execution_count": 98,
   "id": "9ed86be4",
   "metadata": {},
   "outputs": [
    {
     "data": {
      "text/plain": [
       "True"
      ]
     },
     "execution_count": 98,
     "metadata": {},
     "output_type": "execute_result"
    }
   ],
   "source": [
    "import nextcloud_client as nc\n",
    "nextcloud = nc.Client('https://cloud.enovsky.com')\n",
    "nextcloud.login('admin', 'nextcloud00')\n",
    "source_path = '/Users/komlan/Downloads/facebook.pdf'\n",
    "target_path = 'WAREHOUSE/RAW_WAREHOUSE/TGO/UL/FDS/facebook.pdf'\n",
    "nextcloud.put_file(target_path, source_path)"
   ]
  },
  {
   "cell_type": "code",
   "execution_count": 105,
   "id": "1f54b857",
   "metadata": {},
   "outputs": [
    {
     "data": {
      "text/plain": [
       "152007"
      ]
     },
     "execution_count": 105,
     "metadata": {},
     "output_type": "execute_result"
    }
   ],
   "source": [
    "filePath = 'TGO/UL/FDS/tgo_ul_fds_6.pdf'\n",
    "filePath = \"/WAREHOUSE/RAW_WAREHOUSE/\"+filePath;\n",
    "params = {\n",
    "    'table': 'get_sftp_file',\n",
    "    'file_path': filePath\n",
    "}\n",
    "resp = requests.post('https://edu.enovsky.com/request_online_topics', data=params)\n",
    "open('/Users/komlan/Downloads/file_download.pdf', 'wb').write(resp.content)"
   ]
  },
  {
   "cell_type": "code",
   "execution_count": 346,
   "id": "32488823",
   "metadata": {},
   "outputs": [],
   "source": []
  },
  {
   "cell_type": "code",
   "execution_count": 348,
   "id": "eb918037",
   "metadata": {},
   "outputs": [
    {
     "name": "stderr",
     "output_type": "stream",
     "text": [
      "[WDM] - Downloading: 19.0kB [00:00, 15.8MB/s]                                                                      \n",
      "/var/folders/8t/83qwqzx52cs5gmzbyklq6v_w0000gn/T/ipykernel_65127/3317273814.py:12: DeprecationWarning: executable_path has been deprecated, please pass in a Service object\n",
      "  browser = webdriver.Firefox(executable_path=GeckoDriverManager().install(), options=options)\n"
     ]
    },
    {
     "ename": "ElementClickInterceptedException",
     "evalue": "Message: Element <button class=\"sidebar-button w-full text-secondary  \"> is not clickable at point (20,107) because another element <div class=\"loading-container\"> obscures it\nStacktrace:\nRemoteError@chrome://remote/content/shared/RemoteError.jsm:12:1\nWebDriverError@chrome://remote/content/shared/webdriver/Errors.jsm:192:5\nElementClickInterceptedError@chrome://remote/content/shared/webdriver/Errors.jsm:291:5\nwebdriverClickElement@chrome://remote/content/marionette/interaction.js:166:11\ninteraction.clickElement@chrome://remote/content/marionette/interaction.js:125:11\nclickElement@chrome://remote/content/marionette/actors/MarionetteCommandsChild.jsm:204:29\nreceiveMessage@chrome://remote/content/marionette/actors/MarionetteCommandsChild.jsm:92:31\n",
     "output_type": "error",
     "traceback": [
      "\u001b[0;31m---------------------------------------------------------------------------\u001b[0m",
      "\u001b[0;31mElementClickInterceptedException\u001b[0m          Traceback (most recent call last)",
      "Input \u001b[0;32mIn [348]\u001b[0m, in \u001b[0;36m<cell line: 29>\u001b[0;34m()\u001b[0m\n\u001b[1;32m     27\u001b[0m \u001b[38;5;28;01mexcept\u001b[39;00m:\n\u001b[1;32m     28\u001b[0m     \u001b[38;5;124m\"\u001b[39m\u001b[38;5;124m\"\u001b[39m\n\u001b[0;32m---> 29\u001b[0m \u001b[43mbrowser\u001b[49m\u001b[38;5;241;43m.\u001b[39;49m\u001b[43mfind_element\u001b[49m\u001b[43m(\u001b[49m\u001b[43mBy\u001b[49m\u001b[38;5;241;43m.\u001b[39;49m\u001b[43mXPATH\u001b[49m\u001b[43m,\u001b[49m\u001b[43m \u001b[49m\u001b[38;5;124;43m\"\u001b[39;49m\u001b[38;5;124;43m/html/body/div[2]/div/div[2]/div/div[1]/div[1]/div/div[3]/button\u001b[39;49m\u001b[38;5;124;43m\"\u001b[39;49m\u001b[43m)\u001b[49m\u001b[38;5;241;43m.\u001b[39;49m\u001b[43mclick\u001b[49m\u001b[43m(\u001b[49m\u001b[43m)\u001b[49m\n\u001b[1;32m     32\u001b[0m \u001b[38;5;66;03m#Upload files\u001b[39;00m\n\u001b[1;32m     33\u001b[0m files \u001b[38;5;241m=\u001b[39m os\u001b[38;5;241m.\u001b[39mlistdir(root_path)\n",
      "File \u001b[0;32m~/miniforge3/envs/pyenv-3.10/lib/python3.10/site-packages/selenium/webdriver/remote/webelement.py:93\u001b[0m, in \u001b[0;36mWebElement.click\u001b[0;34m(self)\u001b[0m\n\u001b[1;32m     91\u001b[0m \u001b[38;5;28;01mdef\u001b[39;00m \u001b[38;5;21mclick\u001b[39m(\u001b[38;5;28mself\u001b[39m) \u001b[38;5;241m-\u001b[39m\u001b[38;5;241m>\u001b[39m \u001b[38;5;28;01mNone\u001b[39;00m:\n\u001b[1;32m     92\u001b[0m     \u001b[38;5;124;03m\"\"\"Clicks the element.\"\"\"\u001b[39;00m\n\u001b[0;32m---> 93\u001b[0m     \u001b[38;5;28;43mself\u001b[39;49m\u001b[38;5;241;43m.\u001b[39;49m\u001b[43m_execute\u001b[49m\u001b[43m(\u001b[49m\u001b[43mCommand\u001b[49m\u001b[38;5;241;43m.\u001b[39;49m\u001b[43mCLICK_ELEMENT\u001b[49m\u001b[43m)\u001b[49m\n",
      "File \u001b[0;32m~/miniforge3/envs/pyenv-3.10/lib/python3.10/site-packages/selenium/webdriver/remote/webelement.py:410\u001b[0m, in \u001b[0;36mWebElement._execute\u001b[0;34m(self, command, params)\u001b[0m\n\u001b[1;32m    408\u001b[0m     params \u001b[38;5;241m=\u001b[39m {}\n\u001b[1;32m    409\u001b[0m params[\u001b[38;5;124m\"\u001b[39m\u001b[38;5;124mid\u001b[39m\u001b[38;5;124m\"\u001b[39m] \u001b[38;5;241m=\u001b[39m \u001b[38;5;28mself\u001b[39m\u001b[38;5;241m.\u001b[39m_id\n\u001b[0;32m--> 410\u001b[0m \u001b[38;5;28;01mreturn\u001b[39;00m \u001b[38;5;28;43mself\u001b[39;49m\u001b[38;5;241;43m.\u001b[39;49m\u001b[43m_parent\u001b[49m\u001b[38;5;241;43m.\u001b[39;49m\u001b[43mexecute\u001b[49m\u001b[43m(\u001b[49m\u001b[43mcommand\u001b[49m\u001b[43m,\u001b[49m\u001b[43m \u001b[49m\u001b[43mparams\u001b[49m\u001b[43m)\u001b[49m\n",
      "File \u001b[0;32m~/miniforge3/envs/pyenv-3.10/lib/python3.10/site-packages/selenium/webdriver/remote/webdriver.py:444\u001b[0m, in \u001b[0;36mWebDriver.execute\u001b[0;34m(self, driver_command, params)\u001b[0m\n\u001b[1;32m    442\u001b[0m response \u001b[38;5;241m=\u001b[39m \u001b[38;5;28mself\u001b[39m\u001b[38;5;241m.\u001b[39mcommand_executor\u001b[38;5;241m.\u001b[39mexecute(driver_command, params)\n\u001b[1;32m    443\u001b[0m \u001b[38;5;28;01mif\u001b[39;00m response:\n\u001b[0;32m--> 444\u001b[0m     \u001b[38;5;28;43mself\u001b[39;49m\u001b[38;5;241;43m.\u001b[39;49m\u001b[43merror_handler\u001b[49m\u001b[38;5;241;43m.\u001b[39;49m\u001b[43mcheck_response\u001b[49m\u001b[43m(\u001b[49m\u001b[43mresponse\u001b[49m\u001b[43m)\u001b[49m\n\u001b[1;32m    445\u001b[0m     response[\u001b[38;5;124m\"\u001b[39m\u001b[38;5;124mvalue\u001b[39m\u001b[38;5;124m\"\u001b[39m] \u001b[38;5;241m=\u001b[39m \u001b[38;5;28mself\u001b[39m\u001b[38;5;241m.\u001b[39m_unwrap_value(response\u001b[38;5;241m.\u001b[39mget(\u001b[38;5;124m\"\u001b[39m\u001b[38;5;124mvalue\u001b[39m\u001b[38;5;124m\"\u001b[39m, \u001b[38;5;28;01mNone\u001b[39;00m))\n\u001b[1;32m    446\u001b[0m     \u001b[38;5;28;01mreturn\u001b[39;00m response\n",
      "File \u001b[0;32m~/miniforge3/envs/pyenv-3.10/lib/python3.10/site-packages/selenium/webdriver/remote/errorhandler.py:249\u001b[0m, in \u001b[0;36mErrorHandler.check_response\u001b[0;34m(self, response)\u001b[0m\n\u001b[1;32m    247\u001b[0m         alert_text \u001b[38;5;241m=\u001b[39m value[\u001b[38;5;124m\"\u001b[39m\u001b[38;5;124malert\u001b[39m\u001b[38;5;124m\"\u001b[39m]\u001b[38;5;241m.\u001b[39mget(\u001b[38;5;124m\"\u001b[39m\u001b[38;5;124mtext\u001b[39m\u001b[38;5;124m\"\u001b[39m)\n\u001b[1;32m    248\u001b[0m     \u001b[38;5;28;01mraise\u001b[39;00m exception_class(message, screen, stacktrace, alert_text)  \u001b[38;5;66;03m# type: ignore[call-arg]  # mypy is not smart enough here\u001b[39;00m\n\u001b[0;32m--> 249\u001b[0m \u001b[38;5;28;01mraise\u001b[39;00m exception_class(message, screen, stacktrace)\n",
      "\u001b[0;31mElementClickInterceptedException\u001b[0m: Message: Element <button class=\"sidebar-button w-full text-secondary  \"> is not clickable at point (20,107) because another element <div class=\"loading-container\"> obscures it\nStacktrace:\nRemoteError@chrome://remote/content/shared/RemoteError.jsm:12:1\nWebDriverError@chrome://remote/content/shared/webdriver/Errors.jsm:192:5\nElementClickInterceptedError@chrome://remote/content/shared/webdriver/Errors.jsm:291:5\nwebdriverClickElement@chrome://remote/content/marionette/interaction.js:166:11\ninteraction.clickElement@chrome://remote/content/marionette/interaction.js:125:11\nclickElement@chrome://remote/content/marionette/actors/MarionetteCommandsChild.jsm:204:29\nreceiveMessage@chrome://remote/content/marionette/actors/MarionetteCommandsChild.jsm:92:31\n"
     ]
    }
   ],
   "source": [
    "import os\n",
    "from selenium import webdriver\n",
    "from webdriver_manager.firefox import GeckoDriverManager\n",
    "from selenium.webdriver.common.by import By\n",
    "from selenium.webdriver.firefox.options import Options\n",
    "import time\n",
    "root_path = '/Users/komlan/Downloads/test'\n",
    "\n",
    "options = Options()\n",
    "options.set_preference(\"browser.download.folderList\", 2)\n",
    "options.set_preference(\"browser.download.dir\", root_path+'/outputs/')\n",
    "browser = webdriver.Firefox(executable_path=GeckoDriverManager().install(), options=options)\n",
    "\n",
    "browser.implicitly_wait(5) # seconds\n",
    "\n",
    "#Connexion\n",
    "browser.get('https://snip.mathpix.com')\n",
    "try:\n",
    "    email = browser.find_element(By.XPATH, \"//input[@class='ant-input' and @name='email']\")\n",
    "    password = browser.find_element(By.XPATH, \"//input[@class='ant-input' and @name='password']\")\n",
    "    submit = browser.find_element(By.XPATH, \"//button[@class='ant-btn submit-button login ant-btn-primary ant-btn-block' and @type='submit']\")\n",
    "\n",
    "    email.send_keys('jmkd@yahoo.com')\n",
    "    password.send_keys('Dakomaje00/')\n",
    "    submit.click()\n",
    "    print(submit.text)\n",
    "except:\n",
    "    \"\"\n",
    "\n"
   ]
  },
  {
   "cell_type": "code",
   "execution_count": 349,
   "id": "6abeaa02",
   "metadata": {},
   "outputs": [],
   "source": [
    "browser.find_element(By.XPATH, \"/html/body/div[2]/div/div[2]/div/div[1]/div[1]/div/div[3]/button\").click()\n",
    "\n",
    "\n",
    "#Upload files\n",
    "files = os.listdir(root_path)\n",
    "try:\n",
    "    os.mkdir(root_path+'/outputs/')\n",
    "except:\n",
    "    \"\"\n",
    "    \n",
    "for file_name in files:\n",
    "    upload_file = browser.find_element(By.XPATH, \"//input[@type='file' and @accept='application/pdf']\")\n",
    "    #upload_file.send_keys(root_path+'/'+file_name)\n",
    "\n",
    "container = browser.find_element(By.XPATH, \"//ul[@id='pdfs$Menu' and @class='ant-menu ant-menu-sub ant-menu-inline']\")\n",
    "outputs = browser.find_elements(By.XPATH, \"//li[@class='ant-menu-item font-ibm-plex-sans text-sm pdf-item ']\")\n",
    "\n",
    "for output in outputs:\n",
    "    option = output.find_element(By.CLASS_NAME, 'item-button')\n",
    "    option.click()\n",
    "    docx_element = browser.find_element(By.XPATH, \"//ul[@class='popover-content']\").find_elements(By.XPATH, \"//li[@class='w-full flex justify-between popover-content-item w-40 ']\")[2]\n",
    "    docx_element.click()"
   ]
  },
  {
   "cell_type": "code",
   "execution_count": 345,
   "id": "ca13196b",
   "metadata": {},
   "outputs": [],
   "source": []
  },
  {
   "cell_type": "code",
   "execution_count": 310,
   "id": "6ccbd1ad",
   "metadata": {},
   "outputs": [
    {
     "data": {
      "text/plain": [
       "<selenium.webdriver.remote.webelement.WebElement (session=\"de86c81f-25fd-4905-a74f-7617919e35af\", element=\"1e93ca58-3dec-4bc5-ae70-a481fb184219\")>"
      ]
     },
     "execution_count": 310,
     "metadata": {},
     "output_type": "execute_result"
    }
   ],
   "source": []
  },
  {
   "cell_type": "code",
   "execution_count": 351,
   "id": "6f0f7d5e",
   "metadata": {},
   "outputs": [
    {
     "name": "stdout",
     "output_type": "stream",
     "text": [
      "Collecting tk\n",
      "  Downloading tk-0.1.0-py3-none-any.whl (3.9 kB)\n",
      "Installing collected packages: tk\n",
      "Successfully installed tk-0.1.0\n"
     ]
    }
   ],
   "source": [
    "!pip install tk"
   ]
  },
  {
   "cell_type": "code",
   "execution_count": 370,
   "id": "2f41661e",
   "metadata": {},
   "outputs": [
    {
     "data": {
      "text/plain": [
       "'user-agent=Mozilla/5.0 (Macintosh; Intel Mac OS X 10_15_7) AppleWebKit/537.36 (KHTML, like Gecko) Chrome/107.0.0.0 Safari/537.36'"
      ]
     },
     "execution_count": 370,
     "metadata": {},
     "output_type": "execute_result"
    }
   ],
   "source": [
    "user_agent = \"Mozilla/5.0 (Macintosh; Intel Mac OS X 10_15_7) AppleWebKit/537.36 (KHTML, like Gecko) Chrome/107.0.0.0 Safari/537.36\"\n",
    "agent = f\"user-agent={user_agent}\"\n",
    "agent"
   ]
  },
  {
   "cell_type": "code",
   "execution_count": null,
   "id": "b6eb9779",
   "metadata": {},
   "outputs": [],
   "source": []
  },
  {
   "cell_type": "code",
   "execution_count": null,
   "id": "3c8149d0",
   "metadata": {},
   "outputs": [],
   "source": []
  },
  {
   "cell_type": "code",
   "execution_count": 363,
   "id": "16b6131c",
   "metadata": {},
   "outputs": [
    {
     "name": "stderr",
     "output_type": "stream",
     "text": [
      "/var/folders/8t/83qwqzx52cs5gmzbyklq6v_w0000gn/T/ipykernel_65127/1704379198.py:6: DeprecationWarning: desired_capabilities has been deprecated, please pass in an Options object with options kwarg\n",
      "  wd = webdriver.Remote(server_url, dc)\n"
     ]
    },
    {
     "ename": "WebDriverException",
     "evalue": "Message: <!DOCTYPE html>\n<html lang=\"en\">\n<head>\n<meta charset=\"utf-8\">\n<title>Error</title>\n</head>\n<body>\n<pre>Cannot POST /session</pre>\n</body>\n</html>\n\n",
     "output_type": "error",
     "traceback": [
      "\u001b[0;31m---------------------------------------------------------------------------\u001b[0m",
      "\u001b[0;31mWebDriverException\u001b[0m                        Traceback (most recent call last)",
      "Input \u001b[0;32mIn [363]\u001b[0m, in \u001b[0;36m<cell line: 6>\u001b[0;34m()\u001b[0m\n\u001b[1;32m      4\u001b[0m server_url \u001b[38;5;241m=\u001b[39m \u001b[38;5;124m\"\u001b[39m\u001b[38;5;124mhttps://edu.enovsky.com\u001b[39m\u001b[38;5;124m\"\u001b[39m\n\u001b[1;32m      5\u001b[0m dc \u001b[38;5;241m=\u001b[39m DesiredCapabilities\u001b[38;5;241m.\u001b[39mHTMLUNIT\n\u001b[0;32m----> 6\u001b[0m wd \u001b[38;5;241m=\u001b[39m \u001b[43mwebdriver\u001b[49m\u001b[38;5;241;43m.\u001b[39;49m\u001b[43mRemote\u001b[49m\u001b[43m(\u001b[49m\u001b[43mserver_url\u001b[49m\u001b[43m,\u001b[49m\u001b[43m \u001b[49m\u001b[43mdc\u001b[49m\u001b[43m)\u001b[49m\n\u001b[1;32m      7\u001b[0m wd\u001b[38;5;241m.\u001b[39mget(\u001b[38;5;124m'\u001b[39m\u001b[38;5;124mhttp://www.google.com\u001b[39m\u001b[38;5;124m'\u001b[39m)\n",
      "File \u001b[0;32m~/miniforge3/envs/pyenv-3.10/lib/python3.10/site-packages/selenium/webdriver/remote/webdriver.py:288\u001b[0m, in \u001b[0;36mWebDriver.__init__\u001b[0;34m(self, command_executor, desired_capabilities, browser_profile, proxy, keep_alive, file_detector, options)\u001b[0m\n\u001b[1;32m    286\u001b[0m \u001b[38;5;28mself\u001b[39m\u001b[38;5;241m.\u001b[39m_authenticator_id \u001b[38;5;241m=\u001b[39m \u001b[38;5;28;01mNone\u001b[39;00m\n\u001b[1;32m    287\u001b[0m \u001b[38;5;28mself\u001b[39m\u001b[38;5;241m.\u001b[39mstart_client()\n\u001b[0;32m--> 288\u001b[0m \u001b[38;5;28;43mself\u001b[39;49m\u001b[38;5;241;43m.\u001b[39;49m\u001b[43mstart_session\u001b[49m\u001b[43m(\u001b[49m\u001b[43mcapabilities\u001b[49m\u001b[43m,\u001b[49m\u001b[43m \u001b[49m\u001b[43mbrowser_profile\u001b[49m\u001b[43m)\u001b[49m\n",
      "File \u001b[0;32m~/miniforge3/envs/pyenv-3.10/lib/python3.10/site-packages/selenium/webdriver/remote/webdriver.py:381\u001b[0m, in \u001b[0;36mWebDriver.start_session\u001b[0;34m(self, capabilities, browser_profile)\u001b[0m\n\u001b[1;32m    379\u001b[0m w3c_caps \u001b[38;5;241m=\u001b[39m _make_w3c_caps(capabilities)\n\u001b[1;32m    380\u001b[0m parameters \u001b[38;5;241m=\u001b[39m {\u001b[38;5;124m\"\u001b[39m\u001b[38;5;124mcapabilities\u001b[39m\u001b[38;5;124m\"\u001b[39m: w3c_caps}\n\u001b[0;32m--> 381\u001b[0m response \u001b[38;5;241m=\u001b[39m \u001b[38;5;28;43mself\u001b[39;49m\u001b[38;5;241;43m.\u001b[39;49m\u001b[43mexecute\u001b[49m\u001b[43m(\u001b[49m\u001b[43mCommand\u001b[49m\u001b[38;5;241;43m.\u001b[39;49m\u001b[43mNEW_SESSION\u001b[49m\u001b[43m,\u001b[49m\u001b[43m \u001b[49m\u001b[43mparameters\u001b[49m\u001b[43m)\u001b[49m\n\u001b[1;32m    382\u001b[0m \u001b[38;5;28;01mif\u001b[39;00m \u001b[38;5;124m\"\u001b[39m\u001b[38;5;124msessionId\u001b[39m\u001b[38;5;124m\"\u001b[39m \u001b[38;5;129;01mnot\u001b[39;00m \u001b[38;5;129;01min\u001b[39;00m response:\n\u001b[1;32m    383\u001b[0m     response \u001b[38;5;241m=\u001b[39m response[\u001b[38;5;124m\"\u001b[39m\u001b[38;5;124mvalue\u001b[39m\u001b[38;5;124m\"\u001b[39m]\n",
      "File \u001b[0;32m~/miniforge3/envs/pyenv-3.10/lib/python3.10/site-packages/selenium/webdriver/remote/webdriver.py:444\u001b[0m, in \u001b[0;36mWebDriver.execute\u001b[0;34m(self, driver_command, params)\u001b[0m\n\u001b[1;32m    442\u001b[0m response \u001b[38;5;241m=\u001b[39m \u001b[38;5;28mself\u001b[39m\u001b[38;5;241m.\u001b[39mcommand_executor\u001b[38;5;241m.\u001b[39mexecute(driver_command, params)\n\u001b[1;32m    443\u001b[0m \u001b[38;5;28;01mif\u001b[39;00m response:\n\u001b[0;32m--> 444\u001b[0m     \u001b[38;5;28;43mself\u001b[39;49m\u001b[38;5;241;43m.\u001b[39;49m\u001b[43merror_handler\u001b[49m\u001b[38;5;241;43m.\u001b[39;49m\u001b[43mcheck_response\u001b[49m\u001b[43m(\u001b[49m\u001b[43mresponse\u001b[49m\u001b[43m)\u001b[49m\n\u001b[1;32m    445\u001b[0m     response[\u001b[38;5;124m\"\u001b[39m\u001b[38;5;124mvalue\u001b[39m\u001b[38;5;124m\"\u001b[39m] \u001b[38;5;241m=\u001b[39m \u001b[38;5;28mself\u001b[39m\u001b[38;5;241m.\u001b[39m_unwrap_value(response\u001b[38;5;241m.\u001b[39mget(\u001b[38;5;124m\"\u001b[39m\u001b[38;5;124mvalue\u001b[39m\u001b[38;5;124m\"\u001b[39m, \u001b[38;5;28;01mNone\u001b[39;00m))\n\u001b[1;32m    446\u001b[0m     \u001b[38;5;28;01mreturn\u001b[39;00m response\n",
      "File \u001b[0;32m~/miniforge3/envs/pyenv-3.10/lib/python3.10/site-packages/selenium/webdriver/remote/errorhandler.py:213\u001b[0m, in \u001b[0;36mErrorHandler.check_response\u001b[0;34m(self, response)\u001b[0m\n\u001b[1;32m    211\u001b[0m     value \u001b[38;5;241m=\u001b[39m response[\u001b[38;5;124m\"\u001b[39m\u001b[38;5;124mvalue\u001b[39m\u001b[38;5;124m\"\u001b[39m]\n\u001b[1;32m    212\u001b[0m \u001b[38;5;28;01mif\u001b[39;00m \u001b[38;5;28misinstance\u001b[39m(value, \u001b[38;5;28mstr\u001b[39m):\n\u001b[0;32m--> 213\u001b[0m     \u001b[38;5;28;01mraise\u001b[39;00m exception_class(value)\n\u001b[1;32m    214\u001b[0m \u001b[38;5;28;01mif\u001b[39;00m message \u001b[38;5;241m==\u001b[39m \u001b[38;5;124m\"\u001b[39m\u001b[38;5;124m\"\u001b[39m \u001b[38;5;129;01mand\u001b[39;00m \u001b[38;5;124m\"\u001b[39m\u001b[38;5;124mmessage\u001b[39m\u001b[38;5;124m\"\u001b[39m \u001b[38;5;129;01min\u001b[39;00m value:\n\u001b[1;32m    215\u001b[0m     message \u001b[38;5;241m=\u001b[39m value[\u001b[38;5;124m\"\u001b[39m\u001b[38;5;124mmessage\u001b[39m\u001b[38;5;124m\"\u001b[39m]\n",
      "\u001b[0;31mWebDriverException\u001b[0m: Message: <!DOCTYPE html>\n<html lang=\"en\">\n<head>\n<meta charset=\"utf-8\">\n<title>Error</title>\n</head>\n<body>\n<pre>Cannot POST /session</pre>\n</body>\n</html>\n\n"
     ]
    }
   ],
   "source": [
    "from selenium import webdriver\n",
    "from selenium.webdriver.common.desired_capabilities import DesiredCapabilities\n",
    "\n",
    "server_url = \"https://edu.enovsky.com\"\n",
    "dc = DesiredCapabilities.HTMLUNIT\n",
    "wd = webdriver.Remote(server_url, dc)\n",
    "wd.get('http://www.google.com')"
   ]
  },
  {
   "cell_type": "code",
   "execution_count": null,
   "id": "36fe3cf2",
   "metadata": {},
   "outputs": [],
   "source": []
  },
  {
   "cell_type": "code",
   "execution_count": 369,
   "id": "b97d45fc",
   "metadata": {},
   "outputs": [
    {
     "name": "stderr",
     "output_type": "stream",
     "text": [
      "/var/folders/8t/83qwqzx52cs5gmzbyklq6v_w0000gn/T/ipykernel_65127/4241056066.py:16: DeprecationWarning: executable_path has been deprecated, please pass in a Service object\n",
      "  driver = webdriver.Chrome(executable_path='/Users/komlan/Downloads/chromedriver_mac_arm64/chromedriver', options=options)\n"
     ]
    },
    {
     "ename": "WebDriverException",
     "evalue": "Message: Service /Users/komlan/Downloads/chromedriver_mac_arm64/chromedriver unexpectedly exited. Status code was: -9\n",
     "output_type": "error",
     "traceback": [
      "\u001b[0;31m---------------------------------------------------------------------------\u001b[0m",
      "\u001b[0;31mWebDriverException\u001b[0m                        Traceback (most recent call last)",
      "Input \u001b[0;32mIn [369]\u001b[0m, in \u001b[0;36m<cell line: 16>\u001b[0;34m()\u001b[0m\n\u001b[1;32m     14\u001b[0m options\u001b[38;5;241m.\u001b[39madd_argument(\u001b[38;5;124m'\u001b[39m\u001b[38;5;124m--disable-dev-shm-usage\u001b[39m\u001b[38;5;124m'\u001b[39m)\n\u001b[1;32m     15\u001b[0m options\u001b[38;5;241m.\u001b[39madd_argument(\u001b[38;5;124m'\u001b[39m\u001b[38;5;124m--no-sandbox\u001b[39m\u001b[38;5;124m'\u001b[39m)\n\u001b[0;32m---> 16\u001b[0m driver \u001b[38;5;241m=\u001b[39m \u001b[43mwebdriver\u001b[49m\u001b[38;5;241;43m.\u001b[39;49m\u001b[43mChrome\u001b[49m\u001b[43m(\u001b[49m\u001b[43mexecutable_path\u001b[49m\u001b[38;5;241;43m=\u001b[39;49m\u001b[38;5;124;43m'\u001b[39;49m\u001b[38;5;124;43m/Users/komlan/Downloads/chromedriver_mac_arm64/chromedriver\u001b[39;49m\u001b[38;5;124;43m'\u001b[39;49m\u001b[43m,\u001b[49m\u001b[43m \u001b[49m\u001b[43moptions\u001b[49m\u001b[38;5;241;43m=\u001b[39;49m\u001b[43moptions\u001b[49m\u001b[43m)\u001b[49m\n",
      "File \u001b[0;32m~/miniforge3/envs/pyenv-3.10/lib/python3.10/site-packages/selenium/webdriver/chrome/webdriver.py:81\u001b[0m, in \u001b[0;36mWebDriver.__init__\u001b[0;34m(self, executable_path, port, options, service_args, desired_capabilities, service_log_path, chrome_options, service, keep_alive)\u001b[0m\n\u001b[1;32m     78\u001b[0m \u001b[38;5;28;01mif\u001b[39;00m \u001b[38;5;129;01mnot\u001b[39;00m service:\n\u001b[1;32m     79\u001b[0m     service \u001b[38;5;241m=\u001b[39m Service(executable_path, port, service_args, service_log_path)\n\u001b[0;32m---> 81\u001b[0m \u001b[38;5;28;43msuper\u001b[39;49m\u001b[43m(\u001b[49m\u001b[43m)\u001b[49m\u001b[38;5;241;43m.\u001b[39;49m\u001b[38;5;21;43m__init__\u001b[39;49m\u001b[43m(\u001b[49m\n\u001b[1;32m     82\u001b[0m \u001b[43m    \u001b[49m\u001b[43mDesiredCapabilities\u001b[49m\u001b[38;5;241;43m.\u001b[39;49m\u001b[43mCHROME\u001b[49m\u001b[43m[\u001b[49m\u001b[38;5;124;43m\"\u001b[39;49m\u001b[38;5;124;43mbrowserName\u001b[39;49m\u001b[38;5;124;43m\"\u001b[39;49m\u001b[43m]\u001b[49m\u001b[43m,\u001b[49m\n\u001b[1;32m     83\u001b[0m \u001b[43m    \u001b[49m\u001b[38;5;124;43m\"\u001b[39;49m\u001b[38;5;124;43mgoog\u001b[39;49m\u001b[38;5;124;43m\"\u001b[39;49m\u001b[43m,\u001b[49m\n\u001b[1;32m     84\u001b[0m \u001b[43m    \u001b[49m\u001b[43mport\u001b[49m\u001b[43m,\u001b[49m\n\u001b[1;32m     85\u001b[0m \u001b[43m    \u001b[49m\u001b[43moptions\u001b[49m\u001b[43m,\u001b[49m\n\u001b[1;32m     86\u001b[0m \u001b[43m    \u001b[49m\u001b[43mservice_args\u001b[49m\u001b[43m,\u001b[49m\n\u001b[1;32m     87\u001b[0m \u001b[43m    \u001b[49m\u001b[43mdesired_capabilities\u001b[49m\u001b[43m,\u001b[49m\n\u001b[1;32m     88\u001b[0m \u001b[43m    \u001b[49m\u001b[43mservice_log_path\u001b[49m\u001b[43m,\u001b[49m\n\u001b[1;32m     89\u001b[0m \u001b[43m    \u001b[49m\u001b[43mservice\u001b[49m\u001b[43m,\u001b[49m\n\u001b[1;32m     90\u001b[0m \u001b[43m    \u001b[49m\u001b[43mkeep_alive\u001b[49m\u001b[43m,\u001b[49m\n\u001b[1;32m     91\u001b[0m \u001b[43m\u001b[49m\u001b[43m)\u001b[49m\n",
      "File \u001b[0;32m~/miniforge3/envs/pyenv-3.10/lib/python3.10/site-packages/selenium/webdriver/chromium/webdriver.py:103\u001b[0m, in \u001b[0;36mChromiumDriver.__init__\u001b[0;34m(self, browser_name, vendor_prefix, port, options, service_args, desired_capabilities, service_log_path, service, keep_alive)\u001b[0m\n\u001b[1;32m    100\u001b[0m     \u001b[38;5;28;01mraise\u001b[39;00m \u001b[38;5;167;01mAttributeError\u001b[39;00m(\u001b[38;5;124m\"\u001b[39m\u001b[38;5;124mservice cannot be None\u001b[39m\u001b[38;5;124m\"\u001b[39m)\n\u001b[1;32m    102\u001b[0m \u001b[38;5;28mself\u001b[39m\u001b[38;5;241m.\u001b[39mservice \u001b[38;5;241m=\u001b[39m service\n\u001b[0;32m--> 103\u001b[0m \u001b[38;5;28;43mself\u001b[39;49m\u001b[38;5;241;43m.\u001b[39;49m\u001b[43mservice\u001b[49m\u001b[38;5;241;43m.\u001b[39;49m\u001b[43mstart\u001b[49m\u001b[43m(\u001b[49m\u001b[43m)\u001b[49m\n\u001b[1;32m    105\u001b[0m \u001b[38;5;28;01mtry\u001b[39;00m:\n\u001b[1;32m    106\u001b[0m     \u001b[38;5;28msuper\u001b[39m()\u001b[38;5;241m.\u001b[39m\u001b[38;5;21m__init__\u001b[39m(\n\u001b[1;32m    107\u001b[0m         command_executor\u001b[38;5;241m=\u001b[39mChromiumRemoteConnection(\n\u001b[1;32m    108\u001b[0m             remote_server_addr\u001b[38;5;241m=\u001b[39m\u001b[38;5;28mself\u001b[39m\u001b[38;5;241m.\u001b[39mservice\u001b[38;5;241m.\u001b[39mservice_url,\n\u001b[0;32m   (...)\u001b[0m\n\u001b[1;32m    114\u001b[0m         options\u001b[38;5;241m=\u001b[39moptions,\n\u001b[1;32m    115\u001b[0m     )\n",
      "File \u001b[0;32m~/miniforge3/envs/pyenv-3.10/lib/python3.10/site-packages/selenium/webdriver/common/service.py:106\u001b[0m, in \u001b[0;36mService.start\u001b[0;34m(self)\u001b[0m\n\u001b[1;32m    104\u001b[0m count \u001b[38;5;241m=\u001b[39m \u001b[38;5;241m0\u001b[39m\n\u001b[1;32m    105\u001b[0m \u001b[38;5;28;01mwhile\u001b[39;00m \u001b[38;5;28;01mTrue\u001b[39;00m:\n\u001b[0;32m--> 106\u001b[0m     \u001b[38;5;28;43mself\u001b[39;49m\u001b[38;5;241;43m.\u001b[39;49m\u001b[43massert_process_still_running\u001b[49m\u001b[43m(\u001b[49m\u001b[43m)\u001b[49m\n\u001b[1;32m    107\u001b[0m     \u001b[38;5;28;01mif\u001b[39;00m \u001b[38;5;28mself\u001b[39m\u001b[38;5;241m.\u001b[39mis_connectable():\n\u001b[1;32m    108\u001b[0m         \u001b[38;5;28;01mbreak\u001b[39;00m\n",
      "File \u001b[0;32m~/miniforge3/envs/pyenv-3.10/lib/python3.10/site-packages/selenium/webdriver/common/service.py:119\u001b[0m, in \u001b[0;36mService.assert_process_still_running\u001b[0;34m(self)\u001b[0m\n\u001b[1;32m    117\u001b[0m return_code \u001b[38;5;241m=\u001b[39m \u001b[38;5;28mself\u001b[39m\u001b[38;5;241m.\u001b[39mprocess\u001b[38;5;241m.\u001b[39mpoll()\n\u001b[1;32m    118\u001b[0m \u001b[38;5;28;01mif\u001b[39;00m return_code:\n\u001b[0;32m--> 119\u001b[0m     \u001b[38;5;28;01mraise\u001b[39;00m WebDriverException(\u001b[38;5;124mf\u001b[39m\u001b[38;5;124m\"\u001b[39m\u001b[38;5;124mService \u001b[39m\u001b[38;5;132;01m{\u001b[39;00m\u001b[38;5;28mself\u001b[39m\u001b[38;5;241m.\u001b[39mpath\u001b[38;5;132;01m}\u001b[39;00m\u001b[38;5;124m unexpectedly exited. Status code was: \u001b[39m\u001b[38;5;132;01m{\u001b[39;00mreturn_code\u001b[38;5;132;01m}\u001b[39;00m\u001b[38;5;124m\"\u001b[39m)\n",
      "\u001b[0;31mWebDriverException\u001b[0m: Message: Service /Users/komlan/Downloads/chromedriver_mac_arm64/chromedriver unexpectedly exited. Status code was: -9\n"
     ]
    }
   ],
   "source": [
    "user_agent = \"Mozilla/5.0 (Macintosh; Intel Mac OS X 10_15_7) AppleWebKit/537.36 (KHTML, like Gecko) Chrome/107.0.0.0 Safari/537.36\"\n",
    "\n",
    "options = webdriver.ChromeOptions()\n",
    "options.headless = True\n",
    "options.add_argument(f'user-agent={user_agent}')\n",
    "options.add_argument(\"--window-size=1920,1080\")\n",
    "options.add_argument('--ignore-certificate-errors')\n",
    "options.add_argument('--allow-running-insecure-content')\n",
    "options.add_argument(\"--disable-extensions\")\n",
    "options.add_argument(\"--proxy-server='direct://'\")\n",
    "options.add_argument(\"--proxy-bypass-list=*\")\n",
    "options.add_argument(\"--start-maximized\")\n",
    "options.add_argument('--disable-gpu')\n",
    "options.add_argument('--disable-dev-shm-usage')\n",
    "options.add_argument('--no-sandbox')\n",
    "driver = webdriver.Chrome(executable_path='/Users/komlan/Downloads/chromedriver_mac_arm64/chromedriver', options=options)\n"
   ]
  },
  {
   "cell_type": "code",
   "execution_count": null,
   "id": "1f952b98",
   "metadata": {},
   "outputs": [],
   "source": []
  },
  {
   "cell_type": "code",
   "execution_count": null,
   "id": "8f7cee99",
   "metadata": {},
   "outputs": [],
   "source": []
  },
  {
   "cell_type": "code",
   "execution_count": null,
   "id": "bab4887d",
   "metadata": {},
   "outputs": [],
   "source": []
  },
  {
   "cell_type": "code",
   "execution_count": null,
   "id": "4000d8b0",
   "metadata": {},
   "outputs": [],
   "source": []
  },
  {
   "cell_type": "code",
   "execution_count": null,
   "id": "2afff137",
   "metadata": {},
   "outputs": [],
   "source": []
  },
  {
   "cell_type": "code",
   "execution_count": null,
   "id": "d608d535",
   "metadata": {},
   "outputs": [],
   "source": []
  },
  {
   "cell_type": "code",
   "execution_count": null,
   "id": "30b6e1a9",
   "metadata": {},
   "outputs": [],
   "source": []
  },
  {
   "cell_type": "code",
   "execution_count": null,
   "id": "3f3823ce",
   "metadata": {},
   "outputs": [],
   "source": []
  },
  {
   "cell_type": "code",
   "execution_count": null,
   "id": "80f2a9ed",
   "metadata": {},
   "outputs": [],
   "source": []
  },
  {
   "cell_type": "code",
   "execution_count": null,
   "id": "d2206d63",
   "metadata": {},
   "outputs": [],
   "source": []
  },
  {
   "cell_type": "code",
   "execution_count": null,
   "id": "90928e04",
   "metadata": {},
   "outputs": [],
   "source": []
  },
  {
   "cell_type": "code",
   "execution_count": null,
   "id": "2601ffa3",
   "metadata": {},
   "outputs": [],
   "source": []
  },
  {
   "cell_type": "code",
   "execution_count": null,
   "id": "1cb8def9",
   "metadata": {},
   "outputs": [],
   "source": []
  },
  {
   "cell_type": "code",
   "execution_count": null,
   "id": "55d9c89e",
   "metadata": {},
   "outputs": [],
   "source": []
  },
  {
   "cell_type": "code",
   "execution_count": null,
   "id": "2ee66876",
   "metadata": {},
   "outputs": [],
   "source": []
  },
  {
   "cell_type": "code",
   "execution_count": null,
   "id": "606ac837",
   "metadata": {},
   "outputs": [],
   "source": []
  },
  {
   "cell_type": "code",
   "execution_count": 342,
   "id": "362db882",
   "metadata": {},
   "outputs": [],
   "source": []
  },
  {
   "cell_type": "code",
   "execution_count": null,
   "id": "a4539b32",
   "metadata": {},
   "outputs": [],
   "source": []
  },
  {
   "cell_type": "code",
   "execution_count": null,
   "id": "c0fe02c6",
   "metadata": {},
   "outputs": [],
   "source": []
  },
  {
   "cell_type": "code",
   "execution_count": null,
   "id": "12bd32be",
   "metadata": {},
   "outputs": [],
   "source": []
  },
  {
   "cell_type": "code",
   "execution_count": null,
   "id": "93be9ca1",
   "metadata": {},
   "outputs": [],
   "source": []
  },
  {
   "cell_type": "code",
   "execution_count": null,
   "id": "f6ea83b0",
   "metadata": {},
   "outputs": [],
   "source": []
  },
  {
   "cell_type": "code",
   "execution_count": null,
   "id": "d9606fda",
   "metadata": {},
   "outputs": [],
   "source": []
  },
  {
   "cell_type": "code",
   "execution_count": null,
   "id": "a497818d",
   "metadata": {},
   "outputs": [],
   "source": []
  },
  {
   "cell_type": "code",
   "execution_count": null,
   "id": "52473fee",
   "metadata": {},
   "outputs": [],
   "source": []
  },
  {
   "cell_type": "code",
   "execution_count": null,
   "id": "73f5bf2f",
   "metadata": {},
   "outputs": [],
   "source": []
  },
  {
   "cell_type": "code",
   "execution_count": null,
   "id": "897331ac",
   "metadata": {},
   "outputs": [],
   "source": []
  },
  {
   "cell_type": "code",
   "execution_count": null,
   "id": "3b86db36",
   "metadata": {},
   "outputs": [],
   "source": []
  },
  {
   "cell_type": "code",
   "execution_count": null,
   "id": "3b2bbaca",
   "metadata": {},
   "outputs": [],
   "source": []
  },
  {
   "cell_type": "code",
   "execution_count": null,
   "id": "38a8f83e",
   "metadata": {},
   "outputs": [],
   "source": []
  },
  {
   "cell_type": "code",
   "execution_count": null,
   "id": "195e550b",
   "metadata": {},
   "outputs": [],
   "source": []
  },
  {
   "cell_type": "code",
   "execution_count": null,
   "id": "e170f50a",
   "metadata": {},
   "outputs": [],
   "source": []
  },
  {
   "cell_type": "code",
   "execution_count": null,
   "id": "a1511e47",
   "metadata": {},
   "outputs": [],
   "source": []
  },
  {
   "cell_type": "code",
   "execution_count": null,
   "id": "ee45de86",
   "metadata": {},
   "outputs": [],
   "source": []
  },
  {
   "cell_type": "code",
   "execution_count": null,
   "id": "6bfe432c",
   "metadata": {},
   "outputs": [],
   "source": []
  },
  {
   "cell_type": "code",
   "execution_count": null,
   "id": "7ffcc4ca",
   "metadata": {},
   "outputs": [],
   "source": []
  },
  {
   "cell_type": "code",
   "execution_count": null,
   "id": "a9d890f2",
   "metadata": {},
   "outputs": [],
   "source": []
  },
  {
   "cell_type": "code",
   "execution_count": null,
   "id": "a602c717",
   "metadata": {},
   "outputs": [],
   "source": []
  },
  {
   "cell_type": "code",
   "execution_count": null,
   "id": "be77b98e",
   "metadata": {},
   "outputs": [],
   "source": []
  },
  {
   "cell_type": "code",
   "execution_count": null,
   "id": "334baf6e",
   "metadata": {},
   "outputs": [],
   "source": []
  },
  {
   "cell_type": "code",
   "execution_count": null,
   "id": "ede16f31",
   "metadata": {},
   "outputs": [],
   "source": []
  },
  {
   "cell_type": "code",
   "execution_count": null,
   "id": "d26df6a6",
   "metadata": {},
   "outputs": [],
   "source": []
  },
  {
   "cell_type": "code",
   "execution_count": null,
   "id": "d2a98a3b",
   "metadata": {},
   "outputs": [],
   "source": []
  },
  {
   "cell_type": "code",
   "execution_count": null,
   "id": "f2139adc",
   "metadata": {},
   "outputs": [],
   "source": []
  },
  {
   "cell_type": "code",
   "execution_count": null,
   "id": "c586c4ef",
   "metadata": {},
   "outputs": [],
   "source": []
  },
  {
   "cell_type": "code",
   "execution_count": null,
   "id": "dce227e8",
   "metadata": {},
   "outputs": [],
   "source": []
  },
  {
   "cell_type": "code",
   "execution_count": null,
   "id": "d83a5338",
   "metadata": {},
   "outputs": [],
   "source": []
  },
  {
   "cell_type": "code",
   "execution_count": null,
   "id": "03a88810",
   "metadata": {},
   "outputs": [],
   "source": []
  },
  {
   "cell_type": "code",
   "execution_count": null,
   "id": "d3d90f16",
   "metadata": {},
   "outputs": [],
   "source": []
  },
  {
   "cell_type": "code",
   "execution_count": null,
   "id": "6cc785ac",
   "metadata": {},
   "outputs": [],
   "source": []
  },
  {
   "cell_type": "code",
   "execution_count": null,
   "id": "c4642231",
   "metadata": {},
   "outputs": [],
   "source": []
  },
  {
   "cell_type": "code",
   "execution_count": null,
   "id": "9c28ad41",
   "metadata": {},
   "outputs": [],
   "source": []
  },
  {
   "cell_type": "code",
   "execution_count": null,
   "id": "4ca04e89",
   "metadata": {},
   "outputs": [],
   "source": []
  },
  {
   "cell_type": "code",
   "execution_count": null,
   "id": "f7e71438",
   "metadata": {},
   "outputs": [],
   "source": []
  },
  {
   "cell_type": "code",
   "execution_count": null,
   "id": "0524636f",
   "metadata": {},
   "outputs": [],
   "source": []
  },
  {
   "cell_type": "code",
   "execution_count": null,
   "id": "94f0f9e5",
   "metadata": {},
   "outputs": [],
   "source": []
  },
  {
   "cell_type": "code",
   "execution_count": null,
   "id": "734ebe82",
   "metadata": {},
   "outputs": [],
   "source": []
  },
  {
   "cell_type": "code",
   "execution_count": null,
   "id": "144666c0",
   "metadata": {},
   "outputs": [],
   "source": []
  },
  {
   "cell_type": "code",
   "execution_count": null,
   "id": "2fc5a5e1",
   "metadata": {},
   "outputs": [],
   "source": []
  },
  {
   "cell_type": "code",
   "execution_count": null,
   "id": "2937bcbf",
   "metadata": {},
   "outputs": [],
   "source": []
  },
  {
   "cell_type": "code",
   "execution_count": null,
   "id": "04cca009",
   "metadata": {},
   "outputs": [],
   "source": []
  },
  {
   "cell_type": "code",
   "execution_count": null,
   "id": "bc6eb24b",
   "metadata": {},
   "outputs": [],
   "source": []
  },
  {
   "cell_type": "code",
   "execution_count": null,
   "id": "9d6639c5",
   "metadata": {},
   "outputs": [],
   "source": []
  },
  {
   "cell_type": "code",
   "execution_count": 302,
   "id": "29146ab8",
   "metadata": {},
   "outputs": [
    {
     "name": "stdout",
     "output_type": "stream",
     "text": [
      "output.pdf\n",
      "\n",
      "facebook.pdf\n",
      "\n",
      "tgo_ul_fds_ev319ky_raw.pdf\n",
      "\n",
      "math_12.pdf\n",
      "\n",
      "sagvfVpk.pdf\n",
      "\n",
      "Untitled.pdf\n",
      "\n"
     ]
    }
   ],
   "source": []
  },
  {
   "cell_type": "code",
   "execution_count": null,
   "id": "4836d26f",
   "metadata": {},
   "outputs": [],
   "source": []
  },
  {
   "cell_type": "code",
   "execution_count": null,
   "id": "ac17c6cf",
   "metadata": {},
   "outputs": [],
   "source": []
  },
  {
   "cell_type": "code",
   "execution_count": null,
   "id": "9fde958e",
   "metadata": {},
   "outputs": [],
   "source": []
  },
  {
   "cell_type": "code",
   "execution_count": null,
   "id": "8fec308a",
   "metadata": {},
   "outputs": [],
   "source": []
  },
  {
   "cell_type": "code",
   "execution_count": null,
   "id": "c6753c00",
   "metadata": {},
   "outputs": [],
   "source": []
  },
  {
   "cell_type": "code",
   "execution_count": null,
   "id": "a3590fa2",
   "metadata": {},
   "outputs": [],
   "source": []
  },
  {
   "cell_type": "code",
   "execution_count": null,
   "id": "bcf7d147",
   "metadata": {},
   "outputs": [],
   "source": []
  },
  {
   "cell_type": "code",
   "execution_count": null,
   "id": "fcefe360",
   "metadata": {},
   "outputs": [],
   "source": []
  },
  {
   "cell_type": "code",
   "execution_count": null,
   "id": "039f265b",
   "metadata": {},
   "outputs": [],
   "source": []
  },
  {
   "cell_type": "code",
   "execution_count": null,
   "id": "92dbe8b3",
   "metadata": {},
   "outputs": [],
   "source": []
  },
  {
   "cell_type": "code",
   "execution_count": null,
   "id": "1c2e9b98",
   "metadata": {},
   "outputs": [],
   "source": []
  },
  {
   "cell_type": "code",
   "execution_count": null,
   "id": "6de0efc9",
   "metadata": {},
   "outputs": [],
   "source": []
  },
  {
   "cell_type": "code",
   "execution_count": null,
   "id": "5a20755a",
   "metadata": {},
   "outputs": [],
   "source": []
  },
  {
   "cell_type": "code",
   "execution_count": null,
   "id": "758fcc4c",
   "metadata": {},
   "outputs": [],
   "source": []
  },
  {
   "cell_type": "code",
   "execution_count": null,
   "id": "21f855da",
   "metadata": {},
   "outputs": [],
   "source": []
  },
  {
   "cell_type": "code",
   "execution_count": null,
   "id": "bd5d5a94",
   "metadata": {},
   "outputs": [],
   "source": []
  },
  {
   "cell_type": "code",
   "execution_count": null,
   "id": "e9770072",
   "metadata": {},
   "outputs": [],
   "source": []
  },
  {
   "cell_type": "code",
   "execution_count": null,
   "id": "7915c42b",
   "metadata": {},
   "outputs": [],
   "source": []
  },
  {
   "cell_type": "code",
   "execution_count": null,
   "id": "1f0a631e",
   "metadata": {},
   "outputs": [],
   "source": []
  },
  {
   "cell_type": "code",
   "execution_count": null,
   "id": "86c96beb",
   "metadata": {},
   "outputs": [],
   "source": [
    "for output in outputs:\n",
    "    option = output.find_element(By.XPATH, \"//button[@class='item-button']\")\n",
    "    file_name = output.find_element(By.XPATH, \"//div[@class='text-ellipsis whitespace-nowrap overflow-hidden']\")#.text()\n",
    "    \n",
    "    #ActionChains(output).move_to_element(option).click().perform()\n",
    "    print(file_name.text)\n",
    "    \"\"\"try:\n",
    "        option.click()\n",
    "    except:\n",
    "        \"\"\"\"\"\n",
    "    \n",
    "    \"\"\"convert_panel = browser.find_element(By.XPATH, \"//ul[@class='popover-content']\")\n",
    "    docx_butt = convert_panel.find_elements(By.XPATH, \"//li[@class='w-full flex justify-between popover-content-item w-40 ']\")[2]\n",
    "    docx_butt.click()\"\"\""
   ]
  },
  {
   "cell_type": "code",
   "execution_count": null,
   "id": "5ae48338",
   "metadata": {},
   "outputs": [],
   "source": []
  },
  {
   "cell_type": "code",
   "execution_count": null,
   "id": "f7a05b6f",
   "metadata": {},
   "outputs": [],
   "source": []
  },
  {
   "cell_type": "code",
   "execution_count": null,
   "id": "7be01461",
   "metadata": {},
   "outputs": [],
   "source": []
  },
  {
   "cell_type": "code",
   "execution_count": null,
   "id": "88008e58",
   "metadata": {},
   "outputs": [],
   "source": []
  },
  {
   "cell_type": "code",
   "execution_count": null,
   "id": "ca2c2ce5",
   "metadata": {},
   "outputs": [],
   "source": []
  },
  {
   "cell_type": "code",
   "execution_count": null,
   "id": "f0c1d94c",
   "metadata": {},
   "outputs": [],
   "source": []
  },
  {
   "cell_type": "code",
   "execution_count": null,
   "id": "2473d0b1",
   "metadata": {},
   "outputs": [],
   "source": []
  },
  {
   "cell_type": "code",
   "execution_count": null,
   "id": "a691884d",
   "metadata": {},
   "outputs": [],
   "source": []
  },
  {
   "cell_type": "code",
   "execution_count": null,
   "id": "e7df20d1",
   "metadata": {},
   "outputs": [],
   "source": []
  },
  {
   "cell_type": "code",
   "execution_count": null,
   "id": "1c03be99",
   "metadata": {},
   "outputs": [],
   "source": []
  },
  {
   "cell_type": "code",
   "execution_count": null,
   "id": "81ad59b1",
   "metadata": {},
   "outputs": [],
   "source": []
  },
  {
   "cell_type": "code",
   "execution_count": null,
   "id": "ba2a7db8",
   "metadata": {},
   "outputs": [],
   "source": []
  },
  {
   "cell_type": "code",
   "execution_count": null,
   "id": "b9e1e71e",
   "metadata": {},
   "outputs": [],
   "source": []
  },
  {
   "cell_type": "code",
   "execution_count": null,
   "id": "5d28a7c4",
   "metadata": {},
   "outputs": [],
   "source": []
  },
  {
   "cell_type": "code",
   "execution_count": 199,
   "id": "d1a526d4",
   "metadata": {},
   "outputs": [
    {
     "name": "stdout",
     "output_type": "stream",
     "text": [
      "new.pdf\n",
      "new.pdf\n",
      "new.pdf\n",
      "new.pdf\n",
      "new.pdf\n",
      "new.pdf\n",
      "new.pdf\n"
     ]
    }
   ],
   "source": []
  },
  {
   "cell_type": "code",
   "execution_count": null,
   "id": "8e3bbeec",
   "metadata": {},
   "outputs": [],
   "source": []
  },
  {
   "cell_type": "code",
   "execution_count": null,
   "id": "1e06876e",
   "metadata": {},
   "outputs": [],
   "source": []
  },
  {
   "cell_type": "code",
   "execution_count": null,
   "id": "84ae0bb7",
   "metadata": {},
   "outputs": [],
   "source": []
  },
  {
   "cell_type": "code",
   "execution_count": null,
   "id": "ad76b369",
   "metadata": {},
   "outputs": [],
   "source": []
  },
  {
   "cell_type": "code",
   "execution_count": null,
   "id": "66e41847",
   "metadata": {},
   "outputs": [],
   "source": []
  },
  {
   "cell_type": "code",
   "execution_count": null,
   "id": "c2ae3ce2",
   "metadata": {},
   "outputs": [],
   "source": []
  },
  {
   "cell_type": "code",
   "execution_count": null,
   "id": "a09fb4d3",
   "metadata": {},
   "outputs": [],
   "source": []
  },
  {
   "cell_type": "code",
   "execution_count": null,
   "id": "dff147ae",
   "metadata": {},
   "outputs": [],
   "source": []
  },
  {
   "cell_type": "code",
   "execution_count": null,
   "id": "9b63b2c8",
   "metadata": {},
   "outputs": [],
   "source": []
  },
  {
   "cell_type": "code",
   "execution_count": null,
   "id": "e28f6613",
   "metadata": {},
   "outputs": [],
   "source": []
  },
  {
   "cell_type": "code",
   "execution_count": null,
   "id": "877f3d2d",
   "metadata": {},
   "outputs": [],
   "source": []
  },
  {
   "cell_type": "code",
   "execution_count": null,
   "id": "ad6ee27c",
   "metadata": {},
   "outputs": [],
   "source": []
  },
  {
   "cell_type": "code",
   "execution_count": null,
   "id": "fc610a50",
   "metadata": {},
   "outputs": [],
   "source": []
  },
  {
   "cell_type": "code",
   "execution_count": null,
   "id": "e763deec",
   "metadata": {},
   "outputs": [],
   "source": []
  },
  {
   "cell_type": "code",
   "execution_count": null,
   "id": "e088d6a9",
   "metadata": {},
   "outputs": [],
   "source": []
  },
  {
   "cell_type": "code",
   "execution_count": null,
   "id": "3b5f30d1",
   "metadata": {},
   "outputs": [],
   "source": []
  },
  {
   "cell_type": "code",
   "execution_count": null,
   "id": "9a0b0d82",
   "metadata": {},
   "outputs": [],
   "source": []
  },
  {
   "cell_type": "code",
   "execution_count": null,
   "id": "91aa4840",
   "metadata": {},
   "outputs": [],
   "source": []
  },
  {
   "cell_type": "code",
   "execution_count": null,
   "id": "45ba1414",
   "metadata": {},
   "outputs": [],
   "source": []
  },
  {
   "cell_type": "code",
   "execution_count": null,
   "id": "f1d72556",
   "metadata": {},
   "outputs": [],
   "source": []
  },
  {
   "cell_type": "code",
   "execution_count": null,
   "id": "40dc5c87",
   "metadata": {},
   "outputs": [],
   "source": []
  },
  {
   "cell_type": "code",
   "execution_count": null,
   "id": "1697cccc",
   "metadata": {},
   "outputs": [],
   "source": []
  },
  {
   "cell_type": "code",
   "execution_count": null,
   "id": "6a45a3dd",
   "metadata": {},
   "outputs": [],
   "source": []
  },
  {
   "cell_type": "code",
   "execution_count": null,
   "id": "13356cec",
   "metadata": {},
   "outputs": [],
   "source": []
  },
  {
   "cell_type": "code",
   "execution_count": null,
   "id": "23495fce",
   "metadata": {},
   "outputs": [],
   "source": []
  },
  {
   "cell_type": "code",
   "execution_count": null,
   "id": "1804aadf",
   "metadata": {},
   "outputs": [],
   "source": []
  },
  {
   "cell_type": "code",
   "execution_count": null,
   "id": "e0de2b60",
   "metadata": {},
   "outputs": [],
   "source": []
  },
  {
   "cell_type": "code",
   "execution_count": null,
   "id": "2c1a8c10",
   "metadata": {},
   "outputs": [],
   "source": []
  },
  {
   "cell_type": "code",
   "execution_count": null,
   "id": "c1dd2b1f",
   "metadata": {},
   "outputs": [],
   "source": []
  },
  {
   "cell_type": "code",
   "execution_count": null,
   "id": "16350019",
   "metadata": {},
   "outputs": [],
   "source": []
  },
  {
   "cell_type": "code",
   "execution_count": null,
   "id": "7d73b9fa",
   "metadata": {},
   "outputs": [],
   "source": []
  },
  {
   "cell_type": "code",
   "execution_count": null,
   "id": "bb63e093",
   "metadata": {},
   "outputs": [],
   "source": []
  },
  {
   "cell_type": "code",
   "execution_count": null,
   "id": "fa90837d",
   "metadata": {},
   "outputs": [],
   "source": []
  },
  {
   "cell_type": "code",
   "execution_count": null,
   "id": "4e5ca55c",
   "metadata": {},
   "outputs": [],
   "source": []
  },
  {
   "cell_type": "code",
   "execution_count": null,
   "id": "34e7e2f4",
   "metadata": {},
   "outputs": [],
   "source": []
  },
  {
   "cell_type": "code",
   "execution_count": null,
   "id": "8608637a",
   "metadata": {},
   "outputs": [],
   "source": []
  },
  {
   "cell_type": "code",
   "execution_count": null,
   "id": "5924fdc4",
   "metadata": {},
   "outputs": [],
   "source": []
  },
  {
   "cell_type": "code",
   "execution_count": null,
   "id": "60acd451",
   "metadata": {},
   "outputs": [],
   "source": []
  },
  {
   "cell_type": "code",
   "execution_count": null,
   "id": "fddc423f",
   "metadata": {},
   "outputs": [],
   "source": []
  },
  {
   "cell_type": "code",
   "execution_count": null,
   "id": "fa5c3eac",
   "metadata": {},
   "outputs": [],
   "source": []
  },
  {
   "cell_type": "code",
   "execution_count": null,
   "id": "bee59da3",
   "metadata": {},
   "outputs": [],
   "source": []
  },
  {
   "cell_type": "code",
   "execution_count": null,
   "id": "34b17f5b",
   "metadata": {},
   "outputs": [],
   "source": []
  },
  {
   "cell_type": "code",
   "execution_count": null,
   "id": "b22fa98b",
   "metadata": {},
   "outputs": [],
   "source": [
    "#Delete old files"
   ]
  },
  {
   "cell_type": "code",
   "execution_count": null,
   "id": "77980280",
   "metadata": {},
   "outputs": [],
   "source": []
  },
  {
   "cell_type": "code",
   "execution_count": null,
   "id": "0f4be02f",
   "metadata": {},
   "outputs": [],
   "source": []
  },
  {
   "cell_type": "code",
   "execution_count": null,
   "id": "cc66412e",
   "metadata": {},
   "outputs": [],
   "source": []
  },
  {
   "cell_type": "code",
   "execution_count": null,
   "id": "5e2d09ed",
   "metadata": {},
   "outputs": [],
   "source": []
  },
  {
   "cell_type": "code",
   "execution_count": null,
   "id": "b91387bd",
   "metadata": {},
   "outputs": [],
   "source": []
  },
  {
   "cell_type": "code",
   "execution_count": null,
   "id": "fbd6c2bb",
   "metadata": {},
   "outputs": [],
   "source": []
  },
  {
   "cell_type": "code",
   "execution_count": null,
   "id": "2e301e80",
   "metadata": {},
   "outputs": [],
   "source": []
  },
  {
   "cell_type": "code",
   "execution_count": 127,
   "id": "743c612f",
   "metadata": {},
   "outputs": [],
   "source": []
  },
  {
   "cell_type": "code",
   "execution_count": null,
   "id": "3c87fb19",
   "metadata": {},
   "outputs": [],
   "source": []
  },
  {
   "cell_type": "code",
   "execution_count": null,
   "id": "6082c67e",
   "metadata": {},
   "outputs": [],
   "source": []
  },
  {
   "cell_type": "code",
   "execution_count": null,
   "id": "9ac96a96",
   "metadata": {},
   "outputs": [],
   "source": []
  },
  {
   "cell_type": "code",
   "execution_count": null,
   "id": "f0111aad",
   "metadata": {},
   "outputs": [],
   "source": []
  },
  {
   "cell_type": "code",
   "execution_count": null,
   "id": "f1e510df",
   "metadata": {},
   "outputs": [],
   "source": []
  },
  {
   "cell_type": "code",
   "execution_count": null,
   "id": "84f027f0",
   "metadata": {},
   "outputs": [],
   "source": []
  },
  {
   "cell_type": "code",
   "execution_count": null,
   "id": "49656d6f",
   "metadata": {},
   "outputs": [],
   "source": []
  },
  {
   "cell_type": "code",
   "execution_count": null,
   "id": "23cd2530",
   "metadata": {},
   "outputs": [],
   "source": []
  },
  {
   "cell_type": "code",
   "execution_count": null,
   "id": "896c1bfb",
   "metadata": {},
   "outputs": [],
   "source": []
  },
  {
   "cell_type": "code",
   "execution_count": null,
   "id": "f0b3164a",
   "metadata": {},
   "outputs": [],
   "source": []
  },
  {
   "cell_type": "code",
   "execution_count": null,
   "id": "8f14e4d6",
   "metadata": {},
   "outputs": [],
   "source": []
  },
  {
   "cell_type": "code",
   "execution_count": null,
   "id": "52b25d37",
   "metadata": {},
   "outputs": [],
   "source": [
    "email = \n",
    "print(email.text)\n",
    "email.send_keys(user_email)\n",
    "password = browser.find_element_by_class_name('df-card__main')\n",
    "password.send_keys(user_password)\n",
    "\n",
    "button = browser.find_element_by_class_name('btn_l1_quaternary')\n",
    "button.click()"
   ]
  },
  {
   "cell_type": "code",
   "execution_count": null,
   "id": "737a8c57",
   "metadata": {},
   "outputs": [],
   "source": []
  },
  {
   "cell_type": "code",
   "execution_count": null,
   "id": "0ae16c11",
   "metadata": {},
   "outputs": [],
   "source": []
  },
  {
   "cell_type": "code",
   "execution_count": null,
   "id": "88aac81a",
   "metadata": {},
   "outputs": [],
   "source": []
  },
  {
   "cell_type": "code",
   "execution_count": null,
   "id": "f0efa3a8",
   "metadata": {},
   "outputs": [],
   "source": []
  },
  {
   "cell_type": "code",
   "execution_count": null,
   "id": "22908071",
   "metadata": {},
   "outputs": [],
   "source": []
  },
  {
   "cell_type": "code",
   "execution_count": null,
   "id": "9e60f262",
   "metadata": {},
   "outputs": [],
   "source": []
  },
  {
   "cell_type": "code",
   "execution_count": null,
   "id": "e6b74c34",
   "metadata": {},
   "outputs": [],
   "source": []
  },
  {
   "cell_type": "code",
   "execution_count": null,
   "id": "19d9562b",
   "metadata": {},
   "outputs": [],
   "source": []
  },
  {
   "cell_type": "code",
   "execution_count": null,
   "id": "c59901ce",
   "metadata": {},
   "outputs": [],
   "source": []
  },
  {
   "cell_type": "code",
   "execution_count": null,
   "id": "e0a84a3a",
   "metadata": {},
   "outputs": [],
   "source": []
  },
  {
   "cell_type": "code",
   "execution_count": null,
   "id": "01205faa",
   "metadata": {},
   "outputs": [],
   "source": []
  },
  {
   "cell_type": "code",
   "execution_count": null,
   "id": "dcedc51e",
   "metadata": {},
   "outputs": [],
   "source": []
  },
  {
   "cell_type": "code",
   "execution_count": null,
   "id": "2b790e61",
   "metadata": {},
   "outputs": [],
   "source": []
  },
  {
   "cell_type": "code",
   "execution_count": null,
   "id": "b96a17cb",
   "metadata": {},
   "outputs": [],
   "source": [
    "\n"
   ]
  },
  {
   "cell_type": "code",
   "execution_count": null,
   "id": "381c575d",
   "metadata": {},
   "outputs": [],
   "source": []
  },
  {
   "cell_type": "code",
   "execution_count": null,
   "id": "e880c911",
   "metadata": {},
   "outputs": [],
   "source": []
  },
  {
   "cell_type": "code",
   "execution_count": null,
   "id": "bee651b8",
   "metadata": {},
   "outputs": [],
   "source": []
  },
  {
   "cell_type": "code",
   "execution_count": null,
   "id": "07fd2f1c",
   "metadata": {},
   "outputs": [],
   "source": []
  },
  {
   "cell_type": "code",
   "execution_count": null,
   "id": "3383a2ea",
   "metadata": {},
   "outputs": [],
   "source": []
  },
  {
   "cell_type": "code",
   "execution_count": null,
   "id": "d37e3ac8",
   "metadata": {},
   "outputs": [],
   "source": []
  },
  {
   "cell_type": "code",
   "execution_count": null,
   "id": "8c087797",
   "metadata": {},
   "outputs": [],
   "source": []
  },
  {
   "cell_type": "code",
   "execution_count": null,
   "id": "72d7511c",
   "metadata": {},
   "outputs": [],
   "source": []
  },
  {
   "cell_type": "code",
   "execution_count": null,
   "id": "b51e0d25",
   "metadata": {},
   "outputs": [],
   "source": []
  },
  {
   "cell_type": "code",
   "execution_count": null,
   "id": "3637025a",
   "metadata": {},
   "outputs": [],
   "source": []
  },
  {
   "cell_type": "code",
   "execution_count": null,
   "id": "3f61ad57",
   "metadata": {},
   "outputs": [],
   "source": []
  },
  {
   "cell_type": "code",
   "execution_count": null,
   "id": "be1c5f59",
   "metadata": {},
   "outputs": [],
   "source": []
  },
  {
   "cell_type": "code",
   "execution_count": null,
   "id": "6eb3ed5c",
   "metadata": {},
   "outputs": [],
   "source": []
  },
  {
   "cell_type": "code",
   "execution_count": null,
   "id": "f16f8245",
   "metadata": {},
   "outputs": [],
   "source": []
  },
  {
   "cell_type": "code",
   "execution_count": null,
   "id": "efe2142e",
   "metadata": {},
   "outputs": [],
   "source": []
  },
  {
   "cell_type": "code",
   "execution_count": null,
   "id": "43792e83",
   "metadata": {},
   "outputs": [],
   "source": []
  },
  {
   "cell_type": "code",
   "execution_count": null,
   "id": "9f19ddb2",
   "metadata": {},
   "outputs": [],
   "source": []
  },
  {
   "cell_type": "code",
   "execution_count": null,
   "id": "e6e9e7fc",
   "metadata": {},
   "outputs": [],
   "source": []
  },
  {
   "cell_type": "code",
   "execution_count": null,
   "id": "cd5cdf58",
   "metadata": {},
   "outputs": [],
   "source": []
  },
  {
   "cell_type": "code",
   "execution_count": null,
   "id": "d1eba90c",
   "metadata": {},
   "outputs": [],
   "source": []
  },
  {
   "cell_type": "code",
   "execution_count": null,
   "id": "81921f32",
   "metadata": {},
   "outputs": [],
   "source": []
  },
  {
   "cell_type": "code",
   "execution_count": null,
   "id": "f331bbd8",
   "metadata": {},
   "outputs": [],
   "source": []
  },
  {
   "cell_type": "code",
   "execution_count": null,
   "id": "38152883",
   "metadata": {},
   "outputs": [],
   "source": []
  },
  {
   "cell_type": "code",
   "execution_count": null,
   "id": "9cd27051",
   "metadata": {},
   "outputs": [],
   "source": []
  },
  {
   "cell_type": "code",
   "execution_count": null,
   "id": "f2f64ceb",
   "metadata": {},
   "outputs": [],
   "source": []
  },
  {
   "cell_type": "code",
   "execution_count": null,
   "id": "f6f0358a",
   "metadata": {},
   "outputs": [],
   "source": []
  },
  {
   "cell_type": "code",
   "execution_count": null,
   "id": "80372a9d",
   "metadata": {},
   "outputs": [],
   "source": []
  },
  {
   "cell_type": "code",
   "execution_count": null,
   "id": "6eb94e5c",
   "metadata": {},
   "outputs": [],
   "source": []
  },
  {
   "cell_type": "code",
   "execution_count": null,
   "id": "5b717efe",
   "metadata": {},
   "outputs": [],
   "source": []
  },
  {
   "cell_type": "code",
   "execution_count": null,
   "id": "0a6a22d4",
   "metadata": {},
   "outputs": [],
   "source": []
  },
  {
   "cell_type": "code",
   "execution_count": null,
   "id": "5627d9c8",
   "metadata": {},
   "outputs": [],
   "source": []
  },
  {
   "cell_type": "code",
   "execution_count": null,
   "id": "433b751c",
   "metadata": {},
   "outputs": [],
   "source": []
  },
  {
   "cell_type": "code",
   "execution_count": null,
   "id": "6dde88a1",
   "metadata": {},
   "outputs": [],
   "source": []
  },
  {
   "cell_type": "code",
   "execution_count": null,
   "id": "60c770bf",
   "metadata": {},
   "outputs": [],
   "source": []
  },
  {
   "cell_type": "code",
   "execution_count": null,
   "id": "73acc65e",
   "metadata": {},
   "outputs": [],
   "source": []
  },
  {
   "cell_type": "code",
   "execution_count": null,
   "id": "502bc43b",
   "metadata": {},
   "outputs": [],
   "source": []
  },
  {
   "cell_type": "code",
   "execution_count": null,
   "id": "9698c0e3",
   "metadata": {},
   "outputs": [],
   "source": []
  },
  {
   "cell_type": "code",
   "execution_count": null,
   "id": "f731fc3e",
   "metadata": {},
   "outputs": [],
   "source": []
  },
  {
   "cell_type": "code",
   "execution_count": null,
   "id": "f8ab42f1",
   "metadata": {},
   "outputs": [],
   "source": []
  },
  {
   "cell_type": "code",
   "execution_count": null,
   "id": "e4cb22f2",
   "metadata": {},
   "outputs": [],
   "source": []
  },
  {
   "cell_type": "code",
   "execution_count": null,
   "id": "c68201a9",
   "metadata": {},
   "outputs": [],
   "source": []
  },
  {
   "cell_type": "code",
   "execution_count": null,
   "id": "683b2454",
   "metadata": {},
   "outputs": [],
   "source": []
  },
  {
   "cell_type": "code",
   "execution_count": null,
   "id": "9c49267d",
   "metadata": {},
   "outputs": [],
   "source": []
  },
  {
   "cell_type": "code",
   "execution_count": null,
   "id": "ada2e690",
   "metadata": {},
   "outputs": [],
   "source": []
  },
  {
   "cell_type": "code",
   "execution_count": null,
   "id": "965e49c1",
   "metadata": {},
   "outputs": [],
   "source": []
  },
  {
   "cell_type": "code",
   "execution_count": null,
   "id": "0b0f9329",
   "metadata": {},
   "outputs": [],
   "source": []
  },
  {
   "cell_type": "code",
   "execution_count": null,
   "id": "038d2483",
   "metadata": {},
   "outputs": [],
   "source": []
  },
  {
   "cell_type": "code",
   "execution_count": null,
   "id": "cd03ec21",
   "metadata": {},
   "outputs": [],
   "source": []
  },
  {
   "cell_type": "code",
   "execution_count": null,
   "id": "dfcfa21d",
   "metadata": {},
   "outputs": [],
   "source": []
  },
  {
   "cell_type": "code",
   "execution_count": null,
   "id": "e30ab15d",
   "metadata": {},
   "outputs": [],
   "source": []
  },
  {
   "cell_type": "code",
   "execution_count": null,
   "id": "2510e5c8",
   "metadata": {},
   "outputs": [],
   "source": []
  },
  {
   "cell_type": "code",
   "execution_count": null,
   "id": "0cb0e8ca",
   "metadata": {},
   "outputs": [],
   "source": []
  },
  {
   "cell_type": "code",
   "execution_count": null,
   "id": "3e241a99",
   "metadata": {},
   "outputs": [],
   "source": []
  },
  {
   "cell_type": "code",
   "execution_count": null,
   "id": "cda3418d",
   "metadata": {},
   "outputs": [],
   "source": []
  },
  {
   "cell_type": "code",
   "execution_count": null,
   "id": "050731ab",
   "metadata": {},
   "outputs": [],
   "source": []
  },
  {
   "cell_type": "code",
   "execution_count": null,
   "id": "671ee5fa",
   "metadata": {},
   "outputs": [],
   "source": [
    "\n"
   ]
  },
  {
   "cell_type": "code",
   "execution_count": null,
   "id": "982e6268",
   "metadata": {},
   "outputs": [],
   "source": []
  },
  {
   "cell_type": "code",
   "execution_count": null,
   "id": "4d338689",
   "metadata": {},
   "outputs": [],
   "source": []
  },
  {
   "cell_type": "code",
   "execution_count": null,
   "id": "7334c199",
   "metadata": {},
   "outputs": [],
   "source": []
  },
  {
   "cell_type": "code",
   "execution_count": null,
   "id": "75bbce5a",
   "metadata": {},
   "outputs": [],
   "source": []
  },
  {
   "cell_type": "code",
   "execution_count": null,
   "id": "fd81c1d5",
   "metadata": {},
   "outputs": [],
   "source": []
  },
  {
   "cell_type": "code",
   "execution_count": null,
   "id": "7a942a3b",
   "metadata": {},
   "outputs": [],
   "source": []
  },
  {
   "cell_type": "code",
   "execution_count": null,
   "id": "443959a2",
   "metadata": {},
   "outputs": [],
   "source": []
  },
  {
   "cell_type": "code",
   "execution_count": null,
   "id": "39ec2adb",
   "metadata": {},
   "outputs": [],
   "source": []
  },
  {
   "cell_type": "code",
   "execution_count": null,
   "id": "ce42ac2e",
   "metadata": {},
   "outputs": [],
   "source": []
  },
  {
   "cell_type": "code",
   "execution_count": null,
   "id": "32decf83",
   "metadata": {},
   "outputs": [],
   "source": []
  },
  {
   "cell_type": "code",
   "execution_count": null,
   "id": "e2c56782",
   "metadata": {},
   "outputs": [],
   "source": []
  },
  {
   "cell_type": "code",
   "execution_count": null,
   "id": "5a050ebe",
   "metadata": {},
   "outputs": [],
   "source": []
  },
  {
   "cell_type": "code",
   "execution_count": null,
   "id": "57a61af4",
   "metadata": {},
   "outputs": [],
   "source": []
  },
  {
   "cell_type": "code",
   "execution_count": null,
   "id": "c0372427",
   "metadata": {},
   "outputs": [],
   "source": []
  },
  {
   "cell_type": "code",
   "execution_count": null,
   "id": "bf26d659",
   "metadata": {},
   "outputs": [],
   "source": []
  },
  {
   "cell_type": "code",
   "execution_count": null,
   "id": "c6cad8a1",
   "metadata": {},
   "outputs": [],
   "source": []
  },
  {
   "cell_type": "code",
   "execution_count": null,
   "id": "453e3259",
   "metadata": {},
   "outputs": [],
   "source": []
  },
  {
   "cell_type": "code",
   "execution_count": null,
   "id": "3f7a6379",
   "metadata": {},
   "outputs": [],
   "source": []
  },
  {
   "cell_type": "code",
   "execution_count": null,
   "id": "a2298409",
   "metadata": {},
   "outputs": [],
   "source": []
  },
  {
   "cell_type": "code",
   "execution_count": null,
   "id": "5af1a18f",
   "metadata": {},
   "outputs": [],
   "source": []
  },
  {
   "cell_type": "code",
   "execution_count": null,
   "id": "3593d0e5",
   "metadata": {},
   "outputs": [],
   "source": []
  },
  {
   "cell_type": "code",
   "execution_count": null,
   "id": "d53261e9",
   "metadata": {},
   "outputs": [],
   "source": []
  },
  {
   "cell_type": "code",
   "execution_count": null,
   "id": "5ed0818e",
   "metadata": {},
   "outputs": [],
   "source": []
  },
  {
   "cell_type": "code",
   "execution_count": null,
   "id": "b67c69a4",
   "metadata": {},
   "outputs": [],
   "source": []
  },
  {
   "cell_type": "code",
   "execution_count": null,
   "id": "92121a56",
   "metadata": {},
   "outputs": [],
   "source": []
  },
  {
   "cell_type": "code",
   "execution_count": null,
   "id": "4c9413e8",
   "metadata": {},
   "outputs": [],
   "source": []
  },
  {
   "cell_type": "code",
   "execution_count": null,
   "id": "78003da7",
   "metadata": {},
   "outputs": [],
   "source": []
  },
  {
   "cell_type": "code",
   "execution_count": null,
   "id": "ca569866",
   "metadata": {},
   "outputs": [],
   "source": []
  },
  {
   "cell_type": "code",
   "execution_count": null,
   "id": "d6caf04c",
   "metadata": {},
   "outputs": [],
   "source": []
  },
  {
   "cell_type": "code",
   "execution_count": null,
   "id": "8d17e46c",
   "metadata": {},
   "outputs": [],
   "source": []
  },
  {
   "cell_type": "code",
   "execution_count": null,
   "id": "2845e2a0",
   "metadata": {},
   "outputs": [],
   "source": []
  },
  {
   "cell_type": "code",
   "execution_count": null,
   "id": "0ce5889a",
   "metadata": {},
   "outputs": [],
   "source": []
  },
  {
   "cell_type": "code",
   "execution_count": null,
   "id": "e5c9eede",
   "metadata": {},
   "outputs": [],
   "source": []
  },
  {
   "cell_type": "code",
   "execution_count": null,
   "id": "64de58f5",
   "metadata": {},
   "outputs": [],
   "source": []
  },
  {
   "cell_type": "code",
   "execution_count": null,
   "id": "aee4e847",
   "metadata": {},
   "outputs": [],
   "source": []
  },
  {
   "cell_type": "code",
   "execution_count": null,
   "id": "de647b80",
   "metadata": {},
   "outputs": [],
   "source": []
  },
  {
   "cell_type": "code",
   "execution_count": null,
   "id": "d6d1fbdf",
   "metadata": {},
   "outputs": [],
   "source": []
  },
  {
   "cell_type": "code",
   "execution_count": null,
   "id": "0b2c9aa2",
   "metadata": {},
   "outputs": [],
   "source": []
  },
  {
   "cell_type": "code",
   "execution_count": null,
   "id": "692879d7",
   "metadata": {},
   "outputs": [],
   "source": []
  },
  {
   "cell_type": "code",
   "execution_count": null,
   "id": "586ff2d3",
   "metadata": {},
   "outputs": [],
   "source": []
  },
  {
   "cell_type": "code",
   "execution_count": null,
   "id": "819b0fed",
   "metadata": {},
   "outputs": [],
   "source": []
  },
  {
   "cell_type": "code",
   "execution_count": null,
   "id": "a5ce5a68",
   "metadata": {},
   "outputs": [],
   "source": []
  }
 ],
 "metadata": {
  "kernelspec": {
   "display_name": "pyenv-3.10",
   "language": "python",
   "name": "pyenv-3.10"
  },
  "language_info": {
   "codemirror_mode": {
    "name": "ipython",
    "version": 3
   },
   "file_extension": ".py",
   "mimetype": "text/x-python",
   "name": "python",
   "nbconvert_exporter": "python",
   "pygments_lexer": "ipython3",
   "version": "3.10.6"
  }
 },
 "nbformat": 4,
 "nbformat_minor": 5
}
