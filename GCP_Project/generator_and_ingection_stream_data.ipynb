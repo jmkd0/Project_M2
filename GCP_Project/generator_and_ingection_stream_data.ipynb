{
 "cells": [
  {
   "cell_type": "code",
   "execution_count": 43,
   "id": "ef941b04",
   "metadata": {},
   "outputs": [],
   "source": [
    "import pandas as pd\n",
    "import numpy as np\n",
    "import random\n",
    "import time\n",
    "import uuid\n",
    "from datetime import datetime\n",
    "from email.utils import parsedate_to_datetime\n",
    "\n",
    "size = 25000\n",
    "dates = range(int(time.mktime(( 2022, 1, 1, 0, 0, 0, 0, 0, 0))), int(time.mktime(( 2022, 1, 31, 0, 0, 0, 0, 0, 0)) ))\n",
    "users_ids = [uuid.uuid4() for i in range(1000)]\n",
    "users_advertiser_ids = [uuid.uuid4() for i in range((500))]\n",
    "countries = {\"FR\":\"France\",\"GE\":\"Geramny\",\"US\":\"United States\",\"CA\":\"Canada\",\"EN\":\"England\",\"SP\":\"Spain\",\"BR\":\"Brasil\"}\n",
    "browsers = {\"345978365835376\":\"Chrome\",\"8753685264337\":\"Mozilla Firefox\",\"65784523663644\":\"Opera\",\"2109367534582756\":\"Microsoft Edge\",\"4534637355634\":\"Brave\"}\n",
    "data = pd.DataFrame()\n",
    "data[\"Landing Page URL ID\"] = [uuid.uuid4() for i in range(size)]\n",
    "data[\"Referrer URL\"] = [random.choice(['https://junglebike.fr/casque.html','https://www.amazon.fr/pulles/', 'https://www.cdiscount.com/', 'https://fr.aliexpress.com/', 'https://shopping.google.fr/']) for i in range(size)]\n",
    "data[\"Impression ID\"] = [random.choice([\"AS\",\"BP\",\"AK\",\"BS\"])+str(random.choice(range(983456786862, 983456786862+200))) for i in range(size)]\n",
    "data[\"Asset ID\"] = [random.choice(range(1011566786, 1011566786+1000)) for i in range(size)]\n",
    "data[\"Active View: Eligible Impressions\"] = [random.choice(range(56863854982, 56863854982+2000)) for i in range(size)]\n",
    "data[\"Active View: Measurable Impressions\"] = [random.choice(range(7743646, 7743646+200)) for i in range(size)]\n",
    "data[\"Active View: Viewable Impressions\"] = [random.choice(range(4436462, 4436462+100)) for i in range(size)]\n",
    "data[\"Activity ID\"] = [random.choice(range(2398, 2398+50)) for i in range(size)]\n",
    "data[\"Event Time\"] = [parsedate_to_datetime(time.ctime(random.choice(dates))).replace(tzinfo=None).strftime(\"%Y-%m-%d %H:%M:%S\") for i in range(size)]\n",
    "data[\"Event Type\"] = [random.choice(['VIEW', 'CLICK', 'CONVERSION', None]) for i in range(size)]\n",
    "data[\"Event Sub-Type\"] = [random.choice(['VIEW', 'CLICK', 'POSTVIEW','POSTCLICK', None]) for i in range(size)]\n",
    "\n",
    "data[\"User ID\"] = [random.choice(users_ids) for i in range(size)]\n",
    "data[\"Advertiser ID\"] = [random.choice(range(5678, 5678+235)) for i in range(size)]\n",
    "data[\"Campaign ID\"] = [random.choice(range(6768675387, 6768675387+100)) for i in range(size)]\n",
    "data[\"Floodlight Configuration\"] = [random.choice(range(1209785242, 1209785242+100)) for i in range(size)]\n",
    "data[\"Ad ID\"] = [random.choice(users_advertiser_ids) for i in range(size)]\n",
    "data[\"Rendering ID\"] = [random.choice(range(565726383, 565726383+50))  for i in range(size)]\n",
    "data[\"Creative Version\"] = [random.choice(range(67725, 67725+600)) for i in range(size)]\n",
    "data[\"Site ID (DCM)\"] = [random.choice(range(67725, 67725+600)) for i in range(size)]\n",
    "data[\"Placement ID\"] = [random.choice(range(565726383, 565726383+50)) for i in range(size)]\n",
    "data[\"Country Code\"] = random.choices(list(countries.keys()), weights=[0.15117245, 0.174, 0.25081, 0.116, 0.1256, 0.09, 0.08], k=size)\n",
    "data[\"State/Region\"] = data[\"Country Code\"].apply(lambda x: countries[x])\n",
    "data[\"Browser/Platform ID\"] = random.choices(list(browsers.keys()), weights=[0.4817245, 0.24, 0.06081, 0.156, 0.056], k=size)\n",
    "#data[\"Browser/Platform Version\"] = data[\"Browser/Platform ID\"].apply(lambda x: browsers[x])\n",
    "data.to_csv(\"/Users/komlan/Project_M2/GCP_Project/doubleclick_dataset.csv\")"
   ]
  },
  {
   "cell_type": "code",
   "execution_count": 29,
   "id": "df231761",
   "metadata": {},
   "outputs": [
    {
     "name": "stdout",
     "output_type": "stream",
     "text": [
      "(25000, 23)\n",
      "{'Landing_Page_URL_ID': 'd98ee0a4-b54d-48b4-99f8-7c25610fe885', 'Referrer_URL': 'https://www.cdiscount.com/', 'Impression_ID': 'AS983456787060', 'Asset_ID': 1011567140, 'Active_View_Eligible_Impressions': 56863856630, 'Active_View_Measurable_Impressions': 7743840, 'Active_View_Viewable_Impressions': 4436560, 'Activity_ID': 2398, 'Event_Time': '2022-01-01 05:22:29', 'Event_Type': 'CLICK', 'Event_Sub_Type': 'CLICK', 'User_ID': '7496f23a-4dfa-4942-8073-7796e18e5198', 'Advertiser_ID': 5906, 'Campaign_ID': 6768675483, 'Floodlight_Configuration': 1209785314, 'Ad_ID': 'cfefe4e2-44a8-4156-b247-7ef66853a36a', 'Rendering_ID': 565726430, 'Creative_Version': 67915, 'Site_ID_DCM': 68139, 'Placement_ID': 565726415, 'Country_Code': 'US', 'State_Region': 'United States', 'Browser_Plateform_ID': 345978365835376}\n"
     ]
    }
   ],
   "source": [
    "import os\n",
    "import pandas as pd\n",
    "import json\n",
    "import time\n",
    "from google.cloud import pubsub_v1 #pip install --upgrade google-cloud-pubsub\n",
    "credentials_path = \"/Users/komlan/Project_M2/GCP_Project/noted-slice-364618-edb88fef1cbb.json\"\n",
    "os.environ['GOOGLE_APPLICATION_CREDENTIALS'] = credentials_path\n",
    "publisher = pubsub_v1.PublisherClient()\n",
    "topic_path = \"projects/noted-slice-364618/topics/topic-doubleclick\"\n",
    "#topic_path = \"projects/doubleclick-project-340112/topics/topic_browser\"\n",
    "keys = [\"Landing_Page_URL_ID\",\"Referrer_URL\",\"Impression_ID\",\"Asset_ID\",\"Active_View_Eligible_Impressions\",\n",
    "        \"Active_View_Measurable_Impressions\",\"Active_View_Viewable_Impressions\",\"Activity_ID\",\"Event_Time\",\n",
    "        \"Event_Type\",\"Event_Sub_Type\",\"User_ID\",\"Advertiser_ID\",\"Campaign_ID\",\"Floodlight_Configuration\",\n",
    "        \"Ad_ID\",\"Rendering_ID\",\"Creative_Version\",\"Site_ID_DCM\",\"Placement_ID\",\"Country_Code\",\"State_Region\",\n",
    "        \"Browser_Plateform_ID\"]\n",
    "data = pd.read_csv(\"/Users/komlan/Project_M2/GCP_Project/doubleclick_dataset.csv\").drop(['Unnamed: 0'], axis=1)\n",
    "\n",
    "cpt = 0\n",
    "stream_data = data\n",
    "print(data.shape)\n",
    "for i, line in stream_data.iterrows():\n",
    "    row = {}\n",
    "    for j, val in enumerate(line):\n",
    "        row[keys[j]] = val\n",
    "    \n",
    "    row[\"Landing_Page_URL_ID\"] = str(row[\"Landing_Page_URL_ID\"]).replace(\" : \",\"_\")\n",
    "    row[\"User_ID\"] = str(row[\"User_ID\"])\n",
    "    row[\"Ad_ID\"] = str(row[\"Ad_ID\"])\n",
    "    row[\"Impression_ID\"] = row[\"Impression_ID\"].replace(\" : \",\"_\")\n",
    "    row[\"Country_Code\"] = None if pd.isnull(row[\"Country_Code\"]) else row[\"Country_Code\"]\n",
    "    row[\"Event_Sub_Type\"] = None if pd.isnull(row[\"Event_Sub_Type\"]) else row[\"Event_Sub_Type\"]\n",
    "    print(row)\n",
    "    attributes = json.dumps(row).encode(\"utf-8\")\n",
    "    future = publisher.publish(topic_path, attributes)\n",
    "    #print(future.result())\n",
    "    cpt += 1\n",
    "    if cpt % 1 == 0:\n",
    "        break\n",
    "        time.sleep(10)"
   ]
  },
  {
   "cell_type": "code",
   "execution_count": null,
   "id": "d6e401d4",
   "metadata": {},
   "outputs": [],
   "source": []
  },
  {
   "cell_type": "code",
   "execution_count": 2,
   "id": "b874b2bc",
   "metadata": {},
   "outputs": [
    {
     "ename": "SyntaxError",
     "evalue": "invalid syntax (2274484936.py, line 1)",
     "output_type": "error",
     "traceback": [
      "\u001b[0;36m  File \u001b[0;32m\"/var/folders/f9/r8b1hbc521q0393y0lfxn0wr0000gn/T/ipykernel_28079/2274484936.py\"\u001b[0;36m, line \u001b[0;32m1\u001b[0m\n\u001b[0;31m    bq mk doubleclick_data.stream_data Landing_Page_URL_ID:STRING,Referrer_URL:STRING,Impression_ID:STRING,Asset_ID:INTEGER,Active_View_Eligible_Impressions:INTEGER,Active_View_Measurable_Impressions:INTEGER,Active_View_Viewable_Impressions:INTEGER,Activity_ID:INTEGER,Event_Time:TIMESTAMP,Event_Type:STRING,Event_Sub_Type:STRING,User_ID:STRING,Advertiser_ID:INTEGER,Campaign_ID:INTEGER,Floodlight_Configuration:INTEGER,Ad_ID:STRING,Rendering_ID:INTEGER,Creative_Version:INTEGER,Site_ID_DCM:INTEGER,Placement_ID:INTEGER,Country_Code:STRING,State_Region:STRING,Browser_Platform_ID:INTEGER\u001b[0m\n\u001b[0m       ^\u001b[0m\n\u001b[0;31mSyntaxError\u001b[0m\u001b[0;31m:\u001b[0m invalid syntax\n"
     ]
    }
   ],
   "source": [
    "bq mk doubleclick_data.stream_data Landing_Page_URL_ID:STRING,Referrer_URL:STRING,Impression_ID:STRING,Asset_ID:INTEGER,Active_View_Eligible_Impressions:INTEGER,Active_View_Measurable_Impressions:INTEGER,Active_View_Viewable_Impressions:INTEGER,Activity_ID:INTEGER,Event_Time:TIMESTAMP,Event_Type:STRING,Event_Sub_Type:STRING,User_ID:STRING,Advertiser_ID:INTEGER,Campaign_ID:INTEGER,Floodlight_Configuration:INTEGER,Ad_ID:STRING,Rendering_ID:INTEGER,Creative_Version:INTEGER,Site_ID_DCM:INTEGER,Placement_ID:INTEGER,Country_Code:STRING,State_Region:STRING,Browser_Platform_ID:INTEGER\n",
    "                                                                                            \n",
    "                                                                                            "
   ]
  },
  {
   "cell_type": "code",
   "execution_count": null,
   "id": "eac817b5",
   "metadata": {},
   "outputs": [],
   "source": [
    "{\"Landing_Page_URL_ID\": \"573054e2-f9a0-458d-8ae2-c0a9596c13da\", \"Referrer_URL\": \"https://shopping.google.fr/\", \"Impression_ID\": \"AS983456786941\", \"Asset_ID\": 1011567153, \"Active_View_Eligible_Impressions\": 56863856569, \"Active_View_Measurable_Impressions\": 7743725, \"Active_View_Viewable_Impressions\": 4436466, \"Activity_ID\": 2444, \"Event_Time\": \"2022-01-01 04:38:37\", \"Event_Type\": \"CLICK\", \"Event_Sub_Type\": NaN, \"User_ID\": \"ef8059fd-ee67-423b-8a29-3bb9df3ddb2e\", \"Advertiser_ID\": 5866, \"Campaign_ID\": 6768675418, \"Floodlight_Configuration\": 1209785269, \"Ad_ID\": \"34e6ed8e-e72e-4a1c-aa7d-f2068239a5c3\", \"Rendering_ID\": 565726392, \"Creative_Version\": 68215, \"Site_ID_DCM\": 68057, \"Placement_ID\": 565726431, \"Country_Code\": \"GE\", \"State_Region\": \"Geramny\", \"Browser_Platform_ID\": 345978365835376}\n",
    "\n",
    "\n"
   ]
  },
  {
   "cell_type": "code",
   "execution_count": 32,
   "id": "cc3c4410",
   "metadata": {},
   "outputs": [
    {
     "data": {
      "text/plain": [
       "1643954280.835435"
      ]
     },
     "execution_count": 32,
     "metadata": {},
     "output_type": "execute_result"
    }
   ],
   "source": [
    "{\"345978365835376\":\"Chrome\",\"8753685264337\":\"Mozilla Firefox\",\"65784523663644\":\"Opera\",\"2109367534582756\":\"Microsoft Edge\",\"4534637355634\":\"Brave\"}\n",
    "[0.58, 0.34, 0.0978, 0.256]"
   ]
  },
  {
   "cell_type": "code",
   "execution_count": 3,
   "id": "efd61c67",
   "metadata": {},
   "outputs": [],
   "source": [
    "browser = pd.DataFrame()\n",
    "browser[\"Browser_Plateform_ID\"] = [345978365835376,8753685264337,65784523663644,2109367534582756,4534637355634]\n",
    "browser[\"Browser_Plateform\"] = [\"Chrome\",\"Mozilla Firefox\",\"Opera\",\"Microsoft Edge\",\"Brave\"]\n",
    "browser.to_csv(\"/Users/komlan/Project_M2/GCP_Project/doubleclick_browser.csv\", index=False)"
   ]
  },
  {
   "cell_type": "code",
   "execution_count": 110,
   "id": "07e904c6",
   "metadata": {},
   "outputs": [
    {
     "data": {
      "text/plain": [
       "['345978365835376',\n",
       " '8753685264337',\n",
       " '65784523663644',\n",
       " '2109367534582756',\n",
       " '4534637355634']"
      ]
     },
     "execution_count": 110,
     "metadata": {},
     "output_type": "execute_result"
    }
   ],
   "source": [
    "{\"FR\":\"France\",\"GE\":\"Geramny\",\"US\":\"United States\",\"CA\":\"Canada\",\"EN\":\"England\",\"SP\":\"Spain\",\"BR\":\"Brasil\"}"
   ]
  },
  {
   "cell_type": "code",
   "execution_count": 118,
   "id": "ad9a17ab",
   "metadata": {},
   "outputs": [
    {
     "data": {
      "text/plain": [
       "0.9875824499999999"
      ]
     },
     "execution_count": 118,
     "metadata": {},
     "output_type": "execute_result"
    }
   ],
   "source": [
    "[0.15117245, 0.174, 0.25081, 0.116, 0.1256, 0.09, 0.08]"
   ]
  },
  {
   "cell_type": "code",
   "execution_count": null,
   "id": "9b557f90",
   "metadata": {},
   "outputs": [],
   "source": [
    "[0.4817245, 0.24, 0.06081, 0.156, 0.056]"
   ]
  },
  {
   "cell_type": "code",
   "execution_count": 17,
   "id": "f35364df",
   "metadata": {},
   "outputs": [
    {
     "data": {
      "text/html": [
       "<div>\n",
       "<style scoped>\n",
       "    .dataframe tbody tr th:only-of-type {\n",
       "        vertical-align: middle;\n",
       "    }\n",
       "\n",
       "    .dataframe tbody tr th {\n",
       "        vertical-align: top;\n",
       "    }\n",
       "\n",
       "    .dataframe thead th {\n",
       "        text-align: right;\n",
       "    }\n",
       "</style>\n",
       "<table border=\"1\" class=\"dataframe\">\n",
       "  <thead>\n",
       "    <tr style=\"text-align: right;\">\n",
       "      <th></th>\n",
       "      <th>Id</th>\n",
       "      <th>Design</th>\n",
       "      <th>Price</th>\n",
       "      <th>Codeclt</th>\n",
       "    </tr>\n",
       "  </thead>\n",
       "  <tbody>\n",
       "    <tr>\n",
       "      <th>0</th>\n",
       "      <td>1A</td>\n",
       "      <td>Iphone,Faible</td>\n",
       "      <td>30</td>\n",
       "      <td>A</td>\n",
       "    </tr>\n",
       "    <tr>\n",
       "      <th>2</th>\n",
       "      <td>2B</td>\n",
       "      <td>Dell,HP</td>\n",
       "      <td>34</td>\n",
       "      <td>C</td>\n",
       "    </tr>\n",
       "  </tbody>\n",
       "</table>\n",
       "</div>"
      ],
      "text/plain": [
       "   Id         Design  Price Codeclt\n",
       "0  1A  Iphone,Faible     30       A\n",
       "2  2B        Dell,HP     34       C"
      ]
     },
     "execution_count": 17,
     "metadata": {},
     "output_type": "execute_result"
    }
   ],
   "source": [
    "bq mk doubleclick_data.stream_data Landing_Page_URL_ID:STRING,Referrer_URL:STRING,Impression_ID:STRING,Asset_ID:INTEGER,Active_View_Eligible_Impressions:INTEGER,Active_View_Measurable_Impressions:INTEGER,Active_View_Viewable_Impressions:INTEGER,Activity_ID:INTEGER,Event_Time:TIMESTAMP,Event_Type:STRING,Event_Sub_Type:STRING,User_ID:STRING,Advertiser_ID:INTEGER,Campaign_ID:INTEGER,Floodlight_Configuration:INTEGER,Ad_ID:STRING,Rendering_ID:INTEGER,Creative_Version:INTEGER,Site_ID_DCM:INTEGER,Placement_ID:INTEGER,Country_Code:STRING,State_Region:STRING,Browser_Platform_ID:INTEGER"
   ]
  },
  {
   "cell_type": "code",
   "execution_count": 36,
   "id": "3d57f2cf",
   "metadata": {},
   "outputs": [
    {
     "data": {
      "text/plain": [
       "'3e6cca88-7acf-4fce-95e4-7c86c2260b71'"
      ]
     },
     "execution_count": 36,
     "metadata": {},
     "output_type": "execute_result"
    }
   ],
   "source": []
  },
  {
   "cell_type": "code",
   "execution_count": 2,
   "id": "f7b5ccc7",
   "metadata": {},
   "outputs": [],
   "source": [
    "bq mk doubleclick_data.doubleclick_stream Landing_Page_URL_ID:STRING,Referrer_URL:STRING,Impression_ID:STRING,Asset_ID:INTEGER,Active_View_Eligible_Impressions:INTEGER,Active_View_Measurable_Impressions:INTEGER,Active_View__Viewable_Impressions:INTEGER,Activity_ID:INTEGER,Event_Time:INTEGER,Event_Type:STRING,Event_Sub_Type:INTEGER,User_ID:STRING,Advertiser_ID:INTEGER,Campaign_ID:INTEGER,Floodlight_Configuration:INTEGER,Ad_ID:INTEGER,Rendering_ID:INTEGER,Creative_Version:INTEGER,Site_ID_DCM:INTEGER,Placement_ID:INTEGER,Country_Code:STRING,State_Region:STRING,Browser_Platform_ID:INTEGER,Browser_Platform_Version:STRING,Operating_System_ID:INTEGER,Designated_Market_Area_DMA_ID:INTEGER,City_ID:INTEGER,ZIP_Postal_Code:INTEGER,Other_Data:STRING,ORD_Value:STRING,Interaction_Time:INTEGER,Conversion_ID:INTEGER,Segment_Value_1:INTEGER,Rich_Media_Event_ID:INTEGER,Rich_Media_Event_Type_ID:INTEGER,Total_Conversions:STRING,Total_Revenue:INTEGER,Event_Timers:STRING,Event_Counters:STRING,Partner1_ID:STRING,Partner2_ID:STRING,Google_Click_ID:STRING"
   ]
  },
  {
   "cell_type": "code",
   "execution_count": null,
   "id": "8183c16e",
   "metadata": {},
   "outputs": [],
   "source": [
    "import os\n",
    "import json\n",
    "import time\n",
    "from google.cloud import pubsub_v1 #pip install --upgrade google-cloud-pubsub\n",
    "credentials_path = \"/Users/komlan/Project_M2/GCP_Project/doubleclick-project-340112-8ce2b1fd999a.json\"\n",
    "os.environ['GOOGLE_APPLICATION_CREDENTIALS'] = credentials_path\n",
    "publisher = pubsub_v1.PublisherClient()\n",
    "#topic_path = \"projects/doubleclick-project-340112/topics/topic_stream\"\n",
    "topic_path = \"projects/doubleclick-project-340112/topics/topic_data_stream\"\n",
    "#topic_path = \"projects/doubleclick-project-340112/topics/topic_browser\"\n",
    "\n",
    "keys = [\"Landing_Page_URL_ID\",\"Referrer_URL\",\"Impression_ID\",\"Asset_ID\",\"Active_View_Eligible_Impressions\",\n",
    "\"Active_View_Measurable_Impressions\",\"Active_View__Viewable_Impressions\",\"Activity_ID\",\"Event_Time\",\n",
    "\"Event_Type\",\"Event_Sub_Type\",\"User_ID\",\"Advertiser_ID\",\"Campaign_ID\",\"Floodlight_Configuration\",\n",
    "\"Ad_ID\",\"Rendering_ID\",\"Creative_Version\",\"Site_ID_DCM\",\"Placement_ID\",\"Country_Code\",\"State_Region\",\n",
    "\"Browser_Platform_ID\",\"Browser_Platform_Version\",\"Operating_System_ID\",\"Designated_Market_Area_DMA_ID\",\n",
    "\"City_ID\",\"ZIP_Postal_Code\",\"Other_Data\",\"ORD_Value\",\"Interaction_Time\",\"Conversion_ID\",\"Segment_Value_1\",\n",
    "\"Rich_Media_Event_ID\",\"Rich_Media_Event_Type_ID\",\"Total_Conversions\",\"Total_Revenue\",\"Event_Timers\",\n",
    "\"Event_Counters\",\"Partner1_ID\",\"Partner2_ID\",\"Google_Click_ID\"]\n",
    "\n",
    "stream_data = pd.read_csv(\"/Users/komlan/Project_M2/GCP_Project/DoubleClick_1.csv\")#.drop([\"Unnamed: 0\"], axis=1)\n",
    "stream_data = stream_data.where(pd.notnull(stream_data), None)\n",
    "stream_data = stream_data[2:]\n",
    "cpt = 0\n",
    "for i, line in stream_data.iterrows():\n",
    "    row = {}\n",
    "    for j, val in enumerate(line):\n",
    "        row[keys[j]] = val\n",
    "    row[\"Landing_Page_URL_ID\"] = row[\"Landing_Page_URL_ID\"].replace(\" : \",\"_\")\n",
    "    row[\"Impression_ID\"] = row[\"Impression_ID\"].replace(\" : \",\"_\")\n",
    "    row[\"Country_Code\"] = None if pd.isnull(row[\"Country_Code\"]) else row[\"Country_Code\"]\n",
    "    print(row)\n",
    "    attributes = json.dumps(row).encode(\"utf-8\")\n",
    "\n",
    "    #print(row)\n",
    "    future = publisher.publish(topic_path, attributes)\n",
    "    cpt += 1\n",
    "    if cpt % 10 == 0:\n",
    "        time.sleep(10)"
   ]
  },
  {
   "cell_type": "code",
   "execution_count": 85,
   "id": "0c9f299f",
   "metadata": {},
   "outputs": [
    {
     "data": {
      "text/html": [
       "<div>\n",
       "<style scoped>\n",
       "    .dataframe tbody tr th:only-of-type {\n",
       "        vertical-align: middle;\n",
       "    }\n",
       "\n",
       "    .dataframe tbody tr th {\n",
       "        vertical-align: top;\n",
       "    }\n",
       "\n",
       "    .dataframe thead th {\n",
       "        text-align: right;\n",
       "    }\n",
       "</style>\n",
       "<table border=\"1\" class=\"dataframe\">\n",
       "  <thead>\n",
       "    <tr style=\"text-align: right;\">\n",
       "      <th></th>\n",
       "      <th>Landing Page URL ID</th>\n",
       "      <th>Referrer URL</th>\n",
       "      <th>Impression ID</th>\n",
       "      <th>Asset ID</th>\n",
       "      <th>Active View: Eligible Impressions</th>\n",
       "      <th>Active View: Measurable Impressions</th>\n",
       "      <th>Active View: Viewable Impressions</th>\n",
       "      <th>Activity ID</th>\n",
       "      <th>Event Time</th>\n",
       "      <th>Event Type</th>\n",
       "      <th>...</th>\n",
       "      <th>Segment Value 1</th>\n",
       "      <th>Rich Media Event ID</th>\n",
       "      <th>Rich Media Event Type ID</th>\n",
       "      <th>Total Conversions</th>\n",
       "      <th>Total Revenue</th>\n",
       "      <th>Event Timers</th>\n",
       "      <th>Event Counters</th>\n",
       "      <th>Partner1 ID</th>\n",
       "      <th>Partner2 ID</th>\n",
       "      <th>Google Click ID</th>\n",
       "    </tr>\n",
       "  </thead>\n",
       "  <tbody>\n",
       "    <tr>\n",
       "      <th>1</th>\n",
       "      <td>ID : 1</td>\n",
       "      <td>https://www.rueducommerce.fr</td>\n",
       "      <td>impr : 3</td>\n",
       "      <td>166142</td>\n",
       "      <td>7125434</td>\n",
       "      <td>794278</td>\n",
       "      <td>1449473</td>\n",
       "      <td>5836454</td>\n",
       "      <td>1645215188833</td>\n",
       "      <td>None</td>\n",
       "      <td>...</td>\n",
       "      <td>2062568</td>\n",
       "      <td>5009463</td>\n",
       "      <td>9963164</td>\n",
       "      <td>qty=3</td>\n",
       "      <td>6032000</td>\n",
       "      <td>etm = 531894</td>\n",
       "      <td>ecn = 8951035</td>\n",
       "      <td>ykivxwbqwhucuxy240037</td>\n",
       "      <td>zpdjkkklkgupptj893180</td>\n",
       "      <td>&lt;img src=https://fnac.com?wiwzmqjfpmonacu&gt;</td>\n",
       "    </tr>\n",
       "  </tbody>\n",
       "</table>\n",
       "<p>1 rows × 42 columns</p>\n",
       "</div>"
      ],
      "text/plain": [
       "  Landing Page URL ID                  Referrer URL Impression ID  Asset ID  \\\n",
       "1              ID : 1  https://www.rueducommerce.fr      impr : 3    166142   \n",
       "\n",
       "   Active View: Eligible Impressions  Active View: Measurable Impressions  \\\n",
       "1                            7125434                               794278   \n",
       "\n",
       "   Active View: Viewable Impressions  Activity ID     Event Time Event Type  \\\n",
       "1                            1449473      5836454  1645215188833       None   \n",
       "\n",
       "   ...  Segment Value 1 Rich Media Event ID  Rich Media Event Type ID  \\\n",
       "1  ...          2062568             5009463                   9963164   \n",
       "\n",
       "   Total Conversions  Total Revenue  Event Timers  Event Counters  \\\n",
       "1              qty=3        6032000  etm = 531894   ecn = 8951035   \n",
       "\n",
       "             Partner1 ID            Partner2 ID  \\\n",
       "1  ykivxwbqwhucuxy240037  zpdjkkklkgupptj893180   \n",
       "\n",
       "                              Google Click ID  \n",
       "1  <img src=https://fnac.com?wiwzmqjfpmonacu>  \n",
       "\n",
       "[1 rows x 42 columns]"
      ]
     },
     "execution_count": 85,
     "metadata": {},
     "output_type": "execute_result"
    }
   ],
   "source": [
    "stream_data.where(pd.notnull(stream_data), None)"
   ]
  },
  {
   "cell_type": "code",
   "execution_count": null,
   "id": "912244fb",
   "metadata": {},
   "outputs": [],
   "source": []
  },
  {
   "cell_type": "code",
   "execution_count": null,
   "id": "1cbad87b",
   "metadata": {},
   "outputs": [],
   "source": []
  },
  {
   "cell_type": "code",
   "execution_count": null,
   "id": "d32e844e",
   "metadata": {},
   "outputs": [],
   "source": [
    "import os\n",
    "import json\n",
    "from google.cloud import pubsub_v1 #pip install --upgrade google-cloud-pubsub\n",
    "credentials_path = \"/Users/komlan/Project_M2/GCP_Project/doubleclick-project-340112-8ce2b1fd999a.json\"\n",
    "os.environ['GOOGLE_APPLICATION_CREDENTIALS'] = credentials_path\n",
    "publisher = pubsub_v1.PublisherClient()\n",
    "topic_path = \"projects/doubleclick-project-340112/topics/topic_browser\"\n",
    "\n",
    "attributes = {\n",
    "    \"int64_field_0\":11,\n",
    "    \"Browser_Plateform_ID\":95323452655634,\n",
    "    \"Browser_Plateform\": \"DANTODJI\"\n",
    "}\n",
    "attributes = json.dumps(attributes).encode(\"utf-8\")\n",
    "\n",
    "future = publisher.publish(topic_path, attributes)\n",
    "print(future.result())"
   ]
  },
  {
   "cell_type": "code",
   "execution_count": null,
   "id": "09eab81b",
   "metadata": {},
   "outputs": [],
   "source": [
    "import os\n",
    "import json\n",
    "from google.cloud import pubsub_v1 #pip install --upgrade google-cloud-pubsub\n",
    "credentials_path = \"/Users/komlan/Project_M2/GCP_Project/doubleclick-project-340112-8ce2b1fd999a.json\"\n",
    "os.environ['GOOGLE_APPLICATION_CREDENTIALS'] = credentials_path\n",
    "publisher = pubsub_v1.PublisherClient()\n",
    "topic_path = \"projects/doubleclick-project-340112/topics/topic_stream\"\n",
    "#topic_path = \"projects/doubleclick-project-340112/topics/topic_browser\"\n",
    "keys = [\"Landing_Page_URL_ID\",\"Referrer_URL\",\"Impression_ID\",\"Asset_ID\",\"Active_View_Eligible_Impressions\",\n",
    "        \"Active_View_Measurable_Impressions\",\"Active_View_Viewable_Impressions\",\"Activity_ID\",\"Event_Time\",\n",
    "        \"Event_Type\",\"Event_Sub_Type\",\"User_ID\",\"Advertiser_ID\",\"Campaign_ID\",\"Floodlight_Configuration\",\n",
    "        \"Ad_ID\",\"Rendering_ID\",\"Creative_Version\",\"Site_ID_DCM\",\"Placement_ID\",\"Country_Code\",\"State_Region\",\n",
    "        \"Browser_Platform_ID\"]\n",
    "\n",
    "stream_data = data[3:100]\n",
    "for i, line in stream_data.iterrows():\n",
    "    row = {}\n",
    "    for j, val in enumerate(line):\n",
    "        row[keys[j]] = val\n",
    "    \n",
    "    row[\"Landing_Page_URL_ID\"] = str(row[\"Landing_Page_URL_ID\"])\n",
    "    row[\"User_ID\"] = str(row[\"User_ID\"])\n",
    "    row[\"Ad_ID\"] = str(row[\"Ad_ID\"])\n",
    "    attributes = json.dumps(row).encode(\"utf-8\")\n",
    "    print(attributes)\n",
    "    break\n",
    "    #future = publisher.publish(topic_path, attributes)\n",
    "    #print(future.result())"
   ]
  },
  {
   "cell_type": "code",
   "execution_count": null,
   "id": "faf1e5b2",
   "metadata": {},
   "outputs": [],
   "source": [
    "import os\n",
    "import json\n",
    "import time\n",
    "from google.cloud import pubsub_v1 #pip install --upgrade google-cloud-pubsub\n",
    "credentials_path = \"/Users/komlan/Project_M2/GCP_Project/doubleclick-project-340112-8ce2b1fd999a.json\"\n",
    "os.environ['GOOGLE_APPLICATION_CREDENTIALS'] = credentials_path\n",
    "publisher = pubsub_v1.PublisherClient()\n",
    "#topic_path = \"projects/doubleclick-project-340112/topics/topic_stream\"\n",
    "topic_path = \"projects/doubleclick-project-340112/topics/topic_data_stream\"\n",
    "#topic_path = \"projects/doubleclick-project-340112/topics/topic_browser\"\n",
    "keys = [\"Landing_Page_URL_ID\",\"Referrer_URL\",\"Impression_ID\",\"Asset_ID\",\"Active_View_Eligible_Impressions\",\n",
    "\"Active_View_Measurable_Impressions\",\"Active_View__Viewable_Impressions\",\"Activity_ID\",\"Event_Time\",\n",
    "\"Event_Type\",\"Event_Sub_Type\",\"User_ID\",\"Advertiser_ID\",\"Campaign_ID\",\"Floodlight_Configuration\",\n",
    "\"Ad_ID\",\"Rendering_ID\",\"Creative_Version\",\"Site_ID_DCM\",\"Placement_ID\",\"Country_Code\",\"State_Region\",\n",
    "\"Browser_Platform_ID\",\"Browser_Platform_Version\",\"Operating_System_ID\",\"Designated_Market_Area_DMA_ID\",\n",
    "\"City_ID\",\"ZIP_Postal_Code\",\"Other_Data\",\"ORD_Value\",\"Interaction_Time\",\"Conversion_ID\",\"Segment_Value_1\",\n",
    "\"Rich_Media_Event_ID\",\"Rich_Media_Event_Type_ID\",\"Total_Conversions\",\"Total_Revenue\",\"Event_Timers\",\n",
    "\"Event_Counters\",\"Partner1_ID\",\"Partner2_ID\",\"Google_Click_ID\"]\n",
    "\n",
    "stream_data = pd.read_csv(\"/Users/komlan/Project_M2/GCP_Project/DoubleClick_1.csv\").drop([\"Unnamed: 0\"], axis=1)\n",
    "\n",
    "stream_data = stream_data[0:1]\n",
    "cpt = 0\n",
    "for i, line in stream_data.iterrows():\n",
    "    row = {}\n",
    "    for j, val in enumerate(line):\n",
    "        row[keys[j]] = val\n",
    "    \n",
    "    attributes = json.dumps(row).encode(\"utf-8\")\n",
    "    #print(i)\n",
    "    future = publisher.publish(topic_path, attributes)\n",
    "    print(future.result())\n",
    "    \"\"\"cpt += 1\n",
    "    if cpt % 2 == 0:\n",
    "        time.sleep(3)\"\"\""
   ]
  },
  {
   "cell_type": "code",
   "execution_count": null,
   "id": "60b2a0d5",
   "metadata": {},
   "outputs": [],
   "source": []
  },
  {
   "cell_type": "code",
   "execution_count": null,
   "id": "e0649815",
   "metadata": {},
   "outputs": [],
   "source": []
  },
  {
   "cell_type": "code",
   "execution_count": 26,
   "id": "d70aec9c",
   "metadata": {},
   "outputs": [],
   "source": [
    "import os\n",
    "import pandas as pd\n",
    "import json\n",
    "import time\n",
    "from google.cloud import pubsub_v1 #pip install --upgrade google-cloud-pubsub\n",
    "credentials_path = \"/Users/komlan/Project_M2/GCP_Project/doubleclick-364815-8e1a01a8d071.json\"\n",
    "os.environ['GOOGLE_APPLICATION_CREDENTIALS'] = credentials_path\n",
    "publisher = pubsub_v1.PublisherClient()"
   ]
  },
  {
   "cell_type": "code",
   "execution_count": 42,
   "id": "ed8909cc",
   "metadata": {},
   "outputs": [
    {
     "name": "stdout",
     "output_type": "stream",
     "text": [
      "(25000, 23)\n"
     ]
    },
    {
     "ename": "KeyboardInterrupt",
     "evalue": "",
     "output_type": "error",
     "traceback": [
      "\u001b[0;31m---------------------------------------------------------------------------\u001b[0m",
      "\u001b[0;31mKeyboardInterrupt\u001b[0m                         Traceback (most recent call last)",
      "Input \u001b[0;32mIn [42]\u001b[0m, in \u001b[0;36m<cell line: 20>\u001b[0;34m()\u001b[0m\n\u001b[1;32m     33\u001b[0m cpt \u001b[38;5;241m+\u001b[39m\u001b[38;5;241m=\u001b[39m \u001b[38;5;241m1\u001b[39m\n\u001b[1;32m     34\u001b[0m \u001b[38;5;28;01mif\u001b[39;00m cpt \u001b[38;5;241m%\u001b[39m \u001b[38;5;241m10\u001b[39m \u001b[38;5;241m==\u001b[39m \u001b[38;5;241m0\u001b[39m:\n\u001b[0;32m---> 35\u001b[0m     \u001b[43mtime\u001b[49m\u001b[38;5;241;43m.\u001b[39;49m\u001b[43msleep\u001b[49m\u001b[43m(\u001b[49m\u001b[38;5;241;43m30\u001b[39;49m\u001b[43m)\u001b[49m\n",
      "\u001b[0;31mKeyboardInterrupt\u001b[0m: "
     ]
    }
   ],
   "source": [
    "import os\n",
    "import pandas as pd\n",
    "import json\n",
    "import time\n",
    "from google.cloud import pubsub_v1 #pip install --upgrade google-cloud-pubsub\n",
    "credentials_path = \"/Users/komlan/Project_M2/GCP_Project/doubleclick-364815-8e1a01a8d071.json\"\n",
    "os.environ['GOOGLE_APPLICATION_CREDENTIALS'] = credentials_path\n",
    "publisher = pubsub_v1.PublisherClient()\n",
    "topic_path = \"projects/doubleclick-364815/topics/topic_doubleclick\"\n",
    "keys = [\"Landing_Page_URL_ID\",\"Referrer_URL\",\"Impression_ID\",\"Asset_ID\",\"Active_View_Eligible_Impressions\",\n",
    "        \"Active_View_Measurable_Impressions\",\"Active_View_Viewable_Impressions\",\"Activity_ID\",\"Event_Time\",\n",
    "        \"Event_Type\",\"Event_Sub_Type\",\"User_ID\",\"Advertiser_ID\",\"Campaign_ID\",\"Floodlight_Configuration\",\n",
    "        \"Ad_ID\",\"Rendering_ID\",\"Creative_Version\",\"Site_ID_DCM\",\"Placement_ID\",\"Country_Code\",\"State_Region\",\n",
    "        \"Browser_Plateform_ID\"]\n",
    "data = pd.read_csv(\"/Users/komlan/Project_M2/GCP_Project/doubleclick_dataset.csv\").drop(['Unnamed: 0'], axis=1)\n",
    "\n",
    "cpt = 0\n",
    "stream_data = data\n",
    "print(data.shape)\n",
    "for i, line in stream_data.iterrows():\n",
    "    row = {}\n",
    "    for j, val in enumerate(line):\n",
    "        row[keys[j]] = val\n",
    "    \n",
    "    row[\"Landing_Page_URL_ID\"] = str(row[\"Landing_Page_URL_ID\"]).replace(\" : \",\"_\")\n",
    "    row[\"User_ID\"] = str(row[\"User_ID\"])\n",
    "    row[\"Ad_ID\"] = str(row[\"Ad_ID\"])\n",
    "    row[\"Impression_ID\"] = row[\"Impression_ID\"].replace(\" : \",\"_\")\n",
    "    row[\"Country_Code\"] = None if pd.isnull(row[\"Country_Code\"]) else row[\"Country_Code\"]\n",
    "    row[\"Event_Sub_Type\"] = None if pd.isnull(row[\"Event_Sub_Type\"]) else row[\"Event_Sub_Type\"]\n",
    "    attributes = json.dumps(row).encode(\"utf-8\")\n",
    "    future = publisher.publish(topic_path, attributes)\n",
    "    cpt += 1\n",
    "    if cpt % 10 == 0:\n",
    "        time.sleep(30)"
   ]
  },
  {
   "cell_type": "code",
   "execution_count": 57,
   "id": "07747c3a",
   "metadata": {},
   "outputs": [],
   "source": [
    "import hashlib\n",
    "import pandas as pd\n",
    "import itertools\n",
    "from itertools import combinations, product\n",
    "\n",
    "name_pass = 5\n",
    "ani_pass = 0\n",
    "min_pass =0\n",
    "max_pass = 7\n",
    "#open dictionary\n",
    "with open('/Users/komlan/Downloads/projetJTR/dico_animaux.txt', 'r', encoding='utf-8') as f:\n",
    "    dictionary = f.readlines()\n",
    "dictionary = [el.replace(\"\\n\",'')  for el in dictionary]\n",
    "\n",
    "#open xlsx\n",
    "users = pd.read_csv('/Users/komlan/Downloads/projetJTR/Liste_Atrouver.csv', sep=\";\")\n",
    "users = users[[\"Prénom\",\"Nom\",\"Mot de passe cryptés\",\"Mot de passe en clair\"]]\n",
    "users\n",
    "for i, user in users.iterrows():\n",
    "    for animal in dictionary:\n",
    "        combi = (user['Nom'][:name_pass]+animal[:ani_pass]+'123')\n",
    "        darray = []\n",
    "        for k in range(min_pass, max_pass):\n",
    "            darray.extend(list(itertools.permutations(combi, k)))\n",
    "        darray = [''.join(el) for el in darray]\n",
    "        #print(darray)\n",
    "        for da in darray:\n",
    "            result = hashlib.md5(da.encode()).hexdigest()\n",
    "            #print(da,': ', '=>',chiff,': ',user['Mot de passe cryptés'])\n",
    "            if result in user['Mot de passe cryptés']:\n",
    "                print('trouvé mot de pass:', da)\n"
   ]
  },
  {
   "cell_type": "code",
   "execution_count": 41,
   "id": "d641491e",
   "metadata": {},
   "outputs": [
    {
     "name": "stdout",
     "output_type": "stream",
     "text": [
      "trouve pass:  fvghs\n"
     ]
    }
   ],
   "source": [
    "lis = [['ud','3dfe3d7a171097592cb00d6a57b6f845'],\n",
    "       ['gvhj','02000c8c8ee02c8f409c5a4cb9d5219c'],\n",
    "       ['fvghs','e395ee799c3ec879c24c2bebf9a03a60'],\n",
    "       ['hvdfb','ec316ce1fabf0005553fbe9666bf9496'],\n",
    "       ['hjd','d928472364a98d5e1b13839145d3836b']]\n",
    "\n",
    "pas = 'fvghs'\n",
    "for el in lis:\n",
    "    if el[1] == hashlib.md5(pas.encode()).hexdigest():\n",
    "        print('trouve pass: ', el[0])"
   ]
  },
  {
   "cell_type": "code",
   "execution_count": 62,
   "id": "2c4a01ee",
   "metadata": {},
   "outputs": [
    {
     "name": "stdout",
     "output_type": "stream",
     "text": [
      "\u001b[31mERROR: Could not find a version that satisfies the requirement aspose-words (from versions: none)\u001b[0m\u001b[31m\r\n",
      "\u001b[0m\u001b[31mERROR: No matching distribution found for aspose-words\u001b[0m\u001b[31m\r\n",
      "\u001b[0m"
     ]
    }
   ],
   "source": [
    "!pip install aspose-words\n",
    "#from docx2pdf import convert\n",
    "\n",
    "#convert(\"/Users/komlan/Downloads/test_doc.docx\", \"/Users/komlan/Downloads/test_doc.pdf\")\n"
   ]
  },
  {
   "cell_type": "code",
   "execution_count": 7,
   "id": "a4e4ee99",
   "metadata": {},
   "outputs": [
    {
     "name": "stdout",
     "output_type": "stream",
     "text": [
      "bad format\n",
      "bad format\n",
      "bad format\n",
      "bad format\n"
     ]
    }
   ],
   "source": [
    "import img2pdf\n",
    "from PIL import Image\n",
    "\n",
    "files = [\"/Users/komlan/Enovsky/logo_enovsky.png\",\"filedata.docx\",\n",
    "         \"filejh.sjg.pdf\",\"icdh\"]\n",
    "for file_path in files:\n",
    "    filename = file_path.split('/')[-1]\n",
    "    extention = filename.split('.')[-1]\n",
    "    if extention in [\"png\", \"jpeg\",\"jpg\"]:\n",
    "        image = Image.open(file_path)\n",
    "        pdf_bytes = img2pdf.convert(image.filename)\n",
    "        file = open(\"/Users/komlan/Downloads/\"+filename.replace(extention, \"pdf\"), \"wb\")\n",
    "        file.write(pdf_bytes)\n",
    "        image.close()\n",
    "        file.close()\n",
    "    elif extention in [\"docx\"]:\n",
    "        print(file,\"=>docx\")\n",
    "    elif extention in [\"pdf\"]:\n",
    "        print(file,\"=>pdf\")\n",
    "    else:\n",
    "        print(\"bad format\")"
   ]
  },
  {
   "cell_type": "code",
   "execution_count": 55,
   "id": "fe452e1c",
   "metadata": {},
   "outputs": [
    {
     "name": "stdout",
     "output_type": "stream",
     "text": [
      "{\"origin\": \"extern\", \"file_url\": \"https://api.edu.enovsky.com/public/tmp/51369dd07caf4400b352c9dc9b9b8760/input.docx\", \"id\": 0}\n"
     ]
    },
    {
     "data": {
      "text/plain": [
       "120838"
      ]
     },
     "execution_count": 55,
     "metadata": {},
     "output_type": "execute_result"
    }
   ],
   "source": [
    "import requests\n",
    "import json\n",
    "docx_url = \"https://api.edu.enovsky.com/public/tmp/51369dd07caf4400b352c9dc9b9b8760/input.docx\"\n",
    "url = 'https://edu.enovsky.com/convert_to_pdf';\n",
    "params = {\n",
    "        'origin': 'extern',\n",
    "        'file_url':  docx_url,\n",
    "        'id': 0\n",
    "        }\n",
    "print(json.dumps(params))\n",
    "resp = requests.post('https://edu.enovsky.com/convert_to_pdf', data=params)\n",
    "\n",
    "open('/Users/komlan/Downloads/facebook.pdf', 'wb').write(resp.content)\n"
   ]
  },
  {
   "cell_type": "code",
   "execution_count": 413,
   "id": "97481366",
   "metadata": {},
   "outputs": [],
   "source": [
    "path = \"JE/ME/DONNE/AW/TOI\"\n",
    "path_rec = []\n",
    "for el in path.split('/'):\n",
    "    path_rec.append(el)\n",
    "    directory = '/'.join(path_rec)\n",
    "    try:\n",
    "        nextcloud.mkdir(directory)\n",
    "    except:\n",
    "        continue"
   ]
  },
  {
   "cell_type": "code",
   "execution_count": null,
   "id": "f00fdf3e",
   "metadata": {},
   "outputs": [],
   "source": [
    "remote_path = 'TGO/UL/FDS/raw/file.pdf'\n"
   ]
  },
  {
   "cell_type": "code",
   "execution_count": null,
   "id": "af9c38fd",
   "metadata": {},
   "outputs": [],
   "source": []
  },
  {
   "cell_type": "code",
   "execution_count": null,
   "id": "df6cfcd9",
   "metadata": {},
   "outputs": [],
   "source": []
  },
  {
   "cell_type": "code",
   "execution_count": null,
   "id": "cf0464c8",
   "metadata": {},
   "outputs": [],
   "source": []
  },
  {
   "cell_type": "code",
   "execution_count": null,
   "id": "16463de4",
   "metadata": {},
   "outputs": [],
   "source": []
  },
  {
   "cell_type": "code",
   "execution_count": null,
   "id": "7ca05d59",
   "metadata": {},
   "outputs": [],
   "source": []
  },
  {
   "cell_type": "code",
   "execution_count": null,
   "id": "65b116ec",
   "metadata": {},
   "outputs": [],
   "source": []
  },
  {
   "cell_type": "code",
   "execution_count": null,
   "id": "1ba44828",
   "metadata": {},
   "outputs": [],
   "source": []
  },
  {
   "cell_type": "code",
   "execution_count": null,
   "id": "5e9dedba",
   "metadata": {},
   "outputs": [],
   "source": []
  },
  {
   "cell_type": "code",
   "execution_count": 404,
   "id": "9ed86be4",
   "metadata": {},
   "outputs": [
    {
     "name": "stdout",
     "output_type": "stream",
     "text": [
      "Help on Client in module nextcloud_client.nextcloud_client object:\n",
      "\n",
      "class Client(builtins.object)\n",
      " |  Client(url, **kwargs)\n",
      " |  \n",
      " |  nextCloud client\n",
      " |  \n",
      " |  Methods defined here:\n",
      " |  \n",
      " |  __init__(self, url, **kwargs)\n",
      " |      Instantiates a client\n",
      " |      \n",
      " |      :param url: URL of the target nextCloud instance\n",
      " |      :param verify_certs: True (default) to verify SSL certificates, False otherwise\n",
      " |      :param dav_endpoint_version: None (default) to force using a specific endpoint version\n",
      " |      instead of relying on capabilities\n",
      " |      :param debug: set to True to print debugging messages to stdout, defaults to False\n",
      " |  \n",
      " |  accept_remote_share(self, share_id)\n",
      " |      Accepts a remote share\n",
      " |      \n",
      " |      :param share_id: Share ID (int)\n",
      " |      :returns: True if the operation succeeded, False otherwise\n",
      " |      :raises: HTTPResponseError in case an HTTP error status was returned\n",
      " |  \n",
      " |  add_user_to_group(self, user_name, group_name)\n",
      " |      Adds a user to a group.\n",
      " |      \n",
      " |      :param user_name:  name of user to be added\n",
      " |      :param group_name:  name of group user is to be added to\n",
      " |      :returns: True if user added\n",
      " |      :raises: HTTPResponseError in case an HTTP error status was returned\n",
      " |  \n",
      " |  add_user_to_subadmin_group(self, user_name, group_name)\n",
      " |      Adds a user to a subadmin group.\n",
      " |      \n",
      " |      :param user_name:  name of user to be added to subadmin group\n",
      " |      :param group_name:  name of subadmin group\n",
      " |      :returns: True if user added\n",
      " |      :raises: HTTPResponseError in case an HTTP error status was returned\n",
      " |  \n",
      " |  anon_login(self, folder_token, folder_password='')\n",
      " |  \n",
      " |  copy(self, remote_path_source, remote_path_target)\n",
      " |      Copies a remote file or directory\n",
      " |      \n",
      " |      :param remote_path_source: source file or folder to copy\n",
      " |      :param remote_path_target: target file to which to copy\n",
      " |      \n",
      " |      :returns: True if the operation succeeded, False otherwise\n",
      " |      :raises: HTTPResponseError in case an HTTP error status was returned\n",
      " |  \n",
      " |  create_group(self, group_name)\n",
      " |      Create a new group via provisioning API.\n",
      " |      If you get back an error 999, then the provisioning API is not enabled.\n",
      " |      \n",
      " |      :param group_name:  name of group to be created\n",
      " |      :returns: True if group created\n",
      " |      :raises: HTTPResponseError in case an HTTP error status was returned\n",
      " |  \n",
      " |  create_user(self, user_name, initial_password)\n",
      " |      Create a new user with an initial password via provisioning API.\n",
      " |      It is not an error, if the user already existed before.\n",
      " |      If you get back an error 999, then the provisioning API is not enabled.\n",
      " |      \n",
      " |      :param user_name:  name of user to be created\n",
      " |      :param initial_password:  password for user being created\n",
      " |      :returns: True on success\n",
      " |      :raises: HTTPResponseError in case an HTTP error status was returned\n",
      " |  \n",
      " |  decline_remote_share(self, share_id)\n",
      " |      Declines a remote share\n",
      " |      \n",
      " |      :param share_id: Share ID (int)\n",
      " |      :returns: True if the operation succeeded, False otherwise\n",
      " |      :raises: HTTPResponseError in case an HTTP error status was returned\n",
      " |  \n",
      " |  delete(self, path)\n",
      " |      Deletes a remote file or directory\n",
      " |      \n",
      " |      :param path: path to the file or directory to delete\n",
      " |      :returns: True if the operation succeeded, False otherwise\n",
      " |      :raises: HTTPResponseError in case an HTTP error status was returned\n",
      " |  \n",
      " |  delete_attribute(self, app, key)\n",
      " |      Deletes an application attribute\n",
      " |      \n",
      " |      :param app: application id\n",
      " |      :param key: key of the attribute to delete\n",
      " |      :returns: True if the operation succeeded, False otherwise\n",
      " |      :raises: HTTPResponseError in case an HTTP error status was returned\n",
      " |  \n",
      " |  delete_group(self, group_name)\n",
      " |      Delete a group via provisioning API.\n",
      " |      If you get back an error 999, then the provisioning API is not enabled.\n",
      " |      \n",
      " |      :param group_name:  name of group to be deleted\n",
      " |      :returns: True if group deleted\n",
      " |      :raises: HTTPResponseError in case an HTTP error status was returned\n",
      " |  \n",
      " |  delete_share(self, share_id)\n",
      " |      Unshares a file or directory\n",
      " |      \n",
      " |      :param share_id: Share ID (int)\n",
      " |      :returns: True if the operation succeeded, False otherwise\n",
      " |      :raises: HTTPResponseError in case an HTTP error status was returned\n",
      " |  \n",
      " |  delete_user(self, user_name)\n",
      " |      Deletes a user via provisioning API.\n",
      " |      If you get back an error 999, then the provisioning API is not enabled.\n",
      " |      \n",
      " |      :param user_name:  name of user to be deleted\n",
      " |      :returns: True on success\n",
      " |      :raises: HTTPResponseError in case an HTTP error status was returned\n",
      " |  \n",
      " |  disable_app(self, appname)\n",
      " |      Disable an app through provisioning_api\n",
      " |      \n",
      " |      :param appname:  Name of app to be disabled\n",
      " |      :returns: True if the operation succeeded, False otherwise\n",
      " |      :raises: HTTPResponseError in case an HTTP error status was returned\n",
      " |  \n",
      " |  drop_file(self, file_name)\n",
      " |      Convenience wrapper for put_file\n",
      " |  \n",
      " |  enable_app(self, appname)\n",
      " |      Enable an app through provisioning_api\n",
      " |      \n",
      " |      :param appname:  Name of app to be enabled\n",
      " |      :returns: True if the operation succeeded, False otherwise\n",
      " |      :raises: HTTPResponseError in case an HTTP error status was returned\n",
      " |  \n",
      " |  file_info(self, path, properties=None)\n",
      " |      Returns the file info for the given remote file\n",
      " |      \n",
      " |      :param path: path to the remote file\n",
      " |      :param properties: a list of properties to request (optional)\n",
      " |      :returns: file info\n",
      " |      :rtype: :class:`FileInfo` object or `None` if file\n",
      " |          was not found\n",
      " |      :raises: HTTPResponseError in case an HTTP error status was returned\n",
      " |  \n",
      " |  get_apps(self)\n",
      " |      List all enabled apps through the provisioning api.\n",
      " |      \n",
      " |      :returns: a dict of apps, with values True/False, representing the enabled state.\n",
      " |      :raises: HTTPResponseError in case an HTTP error status was returned\n",
      " |  \n",
      " |  get_attribute(self, app=None, key=None)\n",
      " |      Returns an application attribute\n",
      " |      \n",
      " |      :param app: application id\n",
      " |      :param key: attribute key or None to retrieve all values for the\n",
      " |          given application\n",
      " |      :returns: attribute value if key was specified, or an array of tuples\n",
      " |          (key, value) for each attribute\n",
      " |      :raises: HTTPResponseError in case an HTTP error status was returned\n",
      " |  \n",
      " |  get_capabilities(self)\n",
      " |      Gets the nextCloud app capabilities\n",
      " |      \n",
      " |      :returns: capabilities dictionary that maps from\n",
      " |      app name to another dictionary containing the capabilities\n",
      " |  \n",
      " |  get_config(self)\n",
      " |      Returns nextCloud config information\n",
      " |      :returns: array of tuples (key, value) for each information\n",
      " |          e.g. [('version', '1.7'), ('website', 'nextCloud'), ('host', 'cloud.example.com'),\n",
      " |          ('contact', ''), ('ssl', 'false')]\n",
      " |      :raises: HTTPResponseError in case an HTTP error status was returned\n",
      " |  \n",
      " |  get_directory_as_zip(self, remote_path, local_file)\n",
      " |      Downloads a remote directory as zip\n",
      " |      \n",
      " |      :param remote_path: path to the remote directory to download\n",
      " |      :param local_file: path and name of the target local file\n",
      " |      :returns: True if the operation succeeded, False otherwise\n",
      " |      :raises: HTTPResponseError in case an HTTP error status was returned\n",
      " |  \n",
      " |  get_file(self, remote_path, local_file=None)\n",
      " |      Downloads a remote file\n",
      " |      \n",
      " |      :param remote_path: path to the remote file\n",
      " |      :param local_file: optional path to the local file. If none specified,\n",
      " |          the file will be downloaded into the current directory\n",
      " |      :returns: True if the operation succeeded, False otherwise\n",
      " |      :raises: HTTPResponseError in case an HTTP error status was returned\n",
      " |  \n",
      " |  get_file_contents(self, path)\n",
      " |      Returns the contents of a remote file\n",
      " |      \n",
      " |      :param path: path to the remote file\n",
      " |      :returns: file contents\n",
      " |      :rtype: binary data\n",
      " |      :raises: HTTPResponseError in case an HTTP error status was returned\n",
      " |  \n",
      " |  get_group_members(self, group_name)\n",
      " |      Get group members via provisioning API.\n",
      " |      If you get back an error 999, then the provisioning API is not enabled.\n",
      " |      \n",
      " |      :param group_name:  name of group to list members\n",
      " |      :returns: list of group members\n",
      " |      :raises: HTTPResponseError in case an HTTP error status was returned\n",
      " |  \n",
      " |  get_groups(self)\n",
      " |      Get groups via provisioning API.\n",
      " |      If you get back an error 999, then the provisioning API is not enabled.\n",
      " |      \n",
      " |      :returns: list of groups\n",
      " |      :raises: HTTPResponseError in case an HTTP error status was returned\n",
      " |  \n",
      " |  get_share(self, share_id)\n",
      " |      Returns share information about known share\n",
      " |      \n",
      " |      :param share_id: id of the share to be checked\n",
      " |      :returns: instance of ShareInfo class\n",
      " |      :raises: ResponseError in case an HTTP error status was returned\n",
      " |  \n",
      " |  get_shares(self, path='', **kwargs)\n",
      " |      Returns array of shares\n",
      " |      \n",
      " |      :param path: path to the share to be checked\n",
      " |      :param reshares: (optional, boolean) returns not only the shares from\n",
      " |          the current user but all shares from the given file (default: False)\n",
      " |      :param subfiles: (optional, boolean) returns all shares within\n",
      " |          a folder, given that path defines a folder (default: False)\n",
      " |      :param shared_with_me: (optional, boolean) returns all shares which are\n",
      " |          shared with me (default: False)\n",
      " |      :returns: array of shares ShareInfo instances or empty array if the operation failed\n",
      " |      :raises: HTTPResponseError in case an HTTP error status was returned\n",
      " |  \n",
      " |  get_user(self, user_name)\n",
      " |      Retrieves information about a user\n",
      " |      \n",
      " |      :param user_name:  name of user to query\n",
      " |      \n",
      " |      :returns: Dictionary of information about user\n",
      " |      :raises: ResponseError in case an HTTP error status was returned\n",
      " |  \n",
      " |  get_user_groups(self, user_name)\n",
      " |      Get a list of groups associated to a user.\n",
      " |      \n",
      " |      :param user_name:  name of user to list groups\n",
      " |      :returns: list of groups\n",
      " |      :raises: HTTPResponseError in case an HTTP error status was returned\n",
      " |  \n",
      " |  get_user_subadmin_groups(self, user_name)\n",
      " |      Get a list of subadmin groups associated to a user.\n",
      " |      \n",
      " |      :param user_name:  name of user\n",
      " |      :returns: list of subadmin groups\n",
      " |      :raises: HTTPResponseError in case an HTTP error status was returned\n",
      " |  \n",
      " |  get_users(self)\n",
      " |      Get users via provisioning API.\n",
      " |      If you get back an error 999, then the provisioning API is not enabled.\n",
      " |      \n",
      " |      :returns: list of usernames\n",
      " |      :raises: HTTPResponseError in case an HTTP error status was returned\n",
      " |  \n",
      " |  get_version(self)\n",
      " |      Gets the nextCloud version of the connected server\n",
      " |      \n",
      " |      :returns: nextCloud version as string\n",
      " |  \n",
      " |  group_exists(self, group_name)\n",
      " |      Checks a group via provisioning API.\n",
      " |      If you get back an error 999, then the provisioning API is not enabled.\n",
      " |      \n",
      " |      :param group_name:  name of group to be checked\n",
      " |      :returns: True if group exists\n",
      " |      :raises: HTTPResponseError in case an HTTP error status was returned\n",
      " |  \n",
      " |  is_shared(self, path)\n",
      " |      Checks whether a path is already shared\n",
      " |      \n",
      " |      :param path: path to the share to be checked\n",
      " |      :returns: True if the path is already shared, else False\n",
      " |      :raises: HTTPResponseError in case an HTTP error status was returned\n",
      " |  \n",
      " |  list(self, path, depth=1, properties=None)\n",
      " |      Returns the listing/contents of the given remote directory\n",
      " |      \n",
      " |      :param path: path to the remote directory\n",
      " |      :param depth: depth of the listing, integer or \"infinity\"\n",
      " |      :param properties: a list of properties to request (optional)\n",
      " |      :returns: directory listing\n",
      " |      :rtype: array of :class:`FileInfo` objects\n",
      " |      :raises: HTTPResponseError in case an HTTP error status was returned\n",
      " |  \n",
      " |  list_open_remote_share(self)\n",
      " |      List all pending remote shares\n",
      " |      \n",
      " |      :returns: array of pending remote shares\n",
      " |      :raises: HTTPResponseError in case an HTTP error status was returned\n",
      " |  \n",
      " |  login(self, user_id, password)\n",
      " |      Authenticate to nextCloud.\n",
      " |      This will create a session on the server.\n",
      " |      \n",
      " |      :param user_id: user id\n",
      " |      :param password: password\n",
      " |      :raises: HTTPResponseError in case an HTTP error status was returned\n",
      " |  \n",
      " |  logout(self)\n",
      " |      Log out the authenticated user and close the session.\n",
      " |      \n",
      " |      :returns: True if the operation succeeded, False otherwise\n",
      " |      :raises: HTTPResponseError in case an HTTP error status was returned\n",
      " |  \n",
      " |  make_ocs_request(self, method, service, action, **kwargs)\n",
      " |      Makes a OCS API request and analyses the response\n",
      " |      \n",
      " |      :param method: HTTP method\n",
      " |      :param service: service name\n",
      " |      :param action: action path\n",
      " |      :param \\*\\*kwargs: optional arguments that ``requests.Request.request`` accepts\n",
      " |      :returns :class:`requests.Response` instance\n",
      " |  \n",
      " |  mkdir(self, path)\n",
      " |      Creates a remote directory\n",
      " |      \n",
      " |      :param path: path to the remote directory to create\n",
      " |      :returns: True if the operation succeeded, False otherwise\n",
      " |      :raises: HTTPResponseError in case an HTTP error status was returned\n",
      " |  \n",
      " |  move(self, remote_path_source, remote_path_target)\n",
      " |      Moves a remote file or directory\n",
      " |      \n",
      " |      :param remote_path_source: source file or folder to move\n",
      " |      :param remote_path_target: target file to which to move\n",
      " |      the source file. A target directory can also be specified\n",
      " |      instead by appending a \"/\"\n",
      " |      :returns: True if the operation succeeded, False otherwise\n",
      " |      :raises: HTTPResponseError in case an HTTP error status was returned\n",
      " |  \n",
      " |  put_directory(self, target_path, local_directory, **kwargs)\n",
      " |      Upload a directory with all its contents\n",
      " |      \n",
      " |      :param target_path: path of the directory to upload into\n",
      " |      :param local_directory: path to the local directory to upload\n",
      " |      :param \\*\\*kwargs: optional arguments that ``put_file`` accepts\n",
      " |      :returns: True if the operation succeeded, False otherwise\n",
      " |      :raises: HTTPResponseError in case an HTTP error status was returned\n",
      " |  \n",
      " |  put_file(self, remote_path, local_source_file, **kwargs)\n",
      " |      Upload a file\n",
      " |      \n",
      " |      :param remote_path: path to the target file. A target directory can\n",
      " |          also be specified instead by appending a \"/\"\n",
      " |      :param local_source_file: path to the local file to upload\n",
      " |      :param chunked: (optional) use file chunking (defaults to True)\n",
      " |      :param chunk_size: (optional) chunk size in bytes, defaults to 10 MB\n",
      " |      :param keep_mtime: (optional) also update the remote file to the same\n",
      " |          mtime as the local one, defaults to True\n",
      " |      :returns: True if the operation succeeded, False otherwise\n",
      " |      :raises: HTTPResponseError in case an HTTP error status was returned\n",
      " |  \n",
      " |  put_file_contents(self, remote_path, data)\n",
      " |      Write data into a remote file\n",
      " |      \n",
      " |      :param remote_path: path of the remote file\n",
      " |      :param data: data to write into the remote file\n",
      " |      :returns: True if the operation succeeded, False otherwise\n",
      " |      :raises: HTTPResponseError in case an HTTP error status was returned\n",
      " |  \n",
      " |  remove_user_from_group(self, user_name, group_name)\n",
      " |      Removes a user from a group.\n",
      " |      \n",
      " |      :param user_name:  name of user to be removed\n",
      " |      :param group_name:  name of group user is to be removed from\n",
      " |      :returns: True if user removed\n",
      " |      :raises: HTTPResponseError in case an HTTP error status was returned\n",
      " |  \n",
      " |  search_users(self, user_name)\n",
      " |      Searches for users via provisioning API.\n",
      " |      If you get back an error 999, then the provisioning API is not enabled.\n",
      " |      \n",
      " |      :param user_name:  name of user to be searched for\n",
      " |      :returns: list of usernames that contain user_name as substring\n",
      " |      :raises: HTTPResponseError in case an HTTP error status was returned\n",
      " |  \n",
      " |  set_attribute(self, app, key, value)\n",
      " |      Sets an application attribute\n",
      " |      \n",
      " |      :param app: application id\n",
      " |      :param key: key of the attribute to set\n",
      " |      :param value: value to set\n",
      " |      :returns: True if the operation succeeded, False otherwise\n",
      " |      :raises: HTTPResponseError in case an HTTP error status was returned\n",
      " |  \n",
      " |  set_user_attribute(self, user_name, key, value)\n",
      " |      Sets a user attribute\n",
      " |      \n",
      " |      :param user_name: name of user to modify\n",
      " |      :param key: key of the attribute to set\n",
      " |      :param value: value to set\n",
      " |      :returns: True if the operation succeeded, False otherwise\n",
      " |      :raises: HTTPResponseError in case an HTTP error status was returned\n",
      " |  \n",
      " |  share_file_with_group(self, path, group, **kwargs)\n",
      " |      Shares a remote file with specified group\n",
      " |      \n",
      " |      :param path: path to the remote file to share\n",
      " |      :param group: name of the group with which we want to share a file/folder\n",
      " |      :param perms (optional): permissions of the shared object\n",
      " |          defaults to read only (1)\n",
      " |          https://docs.nextcloud.com/server/latest/developer_manual/client_apis/OCS/ocs-share-api.html\n",
      " |      :returns: instance of :class:`ShareInfo` with the share info\n",
      " |          or False if the operation failed\n",
      " |      :raises: HTTPResponseError in case an HTTP error status was returned\n",
      " |  \n",
      " |  share_file_with_link(self, path, **kwargs)\n",
      " |      Shares a remote file with link\n",
      " |      \n",
      " |      :param path: path to the remote file to share\n",
      " |      :param perms (optional): permission of the shared object\n",
      " |      defaults to read only (1)\n",
      " |      :param public_upload (optional): allows users to upload files or folders\n",
      " |      :param password (optional): sets a password\n",
      " |      https://docs.nextcloud.com/server/latest/developer_manual/client_apis/OCS/ocs-share-api.html\n",
      " |      :param name (optional): display name for the link\n",
      " |      :returns: instance of :class:`ShareInfo` with the share info\n",
      " |          or False if the operation failed\n",
      " |      :raises: HTTPResponseError in case an HTTP error status was returned\n",
      " |  \n",
      " |  share_file_with_user(self, path, user, **kwargs)\n",
      " |      Shares a remote file with specified user\n",
      " |      \n",
      " |      :param path: path to the remote file to share\n",
      " |      :param user: name of the user whom we want to share a file/folder\n",
      " |      :param perms (optional): permissions of the shared object\n",
      " |          defaults to read only (1)\n",
      " |          https://docs.nextcloud.com/server/latest/developer_manual/client_apis/OCS/ocs-share-api.html\n",
      " |      :param remote_user (optional): True if it is a federated users\n",
      " |          defaults to False if it is a local user\n",
      " |      :returns: instance of :class:`ShareInfo` with the share info\n",
      " |          or False if the operation failed\n",
      " |      :raises: HTTPResponseError in case an HTTP error status was returned\n",
      " |  \n",
      " |  update_share(self, share_id, **kwargs)\n",
      " |      Updates a given share\n",
      " |      \n",
      " |      :param share_id: (int) Share ID\n",
      " |      :param perms: (int) update permissions (see share_file_with_user() below)\n",
      " |      :param password: (string) updated password for public link Share\n",
      " |      :param public_upload: (boolean) enable/disable public upload for public shares\n",
      " |      :returns: True if the operation succeeded, False otherwise\n",
      " |      :raises: HTTPResponseError in case an HTTP error status was returned\n",
      " |  \n",
      " |  user_exists(self, user_name)\n",
      " |      Checks a user via provisioning API.\n",
      " |      If you get back an error 999, then the provisioning API is not enabled.\n",
      " |      \n",
      " |      :param user_name:  name of user to be checked\n",
      " |      :returns: True if user found\n",
      " |  \n",
      " |  user_is_in_group(self, user_name, group_name)\n",
      " |      Checks if a user is in a group\n",
      " |      \n",
      " |      :param user_name:  name of user\n",
      " |      :param group_name:  name of group\n",
      " |      :returns: True if user is in group\n",
      " |      :raises: HTTPResponseError in case an HTTP error status was returned\n",
      " |  \n",
      " |  user_is_in_subadmin_group(self, user_name, group_name)\n",
      " |      Checks if a user is in a subadmin group\n",
      " |      \n",
      " |      :param user_name:  name of user\n",
      " |      :param group_name:  name of subadmin group\n",
      " |      :returns: True if user is in subadmin group\n",
      " |      :raises: HTTPResponseError in case an HTTP error status was returned\n",
      " |  \n",
      " |  ----------------------------------------------------------------------\n",
      " |  Class methods defined here:\n",
      " |  \n",
      " |  from_public_link(public_link, folder_password='', **kwargs) from builtins.type\n",
      " |  \n",
      " |  ----------------------------------------------------------------------\n",
      " |  Data descriptors defined here:\n",
      " |  \n",
      " |  __dict__\n",
      " |      dictionary for instance variables (if defined)\n",
      " |  \n",
      " |  __weakref__\n",
      " |      list of weak references to the object (if defined)\n",
      " |  \n",
      " |  ----------------------------------------------------------------------\n",
      " |  Data and other attributes defined here:\n",
      " |  \n",
      " |  OCS_BASEPATH = 'ocs/v1.php/'\n",
      " |  \n",
      " |  OCS_PERMISSION_ALL = 31\n",
      " |  \n",
      " |  OCS_PERMISSION_CREATE = 4\n",
      " |  \n",
      " |  OCS_PERMISSION_DELETE = 8\n",
      " |  \n",
      " |  OCS_PERMISSION_READ = 1\n",
      " |  \n",
      " |  OCS_PERMISSION_SHARE = 16\n",
      " |  \n",
      " |  OCS_PERMISSION_UPDATE = 2\n",
      " |  \n",
      " |  OCS_SERVICE_CLOUD = 'cloud'\n",
      " |  \n",
      " |  OCS_SERVICE_PRIVATEDATA = 'privatedata'\n",
      " |  \n",
      " |  OCS_SERVICE_SHARE = 'apps/files_sharing/api/v1'\n",
      " |  \n",
      " |  OCS_SHARE_TYPE_GROUP = 1\n",
      " |  \n",
      " |  OCS_SHARE_TYPE_LINK = 3\n",
      " |  \n",
      " |  OCS_SHARE_TYPE_REMOTE = 6\n",
      " |  \n",
      " |  OCS_SHARE_TYPE_USER = 0\n",
      "\n"
     ]
    },
    {
     "ename": "HTTPResponseError",
     "evalue": "HTTP error: 405",
     "output_type": "error",
     "traceback": [
      "\u001b[0;31m---------------------------------------------------------------------------\u001b[0m",
      "\u001b[0;31mHTTPResponseError\u001b[0m                         Traceback (most recent call last)",
      "Input \u001b[0;32mIn [404]\u001b[0m, in \u001b[0;36m<cell line: 7>\u001b[0;34m()\u001b[0m\n\u001b[1;32m      5\u001b[0m target_path \u001b[38;5;241m=\u001b[39m \u001b[38;5;124m'\u001b[39m\u001b[38;5;124mWAREHOUSE/RAW_WAREHOUSE/TGO/UL/FDS/facebook.pdf\u001b[39m\u001b[38;5;124m'\u001b[39m\n\u001b[1;32m      6\u001b[0m help(nextcloud)\n\u001b[0;32m----> 7\u001b[0m \u001b[43mnextcloud\u001b[49m\u001b[38;5;241;43m.\u001b[39;49m\u001b[43mmkdir\u001b[49m\u001b[43m(\u001b[49m\u001b[38;5;124;43m'\u001b[39;49m\u001b[38;5;124;43mtestdir/el/gh\u001b[39;49m\u001b[38;5;124;43m'\u001b[39;49m\u001b[43m)\u001b[49m\n",
      "File \u001b[0;32m~/miniforge3/envs/pyenv-3.10/lib/python3.10/site-packages/nextcloud_client/nextcloud_client.py:702\u001b[0m, in \u001b[0;36mClient.mkdir\u001b[0;34m(self, path)\u001b[0m\n\u001b[1;32m    700\u001b[0m \u001b[38;5;28;01mif\u001b[39;00m \u001b[38;5;129;01mnot\u001b[39;00m path\u001b[38;5;241m.\u001b[39mendswith(\u001b[38;5;124m'\u001b[39m\u001b[38;5;124m/\u001b[39m\u001b[38;5;124m'\u001b[39m):\n\u001b[1;32m    701\u001b[0m     path \u001b[38;5;241m+\u001b[39m\u001b[38;5;241m=\u001b[39m \u001b[38;5;124m'\u001b[39m\u001b[38;5;124m/\u001b[39m\u001b[38;5;124m'\u001b[39m\n\u001b[0;32m--> 702\u001b[0m \u001b[38;5;28;01mreturn\u001b[39;00m \u001b[38;5;28;43mself\u001b[39;49m\u001b[38;5;241;43m.\u001b[39;49m\u001b[43m_make_dav_request\u001b[49m\u001b[43m(\u001b[49m\u001b[38;5;124;43m'\u001b[39;49m\u001b[38;5;124;43mMKCOL\u001b[39;49m\u001b[38;5;124;43m'\u001b[39;49m\u001b[43m,\u001b[49m\u001b[43m \u001b[49m\u001b[43mpath\u001b[49m\u001b[43m)\u001b[49m\n",
      "File \u001b[0;32m~/miniforge3/envs/pyenv-3.10/lib/python3.10/site-packages/nextcloud_client/nextcloud_client.py:1814\u001b[0m, in \u001b[0;36mClient._make_dav_request\u001b[0;34m(self, method, path, **kwargs)\u001b[0m\n\u001b[1;32m   1812\u001b[0m \u001b[38;5;28;01mif\u001b[39;00m res\u001b[38;5;241m.\u001b[39mstatus_code \u001b[38;5;129;01min\u001b[39;00m [\u001b[38;5;241m204\u001b[39m, \u001b[38;5;241m201\u001b[39m]:\n\u001b[1;32m   1813\u001b[0m     \u001b[38;5;28;01mreturn\u001b[39;00m \u001b[38;5;28;01mTrue\u001b[39;00m\n\u001b[0;32m-> 1814\u001b[0m \u001b[38;5;28;01mraise\u001b[39;00m HTTPResponseError(res)\n",
      "\u001b[0;31mHTTPResponseError\u001b[0m: HTTP error: 405"
     ]
    }
   ],
   "source": [
    "import nextcloud_client as nc\n",
    "nextcloud = nc.Client('https://cloud.enovsky.com')\n",
    "nextcloud.login('admin', 'nextcloud00')\n",
    "source_path = '/Users/komlan/Downloads/facebook.pdf'\n",
    "target_path = 'WAREHOUSE/RAW_WAREHOUSE/TGO/UL/FDS/facebook.pdf'\n",
    "help(nextcloud)\n",
    "nextcloud.mkdir('testdir/el/gh')"
   ]
  },
  {
   "cell_type": "code",
   "execution_count": null,
   "id": "750b120b",
   "metadata": {},
   "outputs": [],
   "source": []
  },
  {
   "cell_type": "code",
   "execution_count": null,
   "id": "2ec9602d",
   "metadata": {},
   "outputs": [],
   "source": []
  },
  {
   "cell_type": "code",
   "execution_count": null,
   "id": "27c20ae5",
   "metadata": {},
   "outputs": [],
   "source": []
  },
  {
   "cell_type": "code",
   "execution_count": null,
   "id": "45b240ca",
   "metadata": {},
   "outputs": [],
   "source": []
  },
  {
   "cell_type": "code",
   "execution_count": null,
   "id": "e19e23c2",
   "metadata": {},
   "outputs": [],
   "source": []
  },
  {
   "cell_type": "code",
   "execution_count": null,
   "id": "6b58fb7b",
   "metadata": {},
   "outputs": [],
   "source": []
  },
  {
   "cell_type": "code",
   "execution_count": null,
   "id": "0d153b7a",
   "metadata": {},
   "outputs": [],
   "source": []
  },
  {
   "cell_type": "code",
   "execution_count": null,
   "id": "07e6bebe",
   "metadata": {},
   "outputs": [],
   "source": []
  },
  {
   "cell_type": "code",
   "execution_count": null,
   "id": "136b36f0",
   "metadata": {},
   "outputs": [],
   "source": []
  },
  {
   "cell_type": "code",
   "execution_count": null,
   "id": "5cce11d2",
   "metadata": {},
   "outputs": [],
   "source": []
  },
  {
   "cell_type": "code",
   "execution_count": null,
   "id": "55622ebd",
   "metadata": {},
   "outputs": [],
   "source": []
  },
  {
   "cell_type": "code",
   "execution_count": null,
   "id": "999041c5",
   "metadata": {},
   "outputs": [],
   "source": []
  },
  {
   "cell_type": "code",
   "execution_count": 375,
   "id": "1f54b857",
   "metadata": {},
   "outputs": [
    {
     "data": {
      "text/plain": [
       "152007"
      ]
     },
     "execution_count": 375,
     "metadata": {},
     "output_type": "execute_result"
    }
   ],
   "source": [
    "filePath = 'TGO/UL/FDS/tgo_ul_fds_6.pdf'\n",
    "filePath = \"/WAREHOUSE/RAW_WAREHOUSE/\"+filePath;\n",
    "params = {\n",
    "    'table': 'get_sftp_file',\n",
    "    'file_path': filePath\n",
    "}\n",
    "resp = requests.post('https://edu.enovsky.com/request_online_topics', data=params)\n",
    "open('/Users/komlan/Downloads/file_download.pdf', 'wb').write(resp.content)"
   ]
  },
  {
   "cell_type": "code",
   "execution_count": null,
   "id": "f615083e",
   "metadata": {},
   "outputs": [],
   "source": []
  },
  {
   "cell_type": "code",
   "execution_count": null,
   "id": "8f8ec5ba",
   "metadata": {},
   "outputs": [],
   "source": []
  },
  {
   "cell_type": "code",
   "execution_count": 377,
   "id": "32488823",
   "metadata": {},
   "outputs": [
    {
     "name": "stderr",
     "output_type": "stream",
     "text": [
      "[WDM] - Downloading: 19.0kB [00:00, 4.83MB/s]                                                                      \n",
      "[WDM] - Downloading: 100%|████████████████████████████████████████████████████| 1.83M/1.83M [00:00<00:00, 2.65MB/s]\n",
      "/var/folders/8t/83qwqzx52cs5gmzbyklq6v_w0000gn/T/ipykernel_65127/380439365.py:12: DeprecationWarning: executable_path has been deprecated, please pass in a Service object\n",
      "  browser = webdriver.Firefox(executable_path=GeckoDriverManager().install(), options=options)\n"
     ]
    },
    {
     "ename": "WebDriverException",
     "evalue": "Message: Service /Users/komlan/.wdm/drivers/geckodriver/macos-aarch64/0.32/geckodriver unexpectedly exited. Status code was: -9\n",
     "output_type": "error",
     "traceback": [
      "\u001b[0;31m---------------------------------------------------------------------------\u001b[0m",
      "\u001b[0;31mWebDriverException\u001b[0m                        Traceback (most recent call last)",
      "Input \u001b[0;32mIn [377]\u001b[0m, in \u001b[0;36m<cell line: 12>\u001b[0;34m()\u001b[0m\n\u001b[1;32m     10\u001b[0m options\u001b[38;5;241m.\u001b[39mset_preference(\u001b[38;5;124m\"\u001b[39m\u001b[38;5;124mbrowser.download.folderList\u001b[39m\u001b[38;5;124m\"\u001b[39m, \u001b[38;5;241m2\u001b[39m)\n\u001b[1;32m     11\u001b[0m options\u001b[38;5;241m.\u001b[39mset_preference(\u001b[38;5;124m\"\u001b[39m\u001b[38;5;124mbrowser.download.dir\u001b[39m\u001b[38;5;124m\"\u001b[39m, root_path\u001b[38;5;241m+\u001b[39m\u001b[38;5;124m'\u001b[39m\u001b[38;5;124m/outputs/\u001b[39m\u001b[38;5;124m'\u001b[39m)\n\u001b[0;32m---> 12\u001b[0m browser \u001b[38;5;241m=\u001b[39m \u001b[43mwebdriver\u001b[49m\u001b[38;5;241;43m.\u001b[39;49m\u001b[43mFirefox\u001b[49m\u001b[43m(\u001b[49m\u001b[43mexecutable_path\u001b[49m\u001b[38;5;241;43m=\u001b[39;49m\u001b[43mGeckoDriverManager\u001b[49m\u001b[43m(\u001b[49m\u001b[43m)\u001b[49m\u001b[38;5;241;43m.\u001b[39;49m\u001b[43minstall\u001b[49m\u001b[43m(\u001b[49m\u001b[43m)\u001b[49m\u001b[43m,\u001b[49m\u001b[43m \u001b[49m\u001b[43moptions\u001b[49m\u001b[38;5;241;43m=\u001b[39;49m\u001b[43moptions\u001b[49m\u001b[43m)\u001b[49m\n\u001b[1;32m     14\u001b[0m browser\u001b[38;5;241m.\u001b[39mimplicitly_wait(\u001b[38;5;241m5\u001b[39m)\n",
      "File \u001b[0;32m~/miniforge3/envs/pyenv-3.10/lib/python3.10/site-packages/selenium/webdriver/firefox/webdriver.py:192\u001b[0m, in \u001b[0;36mWebDriver.__init__\u001b[0;34m(self, firefox_profile, firefox_binary, capabilities, proxy, executable_path, options, service_log_path, service_args, service, desired_capabilities, log_path, keep_alive)\u001b[0m\n\u001b[1;32m    190\u001b[0m \u001b[38;5;28;01mif\u001b[39;00m \u001b[38;5;129;01mnot\u001b[39;00m \u001b[38;5;28mself\u001b[39m\u001b[38;5;241m.\u001b[39mservice:\n\u001b[1;32m    191\u001b[0m     \u001b[38;5;28mself\u001b[39m\u001b[38;5;241m.\u001b[39mservice \u001b[38;5;241m=\u001b[39m Service(executable_path, service_args\u001b[38;5;241m=\u001b[39mservice_args, log_path\u001b[38;5;241m=\u001b[39mservice_log_path)\n\u001b[0;32m--> 192\u001b[0m \u001b[38;5;28;43mself\u001b[39;49m\u001b[38;5;241;43m.\u001b[39;49m\u001b[43mservice\u001b[49m\u001b[38;5;241;43m.\u001b[39;49m\u001b[43mstart\u001b[49m\u001b[43m(\u001b[49m\u001b[43m)\u001b[49m\n\u001b[1;32m    194\u001b[0m executor \u001b[38;5;241m=\u001b[39m FirefoxRemoteConnection(\n\u001b[1;32m    195\u001b[0m     remote_server_addr\u001b[38;5;241m=\u001b[39m\u001b[38;5;28mself\u001b[39m\u001b[38;5;241m.\u001b[39mservice\u001b[38;5;241m.\u001b[39mservice_url, ignore_proxy\u001b[38;5;241m=\u001b[39moptions\u001b[38;5;241m.\u001b[39m_ignore_local_proxy\n\u001b[1;32m    196\u001b[0m )\n\u001b[1;32m    197\u001b[0m \u001b[38;5;28msuper\u001b[39m()\u001b[38;5;241m.\u001b[39m\u001b[38;5;21m__init__\u001b[39m(command_executor\u001b[38;5;241m=\u001b[39mexecutor, options\u001b[38;5;241m=\u001b[39moptions, keep_alive\u001b[38;5;241m=\u001b[39m\u001b[38;5;28;01mTrue\u001b[39;00m)\n",
      "File \u001b[0;32m~/miniforge3/envs/pyenv-3.10/lib/python3.10/site-packages/selenium/webdriver/common/service.py:106\u001b[0m, in \u001b[0;36mService.start\u001b[0;34m(self)\u001b[0m\n\u001b[1;32m    104\u001b[0m count \u001b[38;5;241m=\u001b[39m \u001b[38;5;241m0\u001b[39m\n\u001b[1;32m    105\u001b[0m \u001b[38;5;28;01mwhile\u001b[39;00m \u001b[38;5;28;01mTrue\u001b[39;00m:\n\u001b[0;32m--> 106\u001b[0m     \u001b[38;5;28;43mself\u001b[39;49m\u001b[38;5;241;43m.\u001b[39;49m\u001b[43massert_process_still_running\u001b[49m\u001b[43m(\u001b[49m\u001b[43m)\u001b[49m\n\u001b[1;32m    107\u001b[0m     \u001b[38;5;28;01mif\u001b[39;00m \u001b[38;5;28mself\u001b[39m\u001b[38;5;241m.\u001b[39mis_connectable():\n\u001b[1;32m    108\u001b[0m         \u001b[38;5;28;01mbreak\u001b[39;00m\n",
      "File \u001b[0;32m~/miniforge3/envs/pyenv-3.10/lib/python3.10/site-packages/selenium/webdriver/common/service.py:119\u001b[0m, in \u001b[0;36mService.assert_process_still_running\u001b[0;34m(self)\u001b[0m\n\u001b[1;32m    117\u001b[0m return_code \u001b[38;5;241m=\u001b[39m \u001b[38;5;28mself\u001b[39m\u001b[38;5;241m.\u001b[39mprocess\u001b[38;5;241m.\u001b[39mpoll()\n\u001b[1;32m    118\u001b[0m \u001b[38;5;28;01mif\u001b[39;00m return_code:\n\u001b[0;32m--> 119\u001b[0m     \u001b[38;5;28;01mraise\u001b[39;00m WebDriverException(\u001b[38;5;124mf\u001b[39m\u001b[38;5;124m\"\u001b[39m\u001b[38;5;124mService \u001b[39m\u001b[38;5;132;01m{\u001b[39;00m\u001b[38;5;28mself\u001b[39m\u001b[38;5;241m.\u001b[39mpath\u001b[38;5;132;01m}\u001b[39;00m\u001b[38;5;124m unexpectedly exited. Status code was: \u001b[39m\u001b[38;5;132;01m{\u001b[39;00mreturn_code\u001b[38;5;132;01m}\u001b[39;00m\u001b[38;5;124m\"\u001b[39m)\n",
      "\u001b[0;31mWebDriverException\u001b[0m: Message: Service /Users/komlan/.wdm/drivers/geckodriver/macos-aarch64/0.32/geckodriver unexpectedly exited. Status code was: -9\n"
     ]
    }
   ],
   "source": [
    "import os\n",
    "from selenium import webdriver\n",
    "from webdriver_manager.firefox import GeckoDriverManager\n",
    "from selenium.webdriver.common.by import By\n",
    "from selenium.webdriver.firefox.options import Options\n",
    "import time\n",
    "root_path = '/Users/komlan/Downloads/test'\n",
    "\n",
    "options = Options()\n",
    "options.set_preference(\"browser.download.folderList\", 2)\n",
    "options.set_preference(\"browser.download.dir\", root_path+'/outputs/')\n",
    "browser = webdriver.Firefox(executable_path=GeckoDriverManager().install(), options=options)\n",
    "\n",
    "browser.implicitly_wait(5) # seconds"
   ]
  },
  {
   "cell_type": "code",
   "execution_count": null,
   "id": "6e46073f",
   "metadata": {},
   "outputs": [],
   "source": []
  },
  {
   "cell_type": "code",
   "execution_count": null,
   "id": "5d807581",
   "metadata": {},
   "outputs": [],
   "source": []
  },
  {
   "cell_type": "code",
   "execution_count": 372,
   "id": "ee7313dc",
   "metadata": {},
   "outputs": [
    {
     "name": "stderr",
     "output_type": "stream",
     "text": [
      "/var/folders/8t/83qwqzx52cs5gmzbyklq6v_w0000gn/T/ipykernel_65127/2905521807.py:12: DeprecationWarning: executable_path has been deprecated, please pass in a Service object\n",
      "  browser = webdriver.Firefox(executable_path=GeckoDriverManager().install(), options=options)\n"
     ]
    },
    {
     "ename": "WebDriverException",
     "evalue": "Message: Service /Users/komlan/.wdm/drivers/geckodriver/macos-aarch64/0.32/geckodriver unexpectedly exited. Status code was: -9\n",
     "output_type": "error",
     "traceback": [
      "\u001b[0;31m---------------------------------------------------------------------------\u001b[0m",
      "\u001b[0;31mWebDriverException\u001b[0m                        Traceback (most recent call last)",
      "Input \u001b[0;32mIn [372]\u001b[0m, in \u001b[0;36m<cell line: 12>\u001b[0;34m()\u001b[0m\n\u001b[1;32m     10\u001b[0m options\u001b[38;5;241m.\u001b[39mset_preference(\u001b[38;5;124m\"\u001b[39m\u001b[38;5;124mbrowser.download.folderList\u001b[39m\u001b[38;5;124m\"\u001b[39m, \u001b[38;5;241m2\u001b[39m)\n\u001b[1;32m     11\u001b[0m options\u001b[38;5;241m.\u001b[39mset_preference(\u001b[38;5;124m\"\u001b[39m\u001b[38;5;124mbrowser.download.dir\u001b[39m\u001b[38;5;124m\"\u001b[39m, root_path\u001b[38;5;241m+\u001b[39m\u001b[38;5;124m'\u001b[39m\u001b[38;5;124m/outputs/\u001b[39m\u001b[38;5;124m'\u001b[39m)\n\u001b[0;32m---> 12\u001b[0m browser \u001b[38;5;241m=\u001b[39m \u001b[43mwebdriver\u001b[49m\u001b[38;5;241;43m.\u001b[39;49m\u001b[43mFirefox\u001b[49m\u001b[43m(\u001b[49m\u001b[43mexecutable_path\u001b[49m\u001b[38;5;241;43m=\u001b[39;49m\u001b[43mGeckoDriverManager\u001b[49m\u001b[43m(\u001b[49m\u001b[43m)\u001b[49m\u001b[38;5;241;43m.\u001b[39;49m\u001b[43minstall\u001b[49m\u001b[43m(\u001b[49m\u001b[43m)\u001b[49m\u001b[43m,\u001b[49m\u001b[43m \u001b[49m\u001b[43moptions\u001b[49m\u001b[38;5;241;43m=\u001b[39;49m\u001b[43moptions\u001b[49m\u001b[43m)\u001b[49m\n\u001b[1;32m     14\u001b[0m browser\u001b[38;5;241m.\u001b[39mimplicitly_wait(\u001b[38;5;241m5\u001b[39m) \u001b[38;5;66;03m# seconds\u001b[39;00m\n\u001b[1;32m     16\u001b[0m \u001b[38;5;66;03m#Connexion\u001b[39;00m\n",
      "File \u001b[0;32m~/miniforge3/envs/pyenv-3.10/lib/python3.10/site-packages/selenium/webdriver/firefox/webdriver.py:192\u001b[0m, in \u001b[0;36mWebDriver.__init__\u001b[0;34m(self, firefox_profile, firefox_binary, capabilities, proxy, executable_path, options, service_log_path, service_args, service, desired_capabilities, log_path, keep_alive)\u001b[0m\n\u001b[1;32m    190\u001b[0m \u001b[38;5;28;01mif\u001b[39;00m \u001b[38;5;129;01mnot\u001b[39;00m \u001b[38;5;28mself\u001b[39m\u001b[38;5;241m.\u001b[39mservice:\n\u001b[1;32m    191\u001b[0m     \u001b[38;5;28mself\u001b[39m\u001b[38;5;241m.\u001b[39mservice \u001b[38;5;241m=\u001b[39m Service(executable_path, service_args\u001b[38;5;241m=\u001b[39mservice_args, log_path\u001b[38;5;241m=\u001b[39mservice_log_path)\n\u001b[0;32m--> 192\u001b[0m \u001b[38;5;28;43mself\u001b[39;49m\u001b[38;5;241;43m.\u001b[39;49m\u001b[43mservice\u001b[49m\u001b[38;5;241;43m.\u001b[39;49m\u001b[43mstart\u001b[49m\u001b[43m(\u001b[49m\u001b[43m)\u001b[49m\n\u001b[1;32m    194\u001b[0m executor \u001b[38;5;241m=\u001b[39m FirefoxRemoteConnection(\n\u001b[1;32m    195\u001b[0m     remote_server_addr\u001b[38;5;241m=\u001b[39m\u001b[38;5;28mself\u001b[39m\u001b[38;5;241m.\u001b[39mservice\u001b[38;5;241m.\u001b[39mservice_url, ignore_proxy\u001b[38;5;241m=\u001b[39moptions\u001b[38;5;241m.\u001b[39m_ignore_local_proxy\n\u001b[1;32m    196\u001b[0m )\n\u001b[1;32m    197\u001b[0m \u001b[38;5;28msuper\u001b[39m()\u001b[38;5;241m.\u001b[39m\u001b[38;5;21m__init__\u001b[39m(command_executor\u001b[38;5;241m=\u001b[39mexecutor, options\u001b[38;5;241m=\u001b[39moptions, keep_alive\u001b[38;5;241m=\u001b[39m\u001b[38;5;28;01mTrue\u001b[39;00m)\n",
      "File \u001b[0;32m~/miniforge3/envs/pyenv-3.10/lib/python3.10/site-packages/selenium/webdriver/common/service.py:106\u001b[0m, in \u001b[0;36mService.start\u001b[0;34m(self)\u001b[0m\n\u001b[1;32m    104\u001b[0m count \u001b[38;5;241m=\u001b[39m \u001b[38;5;241m0\u001b[39m\n\u001b[1;32m    105\u001b[0m \u001b[38;5;28;01mwhile\u001b[39;00m \u001b[38;5;28;01mTrue\u001b[39;00m:\n\u001b[0;32m--> 106\u001b[0m     \u001b[38;5;28;43mself\u001b[39;49m\u001b[38;5;241;43m.\u001b[39;49m\u001b[43massert_process_still_running\u001b[49m\u001b[43m(\u001b[49m\u001b[43m)\u001b[49m\n\u001b[1;32m    107\u001b[0m     \u001b[38;5;28;01mif\u001b[39;00m \u001b[38;5;28mself\u001b[39m\u001b[38;5;241m.\u001b[39mis_connectable():\n\u001b[1;32m    108\u001b[0m         \u001b[38;5;28;01mbreak\u001b[39;00m\n",
      "File \u001b[0;32m~/miniforge3/envs/pyenv-3.10/lib/python3.10/site-packages/selenium/webdriver/common/service.py:119\u001b[0m, in \u001b[0;36mService.assert_process_still_running\u001b[0;34m(self)\u001b[0m\n\u001b[1;32m    117\u001b[0m return_code \u001b[38;5;241m=\u001b[39m \u001b[38;5;28mself\u001b[39m\u001b[38;5;241m.\u001b[39mprocess\u001b[38;5;241m.\u001b[39mpoll()\n\u001b[1;32m    118\u001b[0m \u001b[38;5;28;01mif\u001b[39;00m return_code:\n\u001b[0;32m--> 119\u001b[0m     \u001b[38;5;28;01mraise\u001b[39;00m WebDriverException(\u001b[38;5;124mf\u001b[39m\u001b[38;5;124m\"\u001b[39m\u001b[38;5;124mService \u001b[39m\u001b[38;5;132;01m{\u001b[39;00m\u001b[38;5;28mself\u001b[39m\u001b[38;5;241m.\u001b[39mpath\u001b[38;5;132;01m}\u001b[39;00m\u001b[38;5;124m unexpectedly exited. Status code was: \u001b[39m\u001b[38;5;132;01m{\u001b[39;00mreturn_code\u001b[38;5;132;01m}\u001b[39;00m\u001b[38;5;124m\"\u001b[39m)\n",
      "\u001b[0;31mWebDriverException\u001b[0m: Message: Service /Users/komlan/.wdm/drivers/geckodriver/macos-aarch64/0.32/geckodriver unexpectedly exited. Status code was: -9\n"
     ]
    }
   ],
   "source": [
    "#Downloads\n",
    "shutil.rmtree(root_path+'/outputs/')\n",
    "os.mkdir(root_path+'/outputs/')\n",
    "outputs = browser.find_elements(By.XPATH, \"//li[@class='ant-menu-item font-ibm-plex-sans text-sm pdf-item ']\")\n",
    "\n",
    "for output in outputs:\n",
    "    option = output.find_element(By.CLASS_NAME, 'item-button')\n",
    "    option.click()\n",
    "    docx_element = browser.find_element(By.XPATH, \"//ul[@class='popover-content']\").find_elements(By.XPATH, \"//li[@class='w-full flex justify-between popover-content-item w-40 ']\")[2]\n",
    "    docx_element.click()\n",
    "    time.sleep(1)"
   ]
  },
  {
   "cell_type": "code",
   "execution_count": 349,
   "id": "4cb67cb2",
   "metadata": {},
   "outputs": [],
   "source": [
    "browser.find_element(By.XPATH, \"/html/body/div[2]/div/div[2]/div/div[1]/div[1]/div/div[3]/button\").click()\n",
    "\n",
    "\n",
    "#Upload files\n",
    "files = os.listdir(root_path)\n",
    "try:\n",
    "    os.mkdir(root_path+'/outputs/')\n",
    "except:\n",
    "    \"\"\n",
    "    \n",
    "for file_name in files:\n",
    "    upload_file = browser.find_element(By.XPATH, \"//input[@type='file' and @accept='application/pdf']\")\n",
    "    #upload_file.send_keys(root_path+'/'+file_name)\n",
    "\n",
    "container = browser.find_element(By.XPATH, \"//ul[@id='pdfs$Menu' and @class='ant-menu ant-menu-sub ant-menu-inline']\")\n",
    "outputs = browser.find_elements(By.XPATH, \"//li[@class='ant-menu-item font-ibm-plex-sans text-sm pdf-item ']\")\n",
    "\n",
    "for output in outputs:\n",
    "    option = output.find_element(By.CLASS_NAME, 'item-button')\n",
    "    option.click()\n",
    "    docx_element = browser.find_element(By.XPATH, \"//ul[@class='popover-content']\").find_elements(By.XPATH, \"//li[@class='w-full flex justify-between popover-content-item w-40 ']\")[2]\n",
    "    docx_element.click()"
   ]
  },
  {
   "cell_type": "code",
   "execution_count": 345,
   "id": "cf06fb97",
   "metadata": {},
   "outputs": [],
   "source": []
  },
  {
   "cell_type": "code",
   "execution_count": 310,
   "id": "cca75adb",
   "metadata": {},
   "outputs": [
    {
     "data": {
      "text/plain": [
       "<selenium.webdriver.remote.webelement.WebElement (session=\"de86c81f-25fd-4905-a74f-7617919e35af\", element=\"1e93ca58-3dec-4bc5-ae70-a481fb184219\")>"
      ]
     },
     "execution_count": 310,
     "metadata": {},
     "output_type": "execute_result"
    }
   ],
   "source": []
  },
  {
   "cell_type": "code",
   "execution_count": 351,
   "id": "ea0610c7",
   "metadata": {},
   "outputs": [
    {
     "name": "stdout",
     "output_type": "stream",
     "text": [
      "Collecting tk\n",
      "  Downloading tk-0.1.0-py3-none-any.whl (3.9 kB)\n",
      "Installing collected packages: tk\n",
      "Successfully installed tk-0.1.0\n"
     ]
    }
   ],
   "source": [
    "!pip install tk"
   ]
  },
  {
   "cell_type": "code",
   "execution_count": 370,
   "id": "0bc283cd",
   "metadata": {},
   "outputs": [
    {
     "data": {
      "text/plain": [
       "'user-agent=Mozilla/5.0 (Macintosh; Intel Mac OS X 10_15_7) AppleWebKit/537.36 (KHTML, like Gecko) Chrome/107.0.0.0 Safari/537.36'"
      ]
     },
     "execution_count": 370,
     "metadata": {},
     "output_type": "execute_result"
    }
   ],
   "source": [
    "user_agent = \"Mozilla/5.0 (Macintosh; Intel Mac OS X 10_15_7) AppleWebKit/537.36 (KHTML, like Gecko) Chrome/107.0.0.0 Safari/537.36\"\n",
    "agent = f\"user-agent={user_agent}\"\n",
    "agent"
   ]
  },
  {
   "cell_type": "code",
   "execution_count": 384,
   "id": "34fe0e1d",
   "metadata": {},
   "outputs": [
    {
     "data": {
      "text/plain": [
       "['.DS_Store', 'new.pdf', 'outputs']"
      ]
     },
     "execution_count": 384,
     "metadata": {},
     "output_type": "execute_result"
    }
   ],
   "source": [
    "import os\n",
    "root_path = '/Users/komlan/Downloads/test'\n",
    "os.path.exists(root_path)\n",
    "#os.mkdir(root_path)\n",
    "os.listdir(root_path)"
   ]
  },
  {
   "cell_type": "code",
   "execution_count": 387,
   "id": "e3d7b0c1",
   "metadata": {},
   "outputs": [
    {
     "data": {
      "text/plain": [
       "'TGO/UL/FDS'"
      ]
     },
     "execution_count": 387,
     "metadata": {},
     "output_type": "execute_result"
    }
   ],
   "source": [
    "file_name = 'tgo_ul_fds_ev329ky_raw.pdf'\n",
    "'/'.join([el.upper() for el in file_name.split('_')[:3]])"
   ]
  },
  {
   "cell_type": "code",
   "execution_count": 393,
   "id": "2108b84a",
   "metadata": {},
   "outputs": [
    {
     "ename": "ValueError",
     "evalue": "time data '2022-07-19 15:25:25.686028' does not match format '%d-%b-%Y-%H:%M:%S'",
     "output_type": "error",
     "traceback": [
      "\u001b[0;31m---------------------------------------------------------------------------\u001b[0m",
      "\u001b[0;31mValueError\u001b[0m                                Traceback (most recent call last)",
      "Input \u001b[0;32mIn [393]\u001b[0m, in \u001b[0;36m<cell line: 6>\u001b[0;34m()\u001b[0m\n\u001b[1;32m      2\u001b[0m my_date \u001b[38;5;241m=\u001b[39m \u001b[38;5;124m\"\u001b[39m\u001b[38;5;124m2022-07-19 15:25:25.686028\u001b[39m\u001b[38;5;124m\"\u001b[39m\n\u001b[1;32m      4\u001b[0m \u001b[38;5;66;03m# convert datetime string into date,month,day and\u001b[39;00m\n\u001b[1;32m      5\u001b[0m \u001b[38;5;66;03m# hours:minutes:and seconds format using strptime\u001b[39;00m\n\u001b[0;32m----> 6\u001b[0m d \u001b[38;5;241m=\u001b[39m \u001b[43mdatetime\u001b[49m\u001b[38;5;241;43m.\u001b[39;49m\u001b[43mstrptime\u001b[49m\u001b[43m(\u001b[49m\u001b[43mmy_date\u001b[49m\u001b[43m,\u001b[49m\u001b[43m \u001b[49m\u001b[38;5;124;43m\"\u001b[39;49m\u001b[38;5;132;43;01m%d\u001b[39;49;00m\u001b[38;5;124;43m-\u001b[39;49m\u001b[38;5;124;43m%\u001b[39;49m\u001b[38;5;124;43mb-\u001b[39;49m\u001b[38;5;124;43m%\u001b[39;49m\u001b[38;5;124;43mY-\u001b[39;49m\u001b[38;5;124;43m%\u001b[39;49m\u001b[38;5;124;43mH:\u001b[39;49m\u001b[38;5;124;43m%\u001b[39;49m\u001b[38;5;124;43mM:\u001b[39;49m\u001b[38;5;124;43m%\u001b[39;49m\u001b[38;5;124;43mS\u001b[39;49m\u001b[38;5;124;43m\"\u001b[39;49m\u001b[43m)\u001b[49m\n\u001b[1;32m      7\u001b[0m \u001b[38;5;28mprint\u001b[39m(d)\n",
      "File \u001b[0;32m~/miniforge3/envs/pyenv-3.10/lib/python3.10/_strptime.py:568\u001b[0m, in \u001b[0;36m_strptime_datetime\u001b[0;34m(cls, data_string, format)\u001b[0m\n",
      "File \u001b[0;32m~/miniforge3/envs/pyenv-3.10/lib/python3.10/_strptime.py:349\u001b[0m, in \u001b[0;36m_strptime\u001b[0;34m(data_string, format)\u001b[0m\n",
      "\u001b[0;31mValueError\u001b[0m: time data '2022-07-19 15:25:25.686028' does not match format '%d-%b-%Y-%H:%M:%S'"
     ]
    }
   ],
   "source": [
    "from datetime import datetime\n",
    "my_date = \"2022-07-19 15:25:25.686028\"\n",
    " \n",
    "# convert datetime string into date,month,day and\n",
    "# hours:minutes:and seconds format using strptime\n",
    "d = datetime.strptime(my_date, \"%d-%b-%Y-%H:%M:%S\")\n",
    "print(d)"
   ]
  },
  {
   "cell_type": "code",
   "execution_count": null,
   "id": "fd88f77b",
   "metadata": {},
   "outputs": [],
   "source": []
  },
  {
   "cell_type": "code",
   "execution_count": null,
   "id": "74ad8cce",
   "metadata": {},
   "outputs": [],
   "source": []
  },
  {
   "cell_type": "code",
   "execution_count": null,
   "id": "563073fd",
   "metadata": {},
   "outputs": [],
   "source": []
  },
  {
   "cell_type": "code",
   "execution_count": null,
   "id": "49b0e58a",
   "metadata": {},
   "outputs": [],
   "source": []
  },
  {
   "cell_type": "code",
   "execution_count": null,
   "id": "cdc03f87",
   "metadata": {},
   "outputs": [],
   "source": []
  },
  {
   "cell_type": "code",
   "execution_count": null,
   "id": "44576cf8",
   "metadata": {},
   "outputs": [],
   "source": []
  },
  {
   "cell_type": "code",
   "execution_count": null,
   "id": "c1b06c1e",
   "metadata": {},
   "outputs": [],
   "source": []
  },
  {
   "cell_type": "code",
   "execution_count": null,
   "id": "12dba3c8",
   "metadata": {},
   "outputs": [],
   "source": []
  },
  {
   "cell_type": "code",
   "execution_count": null,
   "id": "71d03637",
   "metadata": {},
   "outputs": [],
   "source": []
  },
  {
   "cell_type": "code",
   "execution_count": null,
   "id": "bee6144b",
   "metadata": {},
   "outputs": [],
   "source": []
  },
  {
   "cell_type": "code",
   "execution_count": null,
   "id": "8211f82d",
   "metadata": {},
   "outputs": [],
   "source": []
  },
  {
   "cell_type": "code",
   "execution_count": null,
   "id": "5641beef",
   "metadata": {},
   "outputs": [],
   "source": []
  },
  {
   "cell_type": "code",
   "execution_count": null,
   "id": "a0ec2e70",
   "metadata": {},
   "outputs": [],
   "source": []
  },
  {
   "cell_type": "code",
   "execution_count": null,
   "id": "c70f4c72",
   "metadata": {},
   "outputs": [],
   "source": []
  },
  {
   "cell_type": "code",
   "execution_count": null,
   "id": "34d1338f",
   "metadata": {},
   "outputs": [],
   "source": []
  },
  {
   "cell_type": "code",
   "execution_count": 363,
   "id": "81a85ebe",
   "metadata": {},
   "outputs": [
    {
     "name": "stderr",
     "output_type": "stream",
     "text": [
      "/var/folders/8t/83qwqzx52cs5gmzbyklq6v_w0000gn/T/ipykernel_65127/1704379198.py:6: DeprecationWarning: desired_capabilities has been deprecated, please pass in an Options object with options kwarg\n",
      "  wd = webdriver.Remote(server_url, dc)\n"
     ]
    },
    {
     "ename": "WebDriverException",
     "evalue": "Message: <!DOCTYPE html>\n<html lang=\"en\">\n<head>\n<meta charset=\"utf-8\">\n<title>Error</title>\n</head>\n<body>\n<pre>Cannot POST /session</pre>\n</body>\n</html>\n\n",
     "output_type": "error",
     "traceback": [
      "\u001b[0;31m---------------------------------------------------------------------------\u001b[0m",
      "\u001b[0;31mWebDriverException\u001b[0m                        Traceback (most recent call last)",
      "Input \u001b[0;32mIn [363]\u001b[0m, in \u001b[0;36m<cell line: 6>\u001b[0;34m()\u001b[0m\n\u001b[1;32m      4\u001b[0m server_url \u001b[38;5;241m=\u001b[39m \u001b[38;5;124m\"\u001b[39m\u001b[38;5;124mhttps://edu.enovsky.com\u001b[39m\u001b[38;5;124m\"\u001b[39m\n\u001b[1;32m      5\u001b[0m dc \u001b[38;5;241m=\u001b[39m DesiredCapabilities\u001b[38;5;241m.\u001b[39mHTMLUNIT\n\u001b[0;32m----> 6\u001b[0m wd \u001b[38;5;241m=\u001b[39m \u001b[43mwebdriver\u001b[49m\u001b[38;5;241;43m.\u001b[39;49m\u001b[43mRemote\u001b[49m\u001b[43m(\u001b[49m\u001b[43mserver_url\u001b[49m\u001b[43m,\u001b[49m\u001b[43m \u001b[49m\u001b[43mdc\u001b[49m\u001b[43m)\u001b[49m\n\u001b[1;32m      7\u001b[0m wd\u001b[38;5;241m.\u001b[39mget(\u001b[38;5;124m'\u001b[39m\u001b[38;5;124mhttp://www.google.com\u001b[39m\u001b[38;5;124m'\u001b[39m)\n",
      "File \u001b[0;32m~/miniforge3/envs/pyenv-3.10/lib/python3.10/site-packages/selenium/webdriver/remote/webdriver.py:288\u001b[0m, in \u001b[0;36mWebDriver.__init__\u001b[0;34m(self, command_executor, desired_capabilities, browser_profile, proxy, keep_alive, file_detector, options)\u001b[0m\n\u001b[1;32m    286\u001b[0m \u001b[38;5;28mself\u001b[39m\u001b[38;5;241m.\u001b[39m_authenticator_id \u001b[38;5;241m=\u001b[39m \u001b[38;5;28;01mNone\u001b[39;00m\n\u001b[1;32m    287\u001b[0m \u001b[38;5;28mself\u001b[39m\u001b[38;5;241m.\u001b[39mstart_client()\n\u001b[0;32m--> 288\u001b[0m \u001b[38;5;28;43mself\u001b[39;49m\u001b[38;5;241;43m.\u001b[39;49m\u001b[43mstart_session\u001b[49m\u001b[43m(\u001b[49m\u001b[43mcapabilities\u001b[49m\u001b[43m,\u001b[49m\u001b[43m \u001b[49m\u001b[43mbrowser_profile\u001b[49m\u001b[43m)\u001b[49m\n",
      "File \u001b[0;32m~/miniforge3/envs/pyenv-3.10/lib/python3.10/site-packages/selenium/webdriver/remote/webdriver.py:381\u001b[0m, in \u001b[0;36mWebDriver.start_session\u001b[0;34m(self, capabilities, browser_profile)\u001b[0m\n\u001b[1;32m    379\u001b[0m w3c_caps \u001b[38;5;241m=\u001b[39m _make_w3c_caps(capabilities)\n\u001b[1;32m    380\u001b[0m parameters \u001b[38;5;241m=\u001b[39m {\u001b[38;5;124m\"\u001b[39m\u001b[38;5;124mcapabilities\u001b[39m\u001b[38;5;124m\"\u001b[39m: w3c_caps}\n\u001b[0;32m--> 381\u001b[0m response \u001b[38;5;241m=\u001b[39m \u001b[38;5;28;43mself\u001b[39;49m\u001b[38;5;241;43m.\u001b[39;49m\u001b[43mexecute\u001b[49m\u001b[43m(\u001b[49m\u001b[43mCommand\u001b[49m\u001b[38;5;241;43m.\u001b[39;49m\u001b[43mNEW_SESSION\u001b[49m\u001b[43m,\u001b[49m\u001b[43m \u001b[49m\u001b[43mparameters\u001b[49m\u001b[43m)\u001b[49m\n\u001b[1;32m    382\u001b[0m \u001b[38;5;28;01mif\u001b[39;00m \u001b[38;5;124m\"\u001b[39m\u001b[38;5;124msessionId\u001b[39m\u001b[38;5;124m\"\u001b[39m \u001b[38;5;129;01mnot\u001b[39;00m \u001b[38;5;129;01min\u001b[39;00m response:\n\u001b[1;32m    383\u001b[0m     response \u001b[38;5;241m=\u001b[39m response[\u001b[38;5;124m\"\u001b[39m\u001b[38;5;124mvalue\u001b[39m\u001b[38;5;124m\"\u001b[39m]\n",
      "File \u001b[0;32m~/miniforge3/envs/pyenv-3.10/lib/python3.10/site-packages/selenium/webdriver/remote/webdriver.py:444\u001b[0m, in \u001b[0;36mWebDriver.execute\u001b[0;34m(self, driver_command, params)\u001b[0m\n\u001b[1;32m    442\u001b[0m response \u001b[38;5;241m=\u001b[39m \u001b[38;5;28mself\u001b[39m\u001b[38;5;241m.\u001b[39mcommand_executor\u001b[38;5;241m.\u001b[39mexecute(driver_command, params)\n\u001b[1;32m    443\u001b[0m \u001b[38;5;28;01mif\u001b[39;00m response:\n\u001b[0;32m--> 444\u001b[0m     \u001b[38;5;28;43mself\u001b[39;49m\u001b[38;5;241;43m.\u001b[39;49m\u001b[43merror_handler\u001b[49m\u001b[38;5;241;43m.\u001b[39;49m\u001b[43mcheck_response\u001b[49m\u001b[43m(\u001b[49m\u001b[43mresponse\u001b[49m\u001b[43m)\u001b[49m\n\u001b[1;32m    445\u001b[0m     response[\u001b[38;5;124m\"\u001b[39m\u001b[38;5;124mvalue\u001b[39m\u001b[38;5;124m\"\u001b[39m] \u001b[38;5;241m=\u001b[39m \u001b[38;5;28mself\u001b[39m\u001b[38;5;241m.\u001b[39m_unwrap_value(response\u001b[38;5;241m.\u001b[39mget(\u001b[38;5;124m\"\u001b[39m\u001b[38;5;124mvalue\u001b[39m\u001b[38;5;124m\"\u001b[39m, \u001b[38;5;28;01mNone\u001b[39;00m))\n\u001b[1;32m    446\u001b[0m     \u001b[38;5;28;01mreturn\u001b[39;00m response\n",
      "File \u001b[0;32m~/miniforge3/envs/pyenv-3.10/lib/python3.10/site-packages/selenium/webdriver/remote/errorhandler.py:213\u001b[0m, in \u001b[0;36mErrorHandler.check_response\u001b[0;34m(self, response)\u001b[0m\n\u001b[1;32m    211\u001b[0m     value \u001b[38;5;241m=\u001b[39m response[\u001b[38;5;124m\"\u001b[39m\u001b[38;5;124mvalue\u001b[39m\u001b[38;5;124m\"\u001b[39m]\n\u001b[1;32m    212\u001b[0m \u001b[38;5;28;01mif\u001b[39;00m \u001b[38;5;28misinstance\u001b[39m(value, \u001b[38;5;28mstr\u001b[39m):\n\u001b[0;32m--> 213\u001b[0m     \u001b[38;5;28;01mraise\u001b[39;00m exception_class(value)\n\u001b[1;32m    214\u001b[0m \u001b[38;5;28;01mif\u001b[39;00m message \u001b[38;5;241m==\u001b[39m \u001b[38;5;124m\"\u001b[39m\u001b[38;5;124m\"\u001b[39m \u001b[38;5;129;01mand\u001b[39;00m \u001b[38;5;124m\"\u001b[39m\u001b[38;5;124mmessage\u001b[39m\u001b[38;5;124m\"\u001b[39m \u001b[38;5;129;01min\u001b[39;00m value:\n\u001b[1;32m    215\u001b[0m     message \u001b[38;5;241m=\u001b[39m value[\u001b[38;5;124m\"\u001b[39m\u001b[38;5;124mmessage\u001b[39m\u001b[38;5;124m\"\u001b[39m]\n",
      "\u001b[0;31mWebDriverException\u001b[0m: Message: <!DOCTYPE html>\n<html lang=\"en\">\n<head>\n<meta charset=\"utf-8\">\n<title>Error</title>\n</head>\n<body>\n<pre>Cannot POST /session</pre>\n</body>\n</html>\n\n"
     ]
    }
   ],
   "source": [
    "from selenium import webdriver\n",
    "from selenium.webdriver.common.desired_capabilities import DesiredCapabilities\n",
    "\n",
    "server_url = \"https://edu.enovsky.com\"\n",
    "dc = DesiredCapabilities.HTMLUNIT\n",
    "wd = webdriver.Remote(server_url, dc)\n",
    "wd.get('http://www.google.com')"
   ]
  },
  {
   "cell_type": "code",
   "execution_count": null,
   "id": "afa4cf35",
   "metadata": {},
   "outputs": [],
   "source": []
  },
  {
   "cell_type": "code",
   "execution_count": 369,
   "id": "7321cb83",
   "metadata": {},
   "outputs": [
    {
     "name": "stderr",
     "output_type": "stream",
     "text": [
      "/var/folders/8t/83qwqzx52cs5gmzbyklq6v_w0000gn/T/ipykernel_65127/4241056066.py:16: DeprecationWarning: executable_path has been deprecated, please pass in a Service object\n",
      "  driver = webdriver.Chrome(executable_path='/Users/komlan/Downloads/chromedriver_mac_arm64/chromedriver', options=options)\n"
     ]
    },
    {
     "ename": "WebDriverException",
     "evalue": "Message: Service /Users/komlan/Downloads/chromedriver_mac_arm64/chromedriver unexpectedly exited. Status code was: -9\n",
     "output_type": "error",
     "traceback": [
      "\u001b[0;31m---------------------------------------------------------------------------\u001b[0m",
      "\u001b[0;31mWebDriverException\u001b[0m                        Traceback (most recent call last)",
      "Input \u001b[0;32mIn [369]\u001b[0m, in \u001b[0;36m<cell line: 16>\u001b[0;34m()\u001b[0m\n\u001b[1;32m     14\u001b[0m options\u001b[38;5;241m.\u001b[39madd_argument(\u001b[38;5;124m'\u001b[39m\u001b[38;5;124m--disable-dev-shm-usage\u001b[39m\u001b[38;5;124m'\u001b[39m)\n\u001b[1;32m     15\u001b[0m options\u001b[38;5;241m.\u001b[39madd_argument(\u001b[38;5;124m'\u001b[39m\u001b[38;5;124m--no-sandbox\u001b[39m\u001b[38;5;124m'\u001b[39m)\n\u001b[0;32m---> 16\u001b[0m driver \u001b[38;5;241m=\u001b[39m \u001b[43mwebdriver\u001b[49m\u001b[38;5;241;43m.\u001b[39;49m\u001b[43mChrome\u001b[49m\u001b[43m(\u001b[49m\u001b[43mexecutable_path\u001b[49m\u001b[38;5;241;43m=\u001b[39;49m\u001b[38;5;124;43m'\u001b[39;49m\u001b[38;5;124;43m/Users/komlan/Downloads/chromedriver_mac_arm64/chromedriver\u001b[39;49m\u001b[38;5;124;43m'\u001b[39;49m\u001b[43m,\u001b[49m\u001b[43m \u001b[49m\u001b[43moptions\u001b[49m\u001b[38;5;241;43m=\u001b[39;49m\u001b[43moptions\u001b[49m\u001b[43m)\u001b[49m\n",
      "File \u001b[0;32m~/miniforge3/envs/pyenv-3.10/lib/python3.10/site-packages/selenium/webdriver/chrome/webdriver.py:81\u001b[0m, in \u001b[0;36mWebDriver.__init__\u001b[0;34m(self, executable_path, port, options, service_args, desired_capabilities, service_log_path, chrome_options, service, keep_alive)\u001b[0m\n\u001b[1;32m     78\u001b[0m \u001b[38;5;28;01mif\u001b[39;00m \u001b[38;5;129;01mnot\u001b[39;00m service:\n\u001b[1;32m     79\u001b[0m     service \u001b[38;5;241m=\u001b[39m Service(executable_path, port, service_args, service_log_path)\n\u001b[0;32m---> 81\u001b[0m \u001b[38;5;28;43msuper\u001b[39;49m\u001b[43m(\u001b[49m\u001b[43m)\u001b[49m\u001b[38;5;241;43m.\u001b[39;49m\u001b[38;5;21;43m__init__\u001b[39;49m\u001b[43m(\u001b[49m\n\u001b[1;32m     82\u001b[0m \u001b[43m    \u001b[49m\u001b[43mDesiredCapabilities\u001b[49m\u001b[38;5;241;43m.\u001b[39;49m\u001b[43mCHROME\u001b[49m\u001b[43m[\u001b[49m\u001b[38;5;124;43m\"\u001b[39;49m\u001b[38;5;124;43mbrowserName\u001b[39;49m\u001b[38;5;124;43m\"\u001b[39;49m\u001b[43m]\u001b[49m\u001b[43m,\u001b[49m\n\u001b[1;32m     83\u001b[0m \u001b[43m    \u001b[49m\u001b[38;5;124;43m\"\u001b[39;49m\u001b[38;5;124;43mgoog\u001b[39;49m\u001b[38;5;124;43m\"\u001b[39;49m\u001b[43m,\u001b[49m\n\u001b[1;32m     84\u001b[0m \u001b[43m    \u001b[49m\u001b[43mport\u001b[49m\u001b[43m,\u001b[49m\n\u001b[1;32m     85\u001b[0m \u001b[43m    \u001b[49m\u001b[43moptions\u001b[49m\u001b[43m,\u001b[49m\n\u001b[1;32m     86\u001b[0m \u001b[43m    \u001b[49m\u001b[43mservice_args\u001b[49m\u001b[43m,\u001b[49m\n\u001b[1;32m     87\u001b[0m \u001b[43m    \u001b[49m\u001b[43mdesired_capabilities\u001b[49m\u001b[43m,\u001b[49m\n\u001b[1;32m     88\u001b[0m \u001b[43m    \u001b[49m\u001b[43mservice_log_path\u001b[49m\u001b[43m,\u001b[49m\n\u001b[1;32m     89\u001b[0m \u001b[43m    \u001b[49m\u001b[43mservice\u001b[49m\u001b[43m,\u001b[49m\n\u001b[1;32m     90\u001b[0m \u001b[43m    \u001b[49m\u001b[43mkeep_alive\u001b[49m\u001b[43m,\u001b[49m\n\u001b[1;32m     91\u001b[0m \u001b[43m\u001b[49m\u001b[43m)\u001b[49m\n",
      "File \u001b[0;32m~/miniforge3/envs/pyenv-3.10/lib/python3.10/site-packages/selenium/webdriver/chromium/webdriver.py:103\u001b[0m, in \u001b[0;36mChromiumDriver.__init__\u001b[0;34m(self, browser_name, vendor_prefix, port, options, service_args, desired_capabilities, service_log_path, service, keep_alive)\u001b[0m\n\u001b[1;32m    100\u001b[0m     \u001b[38;5;28;01mraise\u001b[39;00m \u001b[38;5;167;01mAttributeError\u001b[39;00m(\u001b[38;5;124m\"\u001b[39m\u001b[38;5;124mservice cannot be None\u001b[39m\u001b[38;5;124m\"\u001b[39m)\n\u001b[1;32m    102\u001b[0m \u001b[38;5;28mself\u001b[39m\u001b[38;5;241m.\u001b[39mservice \u001b[38;5;241m=\u001b[39m service\n\u001b[0;32m--> 103\u001b[0m \u001b[38;5;28;43mself\u001b[39;49m\u001b[38;5;241;43m.\u001b[39;49m\u001b[43mservice\u001b[49m\u001b[38;5;241;43m.\u001b[39;49m\u001b[43mstart\u001b[49m\u001b[43m(\u001b[49m\u001b[43m)\u001b[49m\n\u001b[1;32m    105\u001b[0m \u001b[38;5;28;01mtry\u001b[39;00m:\n\u001b[1;32m    106\u001b[0m     \u001b[38;5;28msuper\u001b[39m()\u001b[38;5;241m.\u001b[39m\u001b[38;5;21m__init__\u001b[39m(\n\u001b[1;32m    107\u001b[0m         command_executor\u001b[38;5;241m=\u001b[39mChromiumRemoteConnection(\n\u001b[1;32m    108\u001b[0m             remote_server_addr\u001b[38;5;241m=\u001b[39m\u001b[38;5;28mself\u001b[39m\u001b[38;5;241m.\u001b[39mservice\u001b[38;5;241m.\u001b[39mservice_url,\n\u001b[0;32m   (...)\u001b[0m\n\u001b[1;32m    114\u001b[0m         options\u001b[38;5;241m=\u001b[39moptions,\n\u001b[1;32m    115\u001b[0m     )\n",
      "File \u001b[0;32m~/miniforge3/envs/pyenv-3.10/lib/python3.10/site-packages/selenium/webdriver/common/service.py:106\u001b[0m, in \u001b[0;36mService.start\u001b[0;34m(self)\u001b[0m\n\u001b[1;32m    104\u001b[0m count \u001b[38;5;241m=\u001b[39m \u001b[38;5;241m0\u001b[39m\n\u001b[1;32m    105\u001b[0m \u001b[38;5;28;01mwhile\u001b[39;00m \u001b[38;5;28;01mTrue\u001b[39;00m:\n\u001b[0;32m--> 106\u001b[0m     \u001b[38;5;28;43mself\u001b[39;49m\u001b[38;5;241;43m.\u001b[39;49m\u001b[43massert_process_still_running\u001b[49m\u001b[43m(\u001b[49m\u001b[43m)\u001b[49m\n\u001b[1;32m    107\u001b[0m     \u001b[38;5;28;01mif\u001b[39;00m \u001b[38;5;28mself\u001b[39m\u001b[38;5;241m.\u001b[39mis_connectable():\n\u001b[1;32m    108\u001b[0m         \u001b[38;5;28;01mbreak\u001b[39;00m\n",
      "File \u001b[0;32m~/miniforge3/envs/pyenv-3.10/lib/python3.10/site-packages/selenium/webdriver/common/service.py:119\u001b[0m, in \u001b[0;36mService.assert_process_still_running\u001b[0;34m(self)\u001b[0m\n\u001b[1;32m    117\u001b[0m return_code \u001b[38;5;241m=\u001b[39m \u001b[38;5;28mself\u001b[39m\u001b[38;5;241m.\u001b[39mprocess\u001b[38;5;241m.\u001b[39mpoll()\n\u001b[1;32m    118\u001b[0m \u001b[38;5;28;01mif\u001b[39;00m return_code:\n\u001b[0;32m--> 119\u001b[0m     \u001b[38;5;28;01mraise\u001b[39;00m WebDriverException(\u001b[38;5;124mf\u001b[39m\u001b[38;5;124m\"\u001b[39m\u001b[38;5;124mService \u001b[39m\u001b[38;5;132;01m{\u001b[39;00m\u001b[38;5;28mself\u001b[39m\u001b[38;5;241m.\u001b[39mpath\u001b[38;5;132;01m}\u001b[39;00m\u001b[38;5;124m unexpectedly exited. Status code was: \u001b[39m\u001b[38;5;132;01m{\u001b[39;00mreturn_code\u001b[38;5;132;01m}\u001b[39;00m\u001b[38;5;124m\"\u001b[39m)\n",
      "\u001b[0;31mWebDriverException\u001b[0m: Message: Service /Users/komlan/Downloads/chromedriver_mac_arm64/chromedriver unexpectedly exited. Status code was: -9\n"
     ]
    }
   ],
   "source": [
    "user_agent = \"Mozilla/5.0 (Macintosh; Intel Mac OS X 10_15_7) AppleWebKit/537.36 (KHTML, like Gecko) Chrome/107.0.0.0 Safari/537.36\"\n",
    "\n",
    "options = webdriver.ChromeOptions()\n",
    "options.headless = True\n",
    "options.add_argument(f'user-agent={user_agent}')\n",
    "options.add_argument(\"--window-size=1920,1080\")\n",
    "options.add_argument('--ignore-certificate-errors')\n",
    "options.add_argument('--allow-running-insecure-content')\n",
    "options.add_argument(\"--disable-extensions\")\n",
    "options.add_argument(\"--proxy-server='direct://'\")\n",
    "options.add_argument(\"--proxy-bypass-list=*\")\n",
    "options.add_argument(\"--start-maximized\")\n",
    "options.add_argument('--disable-gpu')\n",
    "options.add_argument('--disable-dev-shm-usage')\n",
    "options.add_argument('--no-sandbox')\n",
    "driver = webdriver.Chrome(executable_path='/Users/komlan/Downloads/chromedriver_mac_arm64/chromedriver', options=options)\n"
   ]
  },
  {
   "cell_type": "code",
   "execution_count": null,
   "id": "cbd67339",
   "metadata": {},
   "outputs": [],
   "source": []
  },
  {
   "cell_type": "code",
   "execution_count": null,
   "id": "590f58f0",
   "metadata": {},
   "outputs": [],
   "source": []
  },
  {
   "cell_type": "code",
   "execution_count": null,
   "id": "bb5c27ba",
   "metadata": {},
   "outputs": [],
   "source": []
  },
  {
   "cell_type": "code",
   "execution_count": null,
   "id": "cedbc7a6",
   "metadata": {},
   "outputs": [],
   "source": []
  },
  {
   "cell_type": "code",
   "execution_count": null,
   "id": "4889679f",
   "metadata": {},
   "outputs": [],
   "source": []
  },
  {
   "cell_type": "code",
   "execution_count": null,
   "id": "fb6b0dec",
   "metadata": {},
   "outputs": [],
   "source": []
  },
  {
   "cell_type": "code",
   "execution_count": null,
   "id": "b5dc10a5",
   "metadata": {},
   "outputs": [],
   "source": []
  },
  {
   "cell_type": "code",
   "execution_count": null,
   "id": "156ba4cc",
   "metadata": {},
   "outputs": [],
   "source": []
  },
  {
   "cell_type": "code",
   "execution_count": null,
   "id": "9930ffb7",
   "metadata": {},
   "outputs": [],
   "source": []
  },
  {
   "cell_type": "code",
   "execution_count": null,
   "id": "cb6588f6",
   "metadata": {},
   "outputs": [],
   "source": []
  },
  {
   "cell_type": "code",
   "execution_count": null,
   "id": "67b7f5a8",
   "metadata": {},
   "outputs": [],
   "source": []
  },
  {
   "cell_type": "code",
   "execution_count": null,
   "id": "988af4fc",
   "metadata": {},
   "outputs": [],
   "source": []
  },
  {
   "cell_type": "code",
   "execution_count": null,
   "id": "e323a325",
   "metadata": {},
   "outputs": [],
   "source": []
  },
  {
   "cell_type": "code",
   "execution_count": null,
   "id": "aad843bb",
   "metadata": {},
   "outputs": [],
   "source": []
  },
  {
   "cell_type": "code",
   "execution_count": null,
   "id": "474fd6dc",
   "metadata": {},
   "outputs": [],
   "source": []
  },
  {
   "cell_type": "code",
   "execution_count": null,
   "id": "511b8e0b",
   "metadata": {},
   "outputs": [],
   "source": []
  },
  {
   "cell_type": "code",
   "execution_count": 342,
   "id": "582e3a61",
   "metadata": {},
   "outputs": [],
   "source": []
  },
  {
   "cell_type": "code",
   "execution_count": null,
   "id": "6f38188e",
   "metadata": {},
   "outputs": [],
   "source": []
  },
  {
   "cell_type": "code",
   "execution_count": null,
   "id": "f59915bd",
   "metadata": {},
   "outputs": [],
   "source": []
  },
  {
   "cell_type": "code",
   "execution_count": null,
   "id": "dab1142c",
   "metadata": {},
   "outputs": [],
   "source": []
  },
  {
   "cell_type": "code",
   "execution_count": null,
   "id": "73a20fe2",
   "metadata": {},
   "outputs": [],
   "source": []
  },
  {
   "cell_type": "code",
   "execution_count": null,
   "id": "12f58964",
   "metadata": {},
   "outputs": [],
   "source": []
  },
  {
   "cell_type": "code",
   "execution_count": null,
   "id": "616a6ccc",
   "metadata": {},
   "outputs": [],
   "source": []
  },
  {
   "cell_type": "code",
   "execution_count": null,
   "id": "7e9ce161",
   "metadata": {},
   "outputs": [],
   "source": []
  },
  {
   "cell_type": "code",
   "execution_count": null,
   "id": "5838d43c",
   "metadata": {},
   "outputs": [],
   "source": []
  },
  {
   "cell_type": "code",
   "execution_count": null,
   "id": "e1306442",
   "metadata": {},
   "outputs": [],
   "source": []
  },
  {
   "cell_type": "code",
   "execution_count": null,
   "id": "904cc1b9",
   "metadata": {},
   "outputs": [],
   "source": []
  },
  {
   "cell_type": "code",
   "execution_count": null,
   "id": "ab48fe57",
   "metadata": {},
   "outputs": [],
   "source": []
  },
  {
   "cell_type": "code",
   "execution_count": null,
   "id": "ea548cb4",
   "metadata": {},
   "outputs": [],
   "source": []
  },
  {
   "cell_type": "code",
   "execution_count": null,
   "id": "9b48f9b9",
   "metadata": {},
   "outputs": [],
   "source": []
  },
  {
   "cell_type": "code",
   "execution_count": null,
   "id": "53317d33",
   "metadata": {},
   "outputs": [],
   "source": []
  },
  {
   "cell_type": "code",
   "execution_count": null,
   "id": "40e0f0c2",
   "metadata": {},
   "outputs": [],
   "source": []
  },
  {
   "cell_type": "code",
   "execution_count": null,
   "id": "96fd637b",
   "metadata": {},
   "outputs": [],
   "source": []
  },
  {
   "cell_type": "code",
   "execution_count": null,
   "id": "64359053",
   "metadata": {},
   "outputs": [],
   "source": []
  },
  {
   "cell_type": "code",
   "execution_count": null,
   "id": "299d5295",
   "metadata": {},
   "outputs": [],
   "source": []
  },
  {
   "cell_type": "code",
   "execution_count": null,
   "id": "0805d5dc",
   "metadata": {},
   "outputs": [],
   "source": []
  },
  {
   "cell_type": "code",
   "execution_count": null,
   "id": "1c5a08ff",
   "metadata": {},
   "outputs": [],
   "source": []
  },
  {
   "cell_type": "code",
   "execution_count": null,
   "id": "91c090d2",
   "metadata": {},
   "outputs": [],
   "source": []
  },
  {
   "cell_type": "code",
   "execution_count": null,
   "id": "6d9f30ea",
   "metadata": {},
   "outputs": [],
   "source": []
  },
  {
   "cell_type": "code",
   "execution_count": null,
   "id": "55418993",
   "metadata": {},
   "outputs": [],
   "source": []
  },
  {
   "cell_type": "code",
   "execution_count": null,
   "id": "7a45886b",
   "metadata": {},
   "outputs": [],
   "source": []
  },
  {
   "cell_type": "code",
   "execution_count": null,
   "id": "6bdd9060",
   "metadata": {},
   "outputs": [],
   "source": []
  },
  {
   "cell_type": "code",
   "execution_count": null,
   "id": "4df9cd8f",
   "metadata": {},
   "outputs": [],
   "source": []
  },
  {
   "cell_type": "code",
   "execution_count": null,
   "id": "d0c058a7",
   "metadata": {},
   "outputs": [],
   "source": []
  },
  {
   "cell_type": "code",
   "execution_count": null,
   "id": "05c07f4a",
   "metadata": {},
   "outputs": [],
   "source": []
  },
  {
   "cell_type": "code",
   "execution_count": null,
   "id": "13f2a78f",
   "metadata": {},
   "outputs": [],
   "source": []
  },
  {
   "cell_type": "code",
   "execution_count": null,
   "id": "9def5123",
   "metadata": {},
   "outputs": [],
   "source": []
  },
  {
   "cell_type": "code",
   "execution_count": null,
   "id": "805d29b2",
   "metadata": {},
   "outputs": [],
   "source": []
  },
  {
   "cell_type": "code",
   "execution_count": null,
   "id": "520d56c6",
   "metadata": {},
   "outputs": [],
   "source": []
  },
  {
   "cell_type": "code",
   "execution_count": null,
   "id": "809a2e1c",
   "metadata": {},
   "outputs": [],
   "source": []
  },
  {
   "cell_type": "code",
   "execution_count": null,
   "id": "b019aaa2",
   "metadata": {},
   "outputs": [],
   "source": []
  },
  {
   "cell_type": "code",
   "execution_count": null,
   "id": "09db974a",
   "metadata": {},
   "outputs": [],
   "source": []
  },
  {
   "cell_type": "code",
   "execution_count": null,
   "id": "56bc4a75",
   "metadata": {},
   "outputs": [],
   "source": []
  },
  {
   "cell_type": "code",
   "execution_count": null,
   "id": "ee53e243",
   "metadata": {},
   "outputs": [],
   "source": []
  },
  {
   "cell_type": "code",
   "execution_count": null,
   "id": "237bad42",
   "metadata": {},
   "outputs": [],
   "source": []
  },
  {
   "cell_type": "code",
   "execution_count": null,
   "id": "73d52d6b",
   "metadata": {},
   "outputs": [],
   "source": []
  },
  {
   "cell_type": "code",
   "execution_count": null,
   "id": "4aed96f6",
   "metadata": {},
   "outputs": [],
   "source": []
  },
  {
   "cell_type": "code",
   "execution_count": null,
   "id": "ffbe452f",
   "metadata": {},
   "outputs": [],
   "source": []
  },
  {
   "cell_type": "code",
   "execution_count": null,
   "id": "3f9c74bf",
   "metadata": {},
   "outputs": [],
   "source": []
  },
  {
   "cell_type": "code",
   "execution_count": null,
   "id": "ad464064",
   "metadata": {},
   "outputs": [],
   "source": []
  },
  {
   "cell_type": "code",
   "execution_count": null,
   "id": "445a7d27",
   "metadata": {},
   "outputs": [],
   "source": []
  },
  {
   "cell_type": "code",
   "execution_count": null,
   "id": "c82eb6e1",
   "metadata": {},
   "outputs": [],
   "source": []
  },
  {
   "cell_type": "code",
   "execution_count": null,
   "id": "3bbdb2a1",
   "metadata": {},
   "outputs": [],
   "source": []
  },
  {
   "cell_type": "code",
   "execution_count": 302,
   "id": "6c815f8b",
   "metadata": {},
   "outputs": [
    {
     "name": "stdout",
     "output_type": "stream",
     "text": [
      "output.pdf\n",
      "\n",
      "facebook.pdf\n",
      "\n",
      "tgo_ul_fds_ev319ky_raw.pdf\n",
      "\n",
      "math_12.pdf\n",
      "\n",
      "sagvfVpk.pdf\n",
      "\n",
      "Untitled.pdf\n",
      "\n"
     ]
    }
   ],
   "source": []
  },
  {
   "cell_type": "code",
   "execution_count": null,
   "id": "8e3ae0a5",
   "metadata": {},
   "outputs": [],
   "source": []
  },
  {
   "cell_type": "code",
   "execution_count": null,
   "id": "b605303c",
   "metadata": {},
   "outputs": [],
   "source": []
  },
  {
   "cell_type": "code",
   "execution_count": null,
   "id": "712abd71",
   "metadata": {},
   "outputs": [],
   "source": []
  },
  {
   "cell_type": "code",
   "execution_count": null,
   "id": "c768a103",
   "metadata": {},
   "outputs": [],
   "source": []
  },
  {
   "cell_type": "code",
   "execution_count": null,
   "id": "1b3197df",
   "metadata": {},
   "outputs": [],
   "source": []
  },
  {
   "cell_type": "code",
   "execution_count": null,
   "id": "e665c39c",
   "metadata": {},
   "outputs": [],
   "source": []
  },
  {
   "cell_type": "code",
   "execution_count": null,
   "id": "9c3bf87d",
   "metadata": {},
   "outputs": [],
   "source": []
  },
  {
   "cell_type": "code",
   "execution_count": null,
   "id": "f7c11c4d",
   "metadata": {},
   "outputs": [],
   "source": []
  },
  {
   "cell_type": "code",
   "execution_count": null,
   "id": "2d152e03",
   "metadata": {},
   "outputs": [],
   "source": []
  },
  {
   "cell_type": "code",
   "execution_count": null,
   "id": "ed65daef",
   "metadata": {},
   "outputs": [],
   "source": []
  },
  {
   "cell_type": "code",
   "execution_count": null,
   "id": "b908489e",
   "metadata": {},
   "outputs": [],
   "source": []
  },
  {
   "cell_type": "code",
   "execution_count": null,
   "id": "23f7a501",
   "metadata": {},
   "outputs": [],
   "source": []
  },
  {
   "cell_type": "code",
   "execution_count": null,
   "id": "72c295f2",
   "metadata": {},
   "outputs": [],
   "source": []
  },
  {
   "cell_type": "code",
   "execution_count": null,
   "id": "480a6c04",
   "metadata": {},
   "outputs": [],
   "source": []
  },
  {
   "cell_type": "code",
   "execution_count": null,
   "id": "e750fc03",
   "metadata": {},
   "outputs": [],
   "source": []
  },
  {
   "cell_type": "code",
   "execution_count": null,
   "id": "09e54b81",
   "metadata": {},
   "outputs": [],
   "source": []
  },
  {
   "cell_type": "code",
   "execution_count": null,
   "id": "3b17d845",
   "metadata": {},
   "outputs": [],
   "source": []
  },
  {
   "cell_type": "code",
   "execution_count": null,
   "id": "e0d1adf7",
   "metadata": {},
   "outputs": [],
   "source": []
  },
  {
   "cell_type": "code",
   "execution_count": null,
   "id": "bf717021",
   "metadata": {},
   "outputs": [],
   "source": []
  },
  {
   "cell_type": "code",
   "execution_count": null,
   "id": "af4e99e5",
   "metadata": {},
   "outputs": [],
   "source": [
    "for output in outputs:\n",
    "    option = output.find_element(By.XPATH, \"//button[@class='item-button']\")\n",
    "    file_name = output.find_element(By.XPATH, \"//div[@class='text-ellipsis whitespace-nowrap overflow-hidden']\")#.text()\n",
    "    \n",
    "    #ActionChains(output).move_to_element(option).click().perform()\n",
    "    print(file_name.text)\n",
    "    \"\"\"try:\n",
    "        option.click()\n",
    "    except:\n",
    "        \"\"\"\"\"\n",
    "    \n",
    "    \"\"\"convert_panel = browser.find_element(By.XPATH, \"//ul[@class='popover-content']\")\n",
    "    docx_butt = convert_panel.find_elements(By.XPATH, \"//li[@class='w-full flex justify-between popover-content-item w-40 ']\")[2]\n",
    "    docx_butt.click()\"\"\""
   ]
  },
  {
   "cell_type": "code",
   "execution_count": null,
   "id": "4b44b343",
   "metadata": {},
   "outputs": [],
   "source": []
  },
  {
   "cell_type": "code",
   "execution_count": null,
   "id": "ba6ae2ca",
   "metadata": {},
   "outputs": [],
   "source": []
  },
  {
   "cell_type": "code",
   "execution_count": null,
   "id": "13321954",
   "metadata": {},
   "outputs": [],
   "source": []
  },
  {
   "cell_type": "code",
   "execution_count": null,
   "id": "ffed0e8f",
   "metadata": {},
   "outputs": [],
   "source": []
  },
  {
   "cell_type": "code",
   "execution_count": null,
   "id": "6108472c",
   "metadata": {},
   "outputs": [],
   "source": []
  },
  {
   "cell_type": "code",
   "execution_count": null,
   "id": "b97f56f5",
   "metadata": {},
   "outputs": [],
   "source": []
  },
  {
   "cell_type": "code",
   "execution_count": null,
   "id": "c6928c7c",
   "metadata": {},
   "outputs": [],
   "source": []
  },
  {
   "cell_type": "code",
   "execution_count": null,
   "id": "20a4b80d",
   "metadata": {},
   "outputs": [],
   "source": []
  },
  {
   "cell_type": "code",
   "execution_count": null,
   "id": "b0296e21",
   "metadata": {},
   "outputs": [],
   "source": []
  },
  {
   "cell_type": "code",
   "execution_count": null,
   "id": "68e57a18",
   "metadata": {},
   "outputs": [],
   "source": []
  },
  {
   "cell_type": "code",
   "execution_count": null,
   "id": "6b38bb4b",
   "metadata": {},
   "outputs": [],
   "source": []
  },
  {
   "cell_type": "code",
   "execution_count": null,
   "id": "e1875563",
   "metadata": {},
   "outputs": [],
   "source": []
  },
  {
   "cell_type": "code",
   "execution_count": null,
   "id": "47ab284f",
   "metadata": {},
   "outputs": [],
   "source": []
  },
  {
   "cell_type": "code",
   "execution_count": null,
   "id": "c9f899d8",
   "metadata": {},
   "outputs": [],
   "source": []
  },
  {
   "cell_type": "code",
   "execution_count": 199,
   "id": "01ba5b9d",
   "metadata": {},
   "outputs": [
    {
     "name": "stdout",
     "output_type": "stream",
     "text": [
      "new.pdf\n",
      "new.pdf\n",
      "new.pdf\n",
      "new.pdf\n",
      "new.pdf\n",
      "new.pdf\n",
      "new.pdf\n"
     ]
    }
   ],
   "source": []
  },
  {
   "cell_type": "code",
   "execution_count": null,
   "id": "4dc4d62a",
   "metadata": {},
   "outputs": [],
   "source": []
  },
  {
   "cell_type": "code",
   "execution_count": null,
   "id": "e6d3d055",
   "metadata": {},
   "outputs": [],
   "source": []
  },
  {
   "cell_type": "code",
   "execution_count": null,
   "id": "4efc7017",
   "metadata": {},
   "outputs": [],
   "source": []
  },
  {
   "cell_type": "code",
   "execution_count": null,
   "id": "830cbb06",
   "metadata": {},
   "outputs": [],
   "source": []
  },
  {
   "cell_type": "code",
   "execution_count": null,
   "id": "0503c7a7",
   "metadata": {},
   "outputs": [],
   "source": []
  },
  {
   "cell_type": "code",
   "execution_count": null,
   "id": "1237da88",
   "metadata": {},
   "outputs": [],
   "source": []
  },
  {
   "cell_type": "code",
   "execution_count": null,
   "id": "32769bf7",
   "metadata": {},
   "outputs": [],
   "source": []
  },
  {
   "cell_type": "code",
   "execution_count": null,
   "id": "8996f877",
   "metadata": {},
   "outputs": [],
   "source": []
  },
  {
   "cell_type": "code",
   "execution_count": null,
   "id": "52a09aea",
   "metadata": {},
   "outputs": [],
   "source": []
  },
  {
   "cell_type": "code",
   "execution_count": null,
   "id": "b28a4a15",
   "metadata": {},
   "outputs": [],
   "source": []
  },
  {
   "cell_type": "code",
   "execution_count": null,
   "id": "b184af1b",
   "metadata": {},
   "outputs": [],
   "source": []
  },
  {
   "cell_type": "code",
   "execution_count": null,
   "id": "5e27a452",
   "metadata": {},
   "outputs": [],
   "source": []
  },
  {
   "cell_type": "code",
   "execution_count": null,
   "id": "fef49608",
   "metadata": {},
   "outputs": [],
   "source": []
  },
  {
   "cell_type": "code",
   "execution_count": null,
   "id": "c8f94532",
   "metadata": {},
   "outputs": [],
   "source": []
  },
  {
   "cell_type": "code",
   "execution_count": null,
   "id": "6c9bc59c",
   "metadata": {},
   "outputs": [],
   "source": []
  },
  {
   "cell_type": "code",
   "execution_count": null,
   "id": "ddf1ecf5",
   "metadata": {},
   "outputs": [],
   "source": []
  },
  {
   "cell_type": "code",
   "execution_count": null,
   "id": "06e8738d",
   "metadata": {},
   "outputs": [],
   "source": []
  },
  {
   "cell_type": "code",
   "execution_count": null,
   "id": "564963e2",
   "metadata": {},
   "outputs": [],
   "source": []
  },
  {
   "cell_type": "code",
   "execution_count": null,
   "id": "e382674d",
   "metadata": {},
   "outputs": [],
   "source": []
  },
  {
   "cell_type": "code",
   "execution_count": null,
   "id": "d605c553",
   "metadata": {},
   "outputs": [],
   "source": []
  },
  {
   "cell_type": "code",
   "execution_count": null,
   "id": "a6108ab5",
   "metadata": {},
   "outputs": [],
   "source": []
  },
  {
   "cell_type": "code",
   "execution_count": null,
   "id": "c7062a8f",
   "metadata": {},
   "outputs": [],
   "source": []
  },
  {
   "cell_type": "code",
   "execution_count": null,
   "id": "43bc6155",
   "metadata": {},
   "outputs": [],
   "source": []
  },
  {
   "cell_type": "code",
   "execution_count": null,
   "id": "9d26b652",
   "metadata": {},
   "outputs": [],
   "source": []
  },
  {
   "cell_type": "code",
   "execution_count": null,
   "id": "b8d5febd",
   "metadata": {},
   "outputs": [],
   "source": []
  },
  {
   "cell_type": "code",
   "execution_count": null,
   "id": "9b9f438e",
   "metadata": {},
   "outputs": [],
   "source": []
  },
  {
   "cell_type": "code",
   "execution_count": null,
   "id": "89470b63",
   "metadata": {},
   "outputs": [],
   "source": []
  },
  {
   "cell_type": "code",
   "execution_count": null,
   "id": "6d18994c",
   "metadata": {},
   "outputs": [],
   "source": []
  },
  {
   "cell_type": "code",
   "execution_count": null,
   "id": "143e9abb",
   "metadata": {},
   "outputs": [],
   "source": []
  },
  {
   "cell_type": "code",
   "execution_count": null,
   "id": "74924c7c",
   "metadata": {},
   "outputs": [],
   "source": []
  },
  {
   "cell_type": "code",
   "execution_count": null,
   "id": "2ebdf093",
   "metadata": {},
   "outputs": [],
   "source": []
  },
  {
   "cell_type": "code",
   "execution_count": null,
   "id": "b900c991",
   "metadata": {},
   "outputs": [],
   "source": []
  },
  {
   "cell_type": "code",
   "execution_count": null,
   "id": "e6a0baf0",
   "metadata": {},
   "outputs": [],
   "source": []
  },
  {
   "cell_type": "code",
   "execution_count": null,
   "id": "30679658",
   "metadata": {},
   "outputs": [],
   "source": []
  },
  {
   "cell_type": "code",
   "execution_count": null,
   "id": "dacfa141",
   "metadata": {},
   "outputs": [],
   "source": []
  },
  {
   "cell_type": "code",
   "execution_count": null,
   "id": "013b055a",
   "metadata": {},
   "outputs": [],
   "source": []
  },
  {
   "cell_type": "code",
   "execution_count": null,
   "id": "53fc7adf",
   "metadata": {},
   "outputs": [],
   "source": []
  },
  {
   "cell_type": "code",
   "execution_count": null,
   "id": "f417d8f0",
   "metadata": {},
   "outputs": [],
   "source": []
  },
  {
   "cell_type": "code",
   "execution_count": null,
   "id": "e5dc9e41",
   "metadata": {},
   "outputs": [],
   "source": []
  },
  {
   "cell_type": "code",
   "execution_count": null,
   "id": "1b09cd33",
   "metadata": {},
   "outputs": [],
   "source": []
  },
  {
   "cell_type": "code",
   "execution_count": null,
   "id": "4db78f1d",
   "metadata": {},
   "outputs": [],
   "source": []
  },
  {
   "cell_type": "code",
   "execution_count": null,
   "id": "6e7b132a",
   "metadata": {},
   "outputs": [],
   "source": []
  },
  {
   "cell_type": "code",
   "execution_count": null,
   "id": "98cfb9c4",
   "metadata": {},
   "outputs": [],
   "source": [
    "#Delete old files"
   ]
  },
  {
   "cell_type": "code",
   "execution_count": null,
   "id": "13c0c8d0",
   "metadata": {},
   "outputs": [],
   "source": []
  },
  {
   "cell_type": "code",
   "execution_count": null,
   "id": "ec72efd8",
   "metadata": {},
   "outputs": [],
   "source": []
  },
  {
   "cell_type": "code",
   "execution_count": null,
   "id": "aef452c1",
   "metadata": {},
   "outputs": [],
   "source": []
  },
  {
   "cell_type": "code",
   "execution_count": null,
   "id": "817346eb",
   "metadata": {},
   "outputs": [],
   "source": []
  },
  {
   "cell_type": "code",
   "execution_count": null,
   "id": "05852e1b",
   "metadata": {},
   "outputs": [],
   "source": []
  },
  {
   "cell_type": "code",
   "execution_count": null,
   "id": "d92edca6",
   "metadata": {},
   "outputs": [],
   "source": []
  },
  {
   "cell_type": "code",
   "execution_count": null,
   "id": "cc38afda",
   "metadata": {},
   "outputs": [],
   "source": []
  },
  {
   "cell_type": "code",
   "execution_count": 127,
   "id": "9ff16e0d",
   "metadata": {},
   "outputs": [],
   "source": []
  },
  {
   "cell_type": "code",
   "execution_count": null,
   "id": "9ec57e7a",
   "metadata": {},
   "outputs": [],
   "source": []
  },
  {
   "cell_type": "code",
   "execution_count": null,
   "id": "f3bd042c",
   "metadata": {},
   "outputs": [],
   "source": []
  },
  {
   "cell_type": "code",
   "execution_count": null,
   "id": "32e9abff",
   "metadata": {},
   "outputs": [],
   "source": []
  },
  {
   "cell_type": "code",
   "execution_count": null,
   "id": "265b6349",
   "metadata": {},
   "outputs": [],
   "source": []
  },
  {
   "cell_type": "code",
   "execution_count": null,
   "id": "361ba23b",
   "metadata": {},
   "outputs": [],
   "source": []
  },
  {
   "cell_type": "code",
   "execution_count": null,
   "id": "77e0ba7b",
   "metadata": {},
   "outputs": [],
   "source": []
  },
  {
   "cell_type": "code",
   "execution_count": null,
   "id": "1f832587",
   "metadata": {},
   "outputs": [],
   "source": []
  },
  {
   "cell_type": "code",
   "execution_count": null,
   "id": "db456e50",
   "metadata": {},
   "outputs": [],
   "source": []
  },
  {
   "cell_type": "code",
   "execution_count": null,
   "id": "3de73f6a",
   "metadata": {},
   "outputs": [],
   "source": []
  },
  {
   "cell_type": "code",
   "execution_count": null,
   "id": "2956c949",
   "metadata": {},
   "outputs": [],
   "source": []
  },
  {
   "cell_type": "code",
   "execution_count": null,
   "id": "9d0d5c8c",
   "metadata": {},
   "outputs": [],
   "source": []
  },
  {
   "cell_type": "code",
   "execution_count": null,
   "id": "2d074242",
   "metadata": {},
   "outputs": [],
   "source": [
    "email = \n",
    "print(email.text)\n",
    "email.send_keys(user_email)\n",
    "password = browser.find_element_by_class_name('df-card__main')\n",
    "password.send_keys(user_password)\n",
    "\n",
    "button = browser.find_element_by_class_name('btn_l1_quaternary')\n",
    "button.click()"
   ]
  },
  {
   "cell_type": "code",
   "execution_count": null,
   "id": "293ff738",
   "metadata": {},
   "outputs": [],
   "source": []
  },
  {
   "cell_type": "code",
   "execution_count": null,
   "id": "819cf902",
   "metadata": {},
   "outputs": [],
   "source": []
  },
  {
   "cell_type": "code",
   "execution_count": null,
   "id": "d459646d",
   "metadata": {},
   "outputs": [],
   "source": []
  },
  {
   "cell_type": "code",
   "execution_count": null,
   "id": "5ed0137a",
   "metadata": {},
   "outputs": [],
   "source": []
  },
  {
   "cell_type": "code",
   "execution_count": null,
   "id": "22908071",
   "metadata": {},
   "outputs": [],
   "source": []
  },
  {
   "cell_type": "code",
   "execution_count": null,
   "id": "9e60f262",
   "metadata": {},
   "outputs": [],
   "source": []
  },
  {
   "cell_type": "code",
   "execution_count": null,
   "id": "e6b74c34",
   "metadata": {},
   "outputs": [],
   "source": []
  },
  {
   "cell_type": "code",
   "execution_count": null,
   "id": "19d9562b",
   "metadata": {},
   "outputs": [],
   "source": []
  },
  {
   "cell_type": "code",
   "execution_count": null,
   "id": "c59901ce",
   "metadata": {},
   "outputs": [],
   "source": []
  },
  {
   "cell_type": "code",
   "execution_count": null,
   "id": "e0a84a3a",
   "metadata": {},
   "outputs": [],
   "source": []
  },
  {
   "cell_type": "code",
   "execution_count": null,
   "id": "01205faa",
   "metadata": {},
   "outputs": [],
   "source": []
  },
  {
   "cell_type": "code",
   "execution_count": null,
   "id": "dcedc51e",
   "metadata": {},
   "outputs": [],
   "source": []
  },
  {
   "cell_type": "code",
   "execution_count": null,
   "id": "2b790e61",
   "metadata": {},
   "outputs": [],
   "source": []
  },
  {
   "cell_type": "code",
   "execution_count": null,
   "id": "b96a17cb",
   "metadata": {},
   "outputs": [],
   "source": [
    "\n"
   ]
  },
  {
   "cell_type": "code",
   "execution_count": null,
   "id": "381c575d",
   "metadata": {},
   "outputs": [],
   "source": []
  },
  {
   "cell_type": "code",
   "execution_count": null,
   "id": "e880c911",
   "metadata": {},
   "outputs": [],
   "source": []
  },
  {
   "cell_type": "code",
   "execution_count": null,
   "id": "bee651b8",
   "metadata": {},
   "outputs": [],
   "source": []
  },
  {
   "cell_type": "code",
   "execution_count": null,
   "id": "07fd2f1c",
   "metadata": {},
   "outputs": [],
   "source": []
  },
  {
   "cell_type": "code",
   "execution_count": null,
   "id": "3383a2ea",
   "metadata": {},
   "outputs": [],
   "source": []
  },
  {
   "cell_type": "code",
   "execution_count": null,
   "id": "d37e3ac8",
   "metadata": {},
   "outputs": [],
   "source": []
  },
  {
   "cell_type": "code",
   "execution_count": null,
   "id": "8c087797",
   "metadata": {},
   "outputs": [],
   "source": []
  },
  {
   "cell_type": "code",
   "execution_count": null,
   "id": "72d7511c",
   "metadata": {},
   "outputs": [],
   "source": []
  },
  {
   "cell_type": "code",
   "execution_count": null,
   "id": "b51e0d25",
   "metadata": {},
   "outputs": [],
   "source": []
  },
  {
   "cell_type": "code",
   "execution_count": null,
   "id": "3637025a",
   "metadata": {},
   "outputs": [],
   "source": []
  },
  {
   "cell_type": "code",
   "execution_count": null,
   "id": "3f61ad57",
   "metadata": {},
   "outputs": [],
   "source": []
  },
  {
   "cell_type": "code",
   "execution_count": null,
   "id": "be1c5f59",
   "metadata": {},
   "outputs": [],
   "source": []
  },
  {
   "cell_type": "code",
   "execution_count": null,
   "id": "6eb3ed5c",
   "metadata": {},
   "outputs": [],
   "source": []
  },
  {
   "cell_type": "code",
   "execution_count": null,
   "id": "f16f8245",
   "metadata": {},
   "outputs": [],
   "source": []
  },
  {
   "cell_type": "code",
   "execution_count": null,
   "id": "efe2142e",
   "metadata": {},
   "outputs": [],
   "source": []
  },
  {
   "cell_type": "code",
   "execution_count": null,
   "id": "43792e83",
   "metadata": {},
   "outputs": [],
   "source": []
  },
  {
   "cell_type": "code",
   "execution_count": null,
   "id": "9f19ddb2",
   "metadata": {},
   "outputs": [],
   "source": []
  },
  {
   "cell_type": "code",
   "execution_count": null,
   "id": "e6e9e7fc",
   "metadata": {},
   "outputs": [],
   "source": []
  },
  {
   "cell_type": "code",
   "execution_count": null,
   "id": "cd5cdf58",
   "metadata": {},
   "outputs": [],
   "source": []
  },
  {
   "cell_type": "code",
   "execution_count": null,
   "id": "d1eba90c",
   "metadata": {},
   "outputs": [],
   "source": []
  },
  {
   "cell_type": "code",
   "execution_count": null,
   "id": "81921f32",
   "metadata": {},
   "outputs": [],
   "source": []
  },
  {
   "cell_type": "code",
   "execution_count": null,
   "id": "f331bbd8",
   "metadata": {},
   "outputs": [],
   "source": []
  },
  {
   "cell_type": "code",
   "execution_count": null,
   "id": "38152883",
   "metadata": {},
   "outputs": [],
   "source": []
  },
  {
   "cell_type": "code",
   "execution_count": null,
   "id": "9cd27051",
   "metadata": {},
   "outputs": [],
   "source": []
  },
  {
   "cell_type": "code",
   "execution_count": null,
   "id": "f2f64ceb",
   "metadata": {},
   "outputs": [],
   "source": []
  },
  {
   "cell_type": "code",
   "execution_count": null,
   "id": "f6f0358a",
   "metadata": {},
   "outputs": [],
   "source": []
  },
  {
   "cell_type": "code",
   "execution_count": null,
   "id": "80372a9d",
   "metadata": {},
   "outputs": [],
   "source": []
  },
  {
   "cell_type": "code",
   "execution_count": null,
   "id": "6eb94e5c",
   "metadata": {},
   "outputs": [],
   "source": []
  },
  {
   "cell_type": "code",
   "execution_count": null,
   "id": "5b717efe",
   "metadata": {},
   "outputs": [],
   "source": []
  },
  {
   "cell_type": "code",
   "execution_count": null,
   "id": "0a6a22d4",
   "metadata": {},
   "outputs": [],
   "source": []
  },
  {
   "cell_type": "code",
   "execution_count": null,
   "id": "5627d9c8",
   "metadata": {},
   "outputs": [],
   "source": []
  },
  {
   "cell_type": "code",
   "execution_count": null,
   "id": "433b751c",
   "metadata": {},
   "outputs": [],
   "source": []
  },
  {
   "cell_type": "code",
   "execution_count": null,
   "id": "6dde88a1",
   "metadata": {},
   "outputs": [],
   "source": []
  },
  {
   "cell_type": "code",
   "execution_count": null,
   "id": "60c770bf",
   "metadata": {},
   "outputs": [],
   "source": []
  },
  {
   "cell_type": "code",
   "execution_count": null,
   "id": "73acc65e",
   "metadata": {},
   "outputs": [],
   "source": []
  },
  {
   "cell_type": "code",
   "execution_count": null,
   "id": "502bc43b",
   "metadata": {},
   "outputs": [],
   "source": []
  },
  {
   "cell_type": "code",
   "execution_count": null,
   "id": "9698c0e3",
   "metadata": {},
   "outputs": [],
   "source": []
  },
  {
   "cell_type": "code",
   "execution_count": null,
   "id": "f731fc3e",
   "metadata": {},
   "outputs": [],
   "source": []
  },
  {
   "cell_type": "code",
   "execution_count": null,
   "id": "f8ab42f1",
   "metadata": {},
   "outputs": [],
   "source": []
  },
  {
   "cell_type": "code",
   "execution_count": null,
   "id": "e4cb22f2",
   "metadata": {},
   "outputs": [],
   "source": []
  },
  {
   "cell_type": "code",
   "execution_count": null,
   "id": "c68201a9",
   "metadata": {},
   "outputs": [],
   "source": []
  },
  {
   "cell_type": "code",
   "execution_count": null,
   "id": "683b2454",
   "metadata": {},
   "outputs": [],
   "source": []
  },
  {
   "cell_type": "code",
   "execution_count": null,
   "id": "9c49267d",
   "metadata": {},
   "outputs": [],
   "source": []
  },
  {
   "cell_type": "code",
   "execution_count": null,
   "id": "ada2e690",
   "metadata": {},
   "outputs": [],
   "source": []
  },
  {
   "cell_type": "code",
   "execution_count": null,
   "id": "965e49c1",
   "metadata": {},
   "outputs": [],
   "source": []
  },
  {
   "cell_type": "code",
   "execution_count": null,
   "id": "0b0f9329",
   "metadata": {},
   "outputs": [],
   "source": []
  },
  {
   "cell_type": "code",
   "execution_count": null,
   "id": "038d2483",
   "metadata": {},
   "outputs": [],
   "source": []
  },
  {
   "cell_type": "code",
   "execution_count": null,
   "id": "cd03ec21",
   "metadata": {},
   "outputs": [],
   "source": []
  },
  {
   "cell_type": "code",
   "execution_count": null,
   "id": "dfcfa21d",
   "metadata": {},
   "outputs": [],
   "source": []
  },
  {
   "cell_type": "code",
   "execution_count": null,
   "id": "e30ab15d",
   "metadata": {},
   "outputs": [],
   "source": []
  },
  {
   "cell_type": "code",
   "execution_count": null,
   "id": "2510e5c8",
   "metadata": {},
   "outputs": [],
   "source": []
  },
  {
   "cell_type": "code",
   "execution_count": null,
   "id": "0cb0e8ca",
   "metadata": {},
   "outputs": [],
   "source": []
  },
  {
   "cell_type": "code",
   "execution_count": null,
   "id": "3e241a99",
   "metadata": {},
   "outputs": [],
   "source": []
  },
  {
   "cell_type": "code",
   "execution_count": null,
   "id": "cda3418d",
   "metadata": {},
   "outputs": [],
   "source": []
  },
  {
   "cell_type": "code",
   "execution_count": null,
   "id": "050731ab",
   "metadata": {},
   "outputs": [],
   "source": []
  },
  {
   "cell_type": "code",
   "execution_count": null,
   "id": "671ee5fa",
   "metadata": {},
   "outputs": [],
   "source": [
    "\n"
   ]
  },
  {
   "cell_type": "code",
   "execution_count": null,
   "id": "982e6268",
   "metadata": {},
   "outputs": [],
   "source": []
  },
  {
   "cell_type": "code",
   "execution_count": null,
   "id": "4d338689",
   "metadata": {},
   "outputs": [],
   "source": []
  },
  {
   "cell_type": "code",
   "execution_count": null,
   "id": "7334c199",
   "metadata": {},
   "outputs": [],
   "source": []
  },
  {
   "cell_type": "code",
   "execution_count": null,
   "id": "75bbce5a",
   "metadata": {},
   "outputs": [],
   "source": []
  },
  {
   "cell_type": "code",
   "execution_count": null,
   "id": "fd81c1d5",
   "metadata": {},
   "outputs": [],
   "source": []
  },
  {
   "cell_type": "code",
   "execution_count": null,
   "id": "7a942a3b",
   "metadata": {},
   "outputs": [],
   "source": []
  },
  {
   "cell_type": "code",
   "execution_count": null,
   "id": "443959a2",
   "metadata": {},
   "outputs": [],
   "source": []
  },
  {
   "cell_type": "code",
   "execution_count": null,
   "id": "39ec2adb",
   "metadata": {},
   "outputs": [],
   "source": []
  },
  {
   "cell_type": "code",
   "execution_count": null,
   "id": "ce42ac2e",
   "metadata": {},
   "outputs": [],
   "source": []
  },
  {
   "cell_type": "code",
   "execution_count": null,
   "id": "32decf83",
   "metadata": {},
   "outputs": [],
   "source": []
  },
  {
   "cell_type": "code",
   "execution_count": null,
   "id": "e2c56782",
   "metadata": {},
   "outputs": [],
   "source": []
  },
  {
   "cell_type": "code",
   "execution_count": null,
   "id": "5a050ebe",
   "metadata": {},
   "outputs": [],
   "source": []
  },
  {
   "cell_type": "code",
   "execution_count": null,
   "id": "57a61af4",
   "metadata": {},
   "outputs": [],
   "source": []
  },
  {
   "cell_type": "code",
   "execution_count": null,
   "id": "c0372427",
   "metadata": {},
   "outputs": [],
   "source": []
  },
  {
   "cell_type": "code",
   "execution_count": null,
   "id": "bf26d659",
   "metadata": {},
   "outputs": [],
   "source": []
  },
  {
   "cell_type": "code",
   "execution_count": null,
   "id": "c6cad8a1",
   "metadata": {},
   "outputs": [],
   "source": []
  },
  {
   "cell_type": "code",
   "execution_count": null,
   "id": "453e3259",
   "metadata": {},
   "outputs": [],
   "source": []
  },
  {
   "cell_type": "code",
   "execution_count": null,
   "id": "3f7a6379",
   "metadata": {},
   "outputs": [],
   "source": []
  },
  {
   "cell_type": "code",
   "execution_count": null,
   "id": "a2298409",
   "metadata": {},
   "outputs": [],
   "source": []
  },
  {
   "cell_type": "code",
   "execution_count": null,
   "id": "5af1a18f",
   "metadata": {},
   "outputs": [],
   "source": []
  },
  {
   "cell_type": "code",
   "execution_count": null,
   "id": "3593d0e5",
   "metadata": {},
   "outputs": [],
   "source": []
  },
  {
   "cell_type": "code",
   "execution_count": null,
   "id": "d53261e9",
   "metadata": {},
   "outputs": [],
   "source": []
  },
  {
   "cell_type": "code",
   "execution_count": null,
   "id": "5ed0818e",
   "metadata": {},
   "outputs": [],
   "source": []
  },
  {
   "cell_type": "code",
   "execution_count": null,
   "id": "b67c69a4",
   "metadata": {},
   "outputs": [],
   "source": []
  },
  {
   "cell_type": "code",
   "execution_count": null,
   "id": "92121a56",
   "metadata": {},
   "outputs": [],
   "source": []
  },
  {
   "cell_type": "code",
   "execution_count": null,
   "id": "4c9413e8",
   "metadata": {},
   "outputs": [],
   "source": []
  },
  {
   "cell_type": "code",
   "execution_count": null,
   "id": "78003da7",
   "metadata": {},
   "outputs": [],
   "source": []
  },
  {
   "cell_type": "code",
   "execution_count": null,
   "id": "ca569866",
   "metadata": {},
   "outputs": [],
   "source": []
  },
  {
   "cell_type": "code",
   "execution_count": null,
   "id": "d6caf04c",
   "metadata": {},
   "outputs": [],
   "source": []
  },
  {
   "cell_type": "code",
   "execution_count": null,
   "id": "8d17e46c",
   "metadata": {},
   "outputs": [],
   "source": []
  },
  {
   "cell_type": "code",
   "execution_count": null,
   "id": "2845e2a0",
   "metadata": {},
   "outputs": [],
   "source": []
  },
  {
   "cell_type": "code",
   "execution_count": null,
   "id": "0ce5889a",
   "metadata": {},
   "outputs": [],
   "source": []
  },
  {
   "cell_type": "code",
   "execution_count": null,
   "id": "e5c9eede",
   "metadata": {},
   "outputs": [],
   "source": []
  },
  {
   "cell_type": "code",
   "execution_count": null,
   "id": "64de58f5",
   "metadata": {},
   "outputs": [],
   "source": []
  },
  {
   "cell_type": "code",
   "execution_count": null,
   "id": "aee4e847",
   "metadata": {},
   "outputs": [],
   "source": []
  },
  {
   "cell_type": "code",
   "execution_count": null,
   "id": "de647b80",
   "metadata": {},
   "outputs": [],
   "source": []
  },
  {
   "cell_type": "code",
   "execution_count": null,
   "id": "d6d1fbdf",
   "metadata": {},
   "outputs": [],
   "source": []
  },
  {
   "cell_type": "code",
   "execution_count": null,
   "id": "0b2c9aa2",
   "metadata": {},
   "outputs": [],
   "source": []
  },
  {
   "cell_type": "code",
   "execution_count": null,
   "id": "692879d7",
   "metadata": {},
   "outputs": [],
   "source": []
  },
  {
   "cell_type": "code",
   "execution_count": null,
   "id": "586ff2d3",
   "metadata": {},
   "outputs": [],
   "source": []
  },
  {
   "cell_type": "code",
   "execution_count": null,
   "id": "819b0fed",
   "metadata": {},
   "outputs": [],
   "source": []
  },
  {
   "cell_type": "code",
   "execution_count": null,
   "id": "a5ce5a68",
   "metadata": {},
   "outputs": [],
   "source": []
  }
 ],
 "metadata": {
  "kernelspec": {
   "display_name": "pyenv-3.10",
   "language": "python",
   "name": "pyenv-3.10"
  },
  "language_info": {
   "codemirror_mode": {
    "name": "ipython",
    "version": 3
   },
   "file_extension": ".py",
   "mimetype": "text/x-python",
   "name": "python",
   "nbconvert_exporter": "python",
   "pygments_lexer": "ipython3",
   "version": "3.10.6"
  }
 },
 "nbformat": 4,
 "nbformat_minor": 5
}
