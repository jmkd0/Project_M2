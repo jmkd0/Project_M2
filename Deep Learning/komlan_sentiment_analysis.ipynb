{
 "cells": [
  {
   "cell_type": "markdown",
   "id": "d3c4509a",
   "metadata": {
    "id": "d3c4509a"
   },
   "source": [
    "# Analyse de sentiment des clients des vols à partir des tweets"
   ]
  },
  {
   "cell_type": "code",
   "execution_count": 6,
   "id": "0551d306",
   "metadata": {},
   "outputs": [],
   "source": [
    "# Import some librairies\n",
    "import numpy as np\n",
    "import pandas as pd\n",
    "import seaborn as sns\n",
    "import re\n",
    "import torch\n",
    "from matplotlib import pyplot as plt\n",
    "import warnings\n",
    "warnings.simplefilter(action='ignore', category=FutureWarning)"
   ]
  },
  {
   "cell_type": "code",
   "execution_count": 2,
   "id": "3cab0c3f",
   "metadata": {},
   "outputs": [
    {
     "name": "stdout",
     "output_type": "stream",
     "text": [
      "<class 'set'>\n"
     ]
    }
   ],
   "source": [
    "list(map(a))"
   ]
  },
  {
   "cell_type": "code",
   "execution_count": 7,
   "id": "c1dfcc89",
   "metadata": {},
   "outputs": [],
   "source": [
    "import nltk\n",
    "from nltk.tokenize import RegexpTokenizer\n",
    "from nltk.corpus import stopwords\n",
    "from sklearn.preprocessing import LabelEncoder, StandardScaler\n",
    "from sklearn.model_selection import train_test_split"
   ]
  },
  {
   "cell_type": "code",
   "execution_count": 8,
   "id": "75959f4e",
   "metadata": {},
   "outputs": [
    {
     "name": "stdout",
     "output_type": "stream",
     "text": [
      "2.9.2\n",
      "hj\n"
     ]
    }
   ],
   "source": [
    "import tensorflow as tf\n",
    "print(tf.__version__)\n",
    "print(\"hj\")"
   ]
  },
  {
   "cell_type": "code",
   "execution_count": 10,
   "id": "7cbe4513",
   "metadata": {
    "executionInfo": {
     "elapsed": 4379,
     "status": "ok",
     "timestamp": 1653979856851,
     "user": {
      "displayName": "Komlan DANTODJI",
      "userId": "11989658833991652359"
     },
     "user_tz": -120
    },
    "id": "7cbe4513"
   },
   "outputs": [],
   "source": [
    "from keras.preprocessing.text import Tokenizer\n",
    "from keras_preprocessing.sequence import pad_sequences\n",
    "from keras.models import Sequential\n",
    "from keras.layers import Embedding, LSTM, GRU, Conv1D, Flatten, Dense, Dropout, Activation, MaxPooling1D, Normalization\n"
   ]
  },
  {
   "cell_type": "code",
   "execution_count": 2,
   "id": "ab829f3c",
   "metadata": {
    "executionInfo": {
     "elapsed": 236,
     "status": "ok",
     "timestamp": 1653950776664,
     "user": {
      "displayName": "Komlan DANTODJI",
      "userId": "11989658833991652359"
     },
     "user_tz": -120
    },
    "id": "ab829f3c"
   },
   "outputs": [],
   "source": [
    "#Source de la donnée\n",
    "#https://www.kaggle.com/crowdflower/twitter-airline-sentiment?select=Tweets.csv"
   ]
  },
  {
   "cell_type": "code",
   "execution_count": null,
   "id": "13f0924b",
   "metadata": {
    "colab": {
     "base_uri": "https://localhost:8080/",
     "height": 74,
     "resources": {
      "http://localhost:8080/nbextensions/google.colab/files.js": {
       "data": "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",
       "headers": [
        [
         "content-type",
         "application/javascript"
        ]
       ],
       "ok": true,
       "status": 200,
       "status_text": ""
      }
     }
    },
    "executionInfo": {
     "elapsed": 33482,
     "status": "ok",
     "timestamp": 1653979893482,
     "user": {
      "displayName": "Komlan DANTODJI",
      "userId": "11989658833991652359"
     },
     "user_tz": -120
    },
    "id": "13f0924b",
    "outputId": "7726908a-9387-4f6a-e660-269d50e90ca6"
   },
   "outputs": [],
   "source": [
    "import io\n",
    "from google.colab import files\n",
    "uploaded = files.upload()"
   ]
  },
  {
   "cell_type": "code",
   "execution_count": 13,
   "id": "KHoqfFmsL-Wy",
   "metadata": {
    "colab": {
     "base_uri": "https://localhost:8080/",
     "height": 496
    },
    "executionInfo": {
     "elapsed": 175,
     "status": "ok",
     "timestamp": 1653979902484,
     "user": {
      "displayName": "Komlan DANTODJI",
      "userId": "11989658833991652359"
     },
     "user_tz": -120
    },
    "id": "KHoqfFmsL-Wy",
    "outputId": "b55af134-d304-4d95-aa8c-a0b1f033a0b1"
   },
   "outputs": [
    {
     "data": {
      "text/html": [
       "<div>\n",
       "<style scoped>\n",
       "    .dataframe tbody tr th:only-of-type {\n",
       "        vertical-align: middle;\n",
       "    }\n",
       "\n",
       "    .dataframe tbody tr th {\n",
       "        vertical-align: top;\n",
       "    }\n",
       "\n",
       "    .dataframe thead th {\n",
       "        text-align: right;\n",
       "    }\n",
       "</style>\n",
       "<table border=\"1\" class=\"dataframe\">\n",
       "  <thead>\n",
       "    <tr style=\"text-align: right;\">\n",
       "      <th></th>\n",
       "      <th>tweet_id</th>\n",
       "      <th>airline_sentiment</th>\n",
       "      <th>airline_sentiment_confidence</th>\n",
       "      <th>negativereason</th>\n",
       "      <th>negativereason_confidence</th>\n",
       "      <th>airline</th>\n",
       "      <th>airline_sentiment_gold</th>\n",
       "      <th>name</th>\n",
       "      <th>negativereason_gold</th>\n",
       "      <th>retweet_count</th>\n",
       "      <th>text</th>\n",
       "      <th>tweet_coord</th>\n",
       "      <th>tweet_created</th>\n",
       "      <th>tweet_location</th>\n",
       "      <th>user_timezone</th>\n",
       "    </tr>\n",
       "  </thead>\n",
       "  <tbody>\n",
       "    <tr>\n",
       "      <th>0</th>\n",
       "      <td>570306133677760513</td>\n",
       "      <td>neutral</td>\n",
       "      <td>1.0000</td>\n",
       "      <td>NaN</td>\n",
       "      <td>NaN</td>\n",
       "      <td>Virgin America</td>\n",
       "      <td>NaN</td>\n",
       "      <td>cairdin</td>\n",
       "      <td>NaN</td>\n",
       "      <td>0</td>\n",
       "      <td>@VirginAmerica What @dhepburn said.</td>\n",
       "      <td>NaN</td>\n",
       "      <td>2015-02-24 11:35:52 -0800</td>\n",
       "      <td>NaN</td>\n",
       "      <td>Eastern Time (US &amp; Canada)</td>\n",
       "    </tr>\n",
       "    <tr>\n",
       "      <th>1</th>\n",
       "      <td>570301130888122368</td>\n",
       "      <td>positive</td>\n",
       "      <td>0.3486</td>\n",
       "      <td>NaN</td>\n",
       "      <td>0.0000</td>\n",
       "      <td>Virgin America</td>\n",
       "      <td>NaN</td>\n",
       "      <td>jnardino</td>\n",
       "      <td>NaN</td>\n",
       "      <td>0</td>\n",
       "      <td>@VirginAmerica plus you've added commercials t...</td>\n",
       "      <td>NaN</td>\n",
       "      <td>2015-02-24 11:15:59 -0800</td>\n",
       "      <td>NaN</td>\n",
       "      <td>Pacific Time (US &amp; Canada)</td>\n",
       "    </tr>\n",
       "    <tr>\n",
       "      <th>2</th>\n",
       "      <td>570301083672813571</td>\n",
       "      <td>neutral</td>\n",
       "      <td>0.6837</td>\n",
       "      <td>NaN</td>\n",
       "      <td>NaN</td>\n",
       "      <td>Virgin America</td>\n",
       "      <td>NaN</td>\n",
       "      <td>yvonnalynn</td>\n",
       "      <td>NaN</td>\n",
       "      <td>0</td>\n",
       "      <td>@VirginAmerica I didn't today... Must mean I n...</td>\n",
       "      <td>NaN</td>\n",
       "      <td>2015-02-24 11:15:48 -0800</td>\n",
       "      <td>Lets Play</td>\n",
       "      <td>Central Time (US &amp; Canada)</td>\n",
       "    </tr>\n",
       "    <tr>\n",
       "      <th>3</th>\n",
       "      <td>570301031407624196</td>\n",
       "      <td>negative</td>\n",
       "      <td>1.0000</td>\n",
       "      <td>Bad Flight</td>\n",
       "      <td>0.7033</td>\n",
       "      <td>Virgin America</td>\n",
       "      <td>NaN</td>\n",
       "      <td>jnardino</td>\n",
       "      <td>NaN</td>\n",
       "      <td>0</td>\n",
       "      <td>@VirginAmerica it's really aggressive to blast...</td>\n",
       "      <td>NaN</td>\n",
       "      <td>2015-02-24 11:15:36 -0800</td>\n",
       "      <td>NaN</td>\n",
       "      <td>Pacific Time (US &amp; Canada)</td>\n",
       "    </tr>\n",
       "    <tr>\n",
       "      <th>4</th>\n",
       "      <td>570300817074462722</td>\n",
       "      <td>negative</td>\n",
       "      <td>1.0000</td>\n",
       "      <td>Can't Tell</td>\n",
       "      <td>1.0000</td>\n",
       "      <td>Virgin America</td>\n",
       "      <td>NaN</td>\n",
       "      <td>jnardino</td>\n",
       "      <td>NaN</td>\n",
       "      <td>0</td>\n",
       "      <td>@VirginAmerica and it's a really big bad thing...</td>\n",
       "      <td>NaN</td>\n",
       "      <td>2015-02-24 11:14:45 -0800</td>\n",
       "      <td>NaN</td>\n",
       "      <td>Pacific Time (US &amp; Canada)</td>\n",
       "    </tr>\n",
       "  </tbody>\n",
       "</table>\n",
       "</div>"
      ],
      "text/plain": [
       "             tweet_id airline_sentiment  airline_sentiment_confidence  \\\n",
       "0  570306133677760513           neutral                        1.0000   \n",
       "1  570301130888122368          positive                        0.3486   \n",
       "2  570301083672813571           neutral                        0.6837   \n",
       "3  570301031407624196          negative                        1.0000   \n",
       "4  570300817074462722          negative                        1.0000   \n",
       "\n",
       "  negativereason  negativereason_confidence         airline  \\\n",
       "0            NaN                        NaN  Virgin America   \n",
       "1            NaN                     0.0000  Virgin America   \n",
       "2            NaN                        NaN  Virgin America   \n",
       "3     Bad Flight                     0.7033  Virgin America   \n",
       "4     Can't Tell                     1.0000  Virgin America   \n",
       "\n",
       "  airline_sentiment_gold        name negativereason_gold  retweet_count  \\\n",
       "0                    NaN     cairdin                 NaN              0   \n",
       "1                    NaN    jnardino                 NaN              0   \n",
       "2                    NaN  yvonnalynn                 NaN              0   \n",
       "3                    NaN    jnardino                 NaN              0   \n",
       "4                    NaN    jnardino                 NaN              0   \n",
       "\n",
       "                                                text tweet_coord  \\\n",
       "0                @VirginAmerica What @dhepburn said.         NaN   \n",
       "1  @VirginAmerica plus you've added commercials t...         NaN   \n",
       "2  @VirginAmerica I didn't today... Must mean I n...         NaN   \n",
       "3  @VirginAmerica it's really aggressive to blast...         NaN   \n",
       "4  @VirginAmerica and it's a really big bad thing...         NaN   \n",
       "\n",
       "               tweet_created tweet_location               user_timezone  \n",
       "0  2015-02-24 11:35:52 -0800            NaN  Eastern Time (US & Canada)  \n",
       "1  2015-02-24 11:15:59 -0800            NaN  Pacific Time (US & Canada)  \n",
       "2  2015-02-24 11:15:48 -0800      Lets Play  Central Time (US & Canada)  \n",
       "3  2015-02-24 11:15:36 -0800            NaN  Pacific Time (US & Canada)  \n",
       "4  2015-02-24 11:14:45 -0800            NaN  Pacific Time (US & Canada)  "
      ]
     },
     "execution_count": 13,
     "metadata": {},
     "output_type": "execute_result"
    }
   ],
   "source": [
    "raw_data = pd.read_csv('Tweets.csv')\n",
    "raw_data.head()"
   ]
  },
  {
   "cell_type": "code",
   "execution_count": 14,
   "id": "23af225f",
   "metadata": {
    "colab": {
     "base_uri": "https://localhost:8080/"
    },
    "executionInfo": {
     "elapsed": 177,
     "status": "ok",
     "timestamp": 1653979905943,
     "user": {
      "displayName": "Komlan DANTODJI",
      "userId": "11989658833991652359"
     },
     "user_tz": -120
    },
    "id": "23af225f",
    "outputId": "bbb317bc-ea15-4250-c696-c0d0ac84f150"
   },
   "outputs": [
    {
     "data": {
      "text/plain": [
       "Index(['tweet_id', 'airline_sentiment', 'airline_sentiment_confidence',\n",
       "       'negativereason', 'negativereason_confidence', 'airline',\n",
       "       'airline_sentiment_gold', 'name', 'negativereason_gold',\n",
       "       'retweet_count', 'text', 'tweet_coord', 'tweet_created',\n",
       "       'tweet_location', 'user_timezone'],\n",
       "      dtype='object')"
      ]
     },
     "execution_count": 14,
     "metadata": {},
     "output_type": "execute_result"
    }
   ],
   "source": [
    "raw_data.columns"
   ]
  },
  {
   "cell_type": "code",
   "execution_count": 15,
   "id": "04d7675a",
   "metadata": {
    "colab": {
     "base_uri": "https://localhost:8080/"
    },
    "executionInfo": {
     "elapsed": 299,
     "status": "ok",
     "timestamp": 1653979909895,
     "user": {
      "displayName": "Komlan DANTODJI",
      "userId": "11989658833991652359"
     },
     "user_tz": -120
    },
    "id": "04d7675a",
    "outputId": "20e96332-6789-4b5f-844d-7ecdc70a7329"
   },
   "outputs": [
    {
     "name": "stdout",
     "output_type": "stream",
     "text": [
      "<class 'pandas.core.frame.DataFrame'>\n",
      "RangeIndex: 14640 entries, 0 to 14639\n",
      "Data columns (total 15 columns):\n",
      " #   Column                        Non-Null Count  Dtype  \n",
      "---  ------                        --------------  -----  \n",
      " 0   tweet_id                      14640 non-null  int64  \n",
      " 1   airline_sentiment             14640 non-null  object \n",
      " 2   airline_sentiment_confidence  14640 non-null  float64\n",
      " 3   negativereason                9178 non-null   object \n",
      " 4   negativereason_confidence     10522 non-null  float64\n",
      " 5   airline                       14640 non-null  object \n",
      " 6   airline_sentiment_gold        40 non-null     object \n",
      " 7   name                          14640 non-null  object \n",
      " 8   negativereason_gold           32 non-null     object \n",
      " 9   retweet_count                 14640 non-null  int64  \n",
      " 10  text                          14640 non-null  object \n",
      " 11  tweet_coord                   1019 non-null   object \n",
      " 12  tweet_created                 14640 non-null  object \n",
      " 13  tweet_location                9907 non-null   object \n",
      " 14  user_timezone                 9820 non-null   object \n",
      "dtypes: float64(2), int64(2), object(11)\n",
      "memory usage: 1.7+ MB\n"
     ]
    }
   ],
   "source": [
    "raw_data.info()"
   ]
  },
  {
   "cell_type": "code",
   "execution_count": 16,
   "id": "8ff48577",
   "metadata": {
    "id": "8ff48577"
   },
   "outputs": [],
   "source": [
    "# Drop unnecessary columns"
   ]
  },
  {
   "cell_type": "code",
   "execution_count": 17,
   "id": "2a592f6a",
   "metadata": {
    "colab": {
     "base_uri": "https://localhost:8080/",
     "height": 496
    },
    "executionInfo": {
     "elapsed": 313,
     "status": "ok",
     "timestamp": 1653979937751,
     "user": {
      "displayName": "Komlan DANTODJI",
      "userId": "11989658833991652359"
     },
     "user_tz": -120
    },
    "id": "2a592f6a",
    "outputId": "c6fa51a4-21e9-4f73-eef2-53b018237099"
   },
   "outputs": [
    {
     "data": {
      "text/html": [
       "<div>\n",
       "<style scoped>\n",
       "    .dataframe tbody tr th:only-of-type {\n",
       "        vertical-align: middle;\n",
       "    }\n",
       "\n",
       "    .dataframe tbody tr th {\n",
       "        vertical-align: top;\n",
       "    }\n",
       "\n",
       "    .dataframe thead th {\n",
       "        text-align: right;\n",
       "    }\n",
       "</style>\n",
       "<table border=\"1\" class=\"dataframe\">\n",
       "  <thead>\n",
       "    <tr style=\"text-align: right;\">\n",
       "      <th></th>\n",
       "      <th>label</th>\n",
       "      <th>airline_sentiment_confidence</th>\n",
       "      <th>negativereason</th>\n",
       "      <th>negativereason_confidence</th>\n",
       "      <th>airline</th>\n",
       "      <th>airline_sentiment_gold</th>\n",
       "      <th>negativereason_gold</th>\n",
       "      <th>retweet_count</th>\n",
       "      <th>text</th>\n",
       "      <th>tweet_created</th>\n",
       "      <th>tweet_location</th>\n",
       "      <th>user_timezone</th>\n",
       "    </tr>\n",
       "  </thead>\n",
       "  <tbody>\n",
       "    <tr>\n",
       "      <th>0</th>\n",
       "      <td>neutral</td>\n",
       "      <td>1.0000</td>\n",
       "      <td>NaN</td>\n",
       "      <td>NaN</td>\n",
       "      <td>Virgin America</td>\n",
       "      <td>NaN</td>\n",
       "      <td>NaN</td>\n",
       "      <td>0</td>\n",
       "      <td>@VirginAmerica What @dhepburn said.</td>\n",
       "      <td>2015-02-24 11:35:52 -0800</td>\n",
       "      <td>NaN</td>\n",
       "      <td>Eastern Time (US &amp; Canada)</td>\n",
       "    </tr>\n",
       "    <tr>\n",
       "      <th>1</th>\n",
       "      <td>positive</td>\n",
       "      <td>0.3486</td>\n",
       "      <td>NaN</td>\n",
       "      <td>0.0000</td>\n",
       "      <td>Virgin America</td>\n",
       "      <td>NaN</td>\n",
       "      <td>NaN</td>\n",
       "      <td>0</td>\n",
       "      <td>@VirginAmerica plus you've added commercials t...</td>\n",
       "      <td>2015-02-24 11:15:59 -0800</td>\n",
       "      <td>NaN</td>\n",
       "      <td>Pacific Time (US &amp; Canada)</td>\n",
       "    </tr>\n",
       "    <tr>\n",
       "      <th>2</th>\n",
       "      <td>neutral</td>\n",
       "      <td>0.6837</td>\n",
       "      <td>NaN</td>\n",
       "      <td>NaN</td>\n",
       "      <td>Virgin America</td>\n",
       "      <td>NaN</td>\n",
       "      <td>NaN</td>\n",
       "      <td>0</td>\n",
       "      <td>@VirginAmerica I didn't today... Must mean I n...</td>\n",
       "      <td>2015-02-24 11:15:48 -0800</td>\n",
       "      <td>Lets Play</td>\n",
       "      <td>Central Time (US &amp; Canada)</td>\n",
       "    </tr>\n",
       "    <tr>\n",
       "      <th>3</th>\n",
       "      <td>negative</td>\n",
       "      <td>1.0000</td>\n",
       "      <td>Bad Flight</td>\n",
       "      <td>0.7033</td>\n",
       "      <td>Virgin America</td>\n",
       "      <td>NaN</td>\n",
       "      <td>NaN</td>\n",
       "      <td>0</td>\n",
       "      <td>@VirginAmerica it's really aggressive to blast...</td>\n",
       "      <td>2015-02-24 11:15:36 -0800</td>\n",
       "      <td>NaN</td>\n",
       "      <td>Pacific Time (US &amp; Canada)</td>\n",
       "    </tr>\n",
       "    <tr>\n",
       "      <th>4</th>\n",
       "      <td>negative</td>\n",
       "      <td>1.0000</td>\n",
       "      <td>Can't Tell</td>\n",
       "      <td>1.0000</td>\n",
       "      <td>Virgin America</td>\n",
       "      <td>NaN</td>\n",
       "      <td>NaN</td>\n",
       "      <td>0</td>\n",
       "      <td>@VirginAmerica and it's a really big bad thing...</td>\n",
       "      <td>2015-02-24 11:14:45 -0800</td>\n",
       "      <td>NaN</td>\n",
       "      <td>Pacific Time (US &amp; Canada)</td>\n",
       "    </tr>\n",
       "  </tbody>\n",
       "</table>\n",
       "</div>"
      ],
      "text/plain": [
       "      label  airline_sentiment_confidence negativereason  \\\n",
       "0   neutral                        1.0000            NaN   \n",
       "1  positive                        0.3486            NaN   \n",
       "2   neutral                        0.6837            NaN   \n",
       "3  negative                        1.0000     Bad Flight   \n",
       "4  negative                        1.0000     Can't Tell   \n",
       "\n",
       "   negativereason_confidence         airline airline_sentiment_gold  \\\n",
       "0                        NaN  Virgin America                    NaN   \n",
       "1                     0.0000  Virgin America                    NaN   \n",
       "2                        NaN  Virgin America                    NaN   \n",
       "3                     0.7033  Virgin America                    NaN   \n",
       "4                     1.0000  Virgin America                    NaN   \n",
       "\n",
       "  negativereason_gold  retweet_count  \\\n",
       "0                 NaN              0   \n",
       "1                 NaN              0   \n",
       "2                 NaN              0   \n",
       "3                 NaN              0   \n",
       "4                 NaN              0   \n",
       "\n",
       "                                                text  \\\n",
       "0                @VirginAmerica What @dhepburn said.   \n",
       "1  @VirginAmerica plus you've added commercials t...   \n",
       "2  @VirginAmerica I didn't today... Must mean I n...   \n",
       "3  @VirginAmerica it's really aggressive to blast...   \n",
       "4  @VirginAmerica and it's a really big bad thing...   \n",
       "\n",
       "               tweet_created tweet_location               user_timezone  \n",
       "0  2015-02-24 11:35:52 -0800            NaN  Eastern Time (US & Canada)  \n",
       "1  2015-02-24 11:15:59 -0800            NaN  Pacific Time (US & Canada)  \n",
       "2  2015-02-24 11:15:48 -0800      Lets Play  Central Time (US & Canada)  \n",
       "3  2015-02-24 11:15:36 -0800            NaN  Pacific Time (US & Canada)  \n",
       "4  2015-02-24 11:14:45 -0800            NaN  Pacific Time (US & Canada)  "
      ]
     },
     "execution_count": 17,
     "metadata": {},
     "output_type": "execute_result"
    }
   ],
   "source": [
    "raw_data = raw_data.drop([\"name\",\"tweet_id\",\"tweet_coord\"], axis=1)\n",
    "raw_data = raw_data.rename(columns={\"airline_sentiment\":\"label\"})\n",
    "raw_data.head()"
   ]
  },
  {
   "cell_type": "code",
   "execution_count": 18,
   "id": "ca69f96a",
   "metadata": {
    "id": "ca69f96a"
   },
   "outputs": [],
   "source": [
    "# Combine to the tweets some information like, airline, negative reason, ..."
   ]
  },
  {
   "cell_type": "code",
   "execution_count": 19,
   "id": "c11d8093",
   "metadata": {
    "colab": {
     "base_uri": "https://localhost:8080/",
     "height": 509
    },
    "executionInfo": {
     "elapsed": 959,
     "status": "ok",
     "timestamp": 1653979947241,
     "user": {
      "displayName": "Komlan DANTODJI",
      "userId": "11989658833991652359"
     },
     "user_tz": -120
    },
    "id": "c11d8093",
    "outputId": "f0cc06d8-824f-4157-bebf-aa88e30e8128"
   },
   "outputs": [
    {
     "data": {
      "image/png": "[encoded data removed]",
      "text/plain": [
       "<Figure size 1500x600 with 1 Axes>"
      ]
     },
     "metadata": {},
     "output_type": "display_data"
    }
   ],
   "source": [
    "sns.set(rc = {'figure.figsize':(15,6)})\n",
    "chart = sns.countplot(x=\"negativereason_gold\", hue=\"label\", data=raw_data)\n",
    "_ = chart.set_xticklabels(chart.get_xticklabels(), rotation=45)"
   ]
  },
  {
   "cell_type": "code",
   "execution_count": 20,
   "id": "dc26169a",
   "metadata": {
    "colab": {
     "base_uri": "https://localhost:8080/",
     "height": 448
    },
    "executionInfo": {
     "elapsed": 621,
     "status": "ok",
     "timestamp": 1653979951275,
     "user": {
      "displayName": "Komlan DANTODJI",
      "userId": "11989658833991652359"
     },
     "user_tz": -120
    },
    "id": "dc26169a",
    "outputId": "139e637d-3163-4eba-dcfa-65de9a8229af"
   },
   "outputs": [
    {
     "data": {
      "image/png": "[encoded data removed]",
      "text/plain": [
       "<Figure size 1500x600 with 1 Axes>"
      ]
     },
     "metadata": {},
     "output_type": "display_data"
    }
   ],
   "source": [
    "chart = sns.countplot(x=\"airline\", hue=\"label\", data=raw_data)\n",
    "_ = chart.set_xticklabels(chart.get_xticklabels(), rotation=45)"
   ]
  },
  {
   "cell_type": "code",
   "execution_count": 21,
   "id": "e71fedc4",
   "metadata": {
    "colab": {
     "base_uri": "https://localhost:8080/",
     "height": 425
    },
    "executionInfo": {
     "elapsed": 833,
     "status": "ok",
     "timestamp": 1653979954843,
     "user": {
      "displayName": "Komlan DANTODJI",
      "userId": "11989658833991652359"
     },
     "user_tz": -120
    },
    "id": "e71fedc4",
    "outputId": "0af14c53-0371-4616-9bc8-e0707fbe6edb"
   },
   "outputs": [
    {
     "data": {
      "image/png": "[encoded data removed]",
      "text/plain": [
       "<Figure size 1500x600 with 1 Axes>"
      ]
     },
     "metadata": {},
     "output_type": "display_data"
    }
   ],
   "source": [
    "chart = sns.countplot(x=\"airline_sentiment_gold\", hue=\"label\", data=raw_data)\n",
    "_ = chart.set_xticklabels(chart.get_xticklabels(), rotation=45)"
   ]
  },
  {
   "cell_type": "code",
   "execution_count": 22,
   "id": "0159ddcb",
   "metadata": {
    "colab": {
     "base_uri": "https://localhost:8080/",
     "height": 424
    },
    "executionInfo": {
     "elapsed": 494,
     "status": "ok",
     "timestamp": 1653979958903,
     "user": {
      "displayName": "Komlan DANTODJI",
      "userId": "11989658833991652359"
     },
     "user_tz": -120
    },
    "id": "0159ddcb",
    "outputId": "b45b1cf4-84a7-4932-a38c-6abdb2907f75"
   },
   "outputs": [
    {
     "data": {
      "text/html": [
       "<div>\n",
       "<style scoped>\n",
       "    .dataframe tbody tr th:only-of-type {\n",
       "        vertical-align: middle;\n",
       "    }\n",
       "\n",
       "    .dataframe tbody tr th {\n",
       "        vertical-align: top;\n",
       "    }\n",
       "\n",
       "    .dataframe thead th {\n",
       "        text-align: right;\n",
       "    }\n",
       "</style>\n",
       "<table border=\"1\" class=\"dataframe\">\n",
       "  <thead>\n",
       "    <tr style=\"text-align: right;\">\n",
       "      <th></th>\n",
       "      <th>tweet_infos</th>\n",
       "      <th>airline_sentiment_confidence</th>\n",
       "      <th>negativereason_confidence</th>\n",
       "      <th>label</th>\n",
       "    </tr>\n",
       "  </thead>\n",
       "  <tbody>\n",
       "    <tr>\n",
       "      <th>0</th>\n",
       "      <td>@VirginAmerica What @dhepburn said. Virgin Ame...</td>\n",
       "      <td>1.0000</td>\n",
       "      <td>NaN</td>\n",
       "      <td>neutral</td>\n",
       "    </tr>\n",
       "    <tr>\n",
       "      <th>1</th>\n",
       "      <td>@VirginAmerica plus you've added commercials t...</td>\n",
       "      <td>0.3486</td>\n",
       "      <td>0.0000</td>\n",
       "      <td>positive</td>\n",
       "    </tr>\n",
       "    <tr>\n",
       "      <th>2</th>\n",
       "      <td>@VirginAmerica I didn't today... Must mean I n...</td>\n",
       "      <td>0.6837</td>\n",
       "      <td>NaN</td>\n",
       "      <td>neutral</td>\n",
       "    </tr>\n",
       "    <tr>\n",
       "      <th>3</th>\n",
       "      <td>@VirginAmerica it's really aggressive to blast...</td>\n",
       "      <td>1.0000</td>\n",
       "      <td>0.7033</td>\n",
       "      <td>negative</td>\n",
       "    </tr>\n",
       "    <tr>\n",
       "      <th>4</th>\n",
       "      <td>@VirginAmerica and it's a really big bad thing...</td>\n",
       "      <td>1.0000</td>\n",
       "      <td>1.0000</td>\n",
       "      <td>negative</td>\n",
       "    </tr>\n",
       "    <tr>\n",
       "      <th>...</th>\n",
       "      <td>...</td>\n",
       "      <td>...</td>\n",
       "      <td>...</td>\n",
       "      <td>...</td>\n",
       "    </tr>\n",
       "    <tr>\n",
       "      <th>14635</th>\n",
       "      <td>@AmericanAir thank you we got on a different f...</td>\n",
       "      <td>0.3487</td>\n",
       "      <td>0.0000</td>\n",
       "      <td>positive</td>\n",
       "    </tr>\n",
       "    <tr>\n",
       "      <th>14636</th>\n",
       "      <td>@AmericanAir leaving over 20 minutes Late Flig...</td>\n",
       "      <td>1.0000</td>\n",
       "      <td>1.0000</td>\n",
       "      <td>negative</td>\n",
       "    </tr>\n",
       "    <tr>\n",
       "      <th>14637</th>\n",
       "      <td>@AmericanAir Please bring American Airlines to...</td>\n",
       "      <td>1.0000</td>\n",
       "      <td>NaN</td>\n",
       "      <td>neutral</td>\n",
       "    </tr>\n",
       "    <tr>\n",
       "      <th>14638</th>\n",
       "      <td>@AmericanAir you have my money, you change my ...</td>\n",
       "      <td>1.0000</td>\n",
       "      <td>0.6659</td>\n",
       "      <td>negative</td>\n",
       "    </tr>\n",
       "    <tr>\n",
       "      <th>14639</th>\n",
       "      <td>@AmericanAir we have 8 ppl so we need 2 know h...</td>\n",
       "      <td>0.6771</td>\n",
       "      <td>0.0000</td>\n",
       "      <td>neutral</td>\n",
       "    </tr>\n",
       "  </tbody>\n",
       "</table>\n",
       "<p>14640 rows × 4 columns</p>\n",
       "</div>"
      ],
      "text/plain": [
       "                                             tweet_infos  \\\n",
       "0      @VirginAmerica What @dhepburn said. Virgin Ame...   \n",
       "1      @VirginAmerica plus you've added commercials t...   \n",
       "2      @VirginAmerica I didn't today... Must mean I n...   \n",
       "3      @VirginAmerica it's really aggressive to blast...   \n",
       "4      @VirginAmerica and it's a really big bad thing...   \n",
       "...                                                  ...   \n",
       "14635  @AmericanAir thank you we got on a different f...   \n",
       "14636  @AmericanAir leaving over 20 minutes Late Flig...   \n",
       "14637  @AmericanAir Please bring American Airlines to...   \n",
       "14638  @AmericanAir you have my money, you change my ...   \n",
       "14639  @AmericanAir we have 8 ppl so we need 2 know h...   \n",
       "\n",
       "       airline_sentiment_confidence  negativereason_confidence     label  \n",
       "0                            1.0000                        NaN   neutral  \n",
       "1                            0.3486                     0.0000  positive  \n",
       "2                            0.6837                        NaN   neutral  \n",
       "3                            1.0000                     0.7033  negative  \n",
       "4                            1.0000                     1.0000  negative  \n",
       "...                             ...                        ...       ...  \n",
       "14635                        0.3487                     0.0000  positive  \n",
       "14636                        1.0000                     1.0000  negative  \n",
       "14637                        1.0000                        NaN   neutral  \n",
       "14638                        1.0000                     0.6659  negative  \n",
       "14639                        0.6771                     0.0000   neutral  \n",
       "\n",
       "[14640 rows x 4 columns]"
      ]
     },
     "execution_count": 22,
     "metadata": {},
     "output_type": "execute_result"
    }
   ],
   "source": [
    "#Fusion de columns textuelles\n",
    "combined_columns = [\"text\",\"negativereason\",\"airline\",\"airline_sentiment_gold\",\"negativereason_gold\",\"tweet_location\",\"user_timezone\"]\n",
    "raw_data[\"tweet_infos\"] = raw_data[combined_columns].apply(lambda row: ' '.join([el for el in row if not pd.isnull(el)]), axis=1)\n",
    "data = raw_data[[\"tweet_infos\",\"airline_sentiment_confidence\",\"negativereason_confidence\",\"label\"]]\n",
    "data"
   ]
  },
  {
   "cell_type": "code",
   "execution_count": 23,
   "id": "86ee307a",
   "metadata": {
    "colab": {
     "base_uri": "https://localhost:8080/",
     "height": 638
    },
    "executionInfo": {
     "elapsed": 246,
     "status": "ok",
     "timestamp": 1653979962738,
     "user": {
      "displayName": "Komlan DANTODJI",
      "userId": "11989658833991652359"
     },
     "user_tz": -120
    },
    "id": "86ee307a",
    "outputId": "efb5eb03-741f-423b-d417-3d141f6d9463"
   },
   "outputs": [
    {
     "name": "stderr",
     "output_type": "stream",
     "text": [
      "/var/folders/8t/83qwqzx52cs5gmzbyklq6v_w0000gn/T/ipykernel_42427/4291515865.py:4: SettingWithCopyWarning: \n",
      "A value is trying to be set on a copy of a slice from a DataFrame.\n",
      "Try using .loc[row_indexer,col_indexer] = value instead\n",
      "\n",
      "See the caveats in the documentation: https://pandas.pydata.org/pandas-docs/stable/user_guide/indexing.html#returning-a-view-versus-a-copy\n",
      "  data[\"negativereason_confidence\"] = data[\"negativereason_confidence\"].fillna(mean_value)\n",
      "/var/folders/8t/83qwqzx52cs5gmzbyklq6v_w0000gn/T/ipykernel_42427/4291515865.py:7: SettingWithCopyWarning: \n",
      "A value is trying to be set on a copy of a slice from a DataFrame.\n",
      "Try using .loc[row_indexer,col_indexer] = value instead\n",
      "\n",
      "See the caveats in the documentation: https://pandas.pydata.org/pandas-docs/stable/user_guide/indexing.html#returning-a-view-versus-a-copy\n",
      "  data[\"label\"] = data[\"label\"].apply(lambda x: labels_dic[x])\n"
     ]
    },
    {
     "data": {
      "text/html": [
       "<div>\n",
       "<style scoped>\n",
       "    .dataframe tbody tr th:only-of-type {\n",
       "        vertical-align: middle;\n",
       "    }\n",
       "\n",
       "    .dataframe tbody tr th {\n",
       "        vertical-align: top;\n",
       "    }\n",
       "\n",
       "    .dataframe thead th {\n",
       "        text-align: right;\n",
       "    }\n",
       "</style>\n",
       "<table border=\"1\" class=\"dataframe\">\n",
       "  <thead>\n",
       "    <tr style=\"text-align: right;\">\n",
       "      <th></th>\n",
       "      <th>tweet_infos</th>\n",
       "      <th>airline_sentiment_confidence</th>\n",
       "      <th>negativereason_confidence</th>\n",
       "      <th>label</th>\n",
       "    </tr>\n",
       "  </thead>\n",
       "  <tbody>\n",
       "    <tr>\n",
       "      <th>0</th>\n",
       "      <td>@VirginAmerica What @dhepburn said. Virgin Ame...</td>\n",
       "      <td>1.0000</td>\n",
       "      <td>0.638298</td>\n",
       "      <td>1</td>\n",
       "    </tr>\n",
       "    <tr>\n",
       "      <th>1</th>\n",
       "      <td>@VirginAmerica plus you've added commercials t...</td>\n",
       "      <td>0.3486</td>\n",
       "      <td>0.000000</td>\n",
       "      <td>2</td>\n",
       "    </tr>\n",
       "    <tr>\n",
       "      <th>2</th>\n",
       "      <td>@VirginAmerica I didn't today... Must mean I n...</td>\n",
       "      <td>0.6837</td>\n",
       "      <td>0.638298</td>\n",
       "      <td>1</td>\n",
       "    </tr>\n",
       "    <tr>\n",
       "      <th>3</th>\n",
       "      <td>@VirginAmerica it's really aggressive to blast...</td>\n",
       "      <td>1.0000</td>\n",
       "      <td>0.703300</td>\n",
       "      <td>0</td>\n",
       "    </tr>\n",
       "    <tr>\n",
       "      <th>4</th>\n",
       "      <td>@VirginAmerica and it's a really big bad thing...</td>\n",
       "      <td>1.0000</td>\n",
       "      <td>1.000000</td>\n",
       "      <td>0</td>\n",
       "    </tr>\n",
       "    <tr>\n",
       "      <th>...</th>\n",
       "      <td>...</td>\n",
       "      <td>...</td>\n",
       "      <td>...</td>\n",
       "      <td>...</td>\n",
       "    </tr>\n",
       "    <tr>\n",
       "      <th>14635</th>\n",
       "      <td>@AmericanAir thank you we got on a different f...</td>\n",
       "      <td>0.3487</td>\n",
       "      <td>0.000000</td>\n",
       "      <td>2</td>\n",
       "    </tr>\n",
       "    <tr>\n",
       "      <th>14636</th>\n",
       "      <td>@AmericanAir leaving over 20 minutes Late Flig...</td>\n",
       "      <td>1.0000</td>\n",
       "      <td>1.000000</td>\n",
       "      <td>0</td>\n",
       "    </tr>\n",
       "    <tr>\n",
       "      <th>14637</th>\n",
       "      <td>@AmericanAir Please bring American Airlines to...</td>\n",
       "      <td>1.0000</td>\n",
       "      <td>0.638298</td>\n",
       "      <td>1</td>\n",
       "    </tr>\n",
       "    <tr>\n",
       "      <th>14638</th>\n",
       "      <td>@AmericanAir you have my money, you change my ...</td>\n",
       "      <td>1.0000</td>\n",
       "      <td>0.665900</td>\n",
       "      <td>0</td>\n",
       "    </tr>\n",
       "    <tr>\n",
       "      <th>14639</th>\n",
       "      <td>@AmericanAir we have 8 ppl so we need 2 know h...</td>\n",
       "      <td>0.6771</td>\n",
       "      <td>0.000000</td>\n",
       "      <td>1</td>\n",
       "    </tr>\n",
       "  </tbody>\n",
       "</table>\n",
       "<p>14640 rows × 4 columns</p>\n",
       "</div>"
      ],
      "text/plain": [
       "                                             tweet_infos  \\\n",
       "0      @VirginAmerica What @dhepburn said. Virgin Ame...   \n",
       "1      @VirginAmerica plus you've added commercials t...   \n",
       "2      @VirginAmerica I didn't today... Must mean I n...   \n",
       "3      @VirginAmerica it's really aggressive to blast...   \n",
       "4      @VirginAmerica and it's a really big bad thing...   \n",
       "...                                                  ...   \n",
       "14635  @AmericanAir thank you we got on a different f...   \n",
       "14636  @AmericanAir leaving over 20 minutes Late Flig...   \n",
       "14637  @AmericanAir Please bring American Airlines to...   \n",
       "14638  @AmericanAir you have my money, you change my ...   \n",
       "14639  @AmericanAir we have 8 ppl so we need 2 know h...   \n",
       "\n",
       "       airline_sentiment_confidence  negativereason_confidence  label  \n",
       "0                            1.0000                   0.638298      1  \n",
       "1                            0.3486                   0.000000      2  \n",
       "2                            0.6837                   0.638298      1  \n",
       "3                            1.0000                   0.703300      0  \n",
       "4                            1.0000                   1.000000      0  \n",
       "...                             ...                        ...    ...  \n",
       "14635                        0.3487                   0.000000      2  \n",
       "14636                        1.0000                   1.000000      0  \n",
       "14637                        1.0000                   0.638298      1  \n",
       "14638                        1.0000                   0.665900      0  \n",
       "14639                        0.6771                   0.000000      1  \n",
       "\n",
       "[14640 rows x 4 columns]"
      ]
     },
     "execution_count": 23,
     "metadata": {},
     "output_type": "execute_result"
    }
   ],
   "source": [
    "#Fill NAN values in negativereason_confidence with the mean of the non-null\n",
    "non_null = [el for el in data[\"negativereason_confidence\"].values if not pd.isnull(el)]\n",
    "mean_value = np.mean(non_null)\n",
    "data[\"negativereason_confidence\"] = data[\"negativereason_confidence\"].fillna(mean_value)\n",
    "#Tranform categrical values for labels\n",
    "labels_dic = {\"negative\": 0, \"neutral\": 1, \"positive\": 2}\n",
    "data[\"label\"] = data[\"label\"].apply(lambda x: labels_dic[x])\n",
    "data"
   ]
  },
  {
   "cell_type": "code",
   "execution_count": 24,
   "id": "6260dc98",
   "metadata": {
    "colab": {
     "base_uri": "https://localhost:8080/",
     "height": 531
    },
    "executionInfo": {
     "elapsed": 41677,
     "status": "ok",
     "timestamp": 1653980052560,
     "user": {
      "displayName": "Komlan DANTODJI",
      "userId": "11989658833991652359"
     },
     "user_tz": -120
    },
    "id": "6260dc98",
    "outputId": "74e0e5b0-d652-4668-86b6-b64ad9bbdeb0"
   },
   "outputs": [
    {
     "name": "stderr",
     "output_type": "stream",
     "text": [
      "[nltk_data] Downloading package stopwords to\n",
      "[nltk_data]     /Users/komlan/nltk_data...\n",
      "[nltk_data]   Unzipping corpora/stopwords.zip.\n",
      "/var/folders/8t/83qwqzx52cs5gmzbyklq6v_w0000gn/T/ipykernel_42427/3333319131.py:9: SettingWithCopyWarning: \n",
      "A value is trying to be set on a copy of a slice from a DataFrame.\n",
      "Try using .loc[row_indexer,col_indexer] = value instead\n",
      "\n",
      "See the caveats in the documentation: https://pandas.pydata.org/pandas-docs/stable/user_guide/indexing.html#returning-a-view-versus-a-copy\n",
      "  data[\"tweet_infos\"] = data[\"tweet_infos\"].apply(lambda raw_text: clean_sentence(raw_text))\n"
     ]
    },
    {
     "data": {
      "text/html": [
       "<div>\n",
       "<style scoped>\n",
       "    .dataframe tbody tr th:only-of-type {\n",
       "        vertical-align: middle;\n",
       "    }\n",
       "\n",
       "    .dataframe tbody tr th {\n",
       "        vertical-align: top;\n",
       "    }\n",
       "\n",
       "    .dataframe thead th {\n",
       "        text-align: right;\n",
       "    }\n",
       "</style>\n",
       "<table border=\"1\" class=\"dataframe\">\n",
       "  <thead>\n",
       "    <tr style=\"text-align: right;\">\n",
       "      <th></th>\n",
       "      <th>tweet_infos</th>\n",
       "      <th>airline_sentiment_confidence</th>\n",
       "      <th>negativereason_confidence</th>\n",
       "      <th>label</th>\n",
       "    </tr>\n",
       "  </thead>\n",
       "  <tbody>\n",
       "    <tr>\n",
       "      <th>0</th>\n",
       "      <td>virginamerica dhepburn said virgin america eas...</td>\n",
       "      <td>1.0000</td>\n",
       "      <td>0.638298</td>\n",
       "      <td>1</td>\n",
       "    </tr>\n",
       "    <tr>\n",
       "      <th>1</th>\n",
       "      <td>virginamerica plus added commercials experienc...</td>\n",
       "      <td>0.3486</td>\n",
       "      <td>0.000000</td>\n",
       "      <td>2</td>\n",
       "    </tr>\n",
       "    <tr>\n",
       "      <th>2</th>\n",
       "      <td>virginamerica today must mean need take anothe...</td>\n",
       "      <td>0.6837</td>\n",
       "      <td>0.638298</td>\n",
       "      <td>1</td>\n",
       "    </tr>\n",
       "    <tr>\n",
       "      <th>3</th>\n",
       "      <td>virginamerica really aggressive blast obnoxiou...</td>\n",
       "      <td>1.0000</td>\n",
       "      <td>0.703300</td>\n",
       "      <td>0</td>\n",
       "    </tr>\n",
       "    <tr>\n",
       "      <th>4</th>\n",
       "      <td>virginamerica really big bad thing tell virgin...</td>\n",
       "      <td>1.0000</td>\n",
       "      <td>1.000000</td>\n",
       "      <td>0</td>\n",
       "    </tr>\n",
       "    <tr>\n",
       "      <th>...</th>\n",
       "      <td>...</td>\n",
       "      <td>...</td>\n",
       "      <td>...</td>\n",
       "      <td>...</td>\n",
       "    </tr>\n",
       "    <tr>\n",
       "      <th>14635</th>\n",
       "      <td>americanair thank got different flight chicago...</td>\n",
       "      <td>0.3487</td>\n",
       "      <td>0.000000</td>\n",
       "      <td>2</td>\n",
       "    </tr>\n",
       "    <tr>\n",
       "      <th>14636</th>\n",
       "      <td>americanair leaving 20 minutes late flight war...</td>\n",
       "      <td>1.0000</td>\n",
       "      <td>1.000000</td>\n",
       "      <td>0</td>\n",
       "    </tr>\n",
       "    <tr>\n",
       "      <th>14637</th>\n",
       "      <td>americanair please bring american airlines bla...</td>\n",
       "      <td>1.0000</td>\n",
       "      <td>0.638298</td>\n",
       "      <td>1</td>\n",
       "    </tr>\n",
       "    <tr>\n",
       "      <th>14638</th>\n",
       "      <td>americanair money change flight answer phones ...</td>\n",
       "      <td>1.0000</td>\n",
       "      <td>0.665900</td>\n",
       "      <td>0</td>\n",
       "    </tr>\n",
       "    <tr>\n",
       "      <th>14639</th>\n",
       "      <td>americanair 8 ppl need 2 know many seats next ...</td>\n",
       "      <td>0.6771</td>\n",
       "      <td>0.000000</td>\n",
       "      <td>1</td>\n",
       "    </tr>\n",
       "  </tbody>\n",
       "</table>\n",
       "<p>14640 rows × 4 columns</p>\n",
       "</div>"
      ],
      "text/plain": [
       "                                             tweet_infos  \\\n",
       "0      virginamerica dhepburn said virgin america eas...   \n",
       "1      virginamerica plus added commercials experienc...   \n",
       "2      virginamerica today must mean need take anothe...   \n",
       "3      virginamerica really aggressive blast obnoxiou...   \n",
       "4      virginamerica really big bad thing tell virgin...   \n",
       "...                                                  ...   \n",
       "14635  americanair thank got different flight chicago...   \n",
       "14636  americanair leaving 20 minutes late flight war...   \n",
       "14637  americanair please bring american airlines bla...   \n",
       "14638  americanair money change flight answer phones ...   \n",
       "14639  americanair 8 ppl need 2 know many seats next ...   \n",
       "\n",
       "       airline_sentiment_confidence  negativereason_confidence  label  \n",
       "0                            1.0000                   0.638298      1  \n",
       "1                            0.3486                   0.000000      2  \n",
       "2                            0.6837                   0.638298      1  \n",
       "3                            1.0000                   0.703300      0  \n",
       "4                            1.0000                   1.000000      0  \n",
       "...                             ...                        ...    ...  \n",
       "14635                        0.3487                   0.000000      2  \n",
       "14636                        1.0000                   1.000000      0  \n",
       "14637                        1.0000                   0.638298      1  \n",
       "14638                        1.0000                   0.665900      0  \n",
       "14639                        0.6771                   0.000000      1  \n",
       "\n",
       "[14640 rows x 4 columns]"
      ]
     },
     "execution_count": 24,
     "metadata": {},
     "output_type": "execute_result"
    }
   ],
   "source": [
    "nltk.download('stopwords')\n",
    "def clean_sentence(sentence):\n",
    "    sentence = sentence.lower()\n",
    "    tokenizer = RegexpTokenizer(r'\\w+')\n",
    "    tokens = tokenizer.tokenize(sentence)\n",
    "    filtered_words = [w for w in tokens if not w in stopwords.words('english')]\n",
    "    return \" \".join(filtered_words)\n",
    "\n",
    "data[\"tweet_infos\"] = data[\"tweet_infos\"].apply(lambda raw_text: clean_sentence(raw_text))\n",
    "data"
   ]
  },
  {
   "cell_type": "code",
   "execution_count": null,
   "id": "xp0lBmMV49Vr",
   "metadata": {
    "executionInfo": {
     "elapsed": 189,
     "status": "ok",
     "timestamp": 1653980101177,
     "user": {
      "displayName": "Komlan DANTODJI",
      "userId": "11989658833991652359"
     },
     "user_tz": -120
    },
    "id": "xp0lBmMV49Vr"
   },
   "outputs": [],
   "source": []
  },
  {
   "cell_type": "code",
   "execution_count": 25,
   "id": "45693a02",
   "metadata": {
    "colab": {
     "base_uri": "https://localhost:8080/",
     "height": 488
    },
    "executionInfo": {
     "elapsed": 1475,
     "status": "ok",
     "timestamp": 1653980080977,
     "user": {
      "displayName": "Komlan DANTODJI",
      "userId": "11989658833991652359"
     },
     "user_tz": -120
    },
    "id": "45693a02",
    "outputId": "e2d7b0ab-3ac0-4bf6-b53a-b588ecb82d03"
   },
   "outputs": [
    {
     "data": {
      "text/html": [
       "<div>\n",
       "<style scoped>\n",
       "    .dataframe tbody tr th:only-of-type {\n",
       "        vertical-align: middle;\n",
       "    }\n",
       "\n",
       "    .dataframe tbody tr th {\n",
       "        vertical-align: top;\n",
       "    }\n",
       "\n",
       "    .dataframe thead th {\n",
       "        text-align: right;\n",
       "    }\n",
       "</style>\n",
       "<table border=\"1\" class=\"dataframe\">\n",
       "  <thead>\n",
       "    <tr style=\"text-align: right;\">\n",
       "      <th></th>\n",
       "      <th>col_0</th>\n",
       "      <th>col_1</th>\n",
       "      <th>col_2</th>\n",
       "      <th>col_3</th>\n",
       "      <th>col_4</th>\n",
       "      <th>col_5</th>\n",
       "      <th>col_6</th>\n",
       "      <th>col_7</th>\n",
       "      <th>col_8</th>\n",
       "      <th>col_9</th>\n",
       "      <th>...</th>\n",
       "      <th>col_28</th>\n",
       "      <th>col_29</th>\n",
       "      <th>col_30</th>\n",
       "      <th>col_31</th>\n",
       "      <th>col_32</th>\n",
       "      <th>col_33</th>\n",
       "      <th>col_34</th>\n",
       "      <th>airline_sentiment_confidence</th>\n",
       "      <th>negativereason_confidence</th>\n",
       "      <th>label</th>\n",
       "    </tr>\n",
       "  </thead>\n",
       "  <tbody>\n",
       "    <tr>\n",
       "      <th>0</th>\n",
       "      <td>55</td>\n",
       "      <td>7365</td>\n",
       "      <td>177</td>\n",
       "      <td>52</td>\n",
       "      <td>42</td>\n",
       "      <td>7</td>\n",
       "      <td>2</td>\n",
       "      <td>1</td>\n",
       "      <td>5</td>\n",
       "      <td>0</td>\n",
       "      <td>...</td>\n",
       "      <td>0</td>\n",
       "      <td>0</td>\n",
       "      <td>0</td>\n",
       "      <td>0</td>\n",
       "      <td>0</td>\n",
       "      <td>0</td>\n",
       "      <td>0</td>\n",
       "      <td>1.0000</td>\n",
       "      <td>0.638298</td>\n",
       "      <td>1</td>\n",
       "    </tr>\n",
       "    <tr>\n",
       "      <th>1</th>\n",
       "      <td>55</td>\n",
       "      <td>517</td>\n",
       "      <td>1192</td>\n",
       "      <td>2737</td>\n",
       "      <td>158</td>\n",
       "      <td>7366</td>\n",
       "      <td>52</td>\n",
       "      <td>42</td>\n",
       "      <td>24</td>\n",
       "      <td>2</td>\n",
       "      <td>...</td>\n",
       "      <td>0</td>\n",
       "      <td>0</td>\n",
       "      <td>0</td>\n",
       "      <td>0</td>\n",
       "      <td>0</td>\n",
       "      <td>0</td>\n",
       "      <td>0</td>\n",
       "      <td>0.3486</td>\n",
       "      <td>0.000000</td>\n",
       "      <td>2</td>\n",
       "    </tr>\n",
       "    <tr>\n",
       "      <th>2</th>\n",
       "      <td>55</td>\n",
       "      <td>67</td>\n",
       "      <td>751</td>\n",
       "      <td>538</td>\n",
       "      <td>49</td>\n",
       "      <td>119</td>\n",
       "      <td>116</td>\n",
       "      <td>154</td>\n",
       "      <td>52</td>\n",
       "      <td>42</td>\n",
       "      <td>...</td>\n",
       "      <td>0</td>\n",
       "      <td>0</td>\n",
       "      <td>0</td>\n",
       "      <td>0</td>\n",
       "      <td>0</td>\n",
       "      <td>0</td>\n",
       "      <td>0</td>\n",
       "      <td>0.6837</td>\n",
       "      <td>0.638298</td>\n",
       "      <td>1</td>\n",
       "    </tr>\n",
       "    <tr>\n",
       "      <th>3</th>\n",
       "      <td>55</td>\n",
       "      <td>92</td>\n",
       "      <td>4148</td>\n",
       "      <td>5205</td>\n",
       "      <td>5206</td>\n",
       "      <td>1017</td>\n",
       "      <td>3481</td>\n",
       "      <td>4149</td>\n",
       "      <td>36</td>\n",
       "      <td>402</td>\n",
       "      <td>...</td>\n",
       "      <td>0</td>\n",
       "      <td>0</td>\n",
       "      <td>0</td>\n",
       "      <td>0</td>\n",
       "      <td>0</td>\n",
       "      <td>0</td>\n",
       "      <td>0</td>\n",
       "      <td>1.0000</td>\n",
       "      <td>0.703300</td>\n",
       "      <td>0</td>\n",
       "    </tr>\n",
       "    <tr>\n",
       "      <th>4</th>\n",
       "      <td>55</td>\n",
       "      <td>92</td>\n",
       "      <td>418</td>\n",
       "      <td>32</td>\n",
       "      <td>449</td>\n",
       "      <td>22</td>\n",
       "      <td>52</td>\n",
       "      <td>42</td>\n",
       "      <td>24</td>\n",
       "      <td>2</td>\n",
       "      <td>...</td>\n",
       "      <td>0</td>\n",
       "      <td>0</td>\n",
       "      <td>0</td>\n",
       "      <td>0</td>\n",
       "      <td>0</td>\n",
       "      <td>0</td>\n",
       "      <td>0</td>\n",
       "      <td>1.0000</td>\n",
       "      <td>1.000000</td>\n",
       "      <td>0</td>\n",
       "    </tr>\n",
       "    <tr>\n",
       "      <th>...</th>\n",
       "      <td>...</td>\n",
       "      <td>...</td>\n",
       "      <td>...</td>\n",
       "      <td>...</td>\n",
       "      <td>...</td>\n",
       "      <td>...</td>\n",
       "      <td>...</td>\n",
       "      <td>...</td>\n",
       "      <td>...</td>\n",
       "      <td>...</td>\n",
       "      <td>...</td>\n",
       "      <td>...</td>\n",
       "      <td>...</td>\n",
       "      <td>...</td>\n",
       "      <td>...</td>\n",
       "      <td>...</td>\n",
       "      <td>...</td>\n",
       "      <td>...</td>\n",
       "      <td>...</td>\n",
       "      <td>...</td>\n",
       "      <td>...</td>\n",
       "    </tr>\n",
       "    <tr>\n",
       "      <th>14635</th>\n",
       "      <td>12</td>\n",
       "      <td>43</td>\n",
       "      <td>62</td>\n",
       "      <td>363</td>\n",
       "      <td>3</td>\n",
       "      <td>72</td>\n",
       "      <td>13</td>\n",
       "      <td>0</td>\n",
       "      <td>0</td>\n",
       "      <td>0</td>\n",
       "      <td>...</td>\n",
       "      <td>0</td>\n",
       "      <td>0</td>\n",
       "      <td>0</td>\n",
       "      <td>0</td>\n",
       "      <td>0</td>\n",
       "      <td>0</td>\n",
       "      <td>0</td>\n",
       "      <td>0.3487</td>\n",
       "      <td>0.000000</td>\n",
       "      <td>2</td>\n",
       "    </tr>\n",
       "    <tr>\n",
       "      <th>14636</th>\n",
       "      <td>12</td>\n",
       "      <td>416</td>\n",
       "      <td>275</td>\n",
       "      <td>109</td>\n",
       "      <td>18</td>\n",
       "      <td>3</td>\n",
       "      <td>4725</td>\n",
       "      <td>637</td>\n",
       "      <td>305</td>\n",
       "      <td>109</td>\n",
       "      <td>...</td>\n",
       "      <td>0</td>\n",
       "      <td>0</td>\n",
       "      <td>0</td>\n",
       "      <td>0</td>\n",
       "      <td>0</td>\n",
       "      <td>0</td>\n",
       "      <td>0</td>\n",
       "      <td>1.0000</td>\n",
       "      <td>1.000000</td>\n",
       "      <td>0</td>\n",
       "    </tr>\n",
       "    <tr>\n",
       "      <th>14637</th>\n",
       "      <td>12</td>\n",
       "      <td>47</td>\n",
       "      <td>631</td>\n",
       "      <td>13</td>\n",
       "      <td>201</td>\n",
       "      <td>13</td>\n",
       "      <td>5976</td>\n",
       "      <td>5975</td>\n",
       "      <td>0</td>\n",
       "      <td>0</td>\n",
       "      <td>...</td>\n",
       "      <td>0</td>\n",
       "      <td>0</td>\n",
       "      <td>0</td>\n",
       "      <td>0</td>\n",
       "      <td>0</td>\n",
       "      <td>0</td>\n",
       "      <td>0</td>\n",
       "      <td>1.0000</td>\n",
       "      <td>0.638298</td>\n",
       "      <td>1</td>\n",
       "    </tr>\n",
       "    <tr>\n",
       "      <th>14638</th>\n",
       "      <td>12</td>\n",
       "      <td>338</td>\n",
       "      <td>95</td>\n",
       "      <td>3</td>\n",
       "      <td>303</td>\n",
       "      <td>907</td>\n",
       "      <td>1556</td>\n",
       "      <td>97</td>\n",
       "      <td>2926</td>\n",
       "      <td>8</td>\n",
       "      <td>...</td>\n",
       "      <td>0</td>\n",
       "      <td>0</td>\n",
       "      <td>0</td>\n",
       "      <td>0</td>\n",
       "      <td>0</td>\n",
       "      <td>0</td>\n",
       "      <td>0</td>\n",
       "      <td>1.0000</td>\n",
       "      <td>0.665900</td>\n",
       "      <td>0</td>\n",
       "    </tr>\n",
       "    <tr>\n",
       "      <th>14639</th>\n",
       "      <td>12</td>\n",
       "      <td>260</td>\n",
       "      <td>863</td>\n",
       "      <td>49</td>\n",
       "      <td>30</td>\n",
       "      <td>83</td>\n",
       "      <td>304</td>\n",
       "      <td>156</td>\n",
       "      <td>133</td>\n",
       "      <td>3</td>\n",
       "      <td>...</td>\n",
       "      <td>0</td>\n",
       "      <td>0</td>\n",
       "      <td>0</td>\n",
       "      <td>0</td>\n",
       "      <td>0</td>\n",
       "      <td>0</td>\n",
       "      <td>0</td>\n",
       "      <td>0.6771</td>\n",
       "      <td>0.000000</td>\n",
       "      <td>1</td>\n",
       "    </tr>\n",
       "  </tbody>\n",
       "</table>\n",
       "<p>14640 rows × 38 columns</p>\n",
       "</div>"
      ],
      "text/plain": [
       "       col_0  col_1  col_2  col_3  col_4  col_5  col_6  col_7  col_8  col_9  \\\n",
       "0         55   7365    177     52     42      7      2      1      5      0   \n",
       "1         55    517   1192   2737    158   7366     52     42     24      2   \n",
       "2         55     67    751    538     49    119    116    154     52     42   \n",
       "3         55     92   4148   5205   5206   1017   3481   4149     36    402   \n",
       "4         55     92    418     32    449     22     52     42     24      2   \n",
       "...      ...    ...    ...    ...    ...    ...    ...    ...    ...    ...   \n",
       "14635     12     43     62    363      3     72     13      0      0      0   \n",
       "14636     12    416    275    109     18      3   4725    637    305    109   \n",
       "14637     12     47    631     13    201     13   5976   5975      0      0   \n",
       "14638     12    338     95      3    303    907   1556     97   2926      8   \n",
       "14639     12    260    863     49     30     83    304    156    133      3   \n",
       "\n",
       "       ...  col_28  col_29  col_30  col_31  col_32  col_33  col_34  \\\n",
       "0      ...       0       0       0       0       0       0       0   \n",
       "1      ...       0       0       0       0       0       0       0   \n",
       "2      ...       0       0       0       0       0       0       0   \n",
       "3      ...       0       0       0       0       0       0       0   \n",
       "4      ...       0       0       0       0       0       0       0   \n",
       "...    ...     ...     ...     ...     ...     ...     ...     ...   \n",
       "14635  ...       0       0       0       0       0       0       0   \n",
       "14636  ...       0       0       0       0       0       0       0   \n",
       "14637  ...       0       0       0       0       0       0       0   \n",
       "14638  ...       0       0       0       0       0       0       0   \n",
       "14639  ...       0       0       0       0       0       0       0   \n",
       "\n",
       "       airline_sentiment_confidence  negativereason_confidence  label  \n",
       "0                            1.0000                   0.638298      1  \n",
       "1                            0.3486                   0.000000      2  \n",
       "2                            0.6837                   0.638298      1  \n",
       "3                            1.0000                   0.703300      0  \n",
       "4                            1.0000                   1.000000      0  \n",
       "...                             ...                        ...    ...  \n",
       "14635                        0.3487                   0.000000      2  \n",
       "14636                        1.0000                   1.000000      0  \n",
       "14637                        1.0000                   0.638298      1  \n",
       "14638                        1.0000                   0.665900      0  \n",
       "14639                        0.6771                   0.000000      1  \n",
       "\n",
       "[14640 rows x 38 columns]"
      ]
     },
     "execution_count": 25,
     "metadata": {},
     "output_type": "execute_result"
    }
   ],
   "source": [
    "corpus_size = data.shape[0]\n",
    "tokenizer = Tokenizer(corpus_size)\n",
    "tokenizer.fit_on_texts(data[\"tweet_infos\"].values)\n",
    "sequences = tokenizer.texts_to_sequences(data[\"tweet_infos\"].values)\n",
    "tweet_num = pad_sequences(sequences, padding='post', truncating='post')\n",
    "tweet_num = pd.DataFrame(tweet_num, columns=[\"col_\"+str(i) for i in range(len(tweet_num[0]))])\n",
    "#Combine numerical text to the initial dataset\n",
    "data_final = pd.concat([tweet_num, data[[\"airline_sentiment_confidence\",\"negativereason_confidence\",\"label\"]]], axis=1)\n",
    "data_final"
   ]
  },
  {
   "cell_type": "code",
   "execution_count": 26,
   "id": "5173ebf6",
   "metadata": {
    "colab": {
     "base_uri": "https://localhost:8080/"
    },
    "executionInfo": {
     "elapsed": 236,
     "status": "ok",
     "timestamp": 1653980107426,
     "user": {
      "displayName": "Komlan DANTODJI",
      "userId": "11989658833991652359"
     },
     "user_tz": -120
    },
    "id": "5173ebf6",
    "outputId": "c0ff95d2-fcbb-41c3-c263-29a123f3cb44"
   },
   "outputs": [
    {
     "name": "stdout",
     "output_type": "stream",
     "text": [
      "Train: (11712, 11712)\n",
      "Test: (2928, 2928)\n"
     ]
    }
   ],
   "source": [
    "X = data_final.drop(\"label\", axis=1)\n",
    "X = np.array(X)\n",
    "y = data_final[\"label\"].values\n",
    "X_train, X_test, y_train, y_test = train_test_split(X, y, train_size=0.8, test_size=0.2, random_state=42)\n",
    "print(\"Train:\",(len(X_train), len(y_train)))\n",
    "print(\"Test:\", (len(X_test), len(y_test)))\n"
   ]
  },
  {
   "cell_type": "markdown",
   "id": "2b02ce0c",
   "metadata": {
    "id": "2b02ce0c"
   },
   "source": [
    "# Apply Models"
   ]
  },
  {
   "cell_type": "markdown",
   "id": "c0af0f0d",
   "metadata": {
    "id": "c0af0f0d"
   },
   "source": [
    "## Neural Network (NN)"
   ]
  },
  {
   "cell_type": "code",
   "execution_count": 27,
   "id": "3723d52d",
   "metadata": {
    "colab": {
     "base_uri": "https://localhost:8080/"
    },
    "executionInfo": {
     "elapsed": 420,
     "status": "ok",
     "timestamp": 1653980112948,
     "user": {
      "displayName": "Komlan DANTODJI",
      "userId": "11989658833991652359"
     },
     "user_tz": -120
    },
    "id": "3723d52d",
    "outputId": "99c61ff4-c0ab-463d-95fa-befe6a3c2e1d"
   },
   "outputs": [
    {
     "name": "stdout",
     "output_type": "stream",
     "text": [
      "Metal device set to: Apple M1\n"
     ]
    },
    {
     "name": "stderr",
     "output_type": "stream",
     "text": [
      "2022-08-31 19:42:34.104748: I tensorflow/core/common_runtime/pluggable_device/pluggable_device_factory.cc:305] Could not identify NUMA node of platform GPU ID 0, defaulting to 0. Your kernel may not have been built with NUMA support.\n",
      "2022-08-31 19:42:34.106671: I tensorflow/core/common_runtime/pluggable_device/pluggable_device_factory.cc:271] Created TensorFlow device (/job:localhost/replica:0/task:0/device:GPU:0 with 0 MB memory) -> physical PluggableDevice (device: 0, name: METAL, pci bus id: <undefined>)\n"
     ]
    },
    {
     "name": "stdout",
     "output_type": "stream",
     "text": [
      "Model: \"sequential\"\n",
      "_________________________________________________________________\n",
      " Layer (type)                Output Shape              Param #   \n",
      "=================================================================\n",
      " dense (Dense)               (None, 100)               3800      \n",
      "                                                                 \n",
      " dense_1 (Dense)             (None, 100)               10100     \n",
      "                                                                 \n",
      " dense_2 (Dense)             (None, 100)               10100     \n",
      "                                                                 \n",
      " dense_3 (Dense)             (None, 100)               10100     \n",
      "                                                                 \n",
      " dense_4 (Dense)             (None, 3)                 303       \n",
      "                                                                 \n",
      "=================================================================\n",
      "Total params: 34,403\n",
      "Trainable params: 34,403\n",
      "Non-trainable params: 0\n",
      "_________________________________________________________________\n"
     ]
    }
   ],
   "source": [
    "row_size = X.shape[0] #number of rows\n",
    "column_size = X.shape[1] #number of columns\n",
    "hidden_layer = 100 #number of neuron in hidden layer\n",
    "output_layer = 3 #number of output neuron\n",
    "model_1 = Sequential()\n",
    "model_1.add(Dense(hidden_layer, input_shape=(column_size,)))\n",
    "model_1.add(Dense(hidden_layer, activation='relu'))\n",
    "model_1.add(Dense(hidden_layer, activation='relu'))\n",
    "model_1.add(Dense(hidden_layer, activation='relu'))\n",
    "model_1.add(Dense(output_layer, activation='softmax'))\n",
    "model_1.compile(loss='sparse_categorical_crossentropy', optimizer='adam', metrics=['accuracy'])\n",
    "model_1.summary()"
   ]
  },
  {
   "cell_type": "code",
   "execution_count": null,
   "id": "2d25809c",
   "metadata": {
    "executionInfo": {
     "elapsed": 2,
     "status": "ok",
     "timestamp": 1653979660100,
     "user": {
      "displayName": "Komlan DANTODJI",
      "userId": "11989658833991652359"
     },
     "user_tz": -120
    },
    "id": "2d25809c"
   },
   "outputs": [],
   "source": []
  },
  {
   "cell_type": "code",
   "execution_count": 28,
   "id": "c738732d",
   "metadata": {
    "colab": {
     "base_uri": "https://localhost:8080/"
    },
    "executionInfo": {
     "elapsed": 14378,
     "status": "ok",
     "timestamp": 1653980132021,
     "user": {
      "displayName": "Komlan DANTODJI",
      "userId": "11989658833991652359"
     },
     "user_tz": -120
    },
    "id": "c738732d",
    "outputId": "712b54ad-fdd5-4adb-c1ff-bba2ac8850e3"
   },
   "outputs": [
    {
     "name": "stdout",
     "output_type": "stream",
     "text": [
      "Epoch 1/10\n"
     ]
    },
    {
     "name": "stderr",
     "output_type": "stream",
     "text": [
      "2022-08-31 19:42:39.239017: W tensorflow/core/platform/profile_utils/cpu_utils.cc:128] Failed to get CPU frequency: 0 Hz\n",
      "2022-08-31 19:42:39.496420: I tensorflow/core/grappler/optimizers/custom_graph_optimizer_registry.cc:113] Plugin optimizer for device_type GPU is enabled.\n"
     ]
    },
    {
     "name": "stdout",
     "output_type": "stream",
     "text": [
      "360/366 [============================>.] - ETA: 0s - loss: 41.7584 - accuracy: 0.4780"
     ]
    },
    {
     "name": "stderr",
     "output_type": "stream",
     "text": [
      "2022-08-31 19:42:43.066250: I tensorflow/core/grappler/optimizers/custom_graph_optimizer_registry.cc:113] Plugin optimizer for device_type GPU is enabled.\n"
     ]
    },
    {
     "name": "stdout",
     "output_type": "stream",
     "text": [
      "366/366 [==============================] - 4s 6ms/step - loss: 41.2880 - accuracy: 0.4789 - val_loss: 12.5590 - val_accuracy: 0.4734\n",
      "Epoch 2/10\n",
      "366/366 [==============================] - 2s 5ms/step - loss: 7.6507 - accuracy: 0.4920 - val_loss: 4.7064 - val_accuracy: 0.5505\n",
      "Epoch 3/10\n",
      "366/366 [==============================] - 2s 5ms/step - loss: 2.9322 - accuracy: 0.5120 - val_loss: 2.4340 - val_accuracy: 0.6192\n",
      "Epoch 4/10\n",
      "366/366 [==============================] - 2s 5ms/step - loss: 1.7177 - accuracy: 0.5434 - val_loss: 1.5643 - val_accuracy: 0.5393\n",
      "Epoch 5/10\n",
      "366/366 [==============================] - 2s 5ms/step - loss: 1.3349 - accuracy: 0.5663 - val_loss: 1.3198 - val_accuracy: 0.5970\n",
      "Epoch 6/10\n",
      "366/366 [==============================] - 2s 5ms/step - loss: 1.1915 - accuracy: 0.5797 - val_loss: 1.3588 - val_accuracy: 0.4942\n",
      "Epoch 7/10\n",
      "366/366 [==============================] - 2s 5ms/step - loss: 1.0953 - accuracy: 0.5854 - val_loss: 1.2481 - val_accuracy: 0.5663\n",
      "Epoch 8/10\n",
      "366/366 [==============================] - 2s 5ms/step - loss: 1.1038 - accuracy: 0.5879 - val_loss: 1.1965 - val_accuracy: 0.5803\n",
      "Epoch 9/10\n",
      "366/366 [==============================] - 2s 6ms/step - loss: 1.0316 - accuracy: 0.6107 - val_loss: 1.0788 - val_accuracy: 0.6062\n",
      "Epoch 10/10\n",
      "366/366 [==============================] - 2s 5ms/step - loss: 0.9770 - accuracy: 0.6179 - val_loss: 0.9666 - val_accuracy: 0.6335\n"
     ]
    }
   ],
   "source": [
    "batch_size = 32\n",
    "epochs = 10\n",
    "history_1 = model_1.fit(X_train, y_train, epochs=epochs, batch_size=batch_size, validation_data=(X_test, y_test))"
   ]
  },
  {
   "cell_type": "code",
   "execution_count": 29,
   "id": "033a2bf4",
   "metadata": {
    "colab": {
     "base_uri": "https://localhost:8080/",
     "height": 355
    },
    "executionInfo": {
     "elapsed": 603,
     "status": "ok",
     "timestamp": 1653989480468,
     "user": {
      "displayName": "Komlan DANTODJI",
      "userId": "11989658833991652359"
     },
     "user_tz": -120
    },
    "id": "033a2bf4",
    "outputId": "0f39e21c-7717-4f10-cbe8-5a1094b2f7f0"
   },
   "outputs": [
    {
     "name": "stderr",
     "output_type": "stream",
     "text": [
      "/var/folders/8t/83qwqzx52cs5gmzbyklq6v_w0000gn/T/ipykernel_42427/2178999018.py:3: UserWarning: color is redundantly defined by the 'color' keyword argument and the fmt string \"b\" (-> color=(0.2980392156862745, 0.4470588235294118, 0.6901960784313725, 1)). The keyword argument will take precedence.\n",
      "  plt.plot(epochs, history_1.history['accuracy'], 'b', label=\"Trainning accuracy\", color='green')\n",
      "/var/folders/8t/83qwqzx52cs5gmzbyklq6v_w0000gn/T/ipykernel_42427/2178999018.py:4: UserWarning: color is redundantly defined by the 'color' keyword argument and the fmt string \"b\" (-> color=(0.2980392156862745, 0.4470588235294118, 0.6901960784313725, 1)). The keyword argument will take precedence.\n",
      "  plt.plot(epochs, history_1.history['val_accuracy'], 'b', label=\"Validation accuracy\", color='blue')\n"
     ]
    },
    {
     "data": {
      "image/png": "[encoded data removed]",
      "text/plain": [
       "<Figure size 1600x500 with 1 Axes>"
      ]
     },
     "metadata": {},
     "output_type": "display_data"
    }
   ],
   "source": [
    "plt.figure(figsize=(16, 5))\n",
    "epochs = range(1, len(history_1.history['accuracy'])+1)\n",
    "plt.plot(epochs, history_1.history['accuracy'], 'b', label=\"Trainning accuracy\", color='green')\n",
    "plt.plot(epochs, history_1.history['val_accuracy'], 'b', label=\"Validation accuracy\", color='blue')\n",
    "plt.title(\"NN: Neural Network Model\")\n",
    "plt.xlabel(\"Epochs\")\n",
    "plt.ylabel(\"Accuracy\")\n",
    "plt.legend()\n",
    "plt.show()"
   ]
  },
  {
   "cell_type": "markdown",
   "id": "b9a0b517",
   "metadata": {
    "id": "b9a0b517"
   },
   "source": [
    "## 2. LSTM : Long Short-Term Memory (RNN)"
   ]
  },
  {
   "cell_type": "code",
   "execution_count": 30,
   "id": "eab07d11",
   "metadata": {
    "colab": {
     "base_uri": "https://localhost:8080/"
    },
    "executionInfo": {
     "elapsed": 1402,
     "status": "ok",
     "timestamp": 1653980208298,
     "user": {
      "displayName": "Komlan DANTODJI",
      "userId": "11989658833991652359"
     },
     "user_tz": -120
    },
    "id": "eab07d11",
    "outputId": "c6a4d1ee-6aac-4695-cc1b-578c3cf0f1dc"
   },
   "outputs": [
    {
     "name": "stdout",
     "output_type": "stream",
     "text": [
      "Model: \"sequential_1\"\n",
      "_________________________________________________________________\n",
      " Layer (type)                Output Shape              Param #   \n",
      "=================================================================\n",
      " embedding (Embedding)       (None, 37, 100)           1464000   \n",
      "                                                                 \n",
      " lstm (LSTM)                 (None, 37, 100)           80400     \n",
      "                                                                 \n",
      " lstm_1 (LSTM)               (None, 100)               80400     \n",
      "                                                                 \n",
      " dense_5 (Dense)             (None, 3)                 303       \n",
      "                                                                 \n",
      "=================================================================\n",
      "Total params: 1,625,103\n",
      "Trainable params: 1,625,103\n",
      "Non-trainable params: 0\n",
      "_________________________________________________________________\n"
     ]
    }
   ],
   "source": [
    "row_size = len(X) #number of rows\n",
    "column_size = len(X[0]) #number of columns\n",
    "hidden_layer = 100 #number of neuron in hidden layer\n",
    "output_layer = 3 #number of output neuron\n",
    "\n",
    "model_2 = Sequential()\n",
    "model_2.add(Embedding(input_dim = row_size, output_dim = hidden_layer, input_length = column_size, trainable=True))\n",
    "model_2.add(LSTM(hidden_layer, dropout=0.5, return_sequences=True))\n",
    "model_2.add(LSTM(hidden_layer, dropout=0.5))\n",
    "model_2.add(Dense(output_layer, activation='softmax'))\n",
    "model_2.compile(loss='sparse_categorical_crossentropy', optimizer='adam', metrics=['accuracy'])\n",
    "model_2.summary()"
   ]
  },
  {
   "cell_type": "code",
   "execution_count": 31,
   "id": "fab69a8f",
   "metadata": {
    "colab": {
     "base_uri": "https://localhost:8080/"
    },
    "executionInfo": {
     "elapsed": 385591,
     "status": "ok",
     "timestamp": 1653980597582,
     "user": {
      "displayName": "Komlan DANTODJI",
      "userId": "11989658833991652359"
     },
     "user_tz": -120
    },
    "id": "fab69a8f",
    "outputId": "05482b1e-5ed7-4055-c3ec-e9c8bfe072dc"
   },
   "outputs": [
    {
     "name": "stdout",
     "output_type": "stream",
     "text": [
      "Epoch 1/10\n"
     ]
    },
    {
     "name": "stderr",
     "output_type": "stream",
     "text": [
      "2022-08-31 19:43:33.216922: I tensorflow/core/grappler/optimizers/custom_graph_optimizer_registry.cc:113] Plugin optimizer for device_type GPU is enabled.\n",
      "2022-08-31 19:43:33.560067: I tensorflow/core/grappler/optimizers/custom_graph_optimizer_registry.cc:113] Plugin optimizer for device_type GPU is enabled.\n",
      "2022-08-31 19:43:34.544721: I tensorflow/core/grappler/optimizers/custom_graph_optimizer_registry.cc:113] Plugin optimizer for device_type GPU is enabled.\n",
      "2022-08-31 19:43:34.643480: I tensorflow/core/grappler/optimizers/custom_graph_optimizer_registry.cc:113] Plugin optimizer for device_type GPU is enabled.\n",
      "2022-08-31 19:43:35.351859: I tensorflow/core/grappler/optimizers/custom_graph_optimizer_registry.cc:113] Plugin optimizer for device_type GPU is enabled.\n"
     ]
    },
    {
     "name": "stdout",
     "output_type": "stream",
     "text": [
      "366/366 [==============================] - ETA: 0s - loss: 0.4528 - accuracy: 0.7858"
     ]
    },
    {
     "name": "stderr",
     "output_type": "stream",
     "text": [
      "2022-08-31 19:43:44.888694: I tensorflow/core/grappler/optimizers/custom_graph_optimizer_registry.cc:113] Plugin optimizer for device_type GPU is enabled.\n",
      "2022-08-31 19:43:44.975382: I tensorflow/core/grappler/optimizers/custom_graph_optimizer_registry.cc:113] Plugin optimizer for device_type GPU is enabled.\n",
      "2022-08-31 19:43:45.053891: I tensorflow/core/grappler/optimizers/custom_graph_optimizer_registry.cc:113] Plugin optimizer for device_type GPU is enabled.\n"
     ]
    },
    {
     "name": "stdout",
     "output_type": "stream",
     "text": [
      "366/366 [==============================] - 14s 29ms/step - loss: 0.4528 - accuracy: 0.7858 - val_loss: 0.2473 - val_accuracy: 0.9020\n",
      "Epoch 2/10\n",
      "366/366 [==============================] - 10s 26ms/step - loss: 0.2231 - accuracy: 0.9105 - val_loss: 0.2034 - val_accuracy: 0.9228\n",
      "Epoch 3/10\n",
      "366/366 [==============================] - 10s 27ms/step - loss: 0.1524 - accuracy: 0.9459 - val_loss: 0.2341 - val_accuracy: 0.9180\n",
      "Epoch 4/10\n",
      "366/366 [==============================] - 10s 27ms/step - loss: 0.1050 - accuracy: 0.9647 - val_loss: 0.2121 - val_accuracy: 0.9269\n",
      "Epoch 5/10\n",
      "366/366 [==============================] - 10s 26ms/step - loss: 0.0853 - accuracy: 0.9737 - val_loss: 0.2683 - val_accuracy: 0.9163\n",
      "Epoch 6/10\n",
      "366/366 [==============================] - 10s 27ms/step - loss: 0.0673 - accuracy: 0.9789 - val_loss: 0.2459 - val_accuracy: 0.9095\n",
      "Epoch 7/10\n",
      "366/366 [==============================] - 10s 26ms/step - loss: 0.0578 - accuracy: 0.9804 - val_loss: 0.2513 - val_accuracy: 0.9173\n",
      "Epoch 8/10\n",
      "366/366 [==============================] - 10s 26ms/step - loss: 0.0553 - accuracy: 0.9828 - val_loss: 0.2282 - val_accuracy: 0.9235\n",
      "Epoch 9/10\n",
      "366/366 [==============================] - 10s 27ms/step - loss: 0.0487 - accuracy: 0.9841 - val_loss: 0.2733 - val_accuracy: 0.9194\n",
      "Epoch 10/10\n",
      "366/366 [==============================] - 10s 27ms/step - loss: 0.0443 - accuracy: 0.9857 - val_loss: 0.2891 - val_accuracy: 0.9279\n"
     ]
    }
   ],
   "source": [
    "batch_size = 32\n",
    "epochs = 10\n",
    "history_2 = model_2.fit(X_train, y_train, epochs=epochs, batch_size=batch_size, validation_data=(X_test, y_test))"
   ]
  },
  {
   "cell_type": "code",
   "execution_count": 32,
   "id": "3ead13fb",
   "metadata": {
    "colab": {
     "base_uri": "https://localhost:8080/",
     "height": 355
    },
    "executionInfo": {
     "elapsed": 721,
     "status": "ok",
     "timestamp": 1653981033414,
     "user": {
      "displayName": "Komlan DANTODJI",
      "userId": "11989658833991652359"
     },
     "user_tz": -120
    },
    "id": "3ead13fb",
    "outputId": "b85c1231-5395-4ce3-f88d-898fa25ff0e8",
    "scrolled": false
   },
   "outputs": [
    {
     "name": "stderr",
     "output_type": "stream",
     "text": [
      "/var/folders/8t/83qwqzx52cs5gmzbyklq6v_w0000gn/T/ipykernel_42427/3228196286.py:3: UserWarning: color is redundantly defined by the 'color' keyword argument and the fmt string \"b\" (-> color=(0.2980392156862745, 0.4470588235294118, 0.6901960784313725, 1)). The keyword argument will take precedence.\n",
      "  plt.plot(epochs, history_2.history['accuracy'], 'b', label=\"Trainning accuracy\", color='green')\n",
      "/var/folders/8t/83qwqzx52cs5gmzbyklq6v_w0000gn/T/ipykernel_42427/3228196286.py:4: UserWarning: color is redundantly defined by the 'color' keyword argument and the fmt string \"b\" (-> color=(0.2980392156862745, 0.4470588235294118, 0.6901960784313725, 1)). The keyword argument will take precedence.\n",
      "  plt.plot(epochs, history_2.history['val_accuracy'], 'b', label=\"Validation accuracy\", color='blue')\n"
     ]
    },
    {
     "data": {
      "image/png": "[encoded data removed]",
      "text/plain": [
       "<Figure size 1600x500 with 1 Axes>"
      ]
     },
     "metadata": {},
     "output_type": "display_data"
    }
   ],
   "source": [
    "plt.figure(figsize=(16, 5))\n",
    "epochs = range(1, len(history_2.history['accuracy'])+1)\n",
    "plt.plot(epochs, history_2.history['accuracy'], 'b', label=\"Trainning accuracy\", color='green')\n",
    "plt.plot(epochs, history_2.history['val_accuracy'], 'b', label=\"Validation accuracy\", color='blue')\n",
    "plt.title(\"LSTM: Long Short-Term Memory Model\")\n",
    "plt.xlabel(\"Epochs\")\n",
    "plt.ylabel(\"Accuracy\")\n",
    "plt.legend()\n",
    "plt.show()"
   ]
  },
  {
   "cell_type": "markdown",
   "id": "8b806df8",
   "metadata": {
    "id": "8b806df8"
   },
   "source": [
    "## 3. Convolutional Neural Network (CNN)"
   ]
  },
  {
   "cell_type": "code",
   "execution_count": 24,
   "id": "375cb43b",
   "metadata": {
    "colab": {
     "base_uri": "https://localhost:8080/"
    },
    "executionInfo": {
     "elapsed": 597,
     "status": "ok",
     "timestamp": 1653981039086,
     "user": {
      "displayName": "Komlan DANTODJI",
      "userId": "11989658833991652359"
     },
     "user_tz": -120
    },
    "id": "375cb43b",
    "outputId": "478b2e2c-4e92-4848-a05b-bd32faf6a584"
   },
   "outputs": [
    {
     "name": "stdout",
     "output_type": "stream",
     "text": [
      "Model: \"sequential_2\"\n",
      "_________________________________________________________________\n",
      " Layer (type)                Output Shape              Param #   \n",
      "=================================================================\n",
      " embedding_1 (Embedding)     (None, 37, 100)           1464000   \n",
      "                                                                 \n",
      " dropout (Dropout)           (None, 37, 100)           0         \n",
      "                                                                 \n",
      " conv1d (Conv1D)             (None, 35, 16)            4816      \n",
      "                                                                 \n",
      " max_pooling1d (MaxPooling1D  (None, 17, 16)           0         \n",
      " )                                                               \n",
      "                                                                 \n",
      " conv1d_1 (Conv1D)           (None, 15, 16)            784       \n",
      "                                                                 \n",
      " max_pooling1d_1 (MaxPooling  (None, 7, 16)            0         \n",
      " 1D)                                                             \n",
      "                                                                 \n",
      " flatten (Flatten)           (None, 112)               0         \n",
      "                                                                 \n",
      " dense_6 (Dense)             (None, 100)               11300     \n",
      "                                                                 \n",
      " dropout_1 (Dropout)         (None, 100)               0         \n",
      "                                                                 \n",
      " dense_7 (Dense)             (None, 3)                 303       \n",
      "                                                                 \n",
      "=================================================================\n",
      "Total params: 1,481,203\n",
      "Trainable params: 1,481,203\n",
      "Non-trainable params: 0\n",
      "_________________________________________________________________\n"
     ]
    }
   ],
   "source": [
    "row_size = len(X) #number of rows\n",
    "column_size = len(X[0]) #number of columns\n",
    "nb_filters = 16\n",
    "kernel_size = 3\n",
    "hidden_layer = 100 #number of neuron in hidden layer\n",
    "output_layer = 3 #number of output neuron\n",
    "\n",
    "model_3 = Sequential()\n",
    "#Embedding\n",
    "model_3.add(Embedding(row_size, hidden_layer, input_length = column_size))\n",
    "\n",
    "#Convolution\n",
    "model_3.add(Dropout(0.5))\n",
    "model_3.add(Conv1D(nb_filters, kernel_size, padding='valid', activation='relu'))\n",
    "model_3.add(MaxPooling1D())\n",
    "model_3.add(Conv1D(nb_filters, kernel_size, padding='valid', activation='relu'))\n",
    "model_3.add(MaxPooling1D())\n",
    "model_3.add(Flatten())\n",
    "\n",
    "#Learning\n",
    "model_3.add(Dense(hidden_layer, activation='relu'))\n",
    "model_3.add(Dropout(0.5))\n",
    "model_3.add(Dense(output_layer, activation='softmax'))\n",
    "model_3.compile(loss='sparse_categorical_crossentropy', optimizer='adam', metrics=['accuracy'])\n",
    "model_3.summary()"
   ]
  },
  {
   "cell_type": "code",
   "execution_count": 25,
   "id": "62b41c4c",
   "metadata": {
    "colab": {
     "base_uri": "https://localhost:8080/"
    },
    "executionInfo": {
     "elapsed": 97814,
     "status": "ok",
     "timestamp": 1653981140478,
     "user": {
      "displayName": "Komlan DANTODJI",
      "userId": "11989658833991652359"
     },
     "user_tz": -120
    },
    "id": "62b41c4c",
    "outputId": "6279cc32-8e35-4034-ffb2-4d827819345a"
   },
   "outputs": [
    {
     "name": "stdout",
     "output_type": "stream",
     "text": [
      "Epoch 1/10\n",
      "366/366 [==============================] - 10s 26ms/step - loss: 0.4780 - accuracy: 0.7627 - val_loss: 0.2761 - val_accuracy: 0.8381\n",
      "Epoch 2/10\n",
      "366/366 [==============================] - 10s 26ms/step - loss: 0.2858 - accuracy: 0.8289 - val_loss: 0.2517 - val_accuracy: 0.8480\n",
      "Epoch 3/10\n",
      "366/366 [==============================] - 10s 26ms/step - loss: 0.2153 - accuracy: 0.9006 - val_loss: 0.1981 - val_accuracy: 0.9204\n",
      "Epoch 4/10\n",
      "366/366 [==============================] - 10s 26ms/step - loss: 0.1147 - accuracy: 0.9584 - val_loss: 0.1916 - val_accuracy: 0.9245\n",
      "Epoch 5/10\n",
      "366/366 [==============================] - 9s 26ms/step - loss: 0.0719 - accuracy: 0.9775 - val_loss: 0.2025 - val_accuracy: 0.9211\n",
      "Epoch 6/10\n",
      "366/366 [==============================] - 10s 26ms/step - loss: 0.0514 - accuracy: 0.9834 - val_loss: 0.2496 - val_accuracy: 0.9143\n",
      "Epoch 7/10\n",
      "366/366 [==============================] - 10s 26ms/step - loss: 0.0359 - accuracy: 0.9891 - val_loss: 0.2386 - val_accuracy: 0.9255\n",
      "Epoch 8/10\n",
      "366/366 [==============================] - 10s 27ms/step - loss: 0.0282 - accuracy: 0.9897 - val_loss: 0.3183 - val_accuracy: 0.9163\n",
      "Epoch 9/10\n",
      "366/366 [==============================] - 10s 28ms/step - loss: 0.0244 - accuracy: 0.9925 - val_loss: 0.3167 - val_accuracy: 0.9208\n",
      "Epoch 10/10\n",
      "366/366 [==============================] - 10s 26ms/step - loss: 0.0212 - accuracy: 0.9933 - val_loss: 0.3339 - val_accuracy: 0.9170\n"
     ]
    }
   ],
   "source": [
    "batch_size = 32\n",
    "epochs = 10\n",
    "history_3 = model_3.fit(X_train, y_train, epochs=epochs, batch_size=batch_size, validation_data=(X_test, y_test))"
   ]
  },
  {
   "cell_type": "code",
   "execution_count": 26,
   "id": "daf41753",
   "metadata": {
    "colab": {
     "base_uri": "https://localhost:8080/",
     "height": 355
    },
    "executionInfo": {
     "elapsed": 695,
     "status": "ok",
     "timestamp": 1653981169446,
     "user": {
      "displayName": "Komlan DANTODJI",
      "userId": "11989658833991652359"
     },
     "user_tz": -120
    },
    "id": "daf41753",
    "outputId": "496fb72c-e640-4e22-b21c-6edc1f7e0a7e"
   },
   "outputs": [
    {
     "data": {
      "image/png": "[encoded data removed]",
      "text/plain": [
       "<Figure size 1152x360 with 1 Axes>"
      ]
     },
     "metadata": {},
     "output_type": "display_data"
    }
   ],
   "source": [
    "plt.figure(figsize=(16, 5))\n",
    "epochs = range(1, len(history_3.history['accuracy'])+1)\n",
    "plt.plot(epochs, history_3.history['accuracy'], 'b', label=\"Trainning accuracy\", color='green')\n",
    "plt.plot(epochs, history_3.history['val_accuracy'], 'b', label=\"Validation accuracy\", color='blue')\n",
    "plt.title(\"Convolution Neural Network Model\")\n",
    "plt.xlabel(\"Epochs\")\n",
    "plt.ylabel(\"Accuracy\")\n",
    "plt.legend()\n",
    "plt.show()"
   ]
  },
  {
   "cell_type": "markdown",
   "id": "FXCBeDZ_SBhh",
   "metadata": {
    "id": "FXCBeDZ_SBhh"
   },
   "source": [
    "## 4. Gated Recurrent Units (GRU)"
   ]
  },
  {
   "cell_type": "code",
   "execution_count": 33,
   "id": "06450ae8",
   "metadata": {
    "colab": {
     "base_uri": "https://localhost:8080/"
    },
    "executionInfo": {
     "elapsed": 577,
     "status": "ok",
     "timestamp": 1653981330992,
     "user": {
      "displayName": "Komlan DANTODJI",
      "userId": "11989658833991652359"
     },
     "user_tz": -120
    },
    "id": "06450ae8",
    "outputId": "8c7b52f4-b985-40ac-af81-013b87e96c52"
   },
   "outputs": [
    {
     "name": "stdout",
     "output_type": "stream",
     "text": [
      "Model: \"sequential_6\"\n",
      "_________________________________________________________________\n",
      " Layer (type)                Output Shape              Param #   \n",
      "=================================================================\n",
      " embedding_5 (Embedding)     (None, 37, 100)           1464000   \n",
      "                                                                 \n",
      " gru_3 (GRU)                 (None, 100)               60600     \n",
      "                                                                 \n",
      " dense_12 (Dense)            (None, 3)                 303       \n",
      "                                                                 \n",
      "=================================================================\n",
      "Total params: 1,524,903\n",
      "Trainable params: 1,524,903\n",
      "Non-trainable params: 0\n",
      "_________________________________________________________________\n"
     ]
    }
   ],
   "source": [
    "\n",
    "model_4 = Sequential()\n",
    "model_4.add(Embedding(input_dim = row_size, output_dim = hidden_layer, input_length = column_size, trainable=True))\n",
    "model_4.add(GRU(hidden_layer, dropout=0.5))\n",
    "model_4.add(Dense(output_layer, activation='softmax'))\n",
    "model_4.compile(loss='sparse_categorical_crossentropy', optimizer='adam', metrics=['accuracy'])\n",
    "model_4.summary()\n"
   ]
  },
  {
   "cell_type": "code",
   "execution_count": 34,
   "id": "RFcr8YFZQUTx",
   "metadata": {
    "colab": {
     "base_uri": "https://localhost:8080/"
    },
    "executionInfo": {
     "elapsed": 204353,
     "status": "ok",
     "timestamp": 1653981538911,
     "user": {
      "displayName": "Komlan DANTODJI",
      "userId": "11989658833991652359"
     },
     "user_tz": -120
    },
    "id": "RFcr8YFZQUTx",
    "outputId": "bead5425-90fd-43fe-e748-ca99b2045b4f"
   },
   "outputs": [
    {
     "name": "stdout",
     "output_type": "stream",
     "text": [
      "Epoch 1/10\n",
      "366/366 [==============================] - 25s 61ms/step - loss: 0.8031 - accuracy: 0.6173 - val_loss: 0.7722 - val_accuracy: 0.6134\n",
      "Epoch 2/10\n",
      "366/366 [==============================] - 25s 68ms/step - loss: 0.7836 - accuracy: 0.6214 - val_loss: 0.7737 - val_accuracy: 0.6144\n",
      "Epoch 3/10\n",
      "366/366 [==============================] - 19s 52ms/step - loss: 0.4518 - accuracy: 0.7655 - val_loss: 0.2604 - val_accuracy: 0.8391\n",
      "Epoch 4/10\n",
      "366/366 [==============================] - 19s 52ms/step - loss: 0.2707 - accuracy: 0.8356 - val_loss: 0.2634 - val_accuracy: 0.8405\n",
      "Epoch 5/10\n",
      "366/366 [==============================] - 19s 52ms/step - loss: 0.2219 - accuracy: 0.8889 - val_loss: 0.1790 - val_accuracy: 0.9293\n",
      "Epoch 6/10\n",
      "366/366 [==============================] - 19s 51ms/step - loss: 0.1124 - accuracy: 0.9569 - val_loss: 0.1931 - val_accuracy: 0.9194\n",
      "Epoch 7/10\n",
      "366/366 [==============================] - 18s 50ms/step - loss: 0.0753 - accuracy: 0.9740 - val_loss: 0.2130 - val_accuracy: 0.9228\n",
      "Epoch 8/10\n",
      "366/366 [==============================] - 20s 54ms/step - loss: 0.0576 - accuracy: 0.9793 - val_loss: 0.2183 - val_accuracy: 0.9290\n",
      "Epoch 9/10\n",
      "366/366 [==============================] - 19s 52ms/step - loss: 0.0402 - accuracy: 0.9860 - val_loss: 0.2306 - val_accuracy: 0.9262\n",
      "Epoch 10/10\n",
      "366/366 [==============================] - 19s 51ms/step - loss: 0.0314 - accuracy: 0.9892 - val_loss: 0.2518 - val_accuracy: 0.9242\n"
     ]
    }
   ],
   "source": [
    "batch_size = 32\n",
    "epochs = 10\n",
    "history_4 = model_4.fit(X_train, y_train, epochs=epochs, batch_size=batch_size, validation_data=(X_test, y_test))"
   ]
  },
  {
   "cell_type": "code",
   "execution_count": 35,
   "id": "5R6YDhGORfnB",
   "metadata": {
    "colab": {
     "base_uri": "https://localhost:8080/",
     "height": 355
    },
    "executionInfo": {
     "elapsed": 838,
     "status": "ok",
     "timestamp": 1653981544140,
     "user": {
      "displayName": "Komlan DANTODJI",
      "userId": "11989658833991652359"
     },
     "user_tz": -120
    },
    "id": "5R6YDhGORfnB",
    "outputId": "9a579393-a5a8-4118-e650-1aca650c2ad2"
   },
   "outputs": [
    {
     "data": {
      "image/png": "[encoded data removed]",
      "text/plain": [
       "<Figure size 1152x360 with 1 Axes>"
      ]
     },
     "metadata": {},
     "output_type": "display_data"
    }
   ],
   "source": [
    "plt.figure(figsize=(16, 5))\n",
    "epochs = range(1, len(history_4.history['accuracy'])+1)\n",
    "plt.plot(epochs, history_4.history['accuracy'], 'b', label=\"Trainning accuracy\", color='green')\n",
    "plt.plot(epochs, history_4.history['val_accuracy'], 'b', label=\"Validation accuracy\", color='blue')\n",
    "plt.title(\"Gated Recurrent Units (GRU) Model\")\n",
    "plt.xlabel(\"Epochs\")\n",
    "plt.ylabel(\"Accuracy\")\n",
    "plt.legend()\n",
    "plt.show()"
   ]
  }
 ],
 "metadata": {
  "colab": {
   "collapsed_sections": [],
   "name": "komlan_sentiment_analysis.ipynb",
   "provenance": []
  },
  "kernelspec": {
   "display_name": "pyenv-3.10",
   "language": "python",
   "name": "pyenv-3.10"
  },
  "language_info": {
   "codemirror_mode": {
    "name": "ipython",
    "version": 3
   },
   "file_extension": ".py",
   "mimetype": "text/x-python",
   "name": "python",
   "nbconvert_exporter": "python",
   "pygments_lexer": "ipython3",
   "version": "3.10.6"
  }
 },
 "nbformat": 4,
 "nbformat_minor": 5
}
