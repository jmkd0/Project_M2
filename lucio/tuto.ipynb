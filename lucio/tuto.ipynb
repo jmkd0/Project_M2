{
 "cells": [
  {
   "cell_type": "markdown",
   "metadata": {},
   "source": [
    "# Deep Learning Tutorial.\n",
    "## Binary Classification model with Keras Deep Learning\n",
    "### 1. Construct a multi-layer neural network model.\n",
    "### 2. Tune the hyper-parameters for training a model.\n",
    "### 3. Evaluate a model.\n"
   ]
  },
  {
   "cell_type": "code",
   "execution_count": null,
   "metadata": {},
   "outputs": [],
   "source": []
  },
  {
   "cell_type": "markdown",
   "metadata": {},
   "source": [
    "# Dataset:\n",
    "## Pima Indians Diabetes\n",
    "# Fields description follow:\n",
    "## preg = Number of times pregnant\n",
    "## plas = Plasma glucose concentration a 2 hours in an oral glucose tolerance test\n",
    "## pres = Diastolic blood pressure (mm Hg)\n",
    "## skin = Triceps skin fold thickness (mm)\n",
    "## test = 2-Hour serum insulin (mu U/ml)\n",
    "## mass = Body mass index (weight in kg/(height in m)^2)\n",
    "## pedi = Diabetes pedigree function\n",
    "## age = Age (years)\n",
    "## class = Class variable (1:tested positive for diabetes, 0: tested negative for diabetes)\n",
    "\n",
    "\n",
    "\n"
   ]
  },
  {
   "cell_type": "markdown",
   "metadata": {},
   "source": [
    "# Install the following:\n",
    "## pip install tensorflow==2.0.0\n",
    "\n",
    "\n"
   ]
  },
  {
   "cell_type": "markdown",
   "metadata": {},
   "source": [
    "# Download the data and then convert it to pandas dataframe to analyze it."
   ]
  },
  {
   "cell_type": "code",
   "execution_count": 1,
   "metadata": {},
   "outputs": [
    {
     "name": "stdout",
     "output_type": "stream",
     "text": [
      "Tensorflow version: 2.7.0\n"
     ]
    }
   ],
   "source": [
    "# for the operating system operations e.g., creating a folder.\n",
    "import os\n",
    "\n",
    "# Tensorflow and Keras are two packages for creating neural network models.\n",
    "import tensorflow as tf\n",
    "from tensorflow import keras\n",
    "\n",
    "from sklearn.model_selection import train_test_split\n",
    "\n",
    "# Print tensorfow (TF) version. Make sure you have at least tensorflow 2.1.0\n",
    "print(f\"Tensorflow version: {tf.version.VERSION}\")"
   ]
  },
  {
   "cell_type": "code",
   "execution_count": 2,
   "metadata": {},
   "outputs": [],
   "source": [
    "# import the dataset.\n",
    "# from tensorflow.keras.datasets import boston_housing\n",
    "\n",
    "# import NN layers and other componenets.\n",
    "from tensorflow.keras.models import Sequential\n",
    "from tensorflow.keras.layers import Activation, Dense, BatchNormalization, Dropout\n",
    "from tensorflow.keras import optimizers"
   ]
  },
  {
   "cell_type": "code",
   "execution_count": 3,
   "metadata": {},
   "outputs": [],
   "source": [
    "import matplotlib.pyplot as plt # for plotting data and creating different charts.\n",
    "import numpy as np # for math and arrays\n",
    "import pandas as pd # data from for the data.\n",
    "import seaborn as sns # for plotting."
   ]
  },
  {
   "cell_type": "code",
   "execution_count": 4,
   "metadata": {},
   "outputs": [],
   "source": [
    "tf.random.set_seed(13) # to make sure the experiment is reproducible.\n",
    "tf.debugging.set_log_device_placement(False)\n",
    "\n",
    "\n",
    "# uncomment the following line to use a GPU (Graphical Processing Unit) \n",
    "#if you have it available at your machine. This unit will make your code run faster.\n",
    "# tf.config.experimental.list_physical_devices('GPU')  "
   ]
  },
  {
   "cell_type": "code",
   "execution_count": 5,
   "metadata": {},
   "outputs": [
    {
     "data": {
      "text/html": [
       "<div>\n",
       "<style scoped>\n",
       "    .dataframe tbody tr th:only-of-type {\n",
       "        vertical-align: middle;\n",
       "    }\n",
       "\n",
       "    .dataframe tbody tr th {\n",
       "        vertical-align: top;\n",
       "    }\n",
       "\n",
       "    .dataframe thead th {\n",
       "        text-align: right;\n",
       "    }\n",
       "</style>\n",
       "<table border=\"1\" class=\"dataframe\">\n",
       "  <thead>\n",
       "    <tr style=\"text-align: right;\">\n",
       "      <th></th>\n",
       "      <th>preg</th>\n",
       "      <th>plas</th>\n",
       "      <th>pres</th>\n",
       "      <th>skin</th>\n",
       "      <th>test</th>\n",
       "      <th>mass</th>\n",
       "      <th>pedi</th>\n",
       "      <th>age</th>\n",
       "      <th>class</th>\n",
       "    </tr>\n",
       "  </thead>\n",
       "  <tbody>\n",
       "    <tr>\n",
       "      <th>0</th>\n",
       "      <td>6</td>\n",
       "      <td>148</td>\n",
       "      <td>72</td>\n",
       "      <td>35</td>\n",
       "      <td>0</td>\n",
       "      <td>33.6</td>\n",
       "      <td>0.627</td>\n",
       "      <td>50</td>\n",
       "      <td>1</td>\n",
       "    </tr>\n",
       "    <tr>\n",
       "      <th>1</th>\n",
       "      <td>1</td>\n",
       "      <td>85</td>\n",
       "      <td>66</td>\n",
       "      <td>29</td>\n",
       "      <td>0</td>\n",
       "      <td>26.6</td>\n",
       "      <td>0.351</td>\n",
       "      <td>31</td>\n",
       "      <td>0</td>\n",
       "    </tr>\n",
       "    <tr>\n",
       "      <th>2</th>\n",
       "      <td>8</td>\n",
       "      <td>183</td>\n",
       "      <td>64</td>\n",
       "      <td>0</td>\n",
       "      <td>0</td>\n",
       "      <td>23.3</td>\n",
       "      <td>0.672</td>\n",
       "      <td>32</td>\n",
       "      <td>1</td>\n",
       "    </tr>\n",
       "    <tr>\n",
       "      <th>3</th>\n",
       "      <td>1</td>\n",
       "      <td>89</td>\n",
       "      <td>66</td>\n",
       "      <td>23</td>\n",
       "      <td>94</td>\n",
       "      <td>28.1</td>\n",
       "      <td>0.167</td>\n",
       "      <td>21</td>\n",
       "      <td>0</td>\n",
       "    </tr>\n",
       "    <tr>\n",
       "      <th>4</th>\n",
       "      <td>0</td>\n",
       "      <td>137</td>\n",
       "      <td>40</td>\n",
       "      <td>35</td>\n",
       "      <td>168</td>\n",
       "      <td>43.1</td>\n",
       "      <td>2.288</td>\n",
       "      <td>33</td>\n",
       "      <td>1</td>\n",
       "    </tr>\n",
       "    <tr>\n",
       "      <th>...</th>\n",
       "      <td>...</td>\n",
       "      <td>...</td>\n",
       "      <td>...</td>\n",
       "      <td>...</td>\n",
       "      <td>...</td>\n",
       "      <td>...</td>\n",
       "      <td>...</td>\n",
       "      <td>...</td>\n",
       "      <td>...</td>\n",
       "    </tr>\n",
       "    <tr>\n",
       "      <th>763</th>\n",
       "      <td>10</td>\n",
       "      <td>101</td>\n",
       "      <td>76</td>\n",
       "      <td>48</td>\n",
       "      <td>180</td>\n",
       "      <td>32.9</td>\n",
       "      <td>0.171</td>\n",
       "      <td>63</td>\n",
       "      <td>0</td>\n",
       "    </tr>\n",
       "    <tr>\n",
       "      <th>764</th>\n",
       "      <td>2</td>\n",
       "      <td>122</td>\n",
       "      <td>70</td>\n",
       "      <td>27</td>\n",
       "      <td>0</td>\n",
       "      <td>36.8</td>\n",
       "      <td>0.340</td>\n",
       "      <td>27</td>\n",
       "      <td>0</td>\n",
       "    </tr>\n",
       "    <tr>\n",
       "      <th>765</th>\n",
       "      <td>5</td>\n",
       "      <td>121</td>\n",
       "      <td>72</td>\n",
       "      <td>23</td>\n",
       "      <td>112</td>\n",
       "      <td>26.2</td>\n",
       "      <td>0.245</td>\n",
       "      <td>30</td>\n",
       "      <td>0</td>\n",
       "    </tr>\n",
       "    <tr>\n",
       "      <th>766</th>\n",
       "      <td>1</td>\n",
       "      <td>126</td>\n",
       "      <td>60</td>\n",
       "      <td>0</td>\n",
       "      <td>0</td>\n",
       "      <td>30.1</td>\n",
       "      <td>0.349</td>\n",
       "      <td>47</td>\n",
       "      <td>1</td>\n",
       "    </tr>\n",
       "    <tr>\n",
       "      <th>767</th>\n",
       "      <td>1</td>\n",
       "      <td>93</td>\n",
       "      <td>70</td>\n",
       "      <td>31</td>\n",
       "      <td>0</td>\n",
       "      <td>30.4</td>\n",
       "      <td>0.315</td>\n",
       "      <td>23</td>\n",
       "      <td>0</td>\n",
       "    </tr>\n",
       "  </tbody>\n",
       "</table>\n",
       "<p>768 rows × 9 columns</p>\n",
       "</div>"
      ],
      "text/plain": [
       "     preg  plas  pres  skin  test  mass   pedi  age  class\n",
       "0       6   148    72    35     0  33.6  0.627   50      1\n",
       "1       1    85    66    29     0  26.6  0.351   31      0\n",
       "2       8   183    64     0     0  23.3  0.672   32      1\n",
       "3       1    89    66    23    94  28.1  0.167   21      0\n",
       "4       0   137    40    35   168  43.1  2.288   33      1\n",
       "..    ...   ...   ...   ...   ...   ...    ...  ...    ...\n",
       "763    10   101    76    48   180  32.9  0.171   63      0\n",
       "764     2   122    70    27     0  36.8  0.340   27      0\n",
       "765     5   121    72    23   112  26.2  0.245   30      0\n",
       "766     1   126    60     0     0  30.1  0.349   47      1\n",
       "767     1    93    70    31     0  30.4  0.315   23      0\n",
       "\n",
       "[768 rows x 9 columns]"
      ]
     },
     "execution_count": 5,
     "metadata": {},
     "output_type": "execute_result"
    }
   ],
   "source": [
    "all_ds = pd.read_csv('data_binary.csv')\n",
    "all_ds"
   ]
  },
  {
   "cell_type": "code",
   "execution_count": 6,
   "metadata": {},
   "outputs": [
    {
     "name": "stdout",
     "output_type": "stream",
     "text": [
      "Number of rows/examples and columns in the dataset: (768, 9)\n"
     ]
    }
   ],
   "source": [
    "print(f'Number of rows/examples and columns in the dataset: {all_ds.shape}')"
   ]
  },
  {
   "cell_type": "code",
   "execution_count": 7,
   "metadata": {},
   "outputs": [
    {
     "name": "stdout",
     "output_type": "stream",
     "text": [
      "<class 'pandas.core.frame.DataFrame'>\n",
      "RangeIndex: 768 entries, 0 to 767\n",
      "Data columns (total 9 columns):\n",
      " #   Column  Non-Null Count  Dtype  \n",
      "---  ------  --------------  -----  \n",
      " 0   preg    768 non-null    int64  \n",
      " 1   plas    768 non-null    int64  \n",
      " 2   pres    768 non-null    int64  \n",
      " 3   skin    768 non-null    int64  \n",
      " 4   test    768 non-null    int64  \n",
      " 5   mass    768 non-null    float64\n",
      " 6   pedi    768 non-null    float64\n",
      " 7   age     768 non-null    int64  \n",
      " 8   class   768 non-null    int64  \n",
      "dtypes: float64(2), int64(7)\n",
      "memory usage: 54.1 KB\n"
     ]
    }
   ],
   "source": [
    "# Summary of information on the dataset.\n",
    "all_ds.info()"
   ]
  },
  {
   "cell_type": "markdown",
   "metadata": {},
   "source": [
    "# Cleaning the data."
   ]
  },
  {
   "cell_type": "code",
   "execution_count": 8,
   "metadata": {},
   "outputs": [
    {
     "name": "stdout",
     "output_type": "stream",
     "text": [
      "Display NA values in each columns: \n"
     ]
    },
    {
     "data": {
      "text/plain": [
       "preg     0\n",
       "plas     0\n",
       "pres     0\n",
       "skin     0\n",
       "test     0\n",
       "mass     0\n",
       "pedi     0\n",
       "age      0\n",
       "class    0\n",
       "dtype: int64"
      ]
     },
     "execution_count": 8,
     "metadata": {},
     "output_type": "execute_result"
    }
   ],
   "source": [
    "print(\"Display NA values in each columns: \")\n",
    "all_ds.isna().sum(axis=0)"
   ]
  },
  {
   "cell_type": "code",
   "execution_count": 9,
   "metadata": {},
   "outputs": [
    {
     "name": "stdout",
     "output_type": "stream",
     "text": [
      "Display NA values in each row: \n"
     ]
    },
    {
     "data": {
      "text/plain": [
       "0      0\n",
       "1      0\n",
       "2      0\n",
       "3      0\n",
       "4      0\n",
       "      ..\n",
       "763    0\n",
       "764    0\n",
       "765    0\n",
       "766    0\n",
       "767    0\n",
       "Length: 768, dtype: int64"
      ]
     },
     "execution_count": 9,
     "metadata": {},
     "output_type": "execute_result"
    }
   ],
   "source": [
    "print(\"Display NA values in each row: \")\n",
    "all_ds.isna().sum(axis=1)"
   ]
  },
  {
   "cell_type": "code",
   "execution_count": 10,
   "metadata": {},
   "outputs": [
    {
     "name": "stdout",
     "output_type": "stream",
     "text": [
      "Display NULL values in each columns: \n"
     ]
    },
    {
     "data": {
      "text/plain": [
       "preg     0\n",
       "plas     0\n",
       "pres     0\n",
       "skin     0\n",
       "test     0\n",
       "mass     0\n",
       "pedi     0\n",
       "age      0\n",
       "class    0\n",
       "dtype: int64"
      ]
     },
     "execution_count": 10,
     "metadata": {},
     "output_type": "execute_result"
    }
   ],
   "source": [
    "print(\"Display NULL values in each columns: \")\n",
    "all_ds.isnull().sum()"
   ]
  },
  {
   "cell_type": "code",
   "execution_count": 11,
   "metadata": {},
   "outputs": [
    {
     "name": "stdout",
     "output_type": "stream",
     "text": [
      "Display NULL values in each row: \n"
     ]
    },
    {
     "data": {
      "text/plain": [
       "0      0\n",
       "1      0\n",
       "2      0\n",
       "3      0\n",
       "4      0\n",
       "      ..\n",
       "763    0\n",
       "764    0\n",
       "765    0\n",
       "766    0\n",
       "767    0\n",
       "Length: 768, dtype: int64"
      ]
     },
     "execution_count": 11,
     "metadata": {},
     "output_type": "execute_result"
    }
   ],
   "source": [
    "print(\"Display NULL values in each row: \")\n",
    "all_ds.isnull().sum(1)"
   ]
  },
  {
   "cell_type": "code",
   "execution_count": 12,
   "metadata": {},
   "outputs": [],
   "source": [
    "# Remove the rows with NA values.\n",
    "all_ds = all_ds.dropna()\n",
    "\n",
    "# You can also use the following line to fill the NA with Zeros.\n",
    "# all_ds = all_ds.fillna(0)\n",
    "# all_ds = all_ds.fillna(mean_of_column)\n",
    "\n"
   ]
  },
  {
   "cell_type": "code",
   "execution_count": 13,
   "metadata": {},
   "outputs": [
    {
     "data": {
      "text/plain": [
       "(20, 9)"
      ]
     },
     "execution_count": 13,
     "metadata": {},
     "output_type": "execute_result"
    }
   ],
   "source": [
    "# slice the data set and keep last n rows of the dataset.  E.g., you want to save the last 20 rows from the dataset into a new dataset.\n",
    "n = 20\n",
    "temp_ds = all_ds[:n]\n",
    "temp_ds.shape"
   ]
  },
  {
   "cell_type": "markdown",
   "metadata": {},
   "source": [
    "# Sample the dataset randomly and return fraction (e.g., frac=50% will return 50% of the data) from the dataset."
   ]
  },
  {
   "cell_type": "code",
   "execution_count": 14,
   "metadata": {},
   "outputs": [],
   "source": [
    "# all_ds[10:]\n",
    "# all_ds.sample(frac=1) # this will shuffle all of the dataset and randomly re-organize the rows.\n",
    "\n",
    "all_ds = all_ds.sample(frac=1) # This will randomly shuffle the rows to make sure the data is not sorted. (if the data is sorted then we may end up with test dataset from one or two classes only)\n",
    "# all_ds_90pct = all_ds.sample(frac=0.9) # randomly sample the dataset and keep 90% of the rows.\n",
    "# all_ds_90pct.shape"
   ]
  },
  {
   "cell_type": "markdown",
   "metadata": {},
   "source": [
    "# Split the data into train/test splits."
   ]
  },
  {
   "cell_type": "code",
   "execution_count": 15,
   "metadata": {},
   "outputs": [],
   "source": [
    "# THis is an alternative method to split the data and replace train_test_split.\n",
    "# train_dataset = all_ds_90pct.sample(frac=0.6) # This will select 80\n",
    "# test_dataset = all_ds_90pct.drop(train_dataset.index)"
   ]
  },
  {
   "cell_type": "code",
   "execution_count": 16,
   "metadata": {},
   "outputs": [
    {
     "name": "stdout",
     "output_type": "stream",
     "text": [
      "(460, 9)\n",
      "(308, 9)\n"
     ]
    }
   ],
   "source": [
    "# Split the data into 60% train and 40% test (later will divide the test to test and validate.)\n",
    "train_dataset, temp_test_dataset =  train_test_split(all_ds, test_size=0.4)\n",
    "\n",
    "print( train_dataset.shape )\n",
    "print( temp_test_dataset.shape )"
   ]
  },
  {
   "cell_type": "code",
   "execution_count": 17,
   "metadata": {},
   "outputs": [
    {
     "name": "stdout",
     "output_type": "stream",
     "text": [
      "(154, 9)\n",
      "(154, 9)\n"
     ]
    }
   ],
   "source": [
    "# Split the test_dataset dataframe to 50% test and 50% validation. [this will divide the dataset into 60% train, 20% validate, and 20% test]\n",
    "test_dataset, valid_dataset =  train_test_split(temp_test_dataset, test_size=0.5)\n",
    "print( test_dataset.shape )\n",
    "print( valid_dataset.shape )"
   ]
  },
  {
   "cell_type": "code",
   "execution_count": 18,
   "metadata": {},
   "outputs": [
    {
     "name": "stdout",
     "output_type": "stream",
     "text": [
      "Display the datatype of the test_dataset: <class 'pandas.core.frame.DataFrame'>\n",
      " Trai dataset       : (460, 9)\n",
      " Test dataset       : (154, 9)\n",
      " Validation dataset : (154, 9)\n"
     ]
    }
   ],
   "source": [
    "print(f\"Display the datatype of the test_dataset: {type(test_dataset)}\")\n",
    "print(f\" Trai dataset       : {train_dataset.shape}\")\n",
    "print(f\" Test dataset       : {test_dataset.shape}\")\n",
    "print(f\" Validation dataset : {valid_dataset.shape}\")"
   ]
  },
  {
   "cell_type": "code",
   "execution_count": 19,
   "metadata": {},
   "outputs": [
    {
     "data": {
      "text/plain": [
       "<seaborn.axisgrid.PairGrid at 0x7fc1d3af1fd0>"
      ]
     },
     "execution_count": 19,
     "metadata": {},
     "output_type": "execute_result"
    },
    {
     "data": {
      "image/png": "[encoded data removed]",
      "text/plain": [
       "<Figure size 1440x1440 with 72 Axes>"
      ]
     },
     "metadata": {
      "needs_background": "light"
     },
     "output_type": "display_data"
    }
   ],
   "source": [
    "# Plot the relationship between each two variables to spot anything incorrect.\n",
    "train_stats = train_dataset.describe()\n",
    "train_stats.pop(\"class\")\n",
    "sns.pairplot(train_stats[train_stats.columns], diag_kind=\"kde\") # or diag_kind='reg'\n"
   ]
  },
  {
   "cell_type": "code",
   "execution_count": 20,
   "metadata": {},
   "outputs": [
    {
     "data": {
      "text/html": [
       "<div>\n",
       "<style scoped>\n",
       "    .dataframe tbody tr th:only-of-type {\n",
       "        vertical-align: middle;\n",
       "    }\n",
       "\n",
       "    .dataframe tbody tr th {\n",
       "        vertical-align: top;\n",
       "    }\n",
       "\n",
       "    .dataframe thead th {\n",
       "        text-align: right;\n",
       "    }\n",
       "</style>\n",
       "<table border=\"1\" class=\"dataframe\">\n",
       "  <thead>\n",
       "    <tr style=\"text-align: right;\">\n",
       "      <th></th>\n",
       "      <th>count</th>\n",
       "      <th>mean</th>\n",
       "      <th>std</th>\n",
       "      <th>min</th>\n",
       "      <th>25%</th>\n",
       "      <th>50%</th>\n",
       "      <th>75%</th>\n",
       "      <th>max</th>\n",
       "    </tr>\n",
       "  </thead>\n",
       "  <tbody>\n",
       "    <tr>\n",
       "      <th>preg</th>\n",
       "      <td>460.0</td>\n",
       "      <td>3.815217</td>\n",
       "      <td>3.270417</td>\n",
       "      <td>0.000</td>\n",
       "      <td>1.00000</td>\n",
       "      <td>3.0000</td>\n",
       "      <td>6.0000</td>\n",
       "      <td>15.00</td>\n",
       "    </tr>\n",
       "    <tr>\n",
       "      <th>plas</th>\n",
       "      <td>460.0</td>\n",
       "      <td>120.730435</td>\n",
       "      <td>31.369003</td>\n",
       "      <td>0.000</td>\n",
       "      <td>99.75000</td>\n",
       "      <td>117.5000</td>\n",
       "      <td>140.0000</td>\n",
       "      <td>198.00</td>\n",
       "    </tr>\n",
       "    <tr>\n",
       "      <th>pres</th>\n",
       "      <td>460.0</td>\n",
       "      <td>69.169565</td>\n",
       "      <td>19.195178</td>\n",
       "      <td>0.000</td>\n",
       "      <td>64.00000</td>\n",
       "      <td>71.0000</td>\n",
       "      <td>80.0000</td>\n",
       "      <td>122.00</td>\n",
       "    </tr>\n",
       "    <tr>\n",
       "      <th>skin</th>\n",
       "      <td>460.0</td>\n",
       "      <td>20.923913</td>\n",
       "      <td>16.054125</td>\n",
       "      <td>0.000</td>\n",
       "      <td>0.00000</td>\n",
       "      <td>23.0000</td>\n",
       "      <td>33.0000</td>\n",
       "      <td>63.00</td>\n",
       "    </tr>\n",
       "    <tr>\n",
       "      <th>test</th>\n",
       "      <td>460.0</td>\n",
       "      <td>83.039130</td>\n",
       "      <td>115.530200</td>\n",
       "      <td>0.000</td>\n",
       "      <td>0.00000</td>\n",
       "      <td>40.5000</td>\n",
       "      <td>130.0000</td>\n",
       "      <td>846.00</td>\n",
       "    </tr>\n",
       "    <tr>\n",
       "      <th>mass</th>\n",
       "      <td>460.0</td>\n",
       "      <td>32.215000</td>\n",
       "      <td>7.851712</td>\n",
       "      <td>0.000</td>\n",
       "      <td>27.70000</td>\n",
       "      <td>32.4000</td>\n",
       "      <td>36.6000</td>\n",
       "      <td>59.40</td>\n",
       "    </tr>\n",
       "    <tr>\n",
       "      <th>pedi</th>\n",
       "      <td>460.0</td>\n",
       "      <td>0.461257</td>\n",
       "      <td>0.316313</td>\n",
       "      <td>0.078</td>\n",
       "      <td>0.24225</td>\n",
       "      <td>0.3645</td>\n",
       "      <td>0.6125</td>\n",
       "      <td>2.42</td>\n",
       "    </tr>\n",
       "    <tr>\n",
       "      <th>age</th>\n",
       "      <td>460.0</td>\n",
       "      <td>33.000000</td>\n",
       "      <td>11.419320</td>\n",
       "      <td>21.000</td>\n",
       "      <td>24.00000</td>\n",
       "      <td>29.0000</td>\n",
       "      <td>40.0000</td>\n",
       "      <td>81.00</td>\n",
       "    </tr>\n",
       "  </tbody>\n",
       "</table>\n",
       "</div>"
      ],
      "text/plain": [
       "      count        mean         std     min       25%       50%       75%  \\\n",
       "preg  460.0    3.815217    3.270417   0.000   1.00000    3.0000    6.0000   \n",
       "plas  460.0  120.730435   31.369003   0.000  99.75000  117.5000  140.0000   \n",
       "pres  460.0   69.169565   19.195178   0.000  64.00000   71.0000   80.0000   \n",
       "skin  460.0   20.923913   16.054125   0.000   0.00000   23.0000   33.0000   \n",
       "test  460.0   83.039130  115.530200   0.000   0.00000   40.5000  130.0000   \n",
       "mass  460.0   32.215000    7.851712   0.000  27.70000   32.4000   36.6000   \n",
       "pedi  460.0    0.461257    0.316313   0.078   0.24225    0.3645    0.6125   \n",
       "age   460.0   33.000000   11.419320  21.000  24.00000   29.0000   40.0000   \n",
       "\n",
       "         max  \n",
       "preg   15.00  \n",
       "plas  198.00  \n",
       "pres  122.00  \n",
       "skin   63.00  \n",
       "test  846.00  \n",
       "mass   59.40  \n",
       "pedi    2.42  \n",
       "age    81.00  "
      ]
     },
     "execution_count": 20,
     "metadata": {},
     "output_type": "execute_result"
    }
   ],
   "source": [
    "# Statistics on the train dataset to make sure it is in a good shape. (you may display the same stat for test and validate)\n",
    "train_stats = train_dataset.describe()\n",
    "train_stats.pop(\"class\")\n",
    "train_stats = train_stats.transpose()\n",
    "train_stats"
   ]
  },
  {
   "cell_type": "markdown",
   "metadata": {},
   "source": [
    "# class = Class variable (1:tested positive for diabetes, 0: tested negative for diabetes)\n",
    "# We will remove them from each dataset split (train, test, validate) and save them into new variables.\n",
    "## Note: we maintain the order of the labels and data from now on to make sure each example/row is associated with the right label."
   ]
  },
  {
   "cell_type": "code",
   "execution_count": 21,
   "metadata": {},
   "outputs": [],
   "source": [
    "\n",
    "train_labels = train_dataset.pop('class')\n",
    "test_labels = test_dataset.pop('class')\n",
    "valid_labels = valid_dataset.pop('class')"
   ]
  },
  {
   "cell_type": "markdown",
   "metadata": {},
   "source": [
    "# Data Normalization/Scaling\n",
    "## Subtract the mean of the training data and divide by the standard deviation of the training data."
   ]
  },
  {
   "cell_type": "code",
   "execution_count": 28,
   "metadata": {},
   "outputs": [
    {
     "data": {
      "text/plain": [
       "(460, 8)"
      ]
     },
     "execution_count": 28,
     "metadata": {},
     "output_type": "execute_result"
    }
   ],
   "source": [
    "# define a function to normalize the data set.\n",
    "def norm(x):\n",
    "    return (x - train_stats['mean']) / train_stats['std']\n",
    "normed_train_data = norm(train_dataset)\n",
    "normed_test_data = norm(test_dataset)\n",
    "normed_valid_dataset = norm(valid_dataset)\n",
    "train_dataset.shape"
   ]
  },
  {
   "cell_type": "code",
   "execution_count": 23,
   "metadata": {},
   "outputs": [
    {
     "name": "stdout",
     "output_type": "stream",
     "text": [
      "Train/Test/Validate splits: \n",
      "Train    : (460, 8) \n",
      "Test     : (154, 8) \n",
      "Validate : (154, 8) \n",
      "Train/Test/Validate labels: \n",
      "Train Labels : (460,) \n",
      "Test Labels  : (154,) \n",
      "Test Labels  : (154,) \n"
     ]
    }
   ],
   "source": [
    "print(r'Train/Test/Validate splits: ')\n",
    "print(f'Train    : {normed_train_data.shape} ')\n",
    "print(f'Test     : {normed_test_data.shape} ')\n",
    "print(f'Validate : {normed_valid_dataset.shape} ')\n",
    "\n",
    "print(r'Train/Test/Validate labels: ')\n",
    "print(f'Train Labels : {train_labels.shape} ')\n",
    "print(f'Test Labels  : {test_labels.shape} ')\n",
    "print(f'Test Labels  : {valid_labels.shape} ')\n"
   ]
  },
  {
   "cell_type": "code",
   "execution_count": 27,
   "metadata": {},
   "outputs": [
    {
     "data": {
      "text/plain": [
       "(460, 8)"
      ]
     },
     "execution_count": 27,
     "metadata": {},
     "output_type": "execute_result"
    }
   ],
   "source": [
    "# show a sample of the data after normalized\n",
    "normed_train_data.head(10)\n",
    "normed_train_data.shape"
   ]
  },
  {
   "cell_type": "markdown",
   "metadata": {},
   "source": [
    "# Build a Neural Network Model "
   ]
  },
  {
   "cell_type": "code",
   "execution_count": 25,
   "metadata": {},
   "outputs": [
    {
     "name": "stdout",
     "output_type": "stream",
     "text": [
      "Here is a summary of this model: \n",
      "Model: \"sequential\"\n",
      "_________________________________________________________________\n",
      " Layer (type)                Output Shape              Param #   \n",
      "=================================================================\n",
      " dense (Dense)               (None, 32)                288       \n",
      "                                                                 \n",
      " dense_1 (Dense)             (None, 32)                1056      \n",
      "                                                                 \n",
      " dense_2 (Dense)             (None, 64)                2112      \n",
      "                                                                 \n",
      " dense_3 (Dense)             (None, 128)               8320      \n",
      "                                                                 \n",
      " dense_4 (Dense)             (None, 1)                 129       \n",
      "                                                                 \n",
      "=================================================================\n",
      "Total params: 11,905\n",
      "Trainable params: 11,905\n",
      "Non-trainable params: 0\n",
      "_________________________________________________________________\n"
     ]
    },
    {
     "name": "stderr",
     "output_type": "stream",
     "text": [
      "2022-03-06 11:52:55.738945: I tensorflow/core/platform/cpu_feature_guard.cc:151] This TensorFlow binary is optimized with oneAPI Deep Neural Network Library (oneDNN) to use the following CPU instructions in performance-critical operations:  AVX2 FMA\n",
      "To enable them in other operations, rebuild TensorFlow with the appropriate compiler flags.\n"
     ]
    }
   ],
   "source": [
    "# We decalred a function for creating a model.\n",
    "def build_model2_three_hidden_layers():\n",
    "    # Keras model object created from Sequential class. This will be the container that contains all layers.\n",
    "    model = Sequential()\n",
    "\n",
    "    # The model so far is empty. It can be constructed by adding layers and compilation.\n",
    "    # This Keras model with multiple hidden layers.\n",
    "    \n",
    "    # Input Layer with 32 Neurons\n",
    "    model.add(Dense(32, input_shape = (normed_train_data.shape[1],)))    # Input layer => input_shape must be explicitly designated\n",
    "#     model.add(Activation('relu')) # relu or sigmoid.\n",
    "    \n",
    "    model.add(Dense(32,Activation('relu')))                         # Hidden layer 1 => only output dimension should be designated (output dimension = # of Neurons = 32)\n",
    "    \n",
    "    \n",
    "    model.add(Dense(64, Activation('relu')))                         # Hidden layer 2 => only output dimension should be designated (output dimension = # of Neurons = 64)\n",
    "    \n",
    "    \n",
    "    model.add(Dense(128, Activation('relu')))                         # Hidden layer 3 => only output dimension should be designated (output dimension = # of Neurons = 128)\n",
    "\n",
    "    \n",
    "    model.add(Dense(1))                          # Output layer => output dimension = 1 since it is a regression problem\n",
    "    \n",
    "    # Activation: sigmoid, softmax, tanh, relu, LeakyReLU. \n",
    "    #Optimizer: SGD, Adam, RMSProp, etc. # https://www.tensorflow.org/api_docs/python/tf/keras/optimizers\n",
    "    learning_rate = 0.001\n",
    "    optimizer = optimizers.SGD(learning_rate)\n",
    "    model.compile(loss=tf.keras.losses.BinaryCrossentropy(from_logits=True),\n",
    "                optimizer=optimizer,\n",
    "                metrics=['accuracy']) \n",
    "    return model\n",
    "\n",
    "model2 = build_model2_three_hidden_layers()\n",
    "print('Here is a summary of this model: ')\n",
    "model2.summary()"
   ]
  },
  {
   "cell_type": "markdown",
   "metadata": {},
   "source": [
    "# Training the model we built above."
   ]
  },
  {
   "cell_type": "code",
   "execution_count": 26,
   "metadata": {},
   "outputs": [
    {
     "name": "stdout",
     "output_type": "stream",
     "text": [
      "Here is a summary of this model: \n",
      "Model: \"sequential_1\"\n",
      "_________________________________________________________________\n",
      " Layer (type)                Output Shape              Param #   \n",
      "=================================================================\n",
      " dense_5 (Dense)             (None, 32)                288       \n",
      "                                                                 \n",
      " dense_6 (Dense)             (None, 1)                 33        \n",
      "                                                                 \n",
      "=================================================================\n",
      "Total params: 321\n",
      "Trainable params: 321\n",
      "Non-trainable params: 0\n",
      "_________________________________________________________________\n",
      "Epoch 1/100\n",
      "28/28 [==============================] - 2s 19ms/step - loss: 0.8195 - accuracy: 0.5179 - val_loss: 0.7573 - val_accuracy: 0.5974\n",
      "Epoch 2/100\n",
      "28/28 [==============================] - 0s 9ms/step - loss: 0.8289 - accuracy: 0.5090 - val_loss: 0.7551 - val_accuracy: 0.5974\n",
      "Epoch 3/100\n",
      "28/28 [==============================] - 0s 6ms/step - loss: 0.7978 - accuracy: 0.5428 - val_loss: 0.7529 - val_accuracy: 0.6039\n",
      "Epoch 4/100\n",
      "28/28 [==============================] - 0s 6ms/step - loss: 0.8306 - accuracy: 0.5068 - val_loss: 0.7507 - val_accuracy: 0.6039\n",
      "Epoch 5/100\n",
      "28/28 [==============================] - 0s 5ms/step - loss: 0.8130 - accuracy: 0.5428 - val_loss: 0.7485 - val_accuracy: 0.6039\n",
      "Epoch 6/100\n",
      "28/28 [==============================] - 0s 6ms/step - loss: 0.7904 - accuracy: 0.5315 - val_loss: 0.7465 - val_accuracy: 0.6039\n",
      "Epoch 7/100\n",
      "28/28 [==============================] - 0s 6ms/step - loss: 0.8108 - accuracy: 0.5518 - val_loss: 0.7444 - val_accuracy: 0.5974\n",
      "Epoch 8/100\n",
      "28/28 [==============================] - 0s 5ms/step - loss: 0.8113 - accuracy: 0.5158 - val_loss: 0.7423 - val_accuracy: 0.6039\n",
      "Epoch 9/100\n",
      "28/28 [==============================] - 0s 6ms/step - loss: 0.8156 - accuracy: 0.5518 - val_loss: 0.7401 - val_accuracy: 0.5974\n",
      "Epoch 10/100\n",
      "28/28 [==============================] - 0s 5ms/step - loss: 0.7987 - accuracy: 0.5270 - val_loss: 0.7380 - val_accuracy: 0.6039\n",
      "Epoch 11/100\n",
      "28/28 [==============================] - 0s 5ms/step - loss: 0.7775 - accuracy: 0.5653 - val_loss: 0.7361 - val_accuracy: 0.6104\n",
      "Epoch 12/100\n",
      "28/28 [==============================] - 0s 7ms/step - loss: 0.8038 - accuracy: 0.5495 - val_loss: 0.7341 - val_accuracy: 0.6104\n",
      "Epoch 13/100\n",
      "28/28 [==============================] - 0s 8ms/step - loss: 0.8165 - accuracy: 0.5541 - val_loss: 0.7319 - val_accuracy: 0.6169\n",
      "Epoch 14/100\n",
      "28/28 [==============================] - 0s 5ms/step - loss: 0.7816 - accuracy: 0.5518 - val_loss: 0.7300 - val_accuracy: 0.6234\n",
      "Epoch 15/100\n",
      "28/28 [==============================] - 0s 5ms/step - loss: 0.7862 - accuracy: 0.5833 - val_loss: 0.7281 - val_accuracy: 0.6234\n",
      "Epoch 16/100\n",
      "28/28 [==============================] - 0s 9ms/step - loss: 0.7711 - accuracy: 0.5743 - val_loss: 0.7262 - val_accuracy: 0.6234\n",
      "Epoch 17/100\n",
      "28/28 [==============================] - 0s 5ms/step - loss: 0.8046 - accuracy: 0.5586 - val_loss: 0.7242 - val_accuracy: 0.6234\n",
      "Epoch 18/100\n",
      "28/28 [==============================] - 0s 5ms/step - loss: 0.7899 - accuracy: 0.5653 - val_loss: 0.7222 - val_accuracy: 0.6234\n",
      "Epoch 19/100\n",
      "28/28 [==============================] - 0s 7ms/step - loss: 0.7685 - accuracy: 0.6081 - val_loss: 0.7203 - val_accuracy: 0.6234\n",
      "Epoch 20/100\n",
      "28/28 [==============================] - 0s 5ms/step - loss: 0.7837 - accuracy: 0.5495 - val_loss: 0.7184 - val_accuracy: 0.6234\n",
      "Epoch 21/100\n",
      "28/28 [==============================] - 0s 5ms/step - loss: 0.7695 - accuracy: 0.6059 - val_loss: 0.7167 - val_accuracy: 0.6234\n",
      "Epoch 22/100\n",
      "28/28 [==============================] - 0s 7ms/step - loss: 0.7806 - accuracy: 0.5676 - val_loss: 0.7148 - val_accuracy: 0.6234\n",
      "Epoch 23/100\n",
      "28/28 [==============================] - 0s 8ms/step - loss: 0.7870 - accuracy: 0.5631 - val_loss: 0.7129 - val_accuracy: 0.6234\n",
      "Epoch 24/100\n",
      "28/28 [==============================] - 0s 5ms/step - loss: 0.7516 - accuracy: 0.6126 - val_loss: 0.7112 - val_accuracy: 0.6299\n",
      "Epoch 25/100\n",
      "28/28 [==============================] - 0s 9ms/step - loss: 0.7884 - accuracy: 0.5631 - val_loss: 0.7093 - val_accuracy: 0.6364\n",
      "Epoch 26/100\n",
      "28/28 [==============================] - 0s 5ms/step - loss: 0.7522 - accuracy: 0.6036 - val_loss: 0.7075 - val_accuracy: 0.6364\n",
      "Epoch 27/100\n",
      "28/28 [==============================] - 0s 10ms/step - loss: 0.7654 - accuracy: 0.5968 - val_loss: 0.7058 - val_accuracy: 0.6364\n",
      "Epoch 28/100\n",
      "28/28 [==============================] - 0s 9ms/step - loss: 0.7753 - accuracy: 0.5698 - val_loss: 0.7040 - val_accuracy: 0.6364\n",
      "Epoch 29/100\n",
      "28/28 [==============================] - 0s 5ms/step - loss: 0.7595 - accuracy: 0.6014 - val_loss: 0.7023 - val_accuracy: 0.6364\n",
      "Epoch 30/100\n",
      "28/28 [==============================] - 0s 5ms/step - loss: 0.7584 - accuracy: 0.5960 - val_loss: 0.7006 - val_accuracy: 0.6429\n",
      "Epoch 31/100\n",
      "28/28 [==============================] - 0s 12ms/step - loss: 0.7623 - accuracy: 0.5856 - val_loss: 0.6989 - val_accuracy: 0.6558\n",
      "Epoch 32/100\n",
      "28/28 [==============================] - 0s 4ms/step - loss: 0.7548 - accuracy: 0.6104 - val_loss: 0.6971 - val_accuracy: 0.6558\n",
      "Epoch 33/100\n",
      "28/28 [==============================] - 0s 4ms/step - loss: 0.7486 - accuracy: 0.5968 - val_loss: 0.6955 - val_accuracy: 0.6558\n",
      "Epoch 34/100\n",
      "28/28 [==============================] - 0s 5ms/step - loss: 0.7604 - accuracy: 0.5766 - val_loss: 0.6939 - val_accuracy: 0.6558\n",
      "Epoch 35/100\n",
      "28/28 [==============================] - 0s 5ms/step - loss: 0.7389 - accuracy: 0.6126 - val_loss: 0.6923 - val_accuracy: 0.6558\n",
      "Epoch 36/100\n",
      "28/28 [==============================] - 0s 4ms/step - loss: 0.7680 - accuracy: 0.5923 - val_loss: 0.6906 - val_accuracy: 0.6623\n",
      "Epoch 37/100\n",
      "28/28 [==============================] - 0s 5ms/step - loss: 0.7400 - accuracy: 0.5991 - val_loss: 0.6891 - val_accuracy: 0.6623\n",
      "Epoch 38/100\n",
      "28/28 [==============================] - 0s 4ms/step - loss: 0.7506 - accuracy: 0.5946 - val_loss: 0.6873 - val_accuracy: 0.6623\n",
      "Epoch 39/100\n",
      "28/28 [==============================] - 0s 4ms/step - loss: 0.7274 - accuracy: 0.6419 - val_loss: 0.6858 - val_accuracy: 0.6623\n",
      "Epoch 40/100\n",
      "28/28 [==============================] - 0s 5ms/step - loss: 0.7489 - accuracy: 0.5901 - val_loss: 0.6843 - val_accuracy: 0.6753\n",
      "Epoch 41/100\n",
      "28/28 [==============================] - 0s 4ms/step - loss: 0.7419 - accuracy: 0.6036 - val_loss: 0.6826 - val_accuracy: 0.6753\n",
      "Epoch 42/100\n",
      "28/28 [==============================] - 0s 8ms/step - loss: 0.7461 - accuracy: 0.6104 - val_loss: 0.6810 - val_accuracy: 0.6753\n",
      "Epoch 43/100\n",
      "28/28 [==============================] - 0s 5ms/step - loss: 0.7342 - accuracy: 0.6149 - val_loss: 0.6796 - val_accuracy: 0.6753\n",
      "Epoch 44/100\n",
      "28/28 [==============================] - 0s 5ms/step - loss: 0.7326 - accuracy: 0.5946 - val_loss: 0.6782 - val_accuracy: 0.6753\n",
      "Epoch 45/100\n",
      "28/28 [==============================] - 0s 4ms/step - loss: 0.7379 - accuracy: 0.6104 - val_loss: 0.6767 - val_accuracy: 0.6753\n",
      "Epoch 46/100\n",
      "28/28 [==============================] - 0s 5ms/step - loss: 0.7306 - accuracy: 0.6036 - val_loss: 0.6752 - val_accuracy: 0.6753\n",
      "Epoch 47/100\n",
      "28/28 [==============================] - 0s 6ms/step - loss: 0.7280 - accuracy: 0.6194 - val_loss: 0.6738 - val_accuracy: 0.6753\n",
      "Epoch 48/100\n",
      "28/28 [==============================] - 0s 7ms/step - loss: 0.7323 - accuracy: 0.6216 - val_loss: 0.6723 - val_accuracy: 0.6753\n",
      "Epoch 49/100\n",
      "28/28 [==============================] - 0s 5ms/step - loss: 0.7394 - accuracy: 0.6126 - val_loss: 0.6708 - val_accuracy: 0.6753\n",
      "Epoch 50/100\n",
      "28/28 [==============================] - 0s 7ms/step - loss: 0.7193 - accuracy: 0.6171 - val_loss: 0.6694 - val_accuracy: 0.6818\n",
      "Epoch 51/100\n",
      "28/28 [==============================] - 0s 4ms/step - loss: 0.7072 - accuracy: 0.6329 - val_loss: 0.6681 - val_accuracy: 0.6883\n",
      "Epoch 52/100\n",
      "28/28 [==============================] - 0s 5ms/step - loss: 0.7358 - accuracy: 0.6059 - val_loss: 0.6666 - val_accuracy: 0.6883\n",
      "Epoch 53/100\n",
      "28/28 [==============================] - 0s 4ms/step - loss: 0.7271 - accuracy: 0.6014 - val_loss: 0.6652 - val_accuracy: 0.6883\n"
     ]
    },
    {
     "name": "stdout",
     "output_type": "stream",
     "text": [
      "Epoch 54/100\n",
      "28/28 [==============================] - 0s 5ms/step - loss: 0.7171 - accuracy: 0.6171 - val_loss: 0.6638 - val_accuracy: 0.6883\n",
      "Epoch 55/100\n",
      "28/28 [==============================] - 0s 7ms/step - loss: 0.7201 - accuracy: 0.6171 - val_loss: 0.6625 - val_accuracy: 0.6883\n",
      "Epoch 56/100\n",
      "28/28 [==============================] - 0s 4ms/step - loss: 0.7173 - accuracy: 0.6194 - val_loss: 0.6611 - val_accuracy: 0.6883\n",
      "Epoch 57/100\n",
      "28/28 [==============================] - 0s 4ms/step - loss: 0.7138 - accuracy: 0.6216 - val_loss: 0.6598 - val_accuracy: 0.6883\n",
      "Epoch 58/100\n",
      "28/28 [==============================] - 0s 5ms/step - loss: 0.7113 - accuracy: 0.6171 - val_loss: 0.6584 - val_accuracy: 0.6883\n",
      "Epoch 59/100\n",
      "28/28 [==============================] - 0s 5ms/step - loss: 0.7105 - accuracy: 0.6228 - val_loss: 0.6571 - val_accuracy: 0.6883\n",
      "Epoch 60/100\n",
      "28/28 [==============================] - 0s 6ms/step - loss: 0.7165 - accuracy: 0.6194 - val_loss: 0.6558 - val_accuracy: 0.6948\n",
      "Epoch 61/100\n",
      "28/28 [==============================] - 0s 6ms/step - loss: 0.7032 - accuracy: 0.6329 - val_loss: 0.6545 - val_accuracy: 0.6948\n",
      "Epoch 62/100\n",
      "28/28 [==============================] - 0s 4ms/step - loss: 0.7145 - accuracy: 0.6126 - val_loss: 0.6532 - val_accuracy: 0.6948\n",
      "Epoch 63/100\n",
      "28/28 [==============================] - 0s 4ms/step - loss: 0.7056 - accuracy: 0.6464 - val_loss: 0.6520 - val_accuracy: 0.6948\n",
      "Epoch 64/100\n",
      "28/28 [==============================] - 0s 5ms/step - loss: 0.7039 - accuracy: 0.6306 - val_loss: 0.6507 - val_accuracy: 0.6948\n",
      "Epoch 65/100\n",
      "28/28 [==============================] - 0s 5ms/step - loss: 0.6932 - accuracy: 0.6374 - val_loss: 0.6495 - val_accuracy: 0.7013\n",
      "Epoch 66/100\n",
      "28/28 [==============================] - 0s 5ms/step - loss: 0.7163 - accuracy: 0.6216 - val_loss: 0.6483 - val_accuracy: 0.7013\n",
      "Epoch 67/100\n",
      "28/28 [==============================] - 0s 5ms/step - loss: 0.6957 - accuracy: 0.6509 - val_loss: 0.6470 - val_accuracy: 0.7013\n",
      "Epoch 68/100\n",
      "28/28 [==============================] - 0s 5ms/step - loss: 0.7088 - accuracy: 0.6104 - val_loss: 0.6459 - val_accuracy: 0.7013\n",
      "Epoch 69/100\n",
      "28/28 [==============================] - 0s 10ms/step - loss: 0.6894 - accuracy: 0.6644 - val_loss: 0.6446 - val_accuracy: 0.7013\n",
      "Epoch 70/100\n",
      "28/28 [==============================] - 0s 8ms/step - loss: 0.7054 - accuracy: 0.6216 - val_loss: 0.6434 - val_accuracy: 0.7078\n",
      "Epoch 71/100\n",
      "28/28 [==============================] - 0s 6ms/step - loss: 0.6899 - accuracy: 0.6419 - val_loss: 0.6422 - val_accuracy: 0.7078\n",
      "Epoch 72/100\n",
      "28/28 [==============================] - 0s 5ms/step - loss: 0.6956 - accuracy: 0.6329 - val_loss: 0.6410 - val_accuracy: 0.7078\n",
      "Epoch 73/100\n",
      "28/28 [==============================] - 0s 7ms/step - loss: 0.6856 - accuracy: 0.6667 - val_loss: 0.6399 - val_accuracy: 0.7078\n",
      "Epoch 74/100\n",
      "28/28 [==============================] - 0s 7ms/step - loss: 0.7024 - accuracy: 0.6194 - val_loss: 0.6387 - val_accuracy: 0.7078\n",
      "Epoch 75/100\n",
      "28/28 [==============================] - 0s 7ms/step - loss: 0.6696 - accuracy: 0.6577 - val_loss: 0.6376 - val_accuracy: 0.7078\n",
      "Epoch 76/100\n",
      "28/28 [==============================] - 0s 7ms/step - loss: 0.6971 - accuracy: 0.6689 - val_loss: 0.6364 - val_accuracy: 0.7078\n",
      "Epoch 77/100\n",
      "28/28 [==============================] - 0s 5ms/step - loss: 0.6964 - accuracy: 0.6171 - val_loss: 0.6353 - val_accuracy: 0.7078\n",
      "Epoch 78/100\n",
      "28/28 [==============================] - 0s 10ms/step - loss: 0.6825 - accuracy: 0.6396 - val_loss: 0.6343 - val_accuracy: 0.7143\n",
      "Epoch 79/100\n",
      "28/28 [==============================] - 0s 5ms/step - loss: 0.6811 - accuracy: 0.6486 - val_loss: 0.6332 - val_accuracy: 0.7143\n",
      "Epoch 80/100\n",
      "28/28 [==============================] - 0s 7ms/step - loss: 0.6945 - accuracy: 0.6374 - val_loss: 0.6320 - val_accuracy: 0.7143\n",
      "Epoch 81/100\n",
      "28/28 [==============================] - 0s 5ms/step - loss: 0.6698 - accuracy: 0.6532 - val_loss: 0.6310 - val_accuracy: 0.7143\n",
      "Epoch 82/100\n",
      "28/28 [==============================] - 0s 5ms/step - loss: 0.6950 - accuracy: 0.6396 - val_loss: 0.6299 - val_accuracy: 0.7143\n",
      "Epoch 83/100\n",
      "28/28 [==============================] - 0s 5ms/step - loss: 0.6826 - accuracy: 0.6441 - val_loss: 0.6288 - val_accuracy: 0.7143\n",
      "Epoch 84/100\n",
      "28/28 [==============================] - 0s 5ms/step - loss: 0.6689 - accuracy: 0.6441 - val_loss: 0.6278 - val_accuracy: 0.7143\n",
      "Epoch 85/100\n",
      "28/28 [==============================] - 0s 4ms/step - loss: 0.6841 - accuracy: 0.6419 - val_loss: 0.6268 - val_accuracy: 0.7143\n",
      "Epoch 86/100\n",
      "28/28 [==============================] - 0s 5ms/step - loss: 0.6711 - accuracy: 0.6622 - val_loss: 0.6258 - val_accuracy: 0.7143\n",
      "Epoch 87/100\n",
      "28/28 [==============================] - 0s 8ms/step - loss: 0.6762 - accuracy: 0.6419 - val_loss: 0.6248 - val_accuracy: 0.7143\n",
      "Epoch 88/100\n",
      "28/28 [==============================] - 0s 4ms/step - loss: 0.6734 - accuracy: 0.6451 - val_loss: 0.6237 - val_accuracy: 0.7143\n",
      "Epoch 89/100\n",
      "28/28 [==============================] - 0s 5ms/step - loss: 0.6732 - accuracy: 0.6554 - val_loss: 0.6227 - val_accuracy: 0.7143\n",
      "Epoch 90/100\n",
      "28/28 [==============================] - 0s 4ms/step - loss: 0.6773 - accuracy: 0.6441 - val_loss: 0.6218 - val_accuracy: 0.7143\n",
      "Epoch 91/100\n",
      "28/28 [==============================] - 0s 8ms/step - loss: 0.6627 - accuracy: 0.6599 - val_loss: 0.6207 - val_accuracy: 0.7143\n",
      "Epoch 92/100\n",
      "28/28 [==============================] - 0s 4ms/step - loss: 0.6763 - accuracy: 0.6374 - val_loss: 0.6198 - val_accuracy: 0.7078\n",
      "Epoch 93/100\n",
      "28/28 [==============================] - 0s 4ms/step - loss: 0.6666 - accuracy: 0.6689 - val_loss: 0.6188 - val_accuracy: 0.7078\n",
      "Epoch 94/100\n",
      "28/28 [==============================] - 0s 4ms/step - loss: 0.6688 - accuracy: 0.6577 - val_loss: 0.6179 - val_accuracy: 0.7078\n",
      "Epoch 95/100\n",
      "28/28 [==============================] - 0s 4ms/step - loss: 0.6624 - accuracy: 0.6779 - val_loss: 0.6170 - val_accuracy: 0.7078\n",
      "Epoch 96/100\n",
      "28/28 [==============================] - 0s 4ms/step - loss: 0.6727 - accuracy: 0.6396 - val_loss: 0.6160 - val_accuracy: 0.7078\n",
      "Epoch 97/100\n",
      "28/28 [==============================] - 0s 5ms/step - loss: 0.6618 - accuracy: 0.6644 - val_loss: 0.6151 - val_accuracy: 0.7078\n",
      "Epoch 98/100\n",
      "28/28 [==============================] - 0s 5ms/step - loss: 0.6576 - accuracy: 0.6599 - val_loss: 0.6142 - val_accuracy: 0.7078\n",
      "Epoch 99/100\n",
      "28/28 [==============================] - 0s 4ms/step - loss: 0.6543 - accuracy: 0.6712 - val_loss: 0.6132 - val_accuracy: 0.7078\n",
      "Epoch 100/100\n",
      "28/28 [==============================] - 0s 6ms/step - loss: 0.6685 - accuracy: 0.6329 - val_loss: 0.6123 - val_accuracy: 0.7078\n",
      "CPU times: user 12.8 s, sys: 1.42 s, total: 14.2 s\n",
      "Wall time: 18.2 s\n"
     ]
    }
   ],
   "source": [
    "%%time\n",
    "\n",
    "# We decalred a function for creating a model.\n",
    "def build_model1_two_hidden_layers():\n",
    "    # Keras model object created from Sequential class. This will be the container that contains all layers.\n",
    "    model = Sequential()\n",
    "\n",
    "    # The model so far is empty. It can be constructed by adding layers and compilation.\n",
    "    # This Keras model with multiple hidden layers.\n",
    "    \n",
    "    # Input Layer with 10 Neurons\n",
    "    model.add(Dense(32, input_shape = (normed_train_data.shape[1],)))    # Input layer => input_shape must be explicitly designated\n",
    "#     model.add(Activation('relu')) # relu or sigmoid.\n",
    "    \n",
    "#     model.add(Dense(128,Activation('relu')))                         # Hidden layer 1 => only output dimension should be designated (output dimension = # of Neurons = 50)\n",
    "    \n",
    "    \n",
    "    \n",
    "    \n",
    "    model.add(Dense(1))                          # Output layer => output dimension = 1 since it is a regression problem\n",
    "    \n",
    "    # Activation: sigmoid, softmax, tanh, relu, LeakyReLU. \n",
    "    #Optimizer: SGD, Adam, RMSProp, etc. # https://www.tensorflow.org/api_docs/python/tf/keras/optimizers\n",
    "    learning_rate = 0.0001\n",
    "    optimizer = optimizers.SGD(learning_rate)\n",
    "    model.compile(loss=tf.keras.losses.BinaryCrossentropy(from_logits=True),\n",
    "                optimizer=optimizer,\n",
    "                metrics=['accuracy']) # for regression problems, mean squared error (MSE) is often employed\n",
    "    return model\n",
    "\n",
    "\n",
    "EPOCHS = 100\n",
    "batch_size = 16 # 6 iteration\n",
    "\n",
    "model = build_model1_two_hidden_layers()\n",
    "print('Here is a summary of this model: ')\n",
    "model.summary()\n",
    "\n",
    "\n",
    "with tf.device('/CPU:0'): # it can be with '/CPU:0'\n",
    "# with tf.device('/GPU:0'): # comment the previous line and uncomment this line to train with a GPU, if available.\n",
    "    history = model.fit(\n",
    "        normed_train_data, \n",
    "        train_labels,\n",
    "        batch_size = batch_size,\n",
    "        epochs=EPOCHS, \n",
    "        verbose=1,\n",
    "        shuffle=True,\n",
    "        steps_per_epoch = int(normed_train_data.shape[0] / batch_size) ,\n",
    "        validation_data = (normed_valid_dataset, valid_labels),   \n",
    "    )\n",
    "\n"
   ]
  },
  {
   "cell_type": "code",
   "execution_count": 27,
   "metadata": {},
   "outputs": [
    {
     "name": "stdout",
     "output_type": "stream",
     "text": [
      "Summary of the results after each epoch: \n"
     ]
    },
    {
     "data": {
      "text/html": [
       "<div>\n",
       "<style scoped>\n",
       "    .dataframe tbody tr th:only-of-type {\n",
       "        vertical-align: middle;\n",
       "    }\n",
       "\n",
       "    .dataframe tbody tr th {\n",
       "        vertical-align: top;\n",
       "    }\n",
       "\n",
       "    .dataframe thead th {\n",
       "        text-align: right;\n",
       "    }\n",
       "</style>\n",
       "<table border=\"1\" class=\"dataframe\">\n",
       "  <thead>\n",
       "    <tr style=\"text-align: right;\">\n",
       "      <th></th>\n",
       "      <th>loss</th>\n",
       "      <th>accuracy</th>\n",
       "      <th>val_loss</th>\n",
       "      <th>val_accuracy</th>\n",
       "      <th>epoch</th>\n",
       "    </tr>\n",
       "  </thead>\n",
       "  <tbody>\n",
       "    <tr>\n",
       "      <th>95</th>\n",
       "      <td>0.637952</td>\n",
       "      <td>0.668919</td>\n",
       "      <td>0.686974</td>\n",
       "      <td>0.61039</td>\n",
       "      <td>95</td>\n",
       "    </tr>\n",
       "    <tr>\n",
       "      <th>96</th>\n",
       "      <td>0.642874</td>\n",
       "      <td>0.693694</td>\n",
       "      <td>0.685902</td>\n",
       "      <td>0.61039</td>\n",
       "      <td>96</td>\n",
       "    </tr>\n",
       "    <tr>\n",
       "      <th>97</th>\n",
       "      <td>0.631949</td>\n",
       "      <td>0.677928</td>\n",
       "      <td>0.684770</td>\n",
       "      <td>0.61039</td>\n",
       "      <td>97</td>\n",
       "    </tr>\n",
       "    <tr>\n",
       "      <th>98</th>\n",
       "      <td>0.641172</td>\n",
       "      <td>0.695946</td>\n",
       "      <td>0.683752</td>\n",
       "      <td>0.61039</td>\n",
       "      <td>98</td>\n",
       "    </tr>\n",
       "    <tr>\n",
       "      <th>99</th>\n",
       "      <td>0.637509</td>\n",
       "      <td>0.691441</td>\n",
       "      <td>0.682689</td>\n",
       "      <td>0.61039</td>\n",
       "      <td>99</td>\n",
       "    </tr>\n",
       "  </tbody>\n",
       "</table>\n",
       "</div>"
      ],
      "text/plain": [
       "        loss  accuracy  val_loss  val_accuracy  epoch\n",
       "95  0.637952  0.668919  0.686974       0.61039     95\n",
       "96  0.642874  0.693694  0.685902       0.61039     96\n",
       "97  0.631949  0.677928  0.684770       0.61039     97\n",
       "98  0.641172  0.695946  0.683752       0.61039     98\n",
       "99  0.637509  0.691441  0.682689       0.61039     99"
      ]
     },
     "execution_count": 27,
     "metadata": {},
     "output_type": "execute_result"
    }
   ],
   "source": [
    "print('Summary of the results after each epoch: ')\n",
    "hist = pd.DataFrame(history.history)\n",
    "hist['epoch'] = history.epoch\n",
    "hist.tail()"
   ]
  },
  {
   "cell_type": "markdown",
   "metadata": {},
   "source": [
    "# See how the training went by plotting the loss/Accuracy across epochs\n"
   ]
  },
  {
   "cell_type": "code",
   "execution_count": 30,
   "metadata": {},
   "outputs": [
    {
     "data": {
      "image/png": "[encoded data removed]",
      "text/plain": [
       "<Figure size 432x288 with 1 Axes>"
      ]
     },
     "metadata": {
      "needs_background": "light"
     },
     "output_type": "display_data"
    }
   ],
   "source": [
    "from matplotlib import pyplot as plt\n",
    "plt.plot(history.history['accuracy'])\n",
    "plt.plot(history.history['val_accuracy'])\n",
    "plt.title('model accuracy')\n",
    "plt.ylabel('accuracy')\n",
    "plt.xlabel('epoch')\n",
    "plt.legend(['Train', 'Cross-Validation'], loc='upper left')\n",
    "plt.show()"
   ]
  },
  {
   "cell_type": "code",
   "execution_count": 31,
   "metadata": {},
   "outputs": [
    {
     "data": {
      "image/png": "[encoded data removed]",
      "text/plain": [
       "<Figure size 432x288 with 1 Axes>"
      ]
     },
     "metadata": {
      "needs_background": "light"
     },
     "output_type": "display_data"
    }
   ],
   "source": [
    "plt.plot(history.history['loss'])\n",
    "plt.plot(history.history['val_loss'])\n",
    "plt.title('Model Loss')\n",
    "plt.ylabel('Loss')\n",
    "plt.xlabel('epoch')\n",
    "plt.legend(['Train', 'Cross-Validation'], loc='upper left')\n",
    "plt.show()"
   ]
  },
  {
   "cell_type": "code",
   "execution_count": 32,
   "metadata": {},
   "outputs": [
    {
     "name": "stdout",
     "output_type": "stream",
     "text": [
      "Train Split: \n",
      "15/15 [==============================] - 0s 1ms/step - loss: 0.6342 - accuracy: 0.6870\n",
      "Accuracy   :  0.69 \n"
     ]
    }
   ],
   "source": [
    "print('Train Split: ')\n",
    "loss, accuracy = model.evaluate(normed_train_data, train_labels, verbose=1)\n",
    "\n",
    "print(\"Accuracy   : {:5.2f} \".format(accuracy))\n"
   ]
  },
  {
   "cell_type": "code",
   "execution_count": 33,
   "metadata": {},
   "outputs": [
    {
     "name": "stdout",
     "output_type": "stream",
     "text": [
      "Evaluation Split: \n",
      "5/5 - 0s - loss: 0.6827 - accuracy: 0.6104\n",
      "Accuracy   :  0.61 \n"
     ]
    }
   ],
   "source": [
    "print('Evaluation Split: ')\n",
    "loss, accuracy =  model.evaluate(normed_valid_dataset, valid_labels, verbose=2)\n",
    "\n",
    "print(\"Accuracy   : {:5.2f} \".format(accuracy))"
   ]
  },
  {
   "cell_type": "code",
   "execution_count": 34,
   "metadata": {},
   "outputs": [
    {
     "name": "stdout",
     "output_type": "stream",
     "text": [
      "Test Split: \n",
      "5/5 - 0s - loss: 0.6733 - accuracy: 0.6883\n",
      "Accuracy   :  0.69 \n"
     ]
    }
   ],
   "source": [
    "print('Test Split: ')\n",
    "loss, accuracy =  model.evaluate(normed_test_data, test_labels, verbose=2)\n",
    "\n",
    "print(\"Accuracy   : {:5.2f} \".format(accuracy))\n"
   ]
  },
  {
   "cell_type": "code",
   "execution_count": null,
   "metadata": {},
   "outputs": [],
   "source": []
  },
  {
   "cell_type": "code",
   "execution_count": 35,
   "metadata": {},
   "outputs": [
    {
     "data": {
      "image/png": "[encoded data removed]",
      "text/plain": [
       "<Figure size 432x288 with 2 Axes>"
      ]
     },
     "metadata": {
      "needs_background": "light"
     },
     "output_type": "display_data"
    }
   ],
   "source": [
    "# import seaborn as sns\n",
    "# import matplotlib.pyplot as plt     \n",
    "from sklearn.metrics import confusion_matrix\n",
    "\n",
    "\n",
    "ax= plt.subplot()\n",
    "predict_results = model.predict(normed_test_data)\n",
    "\n",
    "predict_results = (predict_results > 0.5)\n",
    "\n",
    "cm = confusion_matrix(test_labels, predict_results)\n",
    "\n",
    "sns.heatmap(cm, annot=True, ax = ax); #annot=True to annotate cells\n",
    "\n",
    "# labels, title and ticks\n",
    "ax.set_xlabel('Predicted labels');ax.set_ylabel('True labels'); \n",
    "ax.set_title('Confusion Matrix'); \n",
    "ax.xaxis.set_ticklabels(['Positive', 'Negative']); ax.yaxis.set_ticklabels(['Positive', 'Negative']);\n"
   ]
  },
  {
   "cell_type": "code",
   "execution_count": null,
   "metadata": {},
   "outputs": [],
   "source": []
  },
  {
   "cell_type": "code",
   "execution_count": null,
   "metadata": {},
   "outputs": [],
   "source": []
  },
  {
   "cell_type": "code",
   "execution_count": null,
   "metadata": {},
   "outputs": [],
   "source": []
  }
 ],
 "metadata": {
  "kernelspec": {
   "display_name": "pythonEnv",
   "language": "python",
   "name": "pythonenv"
  },
  "language_info": {
   "codemirror_mode": {
    "name": "ipython",
    "version": 3
   },
   "file_extension": ".py",
   "mimetype": "text/x-python",
   "name": "python",
   "nbconvert_exporter": "python",
   "pygments_lexer": "ipython3",
   "version": "3.9.7"
  }
 },
 "nbformat": 4,
 "nbformat_minor": 4
}
