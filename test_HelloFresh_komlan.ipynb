{
 "cells": [
  {
   "cell_type": "markdown",
   "id": "df6f304a",
   "metadata": {},
   "source": [
    "# TEST HelloFresh France"
   ]
  },
  {
   "cell_type": "code",
   "execution_count": 8,
   "id": "31dfeb97",
   "metadata": {},
   "outputs": [],
   "source": [
    "import pandas as pd\n",
    "import numpy as np\n",
    "import matplotlib.pyplot as plt\n",
    "import seaborn as sns"
   ]
  },
  {
   "cell_type": "markdown",
   "id": "44a3db3a",
   "metadata": {},
   "source": [
    "## SectionA – Programming basics"
   ]
  },
  {
   "cell_type": "code",
   "execution_count": 9,
   "id": "6089c041",
   "metadata": {},
   "outputs": [
    {
     "data": {
      "text/html": [
       "<div>\n",
       "<style scoped>\n",
       "    .dataframe tbody tr th:only-of-type {\n",
       "        vertical-align: middle;\n",
       "    }\n",
       "\n",
       "    .dataframe tbody tr th {\n",
       "        vertical-align: top;\n",
       "    }\n",
       "\n",
       "    .dataframe thead th {\n",
       "        text-align: right;\n",
       "    }\n",
       "</style>\n",
       "<table border=\"1\" class=\"dataframe\">\n",
       "  <thead>\n",
       "    <tr style=\"text-align: right;\">\n",
       "      <th></th>\n",
       "      <th>meal_code</th>\n",
       "      <th>meals</th>\n",
       "    </tr>\n",
       "  </thead>\n",
       "  <tbody>\n",
       "    <tr>\n",
       "      <th>0</th>\n",
       "      <td>201</td>\n",
       "      <td>4193</td>\n",
       "    </tr>\n",
       "    <tr>\n",
       "      <th>1</th>\n",
       "      <td>201</td>\n",
       "      <td>2322</td>\n",
       "    </tr>\n",
       "    <tr>\n",
       "      <th>2</th>\n",
       "      <td>201</td>\n",
       "      <td>1019</td>\n",
       "    </tr>\n",
       "    <tr>\n",
       "      <th>3</th>\n",
       "      <td>202</td>\n",
       "      <td>3449</td>\n",
       "    </tr>\n",
       "    <tr>\n",
       "      <th>4</th>\n",
       "      <td>202</td>\n",
       "      <td>1901</td>\n",
       "    </tr>\n",
       "    <tr>\n",
       "      <th>...</th>\n",
       "      <td>...</td>\n",
       "      <td>...</td>\n",
       "    </tr>\n",
       "    <tr>\n",
       "      <th>310</th>\n",
       "      <td>222</td>\n",
       "      <td>114</td>\n",
       "    </tr>\n",
       "    <tr>\n",
       "      <th>311</th>\n",
       "      <td>222</td>\n",
       "      <td>46</td>\n",
       "    </tr>\n",
       "    <tr>\n",
       "      <th>312</th>\n",
       "      <td>223</td>\n",
       "      <td>177</td>\n",
       "    </tr>\n",
       "    <tr>\n",
       "      <th>313</th>\n",
       "      <td>223</td>\n",
       "      <td>69</td>\n",
       "    </tr>\n",
       "    <tr>\n",
       "      <th>314</th>\n",
       "      <td>223</td>\n",
       "      <td>36</td>\n",
       "    </tr>\n",
       "  </tbody>\n",
       "</table>\n",
       "<p>315 rows × 2 columns</p>\n",
       "</div>"
      ],
      "text/plain": [
       "     meal_code  meals\n",
       "0          201   4193\n",
       "1          201   2322\n",
       "2          201   1019\n",
       "3          202   3449\n",
       "4          202   1901\n",
       "..         ...    ...\n",
       "310        222    114\n",
       "311        222     46\n",
       "312        223    177\n",
       "313        223     69\n",
       "314        223     36\n",
       "\n",
       "[315 rows x 2 columns]"
      ]
     },
     "execution_count": 9,
     "metadata": {},
     "output_type": "execute_result"
    }
   ],
   "source": [
    "data = pd.read_excel('/Users/komlan/Downloads/HF_DataBI_Engineer_Case_Study_Data.xlsx')\n",
    "data"
   ]
  },
  {
   "cell_type": "markdown",
   "id": "2ee8eec7",
   "metadata": {},
   "source": [
    "### Question 1 : How many meals (column “meals”) correspond to meal_code == 208?"
   ]
  },
  {
   "cell_type": "code",
   "execution_count": 14,
   "id": "489f5d53",
   "metadata": {},
   "outputs": [
    {
     "data": {
      "text/plain": [
       "9563"
      ]
     },
     "execution_count": 14,
     "metadata": {},
     "output_type": "execute_result"
    }
   ],
   "source": [
    "number_neals = data[data.meal_code == 208].meals.sum()\n",
    "number_neals"
   ]
  },
  {
   "cell_type": "markdown",
   "id": "c0afb622",
   "metadata": {},
   "source": [
    "### Question 2 : What are the top 3 “meal_code”s based on number of meals (column “meals”) and how many meals for each of those three?"
   ]
  },
  {
   "cell_type": "code",
   "execution_count": 26,
   "id": "9c281503",
   "metadata": {},
   "outputs": [
    {
     "data": {
      "text/html": [
       "<div>\n",
       "<style scoped>\n",
       "    .dataframe tbody tr th:only-of-type {\n",
       "        vertical-align: middle;\n",
       "    }\n",
       "\n",
       "    .dataframe tbody tr th {\n",
       "        vertical-align: top;\n",
       "    }\n",
       "\n",
       "    .dataframe thead th {\n",
       "        text-align: right;\n",
       "    }\n",
       "</style>\n",
       "<table border=\"1\" class=\"dataframe\">\n",
       "  <thead>\n",
       "    <tr style=\"text-align: right;\">\n",
       "      <th></th>\n",
       "      <th>meal_code</th>\n",
       "      <th>meals</th>\n",
       "    </tr>\n",
       "  </thead>\n",
       "  <tbody>\n",
       "    <tr>\n",
       "      <th>2</th>\n",
       "      <td>203</td>\n",
       "      <td>24897</td>\n",
       "    </tr>\n",
       "    <tr>\n",
       "      <th>0</th>\n",
       "      <td>201</td>\n",
       "      <td>23950</td>\n",
       "    </tr>\n",
       "    <tr>\n",
       "      <th>1</th>\n",
       "      <td>202</td>\n",
       "      <td>20085</td>\n",
       "    </tr>\n",
       "  </tbody>\n",
       "</table>\n",
       "</div>"
      ],
      "text/plain": [
       "   meal_code  meals\n",
       "2        203  24897\n",
       "0        201  23950\n",
       "1        202  20085"
      ]
     },
     "execution_count": 26,
     "metadata": {},
     "output_type": "execute_result"
    }
   ],
   "source": [
    "data_top = data.groupby(['meal_code']).sum().reset_index()\n",
    "top_3_meals = data_top.sort_values(by=['meals'], ascending=False)[:3]\n",
    "top_3_meals"
   ]
  },
  {
   "cell_type": "markdown",
   "id": "6a27adf1",
   "metadata": {},
   "source": [
    "### Question 3 : Please visualize the top 10 “meal_code” based on number of meals in column “meals”?"
   ]
  },
  {
   "cell_type": "code",
   "execution_count": 27,
   "id": "710550a7",
   "metadata": {},
   "outputs": [
    {
     "data": {
      "text/html": [
       "<div>\n",
       "<style scoped>\n",
       "    .dataframe tbody tr th:only-of-type {\n",
       "        vertical-align: middle;\n",
       "    }\n",
       "\n",
       "    .dataframe tbody tr th {\n",
       "        vertical-align: top;\n",
       "    }\n",
       "\n",
       "    .dataframe thead th {\n",
       "        text-align: right;\n",
       "    }\n",
       "</style>\n",
       "<table border=\"1\" class=\"dataframe\">\n",
       "  <thead>\n",
       "    <tr style=\"text-align: right;\">\n",
       "      <th></th>\n",
       "      <th>meal_code</th>\n",
       "      <th>meals</th>\n",
       "    </tr>\n",
       "  </thead>\n",
       "  <tbody>\n",
       "    <tr>\n",
       "      <th>0</th>\n",
       "      <td>201</td>\n",
       "      <td>23950</td>\n",
       "    </tr>\n",
       "    <tr>\n",
       "      <th>1</th>\n",
       "      <td>202</td>\n",
       "      <td>20085</td>\n",
       "    </tr>\n",
       "    <tr>\n",
       "      <th>2</th>\n",
       "      <td>203</td>\n",
       "      <td>24897</td>\n",
       "    </tr>\n",
       "    <tr>\n",
       "      <th>3</th>\n",
       "      <td>204</td>\n",
       "      <td>19101</td>\n",
       "    </tr>\n",
       "    <tr>\n",
       "      <th>4</th>\n",
       "      <td>205</td>\n",
       "      <td>15772</td>\n",
       "    </tr>\n",
       "    <tr>\n",
       "      <th>5</th>\n",
       "      <td>206</td>\n",
       "      <td>12177</td>\n",
       "    </tr>\n",
       "    <tr>\n",
       "      <th>10</th>\n",
       "      <td>211</td>\n",
       "      <td>11576</td>\n",
       "    </tr>\n",
       "    <tr>\n",
       "      <th>12</th>\n",
       "      <td>213</td>\n",
       "      <td>12359</td>\n",
       "    </tr>\n",
       "    <tr>\n",
       "      <th>15</th>\n",
       "      <td>216</td>\n",
       "      <td>13130</td>\n",
       "    </tr>\n",
       "    <tr>\n",
       "      <th>16</th>\n",
       "      <td>217</td>\n",
       "      <td>10670</td>\n",
       "    </tr>\n",
       "  </tbody>\n",
       "</table>\n",
       "</div>"
      ],
      "text/plain": [
       "    meal_code  meals\n",
       "0         201  23950\n",
       "1         202  20085\n",
       "2         203  24897\n",
       "3         204  19101\n",
       "4         205  15772\n",
       "5         206  12177\n",
       "10        211  11576\n",
       "12        213  12359\n",
       "15        216  13130\n",
       "16        217  10670"
      ]
     },
     "execution_count": 27,
     "metadata": {},
     "output_type": "execute_result"
    }
   ],
   "source": [
    "top_10_meals = data_top.sort_values(by=['meals'], ascending=False)[:10]\n",
    "#Sort values based on meal_code on the abscisse\n",
    "top_10_meals = top_10_meals.sort_values(by=['meal_code'])\n",
    "top_10_meals"
   ]
  },
  {
   "cell_type": "code",
   "execution_count": 34,
   "id": "6ef3be6f",
   "metadata": {},
   "outputs": [
    {
     "data": {
      "image/png": "[encoded data removed]",
      "text/plain": [
       "<Figure size 864x432 with 1 Axes>"
      ]
     },
     "metadata": {
      "needs_background": "light"
     },
     "output_type": "display_data"
    }
   ],
   "source": [
    "plt.figure(figsize=(12, 6))\n",
    "ax = sns.barplot(x=\"meal_code\", y=\"meals\", data=top_10_meals, ci=68)"
   ]
  },
  {
   "cell_type": "markdown",
   "id": "1a9c891e",
   "metadata": {},
   "source": [
    "### Question 4 : Please add a new column named (meals_new) which adds 20% of meals if meal_code is 201, otherwise it adds 10% to the other meal_code meals. The new column should be rounded to the nearest integer and stored as an integer. Save the table in a variable and print the first 6 lines"
   ]
  },
  {
   "cell_type": "code",
   "execution_count": 40,
   "id": "e8089600",
   "metadata": {},
   "outputs": [
    {
     "data": {
      "text/html": [
       "<div>\n",
       "<style scoped>\n",
       "    .dataframe tbody tr th:only-of-type {\n",
       "        vertical-align: middle;\n",
       "    }\n",
       "\n",
       "    .dataframe tbody tr th {\n",
       "        vertical-align: top;\n",
       "    }\n",
       "\n",
       "    .dataframe thead th {\n",
       "        text-align: right;\n",
       "    }\n",
       "</style>\n",
       "<table border=\"1\" class=\"dataframe\">\n",
       "  <thead>\n",
       "    <tr style=\"text-align: right;\">\n",
       "      <th></th>\n",
       "      <th>meal_code</th>\n",
       "      <th>meals</th>\n",
       "      <th>meals_new</th>\n",
       "    </tr>\n",
       "  </thead>\n",
       "  <tbody>\n",
       "    <tr>\n",
       "      <th>0</th>\n",
       "      <td>201</td>\n",
       "      <td>4193</td>\n",
       "      <td>5032</td>\n",
       "    </tr>\n",
       "    <tr>\n",
       "      <th>1</th>\n",
       "      <td>201</td>\n",
       "      <td>2322</td>\n",
       "      <td>2786</td>\n",
       "    </tr>\n",
       "    <tr>\n",
       "      <th>2</th>\n",
       "      <td>201</td>\n",
       "      <td>1019</td>\n",
       "      <td>1223</td>\n",
       "    </tr>\n",
       "    <tr>\n",
       "      <th>3</th>\n",
       "      <td>202</td>\n",
       "      <td>3449</td>\n",
       "      <td>3794</td>\n",
       "    </tr>\n",
       "    <tr>\n",
       "      <th>4</th>\n",
       "      <td>202</td>\n",
       "      <td>1901</td>\n",
       "      <td>2091</td>\n",
       "    </tr>\n",
       "    <tr>\n",
       "      <th>5</th>\n",
       "      <td>202</td>\n",
       "      <td>923</td>\n",
       "      <td>1015</td>\n",
       "    </tr>\n",
       "  </tbody>\n",
       "</table>\n",
       "</div>"
      ],
      "text/plain": [
       "   meal_code  meals  meals_new\n",
       "0        201   4193       5032\n",
       "1        201   2322       2786\n",
       "2        201   1019       1223\n",
       "3        202   3449       3794\n",
       "4        202   1901       2091\n",
       "5        202    923       1015"
      ]
     },
     "execution_count": 40,
     "metadata": {},
     "output_type": "execute_result"
    }
   ],
   "source": [
    "data['meals_new'] = data.apply(lambda row: round(row['meals'] + (row['meals'] * 20) / 100)  if row['meal_code'] == 201 else round(row['meals'] + (row['meals'] * 10) / 100), axis=1)\n",
    "data.head(6)"
   ]
  },
  {
   "cell_type": "markdown",
   "id": "d465804a",
   "metadata": {},
   "source": [
    "### Question 5 : Create a dictionary with the keys being meal_code and the values being a list with two elements, average meals (as integer value) and maximum meals. Use values from the meals_new column that you created above. Please print the dictionary (example: dict = {201:[1916,5032], 202...})"
   ]
  },
  {
   "cell_type": "code",
   "execution_count": 73,
   "id": "4ef5aaab",
   "metadata": {},
   "outputs": [
    {
     "data": {
      "text/plain": [
       "{201: [1916, 5032],\n",
       " 202: [1473, 3794],\n",
       " 203: [1826, 5423],\n",
       " 204: [1401, 3929],\n",
       " 205: [1156, 2849],\n",
       " 206: [893, 1872],\n",
       " 207: [770, 2021],\n",
       " 208: [701, 2142],\n",
       " 209: [622, 1643],\n",
       " 210: [274, 710],\n",
       " 211: [849, 2191],\n",
       " 212: [726, 1952],\n",
       " 213: [906, 2311],\n",
       " 214: [466, 1248],\n",
       " 215: [545, 1378],\n",
       " 216: [963, 2482],\n",
       " 217: [782, 2046],\n",
       " 218: [148, 290],\n",
       " 221: [154, 345],\n",
       " 222: [104, 221],\n",
       " 223: [76, 195]}"
      ]
     },
     "execution_count": 73,
     "metadata": {},
     "output_type": "execute_result"
    }
   ],
   "source": [
    "from statistics import mean\n",
    "data_dic = data.groupby(['meal_code']).agg(list).reset_index()\n",
    "data_dic['average'] = data_dic.meals_new.apply(lambda meals_numbers: round(mean(meals_numbers)))\n",
    "data_dic['maximum'] = data_dic.meals_new.apply(lambda meals_numbers: round(max(meals_numbers)))\n",
    "data_dic['minimum'] = data_dic.meals_new.apply(lambda meals_numbers: round(min(meals_numbers)))\n",
    "dic = {}\n",
    "for i, row in data_dic.iterrows():\n",
    "    dic[row['meal_code']] = [row['average'], row['maximum']]\n",
    "dic"
   ]
  },
  {
   "cell_type": "markdown",
   "id": "db0c8f20",
   "metadata": {},
   "source": [
    "### Question 6 : Please copy the dictionary above and store it in a new variable. Add minimum meals_new element to the list of each meal_code in the dictionary. Please print key 201 from previous dictionary as well as from this new dictionary"
   ]
  },
  {
   "cell_type": "code",
   "execution_count": 77,
   "id": "af630c7a",
   "metadata": {},
   "outputs": [
    {
     "name": "stdout",
     "output_type": "stream",
     "text": [
      "[1916, 5032, 432]\n",
      "[1916, 5032]\n"
     ]
    }
   ],
   "source": [
    "dic_new = dict(dic)\n",
    "for i, row in data_dic.iterrows():\n",
    "    dic_new[row['meal_code']] = dic_new[row['meal_code']]+[row['minimum']]\n",
    "\n",
    "print(dic_new[201])#the minimum at the end of the list\n",
    "print(dic[201])"
   ]
  },
  {
   "cell_type": "markdown",
   "id": "11f5c65a",
   "metadata": {},
   "source": [
    "## SectionB – Programming logic and Data Structure"
   ]
  },
  {
   "cell_type": "markdown",
   "id": "a43ac2b5",
   "metadata": {},
   "source": [
    "### Question 7 : Please develop a script that can print a list with the shortest path from Start to Goal. Consider each “X” as a wall that cannot be passed. (answer = [B2,B3,B4, C4....])"
   ]
  },
  {
   "cell_type": "code",
   "execution_count": 80,
   "id": "4cf266ec",
   "metadata": {},
   "outputs": [
    {
     "data": {
      "text/plain": [
       "array([[1, 'X', 'X', 'X', 'X', 'X', 'X', 'X'],\n",
       "       [2, 'X', 'Start', 'X', nan, nan, nan, 'X'],\n",
       "       [3, 'X', nan, 'X', nan, 'X', nan, 'X'],\n",
       "       [4, 'X', nan, nan, nan, 'X', nan, 'X'],\n",
       "       [5, 'X', nan, 'X', nan, nan, nan, 'X'],\n",
       "       [6, 'X', nan, 'X', nan, 'X', nan, 'X'],\n",
       "       [7, 'X', nan, nan, nan, 'X', 'Goal', 'X'],\n",
       "       [8, 'X', 'X', 'X', 'X', 'X', 'X', 'X']], dtype=object)"
      ]
     },
     "execution_count": 80,
     "metadata": {},
     "output_type": "execute_result"
    }
   ],
   "source": [
    "section_b_data = pd.read_excel('/Users/komlan/Downloads/HF_DataBI_Engineer_Case_Study_Data.xlsx', sheet_name=\"SectionB\")\n",
    "np.array(section_b_data)"
   ]
  },
  {
   "cell_type": "code",
   "execution_count": 87,
   "id": "02b2100b",
   "metadata": {},
   "outputs": [],
   "source": [
    "import collections\n",
    "def best_path(grid, start):\n",
    "    queue = collections.deque([[start]])\n",
    "    seen = set([start])\n",
    "    while queue:\n",
    "        path = queue.popleft()\n",
    "        x, y = path[-1]\n",
    "        if grid[y][x] == goal:\n",
    "            return path\n",
    "        for x2, y2 in ((x+1,y), (x-1,y), (x,y+1), (x,y-1)):\n",
    "            if 0 <= x2 < width and 0 <= y2 < height and grid[y2][x2] != wall and (x2, y2) not in seen:\n",
    "                queue.append(path + [(x2, y2)])\n",
    "                seen.add((x2, y2))"
   ]
  },
  {
   "cell_type": "code",
   "execution_count": 88,
   "id": "91ae5150",
   "metadata": {},
   "outputs": [
    {
     "data": {
      "text/plain": [
       "[(5, 2), (4, 2), (4, 3), (4, 4), (5, 4), (6, 4)]"
      ]
     },
     "execution_count": 88,
     "metadata": {},
     "output_type": "execute_result"
    }
   ],
   "source": [
    "start, wall, clear, goal = \"+\", \"#\", \".\", \"*\"\n",
    "\n",
    "grid = [\"..........\",\n",
    "        \"..+#...##.\",\n",
    "        \"..##...#..\",\n",
    "        \".....###..\",\n",
    "        \"......*...\"]\n",
    "path = best_path(grid, (2, 3))\n",
    "path "
   ]
  },
  {
   "cell_type": "markdown",
   "id": "a1006fe9",
   "metadata": {},
   "source": [
    "## Section C"
   ]
  },
  {
   "cell_type": "code",
   "execution_count": 114,
   "id": "60df9432",
   "metadata": {},
   "outputs": [],
   "source": [
    "section_c1_data = pd.read_excel('/Users/komlan/Downloads/HF_DataBI_Engineer_Case_Study_Data.xlsx', sheet_name=\"SectionC_1\")\n",
    "section_c2_data = pd.read_excel('/Users/komlan/Downloads/HF_DataBI_Engineer_Case_Study_Data.xlsx', sheet_name=\"SectionC_2\")\n",
    "section_c3_data = pd.read_excel('/Users/komlan/Downloads/HF_DataBI_Engineer_Case_Study_Data.xlsx', sheet_name=\"SectionC_3\")\n"
   ]
  },
  {
   "cell_type": "code",
   "execution_count": 119,
   "id": "2ac99178",
   "metadata": {},
   "outputs": [
    {
     "data": {
      "text/html": [
       "<div>\n",
       "<style scoped>\n",
       "    .dataframe tbody tr th:only-of-type {\n",
       "        vertical-align: middle;\n",
       "    }\n",
       "\n",
       "    .dataframe tbody tr th {\n",
       "        vertical-align: top;\n",
       "    }\n",
       "\n",
       "    .dataframe thead th {\n",
       "        text-align: right;\n",
       "    }\n",
       "</style>\n",
       "<table border=\"1\" class=\"dataframe\">\n",
       "  <thead>\n",
       "    <tr style=\"text-align: right;\">\n",
       "      <th></th>\n",
       "      <th>Week</th>\n",
       "      <th>Sales (QTY)</th>\n",
       "      <th>Sales Price (Euros)</th>\n",
       "    </tr>\n",
       "  </thead>\n",
       "  <tbody>\n",
       "    <tr>\n",
       "      <th>0</th>\n",
       "      <td>Week Week 1</td>\n",
       "      <td>943</td>\n",
       "      <td>100</td>\n",
       "    </tr>\n",
       "    <tr>\n",
       "      <th>1</th>\n",
       "      <td>Week Week 2</td>\n",
       "      <td>900</td>\n",
       "      <td>110</td>\n",
       "    </tr>\n",
       "    <tr>\n",
       "      <th>2</th>\n",
       "      <td>Week Week 3</td>\n",
       "      <td>768</td>\n",
       "      <td>90</td>\n",
       "    </tr>\n",
       "    <tr>\n",
       "      <th>3</th>\n",
       "      <td>Week Week 4</td>\n",
       "      <td>720</td>\n",
       "      <td>130</td>\n",
       "    </tr>\n",
       "  </tbody>\n",
       "</table>\n",
       "</div>"
      ],
      "text/plain": [
       "          Week  Sales (QTY)  Sales Price (Euros)\n",
       "0  Week Week 1          943                  100\n",
       "1  Week Week 2          900                  110\n",
       "2  Week Week 3          768                   90\n",
       "3  Week Week 4          720                  130"
      ]
     },
     "execution_count": 119,
     "metadata": {},
     "output_type": "execute_result"
    }
   ],
   "source": [
    "section_c1_data.Week = section_c1_data.Week.apply(lambda x: 'Week '+str(x))\n",
    "meal_week_data = section_c1_data[['Week','Sales (QTY)','Sales Price (Euros)']].groupby(['Week']).sum().reset_index()\n",
    "meal_week_data"
   ]
  },
  {
   "cell_type": "code",
   "execution_count": 117,
   "id": "f13f812b",
   "metadata": {},
   "outputs": [
    {
     "data": {
      "text/plain": [
       "<AxesSubplot:xlabel='Week', ylabel='Sales (QTY)'>"
      ]
     },
     "execution_count": 117,
     "metadata": {},
     "output_type": "execute_result"
    },
    {
     "data": {
      "image/png": "[encoded data removed]",
      "text/plain": [
       "<Figure size 432x288 with 1 Axes>"
      ]
     },
     "metadata": {
      "needs_background": "light"
     },
     "output_type": "display_data"
    }
   ],
   "source": [
    "sns.lineplot(data=meal_week_data, x=\"Week\", y=\"Sales (QTY)\")\n",
    "#We remark that the quantity sold during the week decrease"
   ]
  },
  {
   "cell_type": "code",
   "execution_count": 118,
   "id": "b1ccb747",
   "metadata": {},
   "outputs": [
    {
     "data": {
      "text/plain": [
       "<AxesSubplot:xlabel='Week', ylabel='Sales Price (Euros)'>"
      ]
     },
     "execution_count": 118,
     "metadata": {},
     "output_type": "execute_result"
    },
    {
     "data": {
      "image/png": "[encoded data removed]",
      "text/plain": [
       "<Figure size 432x288 with 1 Axes>"
      ]
     },
     "metadata": {
      "needs_background": "light"
     },
     "output_type": "display_data"
    }
   ],
   "source": [
    "sns.lineplot(data=meal_week_data, x=\"Week\", y=\"Sales Price (Euros)\")\n",
    "#the turnover on the week four is the higest one"
   ]
  },
  {
   "cell_type": "code",
   "execution_count": null,
   "id": "53080dfa",
   "metadata": {},
   "outputs": [],
   "source": [
    "section_c_data = pd.merge(section_c1_data, section_c2_data, on='Meal_code', how='inner')\n",
    "section_c_data = pd.merge(section_c_data, section_c3_data, on='Ingredients', how='inner')\n",
    "section_c_data.Week = section_c_data.Week.apply(lambda x: 'Week '+str(x))\n",
    "section_c_data"
   ]
  },
  {
   "cell_type": "code",
   "execution_count": 120,
   "id": "6751fcaa",
   "metadata": {},
   "outputs": [
    {
     "data": {
      "image/png": "[encoded data removed]",
      "text/plain": [
       "<Figure size 823.125x720 with 1 Axes>"
      ]
     },
     "metadata": {
      "needs_background": "light"
     },
     "output_type": "display_data"
    },
    {
     "data": {
      "text/plain": [
       "<Figure size 864x432 with 0 Axes>"
      ]
     },
     "metadata": {},
     "output_type": "display_data"
    }
   ],
   "source": [
    "#Evolution of the sale \n",
    "g = sns.catplot(\n",
    "    data=section_c1_data, kind=\"bar\",\n",
    "    x=\"Meal_code\", y=\"Sales (QTY)\", hue=\"Week\",\n",
    "    ci=\"sd\", alpha=.6, height=10\n",
    ")\n",
    "plt.figure(figsize=(12, 6))\n",
    "g.despine(left=True)\n",
    "g.set_axis_labels(\"\", \"Qauntity solde for each ingredient during each week\")\n",
    "g.legend.set_title(\"\")"
   ]
  },
  {
   "cell_type": "code",
   "execution_count": 121,
   "id": "59c58b83",
   "metadata": {},
   "outputs": [
    {
     "data": {
      "text/plain": [
       "30"
      ]
     },
     "execution_count": 121,
     "metadata": {},
     "output_type": "execute_result"
    }
   ],
   "source": [
    "2022-1992"
   ]
  },
  {
   "cell_type": "code",
   "execution_count": null,
   "id": "ecb840b1",
   "metadata": {},
   "outputs": [],
   "source": []
  },
  {
   "cell_type": "code",
   "execution_count": 6,
   "id": "bf6a7da3",
   "metadata": {},
   "outputs": [],
   "source": []
  }
 ],
 "metadata": {
  "kernelspec": {
   "display_name": "base",
   "language": "python",
   "name": "base"
  },
  "language_info": {
   "codemirror_mode": {
    "name": "ipython",
    "version": 3
   },
   "file_extension": ".py",
   "mimetype": "text/x-python",
   "name": "python",
   "nbconvert_exporter": "python",
   "pygments_lexer": "ipython3",
   "version": "3.9.7"
  }
 },
 "nbformat": 4,
 "nbformat_minor": 5
}
